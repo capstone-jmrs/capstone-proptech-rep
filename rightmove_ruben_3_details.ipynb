{
 "cells": [
  {
   "cell_type": "code",
   "execution_count": 5,
   "metadata": {},
   "outputs": [],
   "source": [
    "import time\n",
    "import requests\n",
    "from bs4 import BeautifulSoup\n",
    "import pandas as pd\n",
    "import re\n",
    "import pandas as pd\n",
    "from datetime import datetime\n",
    "import math \n",
    "\n",
    "from sql_functions import *    \n",
    "\n",
    "import psycopg2   \n",
    "\n",
    "import sql_functions as sf\n",
    "import sqlalchemy"
   ]
  },
  {
   "cell_type": "code",
   "execution_count": 6,
   "metadata": {},
   "outputs": [],
   "source": [
    "# Static URL:\n",
    "# Neighbourhood 1 - Hammersmith and Fulham; furnished\n",
    "page = requests.get(\"https://www.rightmove.co.uk/property-to-rent/find.html?locationIdentifier=REGION%5E61407&propertyTypes=&includeLetAgreed=false&mustHave=&dontShow=houseShare%2Cretirement%2Cstudent&furnishTypes=furnished&keywords=\")\n",
    "html = page.content\n",
    "bs = BeautifulSoup(html, 'html.parser')\n",
    "\n",
    "\n"
   ]
  },
  {
   "cell_type": "code",
   "execution_count": 9,
   "metadata": {},
   "outputs": [
    {
     "ename": "AttributeError",
     "evalue": "'NoneType' object has no attribute 'find_all'",
     "output_type": "error",
     "traceback": [
      "\u001b[0;31m---------------------------------------------------------------------------\u001b[0m",
      "\u001b[0;31mAttributeError\u001b[0m                            Traceback (most recent call last)",
      "\u001b[1;32m/Users/ruben/neuefische_rp/capstone/capstone-ukio-rep/rightmove_ruben_3_details.ipynb Cell 3\u001b[0m in \u001b[0;36m<cell line: 1>\u001b[0;34m()\u001b[0m\n\u001b[0;32m----> <a href='vscode-notebook-cell:/Users/ruben/neuefische_rp/capstone/capstone-ukio-rep/rightmove_ruben_3_details.ipynb#X14sZmlsZQ%3D%3D?line=0'>1</a>\u001b[0m details \u001b[39m=\u001b[39m bs\u001b[39m.\u001b[39;49mfind(\n\u001b[1;32m      <a href='vscode-notebook-cell:/Users/ruben/neuefische_rp/capstone/capstone-ukio-rep/rightmove_ruben_3_details.ipynb#X14sZmlsZQ%3D%3D?line=1'>2</a>\u001b[0m     \u001b[39m'\u001b[39;49m\u001b[39mspan\u001b[39;49m\u001b[39m'\u001b[39;49m, class_\u001b[39m=\u001b[39;49m\u001b[39m'\u001b[39;49m\u001b[39mproperty-information\u001b[39;49m\u001b[39m'\u001b[39;49m)\u001b[39m.\u001b[39;49mfind_all(\u001b[39m'\u001b[39m\u001b[39mspan\u001b[39m\u001b[39m'\u001b[39m)\n\u001b[1;32m      <a href='vscode-notebook-cell:/Users/ruben/neuefische_rp/capstone/capstone-ukio-rep/rightmove_ruben_3_details.ipynb#X14sZmlsZQ%3D%3D?line=3'>4</a>\u001b[0m details_lst \u001b[39m=\u001b[39m (detail\u001b[39m.\u001b[39mget_text() \u001b[39mfor\u001b[39;00m detail \u001b[39min\u001b[39;00m details)\n\u001b[1;32m      <a href='vscode-notebook-cell:/Users/ruben/neuefische_rp/capstone/capstone-ukio-rep/rightmove_ruben_3_details.ipynb#X14sZmlsZQ%3D%3D?line=4'>5</a>\u001b[0m details_lst \u001b[39m=\u001b[39m [detail\u001b[39m.\u001b[39mstrip() \u001b[39mfor\u001b[39;00m detail \u001b[39min\u001b[39;00m details_lst]\n",
      "\u001b[0;31mAttributeError\u001b[0m: 'NoneType' object has no attribute 'find_all'"
     ]
    }
   ],
   "source": [
    "details = bs.find(\n",
    "    'span', class_='property-information').find_all('span')\n",
    "\n",
    "details_lst = (detail.get_text() for detail in details)\n",
    "details_lst = [detail.strip() for detail in details_lst]"
   ]
  },
  {
   "cell_type": "code",
   "execution_count": 10,
   "metadata": {},
   "outputs": [],
   "source": [
    "# Detail URL:\n",
    "page_2 = requests.get(\"https://www.rightmove.co.uk/properties/127415657#/?channel=RES_LET\")\n",
    "html_2 = page_2.content\n",
    "bs_2 = BeautifulSoup(html_2, 'html.parser')\n",
    "\n"
   ]
  },
  {
   "cell_type": "code",
   "execution_count": 12,
   "metadata": {},
   "outputs": [],
   "source": [
    "details = bs_2.find(\n",
    "    'div', class_='ZBWaPR-rIda6ikyKpB_E2').find_all('span')\n",
    "\n",
    "details_lst = (detail.get_text() for detail in details)\n",
    "details_lst = [detail.strip() for detail in details_lst]"
   ]
  },
  {
   "cell_type": "code",
   "execution_count": null,
   "metadata": {},
   "outputs": [],
   "source": []
  },
  {
   "cell_type": "code",
   "execution_count": null,
   "metadata": {},
   "outputs": [],
   "source": []
  }
 ],
 "metadata": {
  "kernelspec": {
   "display_name": "Python 3.9.13 ('nf_sql')",
   "language": "python",
   "name": "python3"
  },
  "language_info": {
   "codemirror_mode": {
    "name": "ipython",
    "version": 3
   },
   "file_extension": ".py",
   "mimetype": "text/x-python",
   "name": "python",
   "nbconvert_exporter": "python",
   "pygments_lexer": "ipython3",
   "version": "3.9.13"
  },
  "orig_nbformat": 4,
  "vscode": {
   "interpreter": {
    "hash": "a81d278bed5b5b59425dcb5a82ce505657686243c184b4a6b67e69d01c4d432e"
   }
  }
 },
 "nbformat": 4,
 "nbformat_minor": 2
}
