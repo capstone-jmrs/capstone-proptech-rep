{
 "cells": [
  {
   "cell_type": "markdown",
   "metadata": {},
   "source": [
    "# We will use this notebook to create a final table, out of the three \"clean\" tables we have in DBeaver"
   ]
  },
  {
   "cell_type": "code",
   "execution_count": null,
   "metadata": {},
   "outputs": [],
   "source": [
    "# import all libraries that are needed\n",
    "\n",
    "import requests                 # requests on websites\n",
    "from bs4 import BeautifulSoup   # html parsing\n",
    "\n",
    "import pandas as pd             # pandas for data frame\n",
    "import numpy as np              # numpy for array\n",
    "\n",
    "import math                     # for math methods\n",
    "import time                     # for sleep timer\n",
    "\n",
    "\n",
    "from sql_functions import *     # functions from file for upload on schema\n",
    "import psycopg2                 # for upload on engine\n",
    "\n",
    "# Import the get_engine function from our sql_functions.\n",
    "from sql_functions import get_engine #adjust this as necessary to match your sql_functions.py connection methods\n",
    "\n",
    "# Import get_dataframe from sql_functions.py\n",
    "from sql_functions import get_dataframe\n",
    "\n",
    "# create a variable called engine using the get_engine function\n",
    "engine = get_engine()\n",
    "\n",
    "import datetime                 # for date and time\n",
    "import datetime as dt           # for the csv file with the current date and time\n",
    "from datetime import date       # for the current date\n",
    "\n",
    "import re                       # for regular expressions\n",
    "\n",
    "# https://jsonformatter.org/json-viewer\n",
    "import json                     # for json files\n",
    "\n",
    "import random                   # for random numbers\n",
    "\n",
    "# https://jwalton.info/Matplotlib-custom-boxplots/\n",
    "import itertools\n",
    "\n",
    "import matplotlib.pyplot as plt # for plotting\n",
    "# Will allow us to embed images in the notebook\n",
    "%matplotlib inline\n",
    "from matplotlib.cbook import _reshape_2D\n",
    "\n",
    "# Seaborn visualization library\n",
    "# https://towardsdatascience.com/visualizing-data-with-pair-plots-in-python-f228cf529166\n",
    "import seaborn as sns"
   ]
  },
  {
   "cell_type": "markdown",
   "metadata": {},
   "source": [
    "# Things we have to do in the final table, to get a decent database"
   ]
  },
  {
   "cell_type": "code",
   "execution_count": null,
   "metadata": {},
   "outputs": [
    {
     "data": {
      "text/html": [
       "<div>\n",
       "<style scoped>\n",
       "    .dataframe tbody tr th:only-of-type {\n",
       "        vertical-align: middle;\n",
       "    }\n",
       "\n",
       "    .dataframe tbody tr th {\n",
       "        vertical-align: top;\n",
       "    }\n",
       "\n",
       "    .dataframe thead th {\n",
       "        text-align: right;\n",
       "    }\n",
       "</style>\n",
       "<table border=\"1\" class=\"dataframe\">\n",
       "  <thead>\n",
       "    <tr style=\"text-align: right;\">\n",
       "      <th></th>\n",
       "      <th>platform_id</th>\n",
       "      <th>platform</th>\n",
       "      <th>neighbourhood</th>\n",
       "      <th>furniture</th>\n",
       "      <th>property_type</th>\n",
       "      <th>size_sqm</th>\n",
       "      <th>bedrooms</th>\n",
       "      <th>bathrooms</th>\n",
       "      <th>price</th>\n",
       "      <th>price_sqm</th>\n",
       "      <th>price_bedroom</th>\n",
       "      <th>available_from</th>\n",
       "      <th>available_today</th>\n",
       "      <th>let_type</th>\n",
       "      <th>scraping_date</th>\n",
       "      <th>price_band</th>\n",
       "      <th>price_sqm_band</th>\n",
       "    </tr>\n",
       "  </thead>\n",
       "  <tbody>\n",
       "    <tr>\n",
       "      <th>0</th>\n",
       "      <td>127360856</td>\n",
       "      <td>Rightmove</td>\n",
       "      <td>Hammersmith and Fulham</td>\n",
       "      <td>unfurnished</td>\n",
       "      <td>Flat</td>\n",
       "      <td>NaN</td>\n",
       "      <td>2.0</td>\n",
       "      <td>2.0</td>\n",
       "      <td>3146.0</td>\n",
       "      <td>NaN</td>\n",
       "      <td>1573.0</td>\n",
       "      <td>None</td>\n",
       "      <td>unclear</td>\n",
       "      <td>Long term</td>\n",
       "      <td>2022-09-23</td>\n",
       "      <td>out of range</td>\n",
       "      <td>None</td>\n",
       "    </tr>\n",
       "    <tr>\n",
       "      <th>1</th>\n",
       "      <td>126259970</td>\n",
       "      <td>Rightmove</td>\n",
       "      <td>City of Westminster</td>\n",
       "      <td>furnished</td>\n",
       "      <td>Duplex</td>\n",
       "      <td>NaN</td>\n",
       "      <td>2.0</td>\n",
       "      <td>3.0</td>\n",
       "      <td>8017.0</td>\n",
       "      <td>NaN</td>\n",
       "      <td>4008.5</td>\n",
       "      <td>2022-10-01</td>\n",
       "      <td>occupied</td>\n",
       "      <td>Long term</td>\n",
       "      <td>2022-09-23</td>\n",
       "      <td>targeted price range</td>\n",
       "      <td>None</td>\n",
       "    </tr>\n",
       "  </tbody>\n",
       "</table>\n",
       "</div>"
      ],
      "text/plain": [
       "  platform_id   platform           neighbourhood    furniture property_type  \\\n",
       "0   127360856  Rightmove  Hammersmith and Fulham  unfurnished          Flat   \n",
       "1   126259970  Rightmove     City of Westminster    furnished        Duplex   \n",
       "\n",
       "   size_sqm  bedrooms  bathrooms   price  price_sqm  price_bedroom  \\\n",
       "0       NaN       2.0        2.0  3146.0        NaN         1573.0   \n",
       "1       NaN       2.0        3.0  8017.0        NaN         4008.5   \n",
       "\n",
       "  available_from available_today   let_type scraping_date  \\\n",
       "0           None         unclear  Long term    2022-09-23   \n",
       "1     2022-10-01        occupied  Long term    2022-09-23   \n",
       "\n",
       "             price_band price_sqm_band  \n",
       "0          out of range           None  \n",
       "1  targeted price range           None  "
      ]
     },
     "metadata": {},
     "output_type": "display_data"
    }
   ],
   "source": [
    "# we check the rows before dropping\n",
    "plot_df.loc[(plot_df.property_type == 'Apartment')\n",
    "                | ( plot_df.property_type == 'Flat' )\n",
    "                | ( plot_df.property_type == 'Block of Apartments' )\n",
    "                | ( plot_df.property_type == 'Flat' )\n",
    "                | ( plot_df.property_type == 'Ground Flat' )\n",
    "                | ( plot_df.property_type == 'Penthouse' )\n",
    "                | ( plot_df.property_type == 'Studio') \n",
    "            ]\n",
    "display(plot_df.head(2))"
   ]
  },
  {
   "cell_type": "code",
   "execution_count": null,
   "metadata": {},
   "outputs": [],
   "source": [
    "# we drop our rows\n",
    "df_short = plot_df.loc[(plot_df.property_type == 'Apartment')\n",
    "                | ( plot_df.property_type == 'Flat' )\n",
    "                | ( plot_df.property_type == 'Block of Apartments' )\n",
    "                | ( plot_df.property_type == 'Flat' )\n",
    "                | ( plot_df.property_type == 'Ground Flat' )\n",
    "                | ( plot_df.property_type == 'Penthouse' )\n",
    "                | ( plot_df.property_type == 'Studio') \n",
    "            ]"
   ]
  },
  {
   "cell_type": "code",
   "execution_count": null,
   "metadata": {},
   "outputs": [
    {
     "data": {
      "text/plain": [
       "array(['Flat', 'Studio', 'Apartment', 'Penthouse', 'Ground Flat',\n",
       "       'Block of Apartments'], dtype=object)"
      ]
     },
     "metadata": {},
     "output_type": "display_data"
    }
   ],
   "source": [
    "df_short.property_type.unique()"
   ]
  },
  {
   "cell_type": "code",
   "execution_count": null,
   "metadata": {},
   "outputs": [
    {
     "data": {
      "text/html": [
       "<div>\n",
       "<style scoped>\n",
       "    .dataframe tbody tr th:only-of-type {\n",
       "        vertical-align: middle;\n",
       "    }\n",
       "\n",
       "    .dataframe tbody tr th {\n",
       "        vertical-align: top;\n",
       "    }\n",
       "\n",
       "    .dataframe thead th {\n",
       "        text-align: right;\n",
       "    }\n",
       "</style>\n",
       "<table border=\"1\" class=\"dataframe\">\n",
       "  <thead>\n",
       "    <tr style=\"text-align: right;\">\n",
       "      <th></th>\n",
       "      <th>platform_id</th>\n",
       "      <th>platform</th>\n",
       "      <th>neighbourhood</th>\n",
       "      <th>furniture</th>\n",
       "      <th>property_type</th>\n",
       "      <th>size_sqm</th>\n",
       "      <th>bedrooms</th>\n",
       "      <th>bathrooms</th>\n",
       "      <th>price</th>\n",
       "      <th>price_sqm</th>\n",
       "      <th>price_bedroom</th>\n",
       "      <th>available_from</th>\n",
       "      <th>available_today</th>\n",
       "      <th>let_type</th>\n",
       "      <th>scraping_date</th>\n",
       "      <th>price_band</th>\n",
       "      <th>price_sqm_band</th>\n",
       "    </tr>\n",
       "  </thead>\n",
       "  <tbody>\n",
       "    <tr>\n",
       "      <th>0</th>\n",
       "      <td>127360856</td>\n",
       "      <td>Rightmove</td>\n",
       "      <td>Hammersmith and Fulham</td>\n",
       "      <td>unfurnished</td>\n",
       "      <td>Flat</td>\n",
       "      <td>NaN</td>\n",
       "      <td>2.0</td>\n",
       "      <td>2.0</td>\n",
       "      <td>3146.0</td>\n",
       "      <td>NaN</td>\n",
       "      <td>1573.0</td>\n",
       "      <td>None</td>\n",
       "      <td>unclear</td>\n",
       "      <td>Long term</td>\n",
       "      <td>2022-09-23</td>\n",
       "      <td>out of range</td>\n",
       "      <td>None</td>\n",
       "    </tr>\n",
       "    <tr>\n",
       "      <th>2</th>\n",
       "      <td>127210358</td>\n",
       "      <td>Rightmove</td>\n",
       "      <td>City of Westminster</td>\n",
       "      <td>furnished</td>\n",
       "      <td>Studio</td>\n",
       "      <td>NaN</td>\n",
       "      <td>0.0</td>\n",
       "      <td>1.0</td>\n",
       "      <td>2250.0</td>\n",
       "      <td>NaN</td>\n",
       "      <td>2250.0</td>\n",
       "      <td>None</td>\n",
       "      <td>unclear</td>\n",
       "      <td>Long term</td>\n",
       "      <td>2022-09-23</td>\n",
       "      <td>out of range</td>\n",
       "      <td>None</td>\n",
       "    </tr>\n",
       "  </tbody>\n",
       "</table>\n",
       "</div>"
      ],
      "text/plain": [
       "  platform_id   platform           neighbourhood    furniture property_type  \\\n",
       "0   127360856  Rightmove  Hammersmith and Fulham  unfurnished          Flat   \n",
       "2   127210358  Rightmove     City of Westminster    furnished        Studio   \n",
       "\n",
       "   size_sqm  bedrooms  bathrooms   price  price_sqm  price_bedroom  \\\n",
       "0       NaN       2.0        2.0  3146.0        NaN         1573.0   \n",
       "2       NaN       0.0        1.0  2250.0        NaN         2250.0   \n",
       "\n",
       "  available_from available_today   let_type scraping_date    price_band  \\\n",
       "0           None         unclear  Long term    2022-09-23  out of range   \n",
       "2           None         unclear  Long term    2022-09-23  out of range   \n",
       "\n",
       "  price_sqm_band  \n",
       "0           None  \n",
       "2           None  "
      ]
     },
     "metadata": {},
     "output_type": "display_data"
    }
   ],
   "source": [
    "df_short.loc[\n",
    "                        (\n",
    "                            (df_short.price < 8001) & (df_short.furniture == 'furnished')\n",
    "                         | ( df_short.furniture == 'unfurnished'\n",
    "                            )\n",
    "                            )]\n",
    "display(df_short.head(2))"
   ]
  },
  {
   "cell_type": "code",
   "execution_count": null,
   "metadata": {},
   "outputs": [],
   "source": [
    "df_short = df_short.loc[\n",
    "                        (\n",
    "                            (df_short.price < 8001) & (df_short.furniture == 'furnished')\n",
    "                         | ( df_short.furniture == 'unfurnished'\n",
    "                            )\n",
    "                            )]"
   ]
  },
  {
   "cell_type": "code",
   "execution_count": null,
   "metadata": {},
   "outputs": [
    {
     "data": {
      "text/html": [
       "<div>\n",
       "<style scoped>\n",
       "    .dataframe tbody tr th:only-of-type {\n",
       "        vertical-align: middle;\n",
       "    }\n",
       "\n",
       "    .dataframe tbody tr th {\n",
       "        vertical-align: top;\n",
       "    }\n",
       "\n",
       "    .dataframe thead th {\n",
       "        text-align: right;\n",
       "    }\n",
       "</style>\n",
       "<table border=\"1\" class=\"dataframe\">\n",
       "  <thead>\n",
       "    <tr style=\"text-align: right;\">\n",
       "      <th></th>\n",
       "      <th>platform_id</th>\n",
       "      <th>platform</th>\n",
       "      <th>neighbourhood</th>\n",
       "      <th>furniture</th>\n",
       "      <th>property_type</th>\n",
       "      <th>size_sqm</th>\n",
       "      <th>bedrooms</th>\n",
       "      <th>bathrooms</th>\n",
       "      <th>price</th>\n",
       "      <th>price_sqm</th>\n",
       "      <th>price_bedroom</th>\n",
       "      <th>available_from</th>\n",
       "      <th>available_today</th>\n",
       "      <th>let_type</th>\n",
       "      <th>scraping_date</th>\n",
       "      <th>price_band</th>\n",
       "      <th>price_sqm_band</th>\n",
       "    </tr>\n",
       "  </thead>\n",
       "  <tbody>\n",
       "    <tr>\n",
       "      <th>0</th>\n",
       "      <td>127360856</td>\n",
       "      <td>Rightmove</td>\n",
       "      <td>Hammersmith and Fulham</td>\n",
       "      <td>unfurnished</td>\n",
       "      <td>Flat</td>\n",
       "      <td>NaN</td>\n",
       "      <td>2.0</td>\n",
       "      <td>2.0</td>\n",
       "      <td>3146.0</td>\n",
       "      <td>NaN</td>\n",
       "      <td>1573.0</td>\n",
       "      <td>None</td>\n",
       "      <td>unclear</td>\n",
       "      <td>Long term</td>\n",
       "      <td>2022-09-23</td>\n",
       "      <td>out of range</td>\n",
       "      <td>None</td>\n",
       "    </tr>\n",
       "    <tr>\n",
       "      <th>2</th>\n",
       "      <td>127210358</td>\n",
       "      <td>Rightmove</td>\n",
       "      <td>City of Westminster</td>\n",
       "      <td>furnished</td>\n",
       "      <td>Studio</td>\n",
       "      <td>NaN</td>\n",
       "      <td>0.0</td>\n",
       "      <td>1.0</td>\n",
       "      <td>2250.0</td>\n",
       "      <td>NaN</td>\n",
       "      <td>2250.0</td>\n",
       "      <td>None</td>\n",
       "      <td>unclear</td>\n",
       "      <td>Long term</td>\n",
       "      <td>2022-09-23</td>\n",
       "      <td>out of range</td>\n",
       "      <td>None</td>\n",
       "    </tr>\n",
       "  </tbody>\n",
       "</table>\n",
       "</div>"
      ],
      "text/plain": [
       "  platform_id   platform           neighbourhood    furniture property_type  \\\n",
       "0   127360856  Rightmove  Hammersmith and Fulham  unfurnished          Flat   \n",
       "2   127210358  Rightmove     City of Westminster    furnished        Studio   \n",
       "\n",
       "   size_sqm  bedrooms  bathrooms   price  price_sqm  price_bedroom  \\\n",
       "0       NaN       2.0        2.0  3146.0        NaN         1573.0   \n",
       "2       NaN       0.0        1.0  2250.0        NaN         2250.0   \n",
       "\n",
       "  available_from available_today   let_type scraping_date    price_band  \\\n",
       "0           None         unclear  Long term    2022-09-23  out of range   \n",
       "2           None         unclear  Long term    2022-09-23  out of range   \n",
       "\n",
       "  price_sqm_band  \n",
       "0           None  \n",
       "2           None  "
      ]
     },
     "metadata": {},
     "output_type": "display_data"
    }
   ],
   "source": [
    "df_short.head(2)"
   ]
  },
  {
   "cell_type": "markdown",
   "metadata": {},
   "source": [
    "# Give the  data back to DBeaver to use it in Tableau"
   ]
  },
  {
   "cell_type": "code",
   "execution_count": null,
   "metadata": {},
   "outputs": [],
   "source": [
    "# # Delete platforms_complete_4 table if it exists\n",
    "sql_text = f\"\"\"\n",
    "DROP TABLE IF EXISTS capstone_jmrs.platforms_complete_4;\n",
    "    \"\"\" \n",
    "# Take the SQL-Command and execute it\n",
    "result = engine.execute(sql_text)"
   ]
  },
  {
   "cell_type": "code",
   "execution_count": null,
   "metadata": {},
   "outputs": [],
   "source": [
    "# # call the schema created for this project\n",
    "schema = 'capstone_jmrs'\n",
    "\n",
    "# give the table a unique name\n",
    "table_name = 'platforms_complete_4'\n",
    "\n",
    "# import the table to sql\n",
    "if engine != None:\n",
    "    try:\n",
    "        df_short.to_sql(name=table_name,\n",
    "                                   con=engine,\n",
    "                                   if_exists='replace',\n",
    "                                   schema=schema,\n",
    "                                   index=False,\n",
    "                                   chunksize=5000,\n",
    "                                   method='multi')\n",
    "        print(f\"The {table_name} table was imported successfully.\")\n",
    "\n",
    "    except (Exception, psycopg2.DatabaseError) as error:\n",
    "        print(error)\n",
    "        engine = None"
   ]
  },
  {
   "cell_type": "markdown",
   "metadata": {},
   "source": [
    "# JULIA"
   ]
  },
  {
   "cell_type": "markdown",
   "metadata": {},
   "source": [
    "### Merging the _clean tables"
   ]
  },
  {
   "cell_type": "code",
   "execution_count": null,
   "metadata": {},
   "outputs": [],
   "source": [
    "sql_text = f\"\"\"\n",
    "CREATE TABLE platforms_complete AS\n",
    "(SELECT *\n",
    " FROM spotahome_clean\n",
    " UNION\n",
    " SELECT *\n",
    " FROM blueground_clean\n",
    " UNION\n",
    " SELECT *\n",
    " FROM rightmove_clean);\n",
    " \"\"\"\n",
    "result = engine.execute(sql_text)\n"
   ]
  },
  {
   "cell_type": "markdown",
   "metadata": {},
   "source": [
    "### copy the 'old' table instead of overwriting"
   ]
  },
  {
   "cell_type": "code",
   "execution_count": null,
   "metadata": {},
   "outputs": [],
   "source": [
    "sql_text = f\"\"\"\n",
    "SELECT *\n",
    "INTO platforms_complete_5\n",
    "FROM platforms_complete_3;å\n",
    "\"\"\"\n",
    "result = engine.execute(sql_text)"
   ]
  },
  {
   "cell_type": "markdown",
   "metadata": {},
   "source": [
    "### delete every property type that is not an Apartment, Flat, Studio etc"
   ]
  },
  {
   "cell_type": "code",
   "execution_count": null,
   "metadata": {},
   "outputs": [],
   "source": [
    "sql_text = f\"\"\"\n",
    "DELETE\n",
    "FROM platforms_complete_5\n",
    "WHERE property_type != 'Apartment'\n",
    "\tAND property_type != 'Block of Apartments'\n",
    "\tAND property_type != 'Flat'\n",
    "\tAND property_type != 'Ground Flat'\n",
    "\tAND property_type != 'Penthouse'\n",
    "\tAND property_type != 'Studio';\n",
    "\"\"\"\n",
    "result = engine.execute(sql_text)\n"
   ]
  },
  {
   "cell_type": "markdown",
   "metadata": {},
   "source": [
    "### delete every property that is above £8000 for furnished apartments"
   ]
  },
  {
   "cell_type": "code",
   "execution_count": null,
   "metadata": {},
   "outputs": [],
   "source": [
    "sql_text = f\"\"\"\n",
    "DELETE\n",
    "FROM platforms_complete_5\n",
    "WHERE furniture = 'furnished'\n",
    "\tAND price > '8001';\n",
    "\"\"\"\n",
    "result = engine.execute(sql_text)"
   ]
  },
  {
   "cell_type": "markdown",
   "metadata": {},
   "source": [
    "### delete every property that is above £xxxx for unfurnished apartments"
   ]
  },
  {
   "cell_type": "code",
   "execution_count": null,
   "metadata": {},
   "outputs": [],
   "source": [
    "sql_text = f\"\"\"\n",
    "DELETE\n",
    "FROM platforms_complete_5\n",
    "WHERE furniture = 'unfurnished'\n",
    "\tAND price > 'xxxx';\n",
    "\"\"\"\n",
    "result = engine.execute(sql_text)"
   ]
  }
 ],
 "metadata": {
  "kernelspec": {
   "display_name": "Python 3.9.6 64-bit",
   "language": "python",
   "name": "python3"
  },
  "language_info": {
   "name": "python",
   "version": "3.9.6"
  },
  "orig_nbformat": 4,
  "vscode": {
   "interpreter": {
    "hash": "31f2aee4e71d21fbe5cf8b01ff0e069b9275f58929596ceb00d14d90e3e16cd6"
   }
  }
 },
 "nbformat": 4,
 "nbformat_minor": 2
}
