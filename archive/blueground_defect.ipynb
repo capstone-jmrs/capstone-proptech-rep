{
 "cells": [
  {
   "cell_type": "markdown",
   "metadata": {},
   "source": [
    "# Clean Notebook for Webscraping of Blueground\n",
    "\n",
    "Clean means: You can start from top an run to bottom without an error"
   ]
  },
  {
   "cell_type": "markdown",
   "metadata": {},
   "source": [
    "# We load the libraries"
   ]
  },
  {
   "cell_type": "code",
   "execution_count": 1,
   "metadata": {},
   "outputs": [],
   "source": [
    "# import all libraries that are needed\n",
    "\n",
    "import requests                 # requests on websites\n",
    "from bs4 import BeautifulSoup   # html parsing\n",
    "\n",
    "import pandas as pd             # pandas for data frame\n",
    "import numpy as np              # numpy for array\n",
    "\n",
    "import math                     # for math methods\n",
    "import time                     # for sleep timer\n",
    "\n",
    "\n",
    "from sql_functions import *     # functions from file for upload on schema\n",
    "import psycopg2                 # for upload on engine\n",
    "\n",
    "# Import the get_engine function from our sql_functions.\n",
    "from sql_functions import get_engine #adjust this as necessary to match your sql_functions.py connection methods\n",
    "\n",
    "# Import get_dataframe from sql_functions.py\n",
    "from sql_functions import get_dataframe\n",
    "\n",
    "# create a variable called engine using the get_engine function\n",
    "engine = get_engine()\n",
    "\n",
    "import datetime                 # for date and time\n",
    "import datetime as dt           # for the csv file with the current date and time\n",
    "from datetime import date       # for the current date\n",
    "\n",
    "import re                       # for regular expressions\n",
    "\n",
    "# https://jsonformatter.org/json-viewer\n",
    "import json                     # for json files\n",
    "\n",
    "import random                   # for random numbers\n",
    "\n",
    "# https://jwalton.info/Matplotlib-custom-boxplots/\n",
    "import itertools\n",
    "\n",
    "import matplotlib.pyplot as plt # for plotting\n",
    "# Will allow us to embed images in the notebook\n",
    "%matplotlib inline\n",
    "from matplotlib.cbook import _reshape_2D\n",
    "\n",
    "# Seaborn visualization library\n",
    "# https://towardsdatascience.com/visualizing-data-with-pair-plots-in-python-f228cf529166\n",
    "import seaborn as sns"
   ]
  },
  {
   "cell_type": "markdown",
   "metadata": {},
   "source": [
    "# we create empty dataframes"
   ]
  },
  {
   "cell_type": "code",
   "execution_count": 2,
   "metadata": {},
   "outputs": [],
   "source": [
    "# create an empty dataframe\n",
    "df_full = pd.DataFrame()\n",
    "df_object = pd.DataFrame()\n",
    "df_search = pd.DataFrame()\n",
    "df_detail = pd.DataFrame()\n",
    "df = pd.DataFrame()"
   ]
  },
  {
   "cell_type": "markdown",
   "metadata": {},
   "source": [
    "# we set up the link and stuff for the loop"
   ]
  },
  {
   "cell_type": "code",
   "execution_count": 3,
   "metadata": {},
   "outputs": [
    {
     "name": "stdout",
     "output_type": "stream",
     "text": [
      "https://www.theblueground.com/api/furnished-apartments-london-uk?subArea=bromley-by-bow,camden-town,chelsea,city-of-london,fulham,hackney,hammersmith,islington,kensington,stockwell,vauxhall,westminster,whitechapel-brick-lane,limehouse,wapping,waterloo&currency=GBP&language=en&offset=1&items=18\n",
      "https://www.theblueground.com/furnished-apartments-london-uk?subArea=bromley-by-bow,camden-town,chelsea,city-of-london,fulham,hackney,hammersmith,islington,kensington,stockwell,vauxhall,westminster,whitechapel-brick-lane,limehouse,wapping,waterloo&currency=GBP&language=en&offset=\n"
     ]
    }
   ],
   "source": [
    "original = weblink = 'https://www.theblueground.com/api/furnished-apartments-london-uk?subArea=bromley-by-bow,camden-town,chelsea,city-of-london,fulham,hackney,hammersmith,islington,kensington,stockwell,vauxhall,westminster,whitechapel-brick-lane,limehouse,wapping,waterloo&currency=GBP&language=en&offset=1&items=18'\n",
    "weblink = weblink.replace(\"/api\", \"\")\n",
    "weblink = (weblink[:-10])\n",
    "\n",
    "print(original)\n",
    "print(weblink)"
   ]
  },
  {
   "cell_type": "code",
   "execution_count": 4,
   "metadata": {},
   "outputs": [
    {
     "name": "stdout",
     "output_type": "stream",
     "text": [
      "https://www.theblueground.com/furnished-apartments-london-uk?subArea=bromley-by-bow,camden-town,chelsea,city-of-london,fulham,hackney,hammersmith,islington,kensington,stockwell,vauxhall,westminster,whitechapel-brick-lane,limehouse,wapping,waterloo&currency=GBP&language=en&offset=0&items=18\n",
      "https://www.theblueground.com/furnished-apartments-london-uk?subArea=bromley-by-bow,camden-town,chelsea,city-of-london,fulham,hackney,hammersmith,islington,kensington,stockwell,vauxhall,westminster,whitechapel-brick-lane,limehouse,wapping,waterloo&currency=GBP&language=en&offset=0&items=18\n"
     ]
    }
   ],
   "source": [
    "# set up the link to the website\n",
    "\n",
    "#weblink = 'https://www.theblueground.com/furnished-apartments-london-uk?currency=GBP&language=en&'\n",
    "\n",
    "# set up the first page to scrape\n",
    "# problems with scraping the first page, so we start with the second page\n",
    "pagesite = 0 # the website will start with 0 / # we set it to 10 to test the code\n",
    "\n",
    "# create an empty list to store the blank slates\n",
    "blank_slates_lst = [] \n",
    "\n",
    "# set the stop condition\n",
    "stop_loop = \"We’re sorry! We can’t seem to find any apartments that match your search.\" \n",
    "\n",
    "# check the link\n",
    "full_link = (weblink +  f'{ pagesite }&items=18')\n",
    "print(full_link)\n",
    "#print((weblink +  f'offset={ pagesite }&items=18'))\n",
    "print((weblink +  f'{ pagesite }&items=18'))"
   ]
  },
  {
   "cell_type": "markdown",
   "metadata": {},
   "source": [
    "## we need the following structure for the dataframe, from the website\n",
    "+ platform_id\n",
    "+ platform\n",
    "+ neighbourhood\n",
    "+ furniture\n",
    "+ property_type\n",
    "+ size_sqm\n",
    "+ bedrooms\n",
    "+ bathrooms\n",
    "+ price\n",
    "+ price_sqm\n",
    "+ price_bedroom\n",
    "+ available_from\n",
    "+ available_today\n",
    "+ let_type\n",
    "+ original_furniture\n",
    "+ scraping_date"
   ]
  },
  {
   "cell_type": "markdown",
   "metadata": {},
   "source": [
    "# Neighbourhoods Ukio wants from us\n",
    "\n",
    "+ Camden\n",
    "+ City of London\n",
    "+ City of Westminster\n",
    "+ Hackney\n",
    "+ Hammersmith and Fulham\n",
    "+ Islington\n",
    "+ Kensington and Chelsea\n",
    "+ Lambeth --> Vauxhall\n",
    "+ Tower Hamlets"
   ]
  },
  {
   "cell_type": "markdown",
   "metadata": {},
   "source": [
    "### List of Neighbourhoods from Blueground we have to use\n",
    "\n",
    "+ Hammersmith\n",
    "+ Fulham\n",
    "+ Kensington\n",
    "+ Chelsea\n",
    "+ Camden\n",
    "+ Westminster\n",
    "+ City of London\n",
    "+ Hackney\n",
    "+ Stockwell\n",
    "+ Vauxhall\n",
    "+ Waterloo\n",
    "+ Bromley-by-Bow\n",
    "+ Limehouse\n",
    "+ Wapping\n",
    "+ Whitechapel\n",
    "+ Islington"
   ]
  },
  {
   "cell_type": "markdown",
   "metadata": {},
   "source": [
    "-----"
   ]
  },
  {
   "cell_type": "markdown",
   "metadata": {},
   "source": [
    "# we load all the functions"
   ]
  },
  {
   "cell_type": "markdown",
   "metadata": {},
   "source": [
    "platform_id --> we get the ID from the last part of the URL for every apartment"
   ]
  },
  {
   "cell_type": "code",
   "execution_count": 5,
   "metadata": {},
   "outputs": [],
   "source": [
    "# https://pandas.pydata.org/docs/reference/api/pandas.DataFrame.loc.html\n",
    "\n",
    "def get_blueground_id(df_search):\n",
    "    # create an empty list to store the blueground_id\n",
    "    blueground_id_lst = []\n",
    "    # get the blueground_id from the dataframe and the column get_url_to_detail_page\n",
    "    for blueground_id in df_search.get_url_to_detail_page: # we get the url from the dataframe\n",
    "        blueground_id_lst.append(blueground_id.rsplit('-', 1)[-1]) # we get the last part of the url\n",
    "    return blueground_id_lst"
   ]
  },
  {
   "cell_type": "markdown",
   "metadata": {},
   "source": [
    "platform --> we can add the Origin-Platform during the Loop, in this Notebook we have only \"blueground\""
   ]
  },
  {
   "cell_type": "markdown",
   "metadata": {},
   "source": [
    "neighbourhood"
   ]
  },
  {
   "cell_type": "code",
   "execution_count": 6,
   "metadata": {},
   "outputs": [],
   "source": [
    "def get_neighborhoods(bs):\n",
    "    neighborhood_names = bs.find_all(\"div\", {\"class\":\"name-place\"})\n",
    "    neighborhood_names_lst = (neighborhood_name.get_text() for neighborhood_name in neighborhood_names)\n",
    "    neighborhood_names_lst = [neighborhood_name.strip() for neighborhood_name in neighborhood_names_lst]\n",
    "    neighborhood_names_lst = [i.rsplit(',', 1)[-1] for i in neighborhood_names_lst]\n",
    "    neighborhood_names_lst = [i.rsplit('-', 1)[0] for i in neighborhood_names_lst]\n",
    "    neighborhood_names_lst = [i.strip() for i in neighborhood_names_lst]\n",
    "    return neighborhood_names_lst"
   ]
  },
  {
   "cell_type": "markdown",
   "metadata": {},
   "source": [
    "property_type \n",
    "on Blueground their is only \"Studio\" or \"Apartment\"\n",
    "\n",
    "> later we have to change the Type  \"Jr. Bedroom\" to \"Studio\""
   ]
  },
  {
   "cell_type": "code",
   "execution_count": 7,
   "metadata": {},
   "outputs": [],
   "source": [
    "def get_property_type(bs):\n",
    "    # get the property_type out of the apartment amenities\n",
    "    lst_name = []\n",
    "    property_typs = bs.find_all(class_=\"main-amenities\")\n",
    "    property_typs_lst = [property_type.get_text() for property_type in property_typs]\n",
    "    property_typs_lst = [property_type.strip() for property_type in property_typs_lst]\n",
    "    property_typs_lst = [i.split('o', 1)[0] for i in property_typs_lst]\n",
    "    property_typs_lst = [i.replace('Bedr', 'Bedroom') for i in property_typs_lst]\n",
    "    property_typs_lst = [i.replace('Studi', 'Studio') for i in property_typs_lst]\n",
    "    property_typs_lst = [i.rsplit(' ', 1)[-1] for i in property_typs_lst]\n",
    "    return property_typs_lst"
   ]
  },
  {
   "cell_type": "markdown",
   "metadata": {},
   "source": [
    "bedrooms"
   ]
  },
  {
   "cell_type": "code",
   "execution_count": 8,
   "metadata": {},
   "outputs": [],
   "source": [
    "def get_bedrooms(bs):\n",
    "    # get the main-amenities of the apartments\n",
    "    lst_name = []\n",
    "    bedrooms = bs.find_all(class_=\"main-amenities\")\n",
    "    bedrooms_lst = [bedroom.get_text() for bedroom in bedrooms]\n",
    "    bedrooms_lst = [bedroom.strip() for bedroom in bedrooms_lst]\n",
    "    bedrooms_lst = [i.split('o', 1)[0] for i in bedrooms_lst]\n",
    "    bedrooms_lst = [i.replace('Bedr', 'Bedroom') for i in bedrooms_lst]\n",
    "    bedrooms_lst = [i.replace('Studi', 'Studio') for i in bedrooms_lst]\n",
    "    return bedrooms_lst"
   ]
  },
  {
   "cell_type": "markdown",
   "metadata": {},
   "source": [
    "bathroom"
   ]
  },
  {
   "cell_type": "code",
   "execution_count": 9,
   "metadata": {},
   "outputs": [],
   "source": [
    "def get_bathroom(bs):\n",
    "    # get the main-amenities of the apartments\n",
    "    lst_name = []\n",
    "    bathrooms= bs.find_all(class_=\"main-amenities\")\n",
    "    bathrooms_lst = [bathroom.get_text() for bathroom in bathrooms]\n",
    "    bathrooms_lst = [bathroom.strip() for bathroom in bathrooms_lst]\n",
    "    bathrooms_lst = [i.rsplit('o', 1)[-1] for i in bathrooms_lst]\n",
    "    bathrooms_lst = [i.replace('m', '') for i in bathrooms_lst]\n",
    "\n",
    "    return bathrooms_lst"
   ]
  },
  {
   "cell_type": "markdown",
   "metadata": {},
   "source": [
    "price_pcm (price per month)"
   ]
  },
  {
   "cell_type": "code",
   "execution_count": 10,
   "metadata": {},
   "outputs": [],
   "source": [
    "def get_price_pcm(bs):\n",
    "    # get the price per month\n",
    "    lst_name = []\n",
    "    # During the project Blueground changed the Art of Prices. Now it is possible to have a discount.\n",
    "    # We had to change our approach to get the price per month.\n",
    "    prices = prices_in_prices = bs.find_all(\"div\", {\"class\":\"monthly-price__amount\"}) # bs.find_all(class_= \"price__amount\")\n",
    "    for price in prices:\n",
    "        lst_name.append(\n",
    "            price.get_text()\n",
    "                .strip()\n",
    "                .replace(',', '')\n",
    "        )\n",
    "    return lst_name"
   ]
  },
  {
   "cell_type": "markdown",
   "metadata": {},
   "source": [
    " title"
   ]
  },
  {
   "cell_type": "code",
   "execution_count": 11,
   "metadata": {},
   "outputs": [],
   "source": [
    "def get_object_title(bs):\n",
    "    # get the names of all the apartments\n",
    "    lst_name = []\n",
    "    object_titles = bs.find_all(class_=\"listing-name\")\n",
    "    for object_title in object_titles:\n",
    "        lst_name.append(\n",
    "            object_title.get_text()\n",
    "                .strip()\n",
    "        )\n",
    "    return lst_name\n"
   ]
  },
  {
   "cell_type": "markdown",
   "metadata": {},
   "source": [
    "furnished --> on Blueground we have only furnished Studios/Apartments"
   ]
  },
  {
   "cell_type": "markdown",
   "metadata": {},
   "source": [
    "available_from"
   ]
  },
  {
   "cell_type": "code",
   "execution_count": 12,
   "metadata": {},
   "outputs": [],
   "source": [
    "def get_availability(bs):\n",
    "    # get the availability of the apartments\n",
    "    lst_availability = []\n",
    "    availability = bs.find_all(class_=\"availability__date\")\n",
    "    for avail in availability:\n",
    "        lst_availability.append(\n",
    "            avail.get_text()\n",
    "                .strip()\n",
    "        )\n",
    "    return lst_availability\n"
   ]
  },
  {
   "cell_type": "markdown",
   "metadata": {},
   "source": [
    "size --> we get the size (sqm) in an extra loop, after the main information"
   ]
  },
  {
   "cell_type": "markdown",
   "metadata": {},
   "source": [
    "-----"
   ]
  },
  {
   "cell_type": "markdown",
   "metadata": {},
   "source": [
    "# We need this for the extra details"
   ]
  },
  {
   "cell_type": "markdown",
   "metadata": {},
   "source": [
    "url"
   ]
  },
  {
   "cell_type": "code",
   "execution_count": 13,
   "metadata": {},
   "outputs": [],
   "source": [
    "def get_url_to_detail_page(bs, maximus):\n",
    "    url_lst = []\n",
    "    count = 0\n",
    "    while count <= int(maximus):\n",
    "        \n",
    "        # this will get us the link to the detail page\n",
    "        class_with_link = bs.find_all(class_=\"ui-image-carousel\")\n",
    "        # with the [] we can select the elment we want to get\n",
    "        for a in class_with_link[count].find_all('a', href=True):\n",
    "            url_lst.append(a['href'])\n",
    "        count += 1\n",
    "    #print(url_lst)\n",
    "    return url_lst"
   ]
  },
  {
   "cell_type": "markdown",
   "metadata": {},
   "source": [
    "----"
   ]
  },
  {
   "cell_type": "markdown",
   "metadata": {},
   "source": [
    "# the Loop to grab everything for the main information"
   ]
  },
  {
   "cell_type": "code",
   "execution_count": 15,
   "metadata": {},
   "outputs": [
    {
     "ename": "KeyboardInterrupt",
     "evalue": "",
     "output_type": "error",
     "traceback": [
      "\u001b[0;31m---------------------------------------------------------------------------\u001b[0m",
      "\u001b[0;31mKeyboardInterrupt\u001b[0m                         Traceback (most recent call last)",
      "\u001b[1;32m/Users/markussteinke/neuefische/capstone-ukio-rep/blueground_defect.ipynb Cell 39\u001b[0m in \u001b[0;36m<cell line: 4>\u001b[0;34m()\u001b[0m\n\u001b[1;32m      <a href='vscode-notebook-cell:/Users/markussteinke/neuefische/capstone-ukio-rep/blueground_defect.ipynb#X53sZmlsZQ%3D%3D?line=0'>1</a>\u001b[0m \u001b[39m# https://flexiple.com/python/check-if-list-is-empty-python/\u001b[39;00m\n\u001b[1;32m      <a href='vscode-notebook-cell:/Users/markussteinke/neuefische/capstone-ukio-rep/blueground_defect.ipynb#X53sZmlsZQ%3D%3D?line=1'>2</a>\u001b[0m \u001b[39m# Solution 3: Using len() function\u001b[39;00m\n\u001b[1;32m      <a href='vscode-notebook-cell:/Users/markussteinke/neuefische/capstone-ukio-rep/blueground_defect.ipynb#X53sZmlsZQ%3D%3D?line=2'>3</a>\u001b[0m \u001b[39m# The len() function returns the number of items in a list. If the list is empty, it returns 0.\u001b[39;00m\n\u001b[1;32m      <a href='vscode-notebook-cell:/Users/markussteinke/neuefische/capstone-ukio-rep/blueground_defect.ipynb#X53sZmlsZQ%3D%3D?line=3'>4</a>\u001b[0m \u001b[39mwhile\u001b[39;00m \u001b[39mlen\u001b[39m(blank_slates_lst) \u001b[39m==\u001b[39m \u001b[39m0\u001b[39m: \u001b[39m# start and endpoint of the for-loop\u001b[39;00m\n\u001b[1;32m      <a href='vscode-notebook-cell:/Users/markussteinke/neuefische/capstone-ukio-rep/blueground_defect.ipynb#X53sZmlsZQ%3D%3D?line=4'>5</a>\u001b[0m     \u001b[39m# pause the loop for a raondom time to reduce the load on the server\u001b[39;00m\n\u001b[0;32m----> <a href='vscode-notebook-cell:/Users/markussteinke/neuefische/capstone-ukio-rep/blueground_defect.ipynb#X53sZmlsZQ%3D%3D?line=5'>6</a>\u001b[0m     time\u001b[39m.\u001b[39;49msleep(random\u001b[39m.\u001b[39;49mrandint(\u001b[39m5\u001b[39;49m,\u001b[39m15\u001b[39;49m)\u001b[39m/\u001b[39;49mrandom\u001b[39m.\u001b[39;49mrandint(\u001b[39m1\u001b[39;49m,\u001b[39m9\u001b[39;49m))\n\u001b[1;32m      <a href='vscode-notebook-cell:/Users/markussteinke/neuefische/capstone-ukio-rep/blueground_defect.ipynb#X53sZmlsZQ%3D%3D?line=7'>8</a>\u001b[0m     \u001b[39m# ----------------- get the data from the website -----------------\u001b[39;00m\n\u001b[1;32m      <a href='vscode-notebook-cell:/Users/markussteinke/neuefische/capstone-ukio-rep/blueground_defect.ipynb#X53sZmlsZQ%3D%3D?line=8'>9</a>\u001b[0m     \u001b[39m# get the content of the website\u001b[39;00m\n\u001b[1;32m     <a href='vscode-notebook-cell:/Users/markussteinke/neuefische/capstone-ukio-rep/blueground_defect.ipynb#X53sZmlsZQ%3D%3D?line=9'>10</a>\u001b[0m     page \u001b[39m=\u001b[39m requests\u001b[39m.\u001b[39mget(weblink \u001b[39m+\u001b[39m  \u001b[39mf\u001b[39m\u001b[39m'\u001b[39m\u001b[39moffset=\u001b[39m\u001b[39m{\u001b[39;00m pagesite \u001b[39m}\u001b[39;00m\u001b[39m&items=18\u001b[39m\u001b[39m'\u001b[39m)\n",
      "\u001b[0;31mKeyboardInterrupt\u001b[0m: "
     ]
    }
   ],
   "source": [
    "# https://flexiple.com/python/check-if-list-is-empty-python/\n",
    "# Solution 3: Using len() function\n",
    "# The len() function returns the number of items in a list. If the list is empty, it returns 0.\n",
    "while len(blank_slates_lst) == 0: # start and endpoint of the for-loop\n",
    "    # pause the loop for a raondom time to reduce the load on the server\n",
    "    time.sleep(random.randint(5,15)/random.randint(1,9))\n",
    "\n",
    "    # ----------------- get the data from the website -----------------\n",
    "    # get the content of the website\n",
    "    page = requests.get(weblink +  f'offset={ pagesite }&items=18')\n",
    "    # parse the html and save it into a BeautifulSoup instance\n",
    "    html = page.content\n",
    "    bs = BeautifulSoup(html, 'html.parser')\n",
    "\n",
    "    # ----------------- insert the data into the dataframe -----------------\n",
    "    # create a pandas dataframe for the names and prices\n",
    "    blueground_dict = {\n",
    "        #'platform_id', --> we get this from the detail page\n",
    "        'platform': 'Blueground',\n",
    "        'neighbourhood': get_neighborhoods(bs),\n",
    "        'property_type': get_property_type(bs),\n",
    "        'bedrooms': get_bedrooms(bs),\n",
    "        'bathroom': get_bathroom(bs),\n",
    "        'price_pcm': get_price_pcm(bs),\n",
    "        'title': get_object_title(bs),\n",
    "        'furniture': 'furnished',\n",
    "        'detailed_furniture': 'furnished',\n",
    "        'available_from': get_availability(bs),\n",
    "        #'size': , --> we get this from the detail page\n",
    "        'title': get_object_title(bs),\n",
    "        'scraping_date_main': date.today(), # today's date\n",
    "        'available_today': ''\n",
    "        }\n",
    "    \n",
    "    # ----------------- work with the datafram to get the URL and the ID -----------------\n",
    "    # we now have a dataframe, we can use this to get a counter for the URL\n",
    "    df_page = pd.DataFrame.from_dict(blueground_dict)\n",
    "    df_page = df_page.reset_index(drop=True)\n",
    "\n",
    "    # we create a variable to store the number of rows in the dataframe\n",
    "    maximus = df_page.index.max() # we give it the max value of the index\n",
    "\n",
    "    # we create a list to store the urls\n",
    "    # we check if we reached the end of the existing df, to stop and not get an error\n",
    "    if np.isnan(maximus):\n",
    "        break\n",
    "    else:\n",
    "        df_page['get_url_to_detail_page'] = pd.Series(get_url_to_detail_page(bs, maximus))\n",
    "    # we can now add the dataframe to the full dataframe\n",
    "    df_search = pd.concat([df_search, df_page], axis=0, ignore_index=True)\n",
    "    df_search = df_search.reset_index(drop=True)\n",
    "\n",
    "\n",
    "    # ----------------- check if we reached the end of the pages -----------------\n",
    "    blank_slates = bs.find_all(class_=\"blank-slate__criteria\")\n",
    "    blank_slates_lst = (blank_slate.get_text() for blank_slate in blank_slates)\n",
    "    blank_slates_lst = [blank_slate.strip() for blank_slate in blank_slates_lst]\n",
    "\n",
    "    # increase the pagesite by 1\n",
    "    pagesite += 1\n",
    "\n",
    "\n",
    "# ----------------- get the ID from URL -----------------\n",
    "# we want the ID on the first place, so we can use it to merge the dataframes, if needed\n",
    "# Third position would be at index 2, because of zero-indexing.\n",
    "df_search.insert(0, 'platform_id', get_blueground_id(df_search))"
   ]
  },
  {
   "cell_type": "code",
   "execution_count": null,
   "metadata": {},
   "outputs": [],
   "source": [
    "# show the link, just to check if it works\n",
    "print(\"The pagesite ends with:\", pagesite)\n",
    "print(\"The last link would be:\", (weblink +  f'offset={ pagesite }&items=18'))"
   ]
  },
  {
   "cell_type": "code",
   "execution_count": null,
   "metadata": {},
   "outputs": [],
   "source": [
    "#------- set the number of rows and column_width  to maximum ------- \n",
    "pd.set_option('display.max_rows', None) \n",
    "pd.set_option('display.max_colwidth', None)"
   ]
  },
  {
   "cell_type": "code",
   "execution_count": null,
   "metadata": {},
   "outputs": [],
   "source": [
    "# ----------------- display the first 5 rows -----------------\n",
    "display(df_search.head(2))\n",
    "display(df_search.tail(2))"
   ]
  },
  {
   "cell_type": "code",
   "execution_count": null,
   "metadata": {},
   "outputs": [],
   "source": [
    "# shows us the shape of the df in a quick way\n",
    "df_search.shape"
   ]
  },
  {
   "cell_type": "markdown",
   "metadata": {},
   "source": [
    "### we create some copys to work with"
   ]
  },
  {
   "cell_type": "code",
   "execution_count": null,
   "metadata": {},
   "outputs": [],
   "source": [
    "print(df_search.index)\n",
    "df_save = df_search.copy()\n",
    "print(df_save.index)"
   ]
  },
  {
   "cell_type": "code",
   "execution_count": null,
   "metadata": {},
   "outputs": [],
   "source": [
    "break"
   ]
  },
  {
   "cell_type": "markdown",
   "metadata": {},
   "source": [
    "--------"
   ]
  },
  {
   "cell_type": "markdown",
   "metadata": {},
   "source": [
    "# Information from the JSON-File, we can create of the Detail-Webpages"
   ]
  },
  {
   "cell_type": "code",
   "execution_count": null,
   "metadata": {},
   "outputs": [],
   "source": [
    "# make a copy of the dataframe, so we can use it later\n",
    "df_for_details = df_save.copy()"
   ]
  },
  {
   "cell_type": "code",
   "execution_count": null,
   "metadata": {},
   "outputs": [],
   "source": [
    "#-------- create empty dataframe to store the data in ---------\n",
    "df_detail = pd.DataFrame()\n",
    "concatenated = pd.DataFrame()\n",
    "df2 = pd.DataFrame()\n",
    "\n",
    "\n",
    "# ----- we need to loop through the dataframe, to get the details from the detail page -----\n",
    "for idx, row in df_for_details.iterrows():\n",
    "    # pause the loop for a raondom time to reduce the load on the server\n",
    "    time.sleep(random.randint(2,15)/random.randint(1,9))\n",
    "    \n",
    "    #page = 'https://www.theblueground.com/furnished-apartments-london-uk/london-clerkenwell-115' # for testing\n",
    "    page_start = 'https://www.theblueground.com'    # this is the main part of the URL\n",
    "    page_end = row['get_url_to_detail_page']        # we get the rest of the URL from the dataframe\n",
    "    pp = page_start + page_end                      # we combine the two parts of the URL\n",
    "    #print(pp)                                      # for testing\n",
    "\n",
    "# ----------------- get the data from the website -----------------\n",
    "    website = requests.get(pp)\n",
    "    results = BeautifulSoup(website.content, 'html.parser')\n",
    "\n",
    "    detailed_pages = results.findAll('div', class_='property__amenities-list-item')\n",
    "    detailed_pages = results.findAll()\n",
    "\n",
    "    detailed_pages_lst = (detailed_page.get_text() for detailed_page in detailed_pages)\n",
    "    detailed_pages_lst = [detailed_page.strip() for detailed_page in detailed_pages_lst]\n",
    "\n",
    "    df = pd.DataFrame(detailed_pages_lst, columns=['details'])\n",
    "    #display(df)                                    # for testing\n",
    "\n",
    "# ----------------- first steps to prepare a Json-File from the output we create from the detail-webpage -----------------\n",
    "    df2 = df['details'].str.split('property:', expand=True).tail(1)\n",
    "    df_to_string = str(df2[1].values[0])\n",
    "    \n",
    "    # we need to remove the last characters, so we get a valid json \n",
    "    df_to_string = df_to_string.strip()            \n",
    "    df_to_string = df_to_string.rstrip(';')         # remove the last character\n",
    "    df_to_string = df_to_string.strip()             \n",
    "    df_to_string = df_to_string.rstrip('}')         # remove the last character\n",
    "    df_to_string = df_to_string.strip()\n",
    "\n",
    "# ----------------- create a Json-File from the output we create from the detail-webpage -----------------\n",
    "    detail_dict = json.loads(df_to_string)\n",
    "    detail_dict_normalized = pd.json_normalize(detail_dict, sep='_')\n",
    "    x = detail_dict_normalized['amenities_main'].values[0]\n",
    "\n",
    "# ----------------- with every loop we can crap the same information out of the Json-File -----------------\n",
    "    df_detail = []\n",
    "    df_detail = pd.DataFrame({\n",
    "                        'blueground_id_details': page_end.rsplit('-', 1)[-1],\n",
    "                        \"lotsize\":[x[2]['key']],                 # lotsize\n",
    "                         \"size_ft\":x[2]['value'],                # lotsize value, the actual sqm as a number\n",
    "                         'caption':x[2]['caption'],              # sqm as a caption\n",
    "                         'scraping_date_details': date.today(),  # today's date\n",
    "                         'let_type': ''                         # mostly used by another company, so we can ignore it\n",
    "                         })\n",
    "# ----------------- we can now add the data to the dataframe -----------------\n",
    "    concatenated = pd.concat([concatenated, df_detail], axis=0, ignore_index=True, join='outer')\n"
   ]
  },
  {
   "cell_type": "code",
   "execution_count": null,
   "metadata": {},
   "outputs": [],
   "source": [
    "# ----------------- we can now show the data of the dataframe -----------------\n",
    "display(concatenated.head(2))\n",
    "display(concatenated.tail(2))"
   ]
  },
  {
   "cell_type": "code",
   "execution_count": null,
   "metadata": {},
   "outputs": [],
   "source": [
    "# shows us the shape of the df in a quick way\n",
    "concatenated.shape"
   ]
  },
  {
   "cell_type": "markdown",
   "metadata": {},
   "source": [
    "# Save the Data"
   ]
  },
  {
   "cell_type": "code",
   "execution_count": null,
   "metadata": {},
   "outputs": [],
   "source": [
    "# ----------------- save the dataframes in a .csv file -----------------\n",
    "today = dt.datetime.today().strftime('%Y-%m-%d-%H-%M')\n",
    "df_search.to_csv('data/bluebround_main_{}.csv'.format(today), sep='\\t')\n",
    "concatenated.to_csv('data/bluebround_detail_{}.csv'.format(today), sep='\\t')\n",
    "print(\"We have saved the new dataframes in a .csv file\")"
   ]
  },
  {
   "cell_type": "markdown",
   "metadata": {},
   "source": [
    "----"
   ]
  },
  {
   "cell_type": "markdown",
   "metadata": {},
   "source": [
    "# 1. Basic information about data - EDA, before we export to DBeaver\n",
    "\n",
    "https://www.digitalocean.com/community/tutorials/exploratory-data-analysis-python"
   ]
  },
  {
   "cell_type": "code",
   "execution_count": null,
   "metadata": {},
   "outputs": [],
   "source": [
    "#Basic information\n",
    "print(df_search.info())"
   ]
  },
  {
   "cell_type": "code",
   "execution_count": null,
   "metadata": {},
   "outputs": [],
   "source": [
    "#Basic information\n",
    "print(concatenated.info())"
   ]
  },
  {
   "cell_type": "markdown",
   "metadata": {},
   "source": [
    "# 2. Duplicate values"
   ]
  },
  {
   "cell_type": "code",
   "execution_count": null,
   "metadata": {},
   "outputs": [],
   "source": [
    "#Find the duplicates\n",
    "print(df_search.duplicated().sum())\n",
    "print(concatenated.duplicated().sum())"
   ]
  },
  {
   "cell_type": "markdown",
   "metadata": {},
   "source": [
    "# 5. Find the Null values"
   ]
  },
  {
   "cell_type": "code",
   "execution_count": null,
   "metadata": {},
   "outputs": [],
   "source": [
    "#Find null values\n",
    "print(df_search.isnull().sum())\n",
    "print(concatenated.isnull().sum())"
   ]
  },
  {
   "cell_type": "markdown",
   "metadata": {},
   "source": [
    "# 7. Know the datatypes"
   ]
  },
  {
   "cell_type": "code",
   "execution_count": null,
   "metadata": {},
   "outputs": [],
   "source": [
    "#Datatypes\n",
    "print(df_search.dtypes)\n",
    "print(concatenated.dtypes)"
   ]
  },
  {
   "cell_type": "markdown",
   "metadata": {},
   "source": [
    "------"
   ]
  },
  {
   "cell_type": "markdown",
   "metadata": {},
   "source": [
    "# Deleting all existing Tables in DBeaver"
   ]
  },
  {
   "cell_type": "code",
   "execution_count": null,
   "metadata": {},
   "outputs": [],
   "source": [
    "# Delete blueground_df_main table if it exists\n",
    "sql_text = f\"\"\"\n",
    "DROP TABLE IF EXISTS capstone_jmrs.blueground_df_main;\n",
    "    \"\"\" \n",
    "# Take the SQL-Command and execute it\n",
    "result = engine.execute(sql_text)"
   ]
  },
  {
   "cell_type": "code",
   "execution_count": null,
   "metadata": {},
   "outputs": [],
   "source": [
    "# Delete blueground_main_details table if it exists\n",
    "sql_text = f\"\"\"\n",
    "DROP TABLE IF EXISTS capstone_jmrs.blueground_main_details;\n",
    "    \"\"\" \n",
    "# Take the SQL-Command and execute it\n",
    "result = engine.execute(sql_text)"
   ]
  },
  {
   "cell_type": "code",
   "execution_count": null,
   "metadata": {},
   "outputs": [],
   "source": [
    "# Delete blueground_df_details table if it exists\n",
    "sql_text = f\"\"\"\n",
    "DROP TABLE IF EXISTS capstone_jmrs.blueground_df_details;\n",
    "    \"\"\" \n",
    "# Take the SQL-Command and execute it\n",
    "result = engine.execute(sql_text)"
   ]
  },
  {
   "cell_type": "code",
   "execution_count": null,
   "metadata": {},
   "outputs": [],
   "source": [
    "# Delete blueground_eda_cleaned table if it exists\n",
    "sql_text = f\"\"\"\n",
    "DROP TABLE IF EXISTS capstone_jmrs.blueground_eda_cleaned;\n",
    "    \"\"\" \n",
    "# Take the SQL-Command and execute it\n",
    "result = engine.execute(sql_text)"
   ]
  },
  {
   "cell_type": "code",
   "execution_count": null,
   "metadata": {},
   "outputs": [],
   "source": [
    "# Delete blueground_clean table if it exists\n",
    "sql_text = f\"\"\"\n",
    "DROP TABLE IF EXISTS capstone_jmrs.blueground_clean;\n",
    "    \"\"\" \n",
    "# Take the SQL-Command and execute it\n",
    "result = engine.execute(sql_text)"
   ]
  },
  {
   "cell_type": "markdown",
   "metadata": {},
   "source": [
    "-------"
   ]
  },
  {
   "cell_type": "markdown",
   "metadata": {},
   "source": [
    "# Export the data frame to DBeaver"
   ]
  },
  {
   "cell_type": "markdown",
   "metadata": {},
   "source": [
    "## Export the Main-DF to DB"
   ]
  },
  {
   "cell_type": "code",
   "execution_count": null,
   "metadata": {},
   "outputs": [],
   "source": [
    "# export the data frame to DBeaver\n",
    "\n",
    "# call the schema created for this project\n",
    "schema = 'capstone_jmrs'\n",
    "\n",
    "# give the table a unique name\n",
    "table_name = 'blueground_df_main'\n",
    "\n",
    "# export the table to sql\n",
    "if engine!=None:\n",
    "    try:\n",
    "        df_search.to_sql(name=table_name,\n",
    "                        con=engine,\n",
    "                        if_exists='replace',\n",
    "                        schema=schema, \n",
    "                        index=False,\n",
    "                        chunksize=5000, \n",
    "                        method='multi')\n",
    "        print(f\"The {table_name} table was imported successfully.\")\n",
    "    \n",
    "    except (Exception, psycopg2.DatabaseError) as error:\n",
    "        print(error)\n",
    "        engine = None"
   ]
  },
  {
   "cell_type": "markdown",
   "metadata": {},
   "source": [
    "## Export the Detail-DF to DBeaver"
   ]
  },
  {
   "cell_type": "code",
   "execution_count": null,
   "metadata": {},
   "outputs": [],
   "source": [
    "# export the data frame to DBeaver\n",
    "\n",
    "# call the schema created for this project\n",
    "schema = 'capstone_jmrs'\n",
    "\n",
    "# give the table a unique name\n",
    "table_name = 'blueground_df_details'\n",
    "\n",
    "# export the table to sql\n",
    "if engine!=None:\n",
    "    try:\n",
    "        concatenated.to_sql(name=table_name,\n",
    "                        con=engine,\n",
    "                        if_exists='replace',\n",
    "                        schema=schema, \n",
    "                        index=False,\n",
    "                        chunksize=5000, \n",
    "                        method='multi')\n",
    "        print(f\"The {table_name} table was imported successfully.\")\n",
    "    \n",
    "    except (Exception, psycopg2.DatabaseError) as error:\n",
    "        print(error)\n",
    "        engine = None"
   ]
  },
  {
   "cell_type": "markdown",
   "metadata": {},
   "source": [
    "-------"
   ]
  },
  {
   "cell_type": "markdown",
   "metadata": {},
   "source": [
    "# Do manipulation in SQL - Language"
   ]
  },
  {
   "cell_type": "code",
   "execution_count": null,
   "metadata": {},
   "outputs": [],
   "source": [
    "# call the schema created for this project\n",
    "schema = 'capstone_jmrs'"
   ]
  },
  {
   "cell_type": "code",
   "execution_count": null,
   "metadata": {},
   "outputs": [],
   "source": [
    "# Part 1 - Change all the Data - Values, we can easily change\n",
    "# https://www.techonthenet.com/postgresql/tables/alter_table.php\n",
    "\n",
    "sql_text = f\"\"\"\n",
    "ALTER TABLE {schema}.blueground_df_main\n",
    "  ALTER COLUMN platform_id  \t\t\tTYPE integer USING platform_id::integer,\n",
    "  ALTER COLUMN platform \t\t\t\t  TYPE varchar,\n",
    "  ALTER COLUMN neighbourhood \t\t\tTYPE varchar,\n",
    "  ALTER COLUMN property_type \t\t\tTYPE varchar,\n",
    "  ALTER COLUMN title \t\t\t\t\t    TYPE varchar,\n",
    "  ALTER COLUMN furniture \t\t\t\t  TYPE varchar,\n",
    "  ALTER COLUMN detailed_furniture \t\t\t\t  TYPE varchar,\n",
    "  ALTER COLUMN get_url_to_detail_page \tTYPE varchar,\n",
    "  ALTER COLUMN available_today \t  TYPE  varchar,\n",
    "  ALTER COLUMN available_from     TYPE date USING available_from::date ;  \n",
    "\"\"\" \n",
    "# Take the SQL-Command and execute it\n",
    "result = engine.execute(sql_text)"
   ]
  },
  {
   "cell_type": "code",
   "execution_count": null,
   "metadata": {},
   "outputs": [],
   "source": [
    "# Part 2 -  We have to edit the values from \"BedRooms, BathRooms and Price_Pcm\" to convert it to an integer or float\n",
    "# currently, we have \"String\" in this cells\n",
    "# https://www.postgresqltutorial.com/postgresql-tutorial/postgresql-update/\n",
    "\n",
    "\n",
    "# We change the Values of the Bedrooms\n",
    "\n",
    "sql_text = f\"\"\"\n",
    "UPDATE {schema}.blueground_df_main\n",
    "SET  bedrooms = 1\n",
    "WHERE bedrooms = '1 Bedroom' ;\n",
    "\"\"\" \n",
    "# Take the SQL-Command and execute it\n",
    "result = engine.execute(sql_text)\n",
    "\n",
    "sql_text = f\"\"\"\n",
    "UPDATE {schema}.blueground_df_main\n",
    "SET  bedrooms = 2\n",
    "WHERE bedrooms = '2 Bedroom' ;\n",
    "\"\"\" \n",
    "# Take the SQL-Command and execute it\n",
    "result = engine.execute(sql_text)\n",
    "\n",
    "sql_text = f\"\"\"\n",
    "UPDATE {schema}.blueground_df_main\n",
    "SET  bedrooms = 3\n",
    "WHERE bedrooms = '3 Bedroom' ;\n",
    "\"\"\" \n",
    "# Take the SQL-Command and execute it\n",
    "result = engine.execute(sql_text)"
   ]
  },
  {
   "cell_type": "code",
   "execution_count": null,
   "metadata": {},
   "outputs": [],
   "source": [
    "# Update the property_type to Studio, if the  bedrooms is a Jr. 1 Bedroom\n",
    "sql_text = f\"\"\"\n",
    "UPDATE {schema}.blueground_df_main\n",
    "SET  property_type = 'Studio',\n",
    "\t bedrooms = 1\n",
    "WHERE bedrooms = 'Jr. 1 Bedroom' ;\n",
    "\"\"\" \n",
    "# Take the SQL-Command and execute it\n",
    "result = engine.execute(sql_text)\n",
    "\n",
    "#we Update the Studio in \"Bedroom\" to 0 (Zero), to convert them later to Integer or Float\n",
    "sql_text = f\"\"\"\n",
    "UPDATE {schema}.blueground_df_main\n",
    "SET  bedrooms = '0'\n",
    "WHERE bedrooms = 'Studio' ;\n",
    "\"\"\" \n",
    "# Take the SQL-Command and execute it\n",
    "result = engine.execute(sql_text)"
   ]
  },
  {
   "cell_type": "code",
   "execution_count": null,
   "metadata": {},
   "outputs": [],
   "source": [
    "# Update the property_type to Apartment, if the property_type is Bedroom\n",
    "sql_text = f\"\"\"\n",
    "UPDATE {schema}.blueground_df_main\n",
    "SET  property_type = 'Apartment'\n",
    "WHERE property_type = 'Bedroom' ;\n",
    "\"\"\" \n",
    "# Take the SQL-Command and execute it\n",
    "result = engine.execute(sql_text)"
   ]
  },
  {
   "cell_type": "code",
   "execution_count": null,
   "metadata": {},
   "outputs": [],
   "source": [
    "# now we will update the bathrooms ----\n",
    "sql_text = f\"\"\"\n",
    "UPDATE {schema}.blueground_df_main\n",
    "SET  bathroom = 1\n",
    "WHERE bathroom = '1 Bath' ;\n",
    "\"\"\" \n",
    "# Take the SQL-Command and execute it\n",
    "result = engine.execute(sql_text)\n",
    "\n",
    "sql_text = f\"\"\"\n",
    "UPDATE {schema}.blueground_df_main\n",
    "SET  bathroom = 1.5\n",
    "WHERE bathroom = '1.5 Bath' ;\n",
    "\"\"\" \n",
    "# Take the SQL-Command and execute it\n",
    "result = engine.execute(sql_text)\n",
    "\n",
    "sql_text = f\"\"\"\n",
    "UPDATE {schema}.blueground_df_main\n",
    "SET  bathroom = 2\n",
    "WHERE bathroom = '2 Bath' ;\n",
    "\"\"\" \n",
    "# Take the SQL-Command and execute it\n",
    "result = engine.execute(sql_text)\n",
    "\n",
    "sql_text = f\"\"\"\n",
    "UPDATE {schema}.blueground_df_main\n",
    "SET  bathroom = 2.5\n",
    "WHERE bathroom = '2.5 Bath' ;\n",
    "\"\"\" \n",
    "# Take the SQL-Command and execute it\n",
    "result = engine.execute(sql_text)\n"
   ]
  },
  {
   "cell_type": "code",
   "execution_count": null,
   "metadata": {},
   "outputs": [],
   "source": [
    "# now we want to ALTER the column of Bedrooms to Integer\n",
    "sql_text = f\"\"\"\n",
    "ALTER TABLE {schema}.blueground_df_main\n",
    "  ALTER COLUMN bedrooms  TYPE integer USING (trim(bedrooms)::integer);\n",
    "  \"\"\" \n",
    "# Take the SQL-Command and execute it\n",
    "result = engine.execute(sql_text)\n",
    "  \n",
    "# now we want to Alter the column of Bathroom to Float  \n",
    "sql_text = f\"\"\"\n",
    "ALTER TABLE {schema}.blueground_df_main\n",
    "  ALTER COLUMN bathroom  TYPE float USING (trim(bathroom)::float);\n",
    "    \"\"\" \n",
    "# Take the SQL-Command and execute it\n",
    "result = engine.execute(sql_text)\n",
    "\n",
    "#  now we want to Alter the column of Price to an Integer\n",
    "sql_text = f\"\"\"\n",
    "ALTER TABLE {schema}.blueground_df_main\n",
    "ALTER COLUMN price_pcm  TYPE integer USING (trim(price_pcm)::integer) ; \n",
    "\"\"\" \n",
    "# Take the SQL-Command and execute it\n",
    "result = engine.execute(sql_text)"
   ]
  },
  {
   "cell_type": "code",
   "execution_count": null,
   "metadata": {},
   "outputs": [],
   "source": [
    "# Part 4 -  We have to Update the neighborhood's to make it even with the requirements from Uki\n",
    " # currently, we have \"String\" in this cells\n",
    " # https://www.postgresqltutorial.com/postgresql-tutorial/postgresql-update/\n",
    "\n",
    " # Update to Hammersmith and Fulham\n",
    "sql_text = f\"\"\"\n",
    "UPDATE {schema}.blueground_df_main\n",
    "SET  neighbourhood = 'Hammersmith and Fulham'\n",
    "WHERE (neighbourhood = 'Hammersmith') OR (neighbourhood = 'Fulham'); \n",
    "\"\"\" \n",
    "# Take the SQL-Command and execute it\n",
    "result = engine.execute(sql_text)\n",
    "\n",
    "\n",
    "# Update to Kensington and Chelsea\n",
    "sql_text = f\"\"\"\n",
    " UPDATE {schema}.blueground_df_main\n",
    "SET  neighbourhood = 'Kensington and Chelsea'\n",
    "WHERE (neighbourhood = 'Kensington') OR (neighbourhood = 'Chelsea'); \n",
    "\"\"\" \n",
    "# Take the SQL-Command and execute it\n",
    "result = engine.execute(sql_text)\n",
    "\n",
    "# Update to Camden\n",
    "sql_text = f\"\"\"\n",
    " UPDATE {schema}.blueground_df_main\n",
    "SET  neighbourhood = 'Camden'\n",
    "WHERE (neighbourhood = 'Camden Town'); \n",
    "\"\"\" \n",
    "# Take the SQL-Command and execute it\n",
    "result = engine.execute(sql_text)\n",
    "\n",
    "# City of Westminster\n",
    "sql_text = f\"\"\"\n",
    " UPDATE {schema}.blueground_df_main\n",
    "SET  neighbourhood = 'City of Westminster'\n",
    "WHERE (neighbourhood = 'Westminster');\n",
    "\"\"\" \n",
    "# Take the SQL-Command and execute it\n",
    "result = engine.execute(sql_text)\n",
    "\n",
    "# Update to Lambeth\n",
    "sql_text = f\"\"\"\n",
    " UPDATE {schema}.blueground_df_main\n",
    "SET  neighbourhood = 'Lambeth'\n",
    "WHERE (neighbourhood = 'Stockwell') OR (neighbourhood = 'Vauxhall') OR (neighbourhood = 'Waterloo'); \n",
    "\"\"\" \n",
    "# Take the SQL-Command and execute it\n",
    "result = engine.execute(sql_text)\n",
    "\n",
    "# Update to Tower of Hamlets\n",
    "sql_text = f\"\"\"\n",
    " UPDATE {schema}.blueground_df_main\n",
    "SET  neighbourhood = 'Tower Hamlets'\n",
    "WHERE (neighbourhood = 'Bromley by Bow') OR (neighbourhood = 'Bromley-by-Bow') OR (neighbourhood = 'Limehouse')OR (neighbourhood = 'Wapping') OR (neighbourhood = 'Whitechapel')OR (neighbourhood = 'Whitechapel/Brick Lane'); \n",
    "\"\"\" \n",
    "# Take the SQL-Command and execute it\n",
    "result = engine.execute(sql_text)\n"
   ]
  },
  {
   "cell_type": "code",
   "execution_count": null,
   "metadata": {},
   "outputs": [],
   "source": [
    "today = date.today() \n",
    "print(\"Today's date:\", today)"
   ]
  },
  {
   "cell_type": "code",
   "execution_count": null,
   "metadata": {},
   "outputs": [],
   "source": [
    "tomorrow = datetime.datetime.now() + datetime.timedelta(days=1)\n",
    "print(\"Today's date + 1 will be (we also call it Tomorrow):\", tomorrow.date())"
   ]
  },
  {
   "cell_type": "code",
   "execution_count": null,
   "metadata": {},
   "outputs": [],
   "source": [
    "sql_text = f\"\"\"\n",
    " UPDATE {schema}.blueground_df_main\n",
    "\tSET available_today = CASE \n",
    "      \t\t\t\t\t\tWHEN available_from = '{tomorrow}'   THEN 'available'\n",
    "      \t\t\t\t\t\tELSE 'occupied'\n",
    "\t\t\t\t\t\t  END;\n",
    " \"\"\" \n",
    "# Take the SQL-Command and execute it\n",
    "result = engine.execute(sql_text)"
   ]
  },
  {
   "cell_type": "code",
   "execution_count": null,
   "metadata": {},
   "outputs": [],
   "source": [
    " # Part 5 -  We now have to update the Types of the Detail\n",
    " # currently, we have \"String\" in this cells\n",
    " # https://www.postgresqltutorial.com/postgresql-tutorial/postgresql-update/\n",
    "sql_text = f\"\"\"\n",
    " ALTER TABLE {schema}.blueground_df_details\n",
    " ALTER COLUMN  blueground_id_details \tTYPE integer USING blueground_id_details::integer,\n",
    " ALTER COLUMN  lotsize\t\t\tTYPE varchar,\n",
    " ALTER COLUMN  size_ft\t\t\tTYPE float USING (trim(size_ft)::float),\n",
    " ALTER COLUMN  caption\t\t\tTYPE varchar;\n",
    " \"\"\" \n",
    "# Take the SQL-Command and execute it\n",
    "result = engine.execute(sql_text)"
   ]
  },
  {
   "cell_type": "markdown",
   "metadata": {},
   "source": [
    "-------"
   ]
  },
  {
   "cell_type": "markdown",
   "metadata": {},
   "source": [
    "# Combinded Data\n",
    "Now we have to combined the Table of the Main Data and the Detail-Data.    \n",
    "We also executed some SQL-Functions for cleaning and preparation."
   ]
  },
  {
   "cell_type": "code",
   "execution_count": null,
   "metadata": {},
   "outputs": [],
   "source": [
    " # Part 6 -  We now create a new table from the Main and Detail-Tables\n",
    " # https://stackoverflow.com/questions/14065408/how-do-i-merge-two-tables-in-postgresql\n",
    "\n",
    "sql_text = f\"\"\"\n",
    "CREATE TABLE {schema}.blueground_main_details AS\n",
    "SELECT *\n",
    "FROM {schema}.blueground_df_main\n",
    "LEFT JOIN  {schema}.blueground_df_details\n",
    "\t   ON blueground_df_main.platform_id  = blueground_df_details.blueground_id_details ;\n",
    "        \"\"\" \n",
    "# Take the SQL-Command and execute it\n",
    "result = engine.execute(sql_text)"
   ]
  },
  {
   "cell_type": "markdown",
   "metadata": {},
   "source": [
    "## Previewing Data"
   ]
  },
  {
   "cell_type": "code",
   "execution_count": null,
   "metadata": {},
   "outputs": [],
   "source": [
    "# Schema / Database configure:\n",
    "schema = 'capstone_jmrs'\n",
    "\n",
    "# Table name:\n",
    "table_name = 'blueground_main_details'"
   ]
  },
  {
   "cell_type": "code",
   "execution_count": null,
   "metadata": {},
   "outputs": [],
   "source": [
    "# Select the combined Data form DBeaver Database\n",
    "\n",
    "sql = f\"\"\"\n",
    "\n",
    "SELECT *\n",
    "FROM {schema}.{table_name} as blueground_main_details\n",
    "\n",
    "\n",
    "\"\"\" \n",
    "# Take the SQL-Command and import all Data from Air_Quality, from August 2021 \n",
    "# to the variable aq_august\n",
    "bgf = get_dataframe(sql) \n",
    "bgf_saved = bgf.copy()\n",
    "display(bgf.head(3))"
   ]
  },
  {
   "cell_type": "markdown",
   "metadata": {},
   "source": [
    "## Previewing Data"
   ]
  },
  {
   "cell_type": "code",
   "execution_count": null,
   "metadata": {},
   "outputs": [],
   "source": [
    "df = bgf\n",
    "\n",
    "# Displays the top 5 rows. Accepts an optional int parameter - num. of rows to show\n",
    "df.head(2)"
   ]
  },
  {
   "cell_type": "code",
   "execution_count": null,
   "metadata": {},
   "outputs": [],
   "source": [
    "# Similar to head, but displays the last rows\n",
    "df.tail(2)"
   ]
  },
  {
   "cell_type": "code",
   "execution_count": null,
   "metadata": {},
   "outputs": [],
   "source": [
    "# The dimensions of the dataframe as a (rows, cols) tuple\n",
    "df.shape"
   ]
  },
  {
   "cell_type": "code",
   "execution_count": null,
   "metadata": {},
   "outputs": [],
   "source": [
    "# Columns and their types\n",
    "df.dtypes"
   ]
  },
  {
   "cell_type": "code",
   "execution_count": null,
   "metadata": {},
   "outputs": [],
   "source": [
    "# Displays descriptive stats for all columns\n",
    "df.describe()"
   ]
  },
  {
   "cell_type": "markdown",
   "metadata": {},
   "source": [
    "--------"
   ]
  },
  {
   "cell_type": "markdown",
   "metadata": {},
   "source": [
    "# After we have done some EDA, we need to manipulate the Data to create addional coloums"
   ]
  },
  {
   "cell_type": "markdown",
   "metadata": {},
   "source": [
    "## Calculate the \"Square Feet\" to \"Square Meters\"\n",
    "formula: m² = ft² / 10.764"
   ]
  },
  {
   "cell_type": "markdown",
   "metadata": {},
   "source": [
    "#### What Is Price Per Square Meter?\n",
    "\n",
    "##### Dividing Total Cost by Total Area to Calculate Price Per Square Meter\n",
    "The following table has Total Area in m2, Total Price, and Price/m2 columns. We will calculate price per square meter by `dividing` the `Total Price` by `Total Area in m2`."
   ]
  },
  {
   "cell_type": "code",
   "execution_count": null,
   "metadata": {},
   "outputs": [],
   "source": [
    "df.eval('size_sqm = size_ft / 10.764', inplace=True)\n",
    "df.size_sqm = round(df.size_sqm, 2)\n",
    "\n",
    "display(df.head(3))"
   ]
  },
  {
   "cell_type": "markdown",
   "metadata": {},
   "source": [
    "## Calculate the Price per SQM"
   ]
  },
  {
   "cell_type": "code",
   "execution_count": null,
   "metadata": {},
   "outputs": [],
   "source": [
    "##Zwei Spalten dividieren und Nullwerte ignorieren:\n",
    "def my_func(x):\n",
    "    try:\n",
    "        return int(x['price_pcm']) / int(x['size_sqm'])\n",
    "    except (ZeroDivisionError, ValueError):\n",
    "        return int(x['price_pcm']) / 1\n",
    "\n",
    "df[\"price_sqm\"] = df.apply(my_func, axis=1)"
   ]
  },
  {
   "cell_type": "code",
   "execution_count": null,
   "metadata": {},
   "outputs": [],
   "source": [
    "df.price_sqm = round(df.price_sqm, 2)\n",
    "display(df.head(3))"
   ]
  },
  {
   "cell_type": "markdown",
   "metadata": {},
   "source": [
    "## Calculate the Price per Bedroom"
   ]
  },
  {
   "cell_type": "code",
   "execution_count": null,
   "metadata": {},
   "outputs": [],
   "source": [
    "##Zwei Spalten dividieren und Nullwerte ignorieren:\n",
    "def calc_bedroom(x):\n",
    "    try:\n",
    "        return int(x['price_pcm']) / int(x['bedrooms'])\n",
    "    except (ZeroDivisionError, ValueError):\n",
    "        return int(x['price_pcm']) / 1\n",
    "\n",
    "df[\"price_bedroom\"] = df.apply(calc_bedroom, axis=1)"
   ]
  },
  {
   "cell_type": "code",
   "execution_count": null,
   "metadata": {},
   "outputs": [],
   "source": [
    "df.price_bedroom = round(df.price_bedroom, 2)\n",
    "display(df.head(3))"
   ]
  },
  {
   "cell_type": "markdown",
   "metadata": {},
   "source": [
    "---------"
   ]
  },
  {
   "cell_type": "markdown",
   "metadata": {},
   "source": [
    "# EDA after some manipulation"
   ]
  },
  {
   "cell_type": "code",
   "execution_count": null,
   "metadata": {},
   "outputs": [],
   "source": [
    "# Displays the top rows. Accepts an optional int parameter - num. of rows to show\n",
    "df.head(2)"
   ]
  },
  {
   "cell_type": "code",
   "execution_count": null,
   "metadata": {},
   "outputs": [],
   "source": [
    "# Similar to head, but displays the last rows\n",
    "df.tail(2)"
   ]
  },
  {
   "cell_type": "code",
   "execution_count": null,
   "metadata": {},
   "outputs": [],
   "source": [
    "# The dimensions of the dataframe as a (rows, cols) tuple\n",
    "df.shape"
   ]
  },
  {
   "cell_type": "code",
   "execution_count": null,
   "metadata": {},
   "outputs": [],
   "source": [
    "# Columns and their types\n",
    "df.dtypes"
   ]
  },
  {
   "cell_type": "code",
   "execution_count": null,
   "metadata": {},
   "outputs": [],
   "source": [
    "# Displays descriptive stats for all columns\n",
    "df.describe()"
   ]
  },
  {
   "cell_type": "markdown",
   "metadata": {},
   "source": [
    "--------"
   ]
  },
  {
   "cell_type": "markdown",
   "metadata": {},
   "source": [
    "# Plotting"
   ]
  },
  {
   "cell_type": "code",
   "execution_count": null,
   "metadata": {},
   "outputs": [],
   "source": [
    "plot_df = df"
   ]
  },
  {
   "cell_type": "code",
   "execution_count": null,
   "metadata": {},
   "outputs": [],
   "source": [
    "plot_df.plot(figsize=(12,6));\n"
   ]
  },
  {
   "cell_type": "code",
   "execution_count": null,
   "metadata": {},
   "outputs": [],
   "source": [
    "sns.set(rc = {'figure.figsize':(15,8)})\n",
    "sns.lineplot(data=plot_df,  palette='Set2', linewidth=2.5, legend='auto');\n"
   ]
  },
  {
   "cell_type": "code",
   "execution_count": null,
   "metadata": {},
   "outputs": [],
   "source": [
    "sns.set(rc = {'figure.figsize':(15,8)})\n",
    "sns.lineplot(data=plot_df.price_sqm,  palette='Set2', linewidth=2.5, legend='auto', color='red', label='price_sqm');\n"
   ]
  },
  {
   "cell_type": "code",
   "execution_count": null,
   "metadata": {},
   "outputs": [],
   "source": [
    "plot_df.plot(figsize=(12,6), subplots=True, layout=(3,3), sharex=False, sharey=False, legend=True, fontsize=8, title='Blueground Properties in London', linestyle='solid', linewidth=1, grid=True);"
   ]
  },
  {
   "cell_type": "code",
   "execution_count": null,
   "metadata": {},
   "outputs": [],
   "source": [
    "# Create the default pairplot\n",
    "sns.pairplot(plot_df);"
   ]
  },
  {
   "cell_type": "code",
   "execution_count": null,
   "metadata": {},
   "outputs": [],
   "source": [
    "plot_df.plot(kind='hist', bins=50, figsize=(12,6), alpha=0.5, density=True, subplots=True, layout=(3,3), sharex=False, sharey=False, legend=True, title='Histograms',  fontsize=10, rot=0);"
   ]
  },
  {
   "cell_type": "code",
   "execution_count": null,
   "metadata": {},
   "outputs": [],
   "source": [
    "# Use kind='hbar' for horizontal bars, and stacked=True to stack the groups\n",
    "plot_df.plot(kind='bar', stacked=True, figsize=(12, 6),   fontsize=10, rot=0, colormap='viridis',   sharex=False, sharey=False, legend=True,);\n"
   ]
  },
  {
   "cell_type": "code",
   "execution_count": null,
   "metadata": {},
   "outputs": [],
   "source": [
    "# Boxplots are displayed with the kind=’box’ options. Each box represents a numeric column.\n",
    "\n",
    "# without outliners\n",
    "plot_df.plot(kind='box', figsize=(10, 5), rot=45, fontsize=10, grid=True, title='Boxplot', color='red', vert=False, patch_artist=True, showfliers=False);"
   ]
  },
  {
   "cell_type": "code",
   "execution_count": null,
   "metadata": {},
   "outputs": [],
   "source": [
    "# Boxplots are displayed with the kind=’box’ options. Each box represents a numeric column.\n",
    "\n",
    "# with outliners\n",
    "plot_df.plot(kind='box', figsize=(10, 5), rot=45, fontsize=10, grid=True, title='Boxplot', color='red', vert=False, patch_artist=True, showfliers=True);"
   ]
  },
  {
   "cell_type": "code",
   "execution_count": null,
   "metadata": {},
   "outputs": [],
   "source": [
    "# Boxplots are displayed with the kind=’box’ options. Each box represents a numeric column.\n",
    "\n",
    "# with outliners\n",
    "plot_df.plot(kind='box', figsize=(10, 5), rot=45, fontsize=10, grid=True, title='Boxplot', color='red', vert=True, patch_artist=True, showfliers=True, subplots=False, sharex=False, sharey=False);"
   ]
  },
  {
   "cell_type": "code",
   "execution_count": null,
   "metadata": {},
   "outputs": [],
   "source": [
    "# Boxplots are displayed with the kind=’box’ options. Each box represents a numeric column.\n",
    "\n",
    "# with outliners\n",
    "plot_df.plot(kind='box', figsize=(12, 6), rot=0, fontsize=8, grid=True, title='Boxplot', color='red', vert=True, patch_artist=True, showfliers=True, subplots=True, layout=(3, 3), legend=True);"
   ]
  },
  {
   "cell_type": "code",
   "execution_count": null,
   "metadata": {},
   "outputs": [],
   "source": [
    "sns.set(rc = {'figure.figsize':(15,8)})\n",
    "sns.catplot( kind=\"box\", data=plot_df, height=5, aspect=2, orient='h', palette='Set2');"
   ]
  },
  {
   "cell_type": "code",
   "execution_count": null,
   "metadata": {},
   "outputs": [],
   "source": [
    "sns.heatmap(plot_df.corr(), annot=True, cmap='coolwarm', linewidths=1, linecolor='black');"
   ]
  },
  {
   "cell_type": "code",
   "execution_count": null,
   "metadata": {},
   "outputs": [],
   "source": [
    "plot_df.plot(kind='kde', figsize=(12, 6), fontsize=10, grid=True, title='KDE', color='red', subplots=True, layout=(3, 3), legend=True);"
   ]
  },
  {
   "cell_type": "code",
   "execution_count": null,
   "metadata": {},
   "outputs": [],
   "source": [
    "# set a grey background (use sns.set_theme() if seaborn version 0.11.0 or above) \n",
    "sns.set(style=\"darkgrid\")\n",
    " \n",
    "# plotting both distibutions on the same figure\n",
    "fig = sns.kdeplot(plot_df['price_pcm'], shade=True, color=\"r\", label='price', alpha=0.5, linewidth=2.5, linestyle='solid')\n",
    "fig = sns.kdeplot(plot_df['price_bedroom'], shade=True, color=\"b\", label='price_bedroom', alpha=0.5, linewidth=2.5, linestyle='solid')\n",
    "fig = sns.kdeplot(plot_df['price_sqm'], shade=True, color=\"g\", label='price_sqm', alpha=0.5, linewidth=2.5, linestyle='solid')\n",
    "fig.legend(labels=['price','price bedroom', 'price_sqm'], loc='upper right', fontsize=10)\n",
    "plt.show()"
   ]
  },
  {
   "cell_type": "code",
   "execution_count": null,
   "metadata": {},
   "outputs": [],
   "source": [
    "# set a grey background (use sns.set_theme() if seaborn version 0.11.0 or above) \n",
    "sns.set(style=\"darkgrid\")\n",
    "\n",
    " \n",
    "# plotting both distibutions on the same figure\n",
    "fig = sns.kdeplot(plot_df['price_pcm'], shade=True, color=\"r\", label='price', alpha=0.5, linewidth=2.5, linestyle='solid')\n",
    "fig = sns.kdeplot(plot_df['price_bedroom'], shade=True, color=\"b\", label='price_bedroom', alpha=0.5, linewidth=2.5, linestyle='solid')\n",
    "fig.legend(labels=['price','price bedroom'], loc='upper right', fontsize=10)\n",
    "plt.show()"
   ]
  },
  {
   "cell_type": "code",
   "execution_count": null,
   "metadata": {},
   "outputs": [],
   "source": [
    "# set a grey background (use sns.set_theme() if seaborn version 0.11.0 or above) \n",
    "sns.set(style=\"darkgrid\")\n",
    " \n",
    "# plotting both distibutions on the same figure\n",
    "fig = sns.kdeplot(plot_df['price_sqm'], shade=True, color=\"g\", label='price_sqm', alpha=0.5, linewidth=2.5, linestyle='solid', legend=True)\n",
    "fig.legend(labels=[ 'price_sqm'], loc='upper right', fontsize=10)\n",
    "plt.show()"
   ]
  },
  {
   "cell_type": "markdown",
   "metadata": {},
   "source": [
    "--------"
   ]
  },
  {
   "cell_type": "markdown",
   "metadata": {},
   "source": [
    "# We check for some problems, which we saw in the plots"
   ]
  },
  {
   "cell_type": "code",
   "execution_count": null,
   "metadata": {},
   "outputs": [],
   "source": [
    "df.sort_values(by=['price_sqm'], ascending=False).head(5)"
   ]
  },
  {
   "cell_type": "code",
   "execution_count": null,
   "metadata": {},
   "outputs": [],
   "source": [
    "# Look for id 121, because the something is wrong with the data\n",
    "df[df.caption == \"Floor\"]"
   ]
  },
  {
   "cell_type": "markdown",
   "metadata": {},
   "source": [
    "### we can see, that we have a problem with the calculaton of \"Floor\" and the \"price_sqm\""
   ]
  },
  {
   "cell_type": "code",
   "execution_count": null,
   "metadata": {},
   "outputs": [],
   "source": [
    "# we look at the shape of the dataframe, so we can see the number of rows and columns\n",
    "df.shape"
   ]
  },
  {
   "cell_type": "markdown",
   "metadata": {},
   "source": [
    "# We try to delete the rows with \"Floor\"\n",
    "https://www.shanelynn.ie/pandas-drop-delete-dataframe-rows-columns/"
   ]
  },
  {
   "cell_type": "code",
   "execution_count": null,
   "metadata": {},
   "outputs": [],
   "source": [
    "# we have to drop the row with the caption \"Floor\"\n",
    "# we check how many rows we have before dropping\n",
    "df.loc[(df.caption == \"Floor\")]"
   ]
  },
  {
   "cell_type": "code",
   "execution_count": null,
   "metadata": {},
   "outputs": [],
   "source": [
    "# https://www.shanelynn.ie/pandas-drop-delete-dataframe-rows-columns/\n",
    "# we drop the rows with the caption \"Floor\"\n",
    "df = df.loc[(df.caption != \"Floor\")]"
   ]
  },
  {
   "cell_type": "code",
   "execution_count": null,
   "metadata": {},
   "outputs": [],
   "source": [
    "# we check the rows after dropping\n",
    "df.loc[(df.caption == \"Floor\")]"
   ]
  },
  {
   "cell_type": "code",
   "execution_count": null,
   "metadata": {},
   "outputs": [],
   "source": [
    "# we check the shape of the dataframe, so we can see the number of rows and columns\n",
    "df.shape"
   ]
  },
  {
   "cell_type": "code",
   "execution_count": null,
   "metadata": {},
   "outputs": [],
   "source": [
    "# we load the data again into our plot_df dataframe\n",
    "plot_df_after_drop = df"
   ]
  },
  {
   "cell_type": "code",
   "execution_count": null,
   "metadata": {},
   "outputs": [],
   "source": [
    "# Boxplots are displayed with the kind=’box’ options. Each box represents a numeric column.\n",
    "\n",
    "# with outliners, which we just dropped\n",
    "plot_df_after_drop.plot(kind='box', figsize=(10, 5), rot=45, fontsize=10, grid=True, title='Boxplot', color='red', vert=True, patch_artist=True, showfliers=True, subplots=False, sharex=False, sharey=False);"
   ]
  },
  {
   "cell_type": "markdown",
   "metadata": {},
   "source": [
    "-------"
   ]
  },
  {
   "cell_type": "markdown",
   "metadata": {},
   "source": [
    "# We now want to create a final Table, according to our structure"
   ]
  },
  {
   "cell_type": "code",
   "execution_count": null,
   "metadata": {},
   "outputs": [],
   "source": [
    "# Columns and their types\n",
    "df.dtypes"
   ]
  },
  {
   "cell_type": "markdown",
   "metadata": {},
   "source": [
    "---------"
   ]
  },
  {
   "cell_type": "markdown",
   "metadata": {},
   "source": [
    "# Give the clean data back to DBeaver to use it in Tableau"
   ]
  },
  {
   "cell_type": "code",
   "execution_count": null,
   "metadata": {},
   "outputs": [],
   "source": [
    "blueground_eda_cleaned = df"
   ]
  },
  {
   "cell_type": "code",
   "execution_count": null,
   "metadata": {},
   "outputs": [],
   "source": [
    "# call the schema created for this project\n",
    "schema = 'capstone_jmrs'\n",
    "\n",
    "# give the table a unique name\n",
    "table_name = 'blueground_eda_cleaned'\n",
    "\n",
    "# import the table to sql\n",
    "if engine != None:\n",
    "    try:\n",
    "        blueground_eda_cleaned.to_sql(name=table_name,\n",
    "                                   con=engine,\n",
    "                                   if_exists='replace',\n",
    "                                   schema=schema,\n",
    "                                   index=False,\n",
    "                                   chunksize=5000,\n",
    "                                   method='multi')\n",
    "        print(f\"The {table_name} table was imported successfully.\")\n",
    "\n",
    "    except (Exception, psycopg2.DatabaseError) as error:\n",
    "        print(error)\n",
    "        engine = None"
   ]
  },
  {
   "cell_type": "markdown",
   "metadata": {},
   "source": [
    "---------"
   ]
  },
  {
   "cell_type": "markdown",
   "metadata": {},
   "source": [
    "# Create a Database, according to the agreed Project-Structure"
   ]
  },
  {
   "cell_type": "code",
   "execution_count": null,
   "metadata": {},
   "outputs": [],
   "source": [
    " # Part  -  We now create a new table from the worked EDA data\n",
    " # https://stackoverflow.com/questions/14065408/how-do-i-merge-two-tables-in-postgresql\n",
    "\n",
    "sql_text = f\"\"\"\n",
    "CREATE TABLE {schema}.blueground_clean AS\n",
    "SELECT \n",
    "\tplatform_id AS platform_id, \n",
    "\tplatform AS platform,\n",
    "\tneighbourhood AS neighbourhood,\n",
    "\tfurniture AS furniture,\t\n",
    "\tproperty_type AS property_type,\n",
    "\tsize_sqm AS size_sqm,\n",
    "\tbedrooms AS bedrooms,\n",
    "\tbathroom AS bathrooms,\n",
    "\tprice_pcm AS price,\n",
    "\tprice_sqm AS price_sqm,\n",
    "\tprice_bedroom AS price_bedroom,\n",
    "\tavailable_from AS available_from,\n",
    "\tavailable_today AS available_today,\n",
    "\tlet_type AS let_type,\n",
    "\tdetailed_furniture AS detailed_furniture,\n",
    "\tscraping_date_main AS scraping_date\n",
    "FROM capstone_jmrs.blueground_eda_cleaned ;\n",
    "    \"\"\" \n",
    "# Take the SQL-Command and execute it\n",
    "result = engine.execute(sql_text)"
   ]
  },
  {
   "cell_type": "markdown",
   "metadata": {},
   "source": [
    "# Change Column-Type to the final structure"
   ]
  },
  {
   "cell_type": "code",
   "execution_count": null,
   "metadata": {},
   "outputs": [],
   "source": [
    "# Change Column-Type to final structure:\n",
    "\n",
    "sql_text = f\"\"\"\n",
    " ALTER TABLE {schema}.blueground_clean\n",
    " ALTER COLUMN   platform_id\tTYPE TEXT ,\n",
    "  ALTER COLUMN   platform\t  TYPE TEXT ,\n",
    "   ALTER COLUMN   neighbourhood \tTYPE TEXT ,\n",
    "    ALTER COLUMN   property_type\tTYPE TEXT ,\n",
    "      ALTER COLUMN   furniture\tTYPE TEXT ,\n",
    "        ALTER COLUMN detailed_furniture TYPE TEXT ,\n",
    "         ALTER COLUMN   let_type\tTYPE TEXT ,\n",
    "          ALTER COLUMN  available_today \tTYPE TEXT ,\n",
    "\t\t ALTER COLUMN  \tbathrooms\t\t  TYPE  float USING bathrooms::float,\n",
    "\t\t  ALTER COLUMN  \tbedrooms\t\tTYPE  float USING bedrooms::float,\n",
    "\t\t   ALTER COLUMN  \tsize_sqm\t\tTYPE  float USING size_sqm::float,\n",
    "\t\t    ALTER COLUMN  \tprice\t    TYPE  float USING price::float,\n",
    "\t\t     ALTER COLUMN  \tprice_sqm\tTYPE  float USING price_sqm::float,\n",
    "\t\t      ALTER COLUMN  \tprice_bedroom\t\tTYPE  float USING price_bedroom::float ;\n",
    "\n",
    "        \"\"\" \n",
    "# Take the SQL-Command and execute it\n",
    "result = engine.execute(sql_text)"
   ]
  },
  {
   "cell_type": "code",
   "execution_count": null,
   "metadata": {},
   "outputs": [],
   "source": [
    "sql_text = f\"\"\"\n",
    "UPDATE {schema}.blueground_clean\n",
    "SET let_type = NULL \n",
    "WHERE let_type = '';\n",
    "\"\"\"\n",
    "result = engine.execute(sql_text)"
   ]
  },
  {
   "cell_type": "markdown",
   "metadata": {},
   "source": [
    "-----"
   ]
  },
  {
   "cell_type": "markdown",
   "metadata": {},
   "source": [
    "# Save the final Table after every EDA"
   ]
  },
  {
   "cell_type": "code",
   "execution_count": null,
   "metadata": {},
   "outputs": [],
   "source": [
    "# Schema / Database configure:\n",
    "schema = 'capstone_jmrs'\n",
    "\n",
    "# Table name:\n",
    "table_name = 'blueground_clean'"
   ]
  },
  {
   "cell_type": "code",
   "execution_count": null,
   "metadata": {},
   "outputs": [],
   "source": [
    "# Select the combined Data form DBeaver Database\n",
    "\n",
    "sql = f\"\"\"\n",
    "SELECT *\n",
    "FROM {schema}.{table_name} as blueground_clean\n",
    "\"\"\" \n",
    "# to the variable aq_august\n",
    "last_save = get_dataframe(sql) "
   ]
  },
  {
   "cell_type": "code",
   "execution_count": null,
   "metadata": {},
   "outputs": [],
   "source": [
    "# ----------------- save the dataframes in a .csv file -----------------\n",
    "today = dt.datetime.today().strftime('%Y-%m-%d-%H-%M')\n",
    "last_save.to_csv('data/blueground_clean_{}.csv'.format(today), sep='\\t')\n",
    "print(\"we have saved the new dataframes in a .csv file\")"
   ]
  },
  {
   "cell_type": "markdown",
   "metadata": {},
   "source": [
    "------"
   ]
  },
  {
   "cell_type": "markdown",
   "metadata": {},
   "source": [
    "# Now we want to see some plots with the cleaned data\n",
    "> this data will be used to merge all Tables to a new table with information from all other project members"
   ]
  },
  {
   "cell_type": "code",
   "execution_count": null,
   "metadata": {},
   "outputs": [],
   "source": [
    "# Schema / Database configure:\n",
    "schema = 'capstone_jmrs'\n",
    "\n",
    "# Table name:\n",
    "table_name = 'blueground_clean'\n"
   ]
  },
  {
   "cell_type": "code",
   "execution_count": null,
   "metadata": {},
   "outputs": [],
   "source": [
    "# Select the combined Data form DBeaver Database\n",
    "\n",
    "sql = f\"\"\"\n",
    "SELECT *\n",
    "FROM {schema}.{table_name} as blueground_clean\n",
    "\"\"\" \n",
    "# Take the SQL-Command and import all Data into the variable df\n",
    "blueground_clean = get_dataframe(sql) \n",
    "blueground_clean = blueground_clean.copy()\n",
    "display(blueground_clean.head(3))"
   ]
  },
  {
   "cell_type": "code",
   "execution_count": null,
   "metadata": {},
   "outputs": [],
   "source": [
    "plot_blueground_clean = blueground_clean"
   ]
  },
  {
   "cell_type": "code",
   "execution_count": null,
   "metadata": {},
   "outputs": [],
   "source": [
    "plot_blueground_clean.plot(figsize=(12,6));"
   ]
  },
  {
   "cell_type": "code",
   "execution_count": null,
   "metadata": {},
   "outputs": [],
   "source": [
    "sns.set(rc = {'figure.figsize':(15,8)})\n",
    "sns.lineplot(data=plot_blueground_clean,  palette='Set2', linewidth=2.5, legend='auto');\n"
   ]
  },
  {
   "cell_type": "code",
   "execution_count": null,
   "metadata": {},
   "outputs": [],
   "source": [
    "sns.set(rc = {'figure.figsize':(15,8)})\n",
    "sns.lineplot(data=plot_blueground_clean.price,  palette='Set2', linewidth=2.5, legend='auto', color='red', label='price');\n"
   ]
  },
  {
   "cell_type": "code",
   "execution_count": null,
   "metadata": {},
   "outputs": [],
   "source": [
    "sns.set(rc = {'figure.figsize':(15,8)})\n",
    "sns.lineplot(data=plot_blueground_clean.price_bedroom,  palette='Set2', linewidth=2.5, legend='auto', color='red', label='price_bedroom');\n"
   ]
  },
  {
   "cell_type": "code",
   "execution_count": null,
   "metadata": {},
   "outputs": [],
   "source": [
    "sns.set(rc = {'figure.figsize':(15,8)})\n",
    "sns.lineplot(data=plot_blueground_clean.price_sqm,  palette='Set2', linewidth=2.5, legend='auto', color='red', label='price_sqm');\n"
   ]
  },
  {
   "cell_type": "code",
   "execution_count": null,
   "metadata": {},
   "outputs": [],
   "source": [
    "# Create the default pairplot\n",
    "sns.pairplot(plot_blueground_clean);"
   ]
  },
  {
   "cell_type": "code",
   "execution_count": null,
   "metadata": {},
   "outputs": [],
   "source": [
    "plot_blueground_clean.plot(figsize=(12,6), subplots=True, layout=(3,3), sharex=False, sharey=False, legend=True, fontsize=8, title=' Properties in London', linestyle='solid', linewidth=1, grid=True);"
   ]
  },
  {
   "cell_type": "code",
   "execution_count": null,
   "metadata": {},
   "outputs": [],
   "source": [
    "# Boxplots are displayed with the kind=’box’ options. Each box represents a numeric column.\n",
    "\n",
    "# without outliners\n",
    "plot_blueground_clean.plot(kind='box', figsize=(10, 5), rot=45, fontsize=10, grid=True, title='Boxplot without outliners', color='red', vert=False, patch_artist=True, showfliers=False);"
   ]
  },
  {
   "cell_type": "code",
   "execution_count": null,
   "metadata": {},
   "outputs": [],
   "source": [
    "# Boxplots are displayed with the kind=’box’ options. Each box represents a numeric column.\n",
    "\n",
    "# with outliners\n",
    "plot_blueground_clean.plot(kind='box', figsize=(10, 5), rot=45, fontsize=10, grid=True, title='Boxplot with outliners', color='red', vert=False, patch_artist=True, showfliers=True);"
   ]
  },
  {
   "cell_type": "code",
   "execution_count": null,
   "metadata": {},
   "outputs": [],
   "source": [
    "# Boxplots are displayed with the kind=’box’ options. Each box represents a numeric column.\n",
    "\n",
    "# with outliners\n",
    "plot_blueground_clean.plot(kind='box', figsize=(10, 5), rot=45, fontsize=10, grid=True, title='Boxplot', color='red', vert=True, patch_artist=True, showfliers=False, subplots=False, sharex=False, sharey=False);"
   ]
  },
  {
   "cell_type": "code",
   "execution_count": null,
   "metadata": {},
   "outputs": [],
   "source": [
    "# Boxplots are displayed with the kind=’box’ options. Each box represents a numeric column.\n",
    "\n",
    "# with outliners\n",
    "plot_blueground_clean.plot(kind='box', figsize=(10, 5), rot=45, fontsize=10, grid=True, title='Boxplot', color='red', vert=True, patch_artist=True, showfliers=True, subplots=False, sharex=False, sharey=False);"
   ]
  },
  {
   "cell_type": "code",
   "execution_count": null,
   "metadata": {},
   "outputs": [],
   "source": [
    "# Boxplots are displayed with the kind=’box’ options. Each box represents a numeric column.\n",
    "\n",
    "# without outliners\n",
    "plot_blueground_clean.plot(kind='box', figsize=(18, 9), rot=0, fontsize=8, grid=True, title='Boxplot without outliners', color='red', vert=True, patch_artist=True, showfliers=False, subplots=True, layout=(3, 3), legend=True);"
   ]
  },
  {
   "cell_type": "code",
   "execution_count": null,
   "metadata": {},
   "outputs": [],
   "source": [
    "# Boxplots are displayed with the kind=’box’ options. Each box represents a numeric column.\n",
    "\n",
    "# with outliners\n",
    "plot_blueground_clean.plot(kind='box', figsize=(18, 9), rot=0, fontsize=8, grid=True, title='Boxplot', color='red', vert=True, patch_artist=True, showfliers=True, subplots=True, layout=(3, 3), legend=True);"
   ]
  },
  {
   "cell_type": "code",
   "execution_count": null,
   "metadata": {},
   "outputs": [],
   "source": [
    "plot_blueground_clean.price.plot(kind='box', figsize=(10, 5), rot=45, fontsize=10, grid=True, title='Price without Fliers', color='red', vert=True, patch_artist=True, showfliers=False, subplots=False, sharex=False, sharey=False);"
   ]
  },
  {
   "cell_type": "code",
   "execution_count": null,
   "metadata": {},
   "outputs": [],
   "source": [
    "plot_blueground_clean.price.plot(kind='box', figsize=(10, 5), rot=45, fontsize=10, grid=True, title='Price with Fliers', color='red', vert=True, patch_artist=True, showfliers=True, subplots=False, sharex=False, sharey=False);"
   ]
  },
  {
   "cell_type": "code",
   "execution_count": null,
   "metadata": {},
   "outputs": [],
   "source": [
    "plot_blueground_clean.plot(kind='kde', figsize=(12, 6), fontsize=10, grid=True, title='KDE', color='red', subplots=True, layout=(3, 3), legend=True);"
   ]
  },
  {
   "cell_type": "code",
   "execution_count": null,
   "metadata": {},
   "outputs": [],
   "source": [
    "# set a grey background (use sns.set_theme() if seaborn version 0.11.0 or above) \n",
    "sns.set(style=\"darkgrid\")\n",
    " \n",
    "# plotting both distibutions on the same figure\n",
    "fig = sns.kdeplot(plot_blueground_clean['price'], shade=True, color=\"r\", label='price', alpha=0.5, linewidth=2.5, linestyle='solid')\n",
    "fig = sns.kdeplot(plot_blueground_clean['price_bedroom'], shade=True, color=\"b\", label='price_bedroom', alpha=0.5, linewidth=2.5, linestyle='solid')\n",
    "fig.legend(labels=['price','price bedroom'])\n",
    "plt.show()"
   ]
  },
  {
   "cell_type": "markdown",
   "metadata": {},
   "source": [
    "# Matplotlib boxplots with custom percentiles"
   ]
  },
  {
   "cell_type": "markdown",
   "metadata": {},
   "source": [
    "https://jwalton.info/Matplotlib-custom-boxplots/"
   ]
  },
  {
   "cell_type": "markdown",
   "metadata": {},
   "source": [
    "https://www.codegrepper.com/code-examples/python/how+to+find+the+75th+percentile+in+pandas"
   ]
  },
  {
   "cell_type": "code",
   "execution_count": null,
   "metadata": {},
   "outputs": [],
   "source": [
    "# Function adapted from matplotlib.cbook\n",
    "def my_boxplot_stats(X, whis=1.5, bootstrap=None, labels=None,\n",
    "                  autorange=False, percents=[25, 75]):\n",
    "\n",
    "    def _bootstrap_median(data, N=5000):\n",
    "        # determine 95% confidence intervals of the median\n",
    "        M = len(data)\n",
    "        percentiles = [2.5, 97.5]\n",
    "\n",
    "        bs_index = np.random.randint(M, size=(N, M))\n",
    "        bsData = data[bs_index]\n",
    "        estimate = np.median(bsData, axis=1, overwrite_input=True)\n",
    "\n",
    "        CI = np.percentile(estimate, percentiles)\n",
    "        return CI\n",
    "\n",
    "    def _compute_conf_interval(data, med, iqr, bootstrap):\n",
    "        if bootstrap is not None:\n",
    "            # Do a bootstrap estimate of notch locations.\n",
    "            # get conf. intervals around median\n",
    "            CI = _bootstrap_median(data, N=bootstrap)\n",
    "            notch_min = CI[0]\n",
    "            notch_max = CI[1]\n",
    "        else:\n",
    "\n",
    "            N = len(data)\n",
    "            notch_min = med - 1.57 * iqr / np.sqrt(N)\n",
    "            notch_max = med + 1.57 * iqr / np.sqrt(N)\n",
    "\n",
    "        return notch_min, notch_max\n",
    "\n",
    "    # output is a list of dicts\n",
    "    bxpstats = []\n",
    "\n",
    "    # convert X to a list of lists\n",
    "    X = _reshape_2D(X, \"X\")\n",
    "\n",
    "    ncols = len(X)\n",
    "    if labels is None:\n",
    "        labels = itertools.repeat(None)\n",
    "    elif len(labels) != ncols:\n",
    "        raise ValueError(\"Dimensions of labels and X must be compatible\")\n",
    "\n",
    "    input_whis = whis\n",
    "    for ii, (x, label) in enumerate(zip(X, labels)):\n",
    "\n",
    "        # empty dict\n",
    "        stats = {}\n",
    "        if label is not None:\n",
    "            stats['label'] = label\n",
    "\n",
    "        # restore whis to the input values in case it got changed in the loop\n",
    "        whis = input_whis\n",
    "\n",
    "        # note tricksyness, append up here and then mutate below\n",
    "        bxpstats.append(stats)\n",
    "\n",
    "        # if empty, bail\n",
    "        if len(x) == 0:\n",
    "            stats['fliers'] = np.array([])\n",
    "            stats['mean'] = np.nan\n",
    "            stats['med'] = np.nan\n",
    "            stats['q1'] = np.nan\n",
    "            stats['q3'] = np.nan\n",
    "            stats['cilo'] = np.nan\n",
    "            stats['cihi'] = np.nan\n",
    "            stats['whislo'] = np.nan\n",
    "            stats['whishi'] = np.nan\n",
    "            stats['med'] = np.nan\n",
    "            continue\n",
    "\n",
    "        # up-convert to an array, just to be safe\n",
    "        x = np.asarray(x)\n",
    "\n",
    "        # arithmetic mean\n",
    "        stats['mean'] = np.mean(x)\n",
    "\n",
    "        # median\n",
    "        med = np.percentile(x, 50)\n",
    "        ## Altered line\n",
    "        q1, q3 = np.percentile(x, (percents[0], percents[1]))\n",
    "\n",
    "        # interquartile range\n",
    "        stats['iqr'] = q3 - q1\n",
    "        if stats['iqr'] == 0 and autorange:\n",
    "            whis = 'range'\n",
    "\n",
    "        # conf. interval around median\n",
    "        stats['cilo'], stats['cihi'] = _compute_conf_interval(\n",
    "            x, med, stats['iqr'], bootstrap\n",
    "        )\n",
    "\n",
    "        # lowest/highest non-outliers\n",
    "        if np.isscalar(whis):\n",
    "            if np.isreal(whis):\n",
    "                loval = q1 - whis * stats['iqr']\n",
    "                hival = q3 + whis * stats['iqr']\n",
    "            elif whis in ['range', 'limit', 'limits', 'min/max']:\n",
    "                loval = np.min(x)\n",
    "                hival = np.max(x)\n",
    "            else:\n",
    "                raise ValueError('whis must be a float, valid string, or list '\n",
    "                                 'of percentiles')\n",
    "        else:\n",
    "            loval = np.percentile(x, whis[0])\n",
    "            hival = np.percentile(x, whis[1])\n",
    "\n",
    "        # get high extreme\n",
    "        wiskhi = np.compress(x <= hival, x)\n",
    "        if len(wiskhi) == 0 or np.max(wiskhi) < q3:\n",
    "            stats['whishi'] = q3\n",
    "        else:\n",
    "            stats['whishi'] = np.max(wiskhi)\n",
    "\n",
    "        # get low extreme\n",
    "        wisklo = np.compress(x >= loval, x)\n",
    "        if len(wisklo) == 0 or np.min(wisklo) > q1:\n",
    "            stats['whislo'] = q1\n",
    "        else:\n",
    "            stats['whislo'] = np.min(wisklo)\n",
    "\n",
    "        # compute a single array of outliers\n",
    "        stats['fliers'] = np.hstack([\n",
    "            np.compress(x < stats['whislo'], x),\n",
    "            np.compress(x > stats['whishi'], x)\n",
    "        ])\n",
    "\n",
    "        # add in the remaining stats\n",
    "        stats['q1'], stats['med'], stats['q3'] = q1, med, q3\n",
    "\n",
    "    return bxpstats"
   ]
  },
  {
   "cell_type": "code",
   "execution_count": null,
   "metadata": {},
   "outputs": [],
   "source": [
    "# Generate some random data to visualise\n",
    "data = plot_blueground_clean.price  #np.random.normal(size=100)\n",
    "\n",
    "stats = {}\n",
    "\n",
    "# Compute the boxplot stats with our desired percentiles\n",
    "stats['A'] = my_boxplot_stats(data, labels='A', percents=[1, 99])[0]\n",
    "stats['B'] = my_boxplot_stats(data, labels='B', percents=[10, 90])[0]\n",
    "stats['C'] = my_boxplot_stats(data, labels='C', percents=[25, 75])[0]\n",
    "stats['D'] = my_boxplot_stats(data, labels='C', percents=[50, 90])[0]\n",
    "\n",
    "fig, ax = plt.subplots(1, 1)\n",
    "# Plot boxplots from our computed statistics\n",
    "# bp = ax.bxp([stats['A'], stats['B'], stats['C']], positions=range(3), showfliers=False, patch_artist=True, widths=0.5, medianprops={'color': 'black'}\n",
    "#     , boxprops={'facecolor': 'white', 'edgecolor': 'black'}, whiskerprops={'color': 'black'}, capprops={'color': 'black'}, \n",
    "#     showmeans=True, meanprops={'marker': 'o', 'markerfacecolor': 'black', 'markeredgecolor': 'black'}\n",
    "# , meanline=True, showcaps=True, showbox=True,  vert=True)\n",
    "\n",
    "bp = ax.bxp([stats['A'], stats['B'], stats['C'],stats['D']], positions=range(4), \n",
    "    showfliers=False, \n",
    "    patch_artist=True, widths=0.5, \n",
    "    medianprops={'color': 'black'}, \n",
    "    boxprops={'facecolor': 'white', 'edgecolor': 'black'}, \n",
    "    whiskerprops={'color': 'black'}, capprops={'color': 'black'}, \n",
    "    showmeans=True, meanprops={'marker': 'o', 'markerfacecolor': 'black', 'markeredgecolor': 'black'}\n",
    "    \n",
    "    )\n",
    "\n",
    "# Colour the lines in the boxplot blue\n",
    "for element in bp.keys():\n",
    "    plt.setp(bp[element], color='C0')"
   ]
  },
  {
   "cell_type": "code",
   "execution_count": null,
   "metadata": {},
   "outputs": [],
   "source": [
    "# Generate some random data to visualise\n",
    "np.random.seed(2019)\n",
    "data = plot_blueground_clean.price  #np.random.normal(size=100)\n",
    "\n",
    "stats = {}\n",
    "\n",
    "# Compute the boxplot stats with our desired percentiles\n",
    "stats['A'] = my_boxplot_stats(data, labels='A', percents=[50, 90])[0]\n",
    "\n",
    "fig, ax = plt.subplots(1, 1)\n",
    "\n",
    "bp = ax.bxp([stats['A']], positions=range(1), \n",
    "    showfliers=False, \n",
    "    patch_artist=True, widths=0.5, \n",
    "    medianprops={'color': 'black'}, \n",
    "    boxprops={'facecolor': 'white', 'edgecolor': 'black'}, \n",
    "    whiskerprops={'color': 'black'}, capprops={'color': 'black'}, \n",
    "    showmeans=True, meanprops={'marker': 'o', 'markerfacecolor': 'black', 'markeredgecolor': 'black'}\n",
    "    \n",
    "    )\n",
    "\n",
    "# Colour the lines in the boxplot blue\n",
    "for element in bp.keys():\n",
    "    plt.setp(bp[element], color='C0')"
   ]
  }
 ],
 "metadata": {
  "kernelspec": {
   "display_name": "Python 3.9.13 ('nf_bs4')",
   "language": "python",
   "name": "python3"
  },
  "language_info": {
   "codemirror_mode": {
    "name": "ipython",
    "version": 3
   },
   "file_extension": ".py",
   "mimetype": "text/x-python",
   "name": "python",
   "nbconvert_exporter": "python",
   "pygments_lexer": "ipython3",
   "version": "3.9.13"
  },
  "orig_nbformat": 4,
  "vscode": {
   "interpreter": {
    "hash": "9af5746f41ef31dea01f09ffb6ba9bd116b901566dc69a02f72533c94f316243"
   }
  }
 },
 "nbformat": 4,
 "nbformat_minor": 2
}
