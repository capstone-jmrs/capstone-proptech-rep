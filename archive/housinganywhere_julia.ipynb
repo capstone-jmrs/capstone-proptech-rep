{
 "cells": [
  {
   "cell_type": "code",
   "execution_count": 1,
   "metadata": {},
   "outputs": [],
   "source": [
    "import time\n",
    "import requests\n",
    "from bs4 import BeautifulSoup\n",
    "import re\n",
    "import pandas as pd\n",
    "import datetime as dt\n",
    "import math\n",
    "import random"
   ]
  },
  {
   "cell_type": "markdown",
   "metadata": {},
   "source": [
    "https://housinganywhere.com/s/London--United-Kingdom?bedroomCount=1&bedroomCount=2&bedroomCount=3&bedroomCount=4%2B&categories=studio-for-rent&categories=apartment-for-rent"
   ]
  },
  {
   "cell_type": "markdown",
   "metadata": {},
   "source": [
    "## website housinganywhere\n",
    "\n",
    "- 100 search results for London without specific neighborhood so far\n",
    "- Studios and Apartments\n",
    "- 24 search results per page -> 5 pages\n",
    "- prices\n",
    "- property type / size in square meter / available from 'Date'\n"
   ]
  },
  {
   "cell_type": "code",
   "execution_count": 2,
   "metadata": {},
   "outputs": [],
   "source": [
    "page = requests.get(\"https://housinganywhere.com/s/London--United-Kingdom?bedroomCount=1&bedroomCount=2&bedroomCount=3&bedroomCount=4%2B&categories=studio-for-rent&categories=apartment-for-rent\")\n",
    "html = page.content\n",
    "bs = BeautifulSoup(html, 'html.parser')"
   ]
  },
  {
   "cell_type": "code",
   "execution_count": 3,
   "metadata": {},
   "outputs": [
    {
     "data": {
      "text/plain": [
       "['1363',\n",
       " '2800',\n",
       " '2800',\n",
       " '2800',\n",
       " '2800',\n",
       " '3166',\n",
       " '3200',\n",
       " '3200',\n",
       " '3200',\n",
       " '2902',\n",
       " '3342',\n",
       " '3500',\n",
       " '3500',\n",
       " '3500',\n",
       " '3500',\n",
       " '3300',\n",
       " '4000',\n",
       " '4000',\n",
       " '4000',\n",
       " '4000',\n",
       " '4104',\n",
       " '4440',\n",
       " '4440',\n",
       " '4440']"
      ]
     },
     "execution_count": 3,
     "metadata": {},
     "output_type": "execute_result"
    }
   ],
   "source": [
    "prices = bs.find_all(class_='MuiTypography-root makeStyles-priceLabel-228 makeStyles-h3-53 makeStyles-overflow-initial-40 makeStyles-color-default-43 makeStyles-fontWeight-bold-61 MuiTypography-h3 MuiTypography-displayBlock')\n",
    "prices_lst = (price.get_text() for price in prices)\n",
    "prices_lst = [price.strip() for price in prices_lst]\n",
    "prices_lst = [price.replace('GBP\\xa0', '') for price in prices_lst]\n",
    "prices_lst"
   ]
  },
  {
   "cell_type": "code",
   "execution_count": 4,
   "metadata": {},
   "outputs": [
    {
     "data": {
      "text/plain": [
       "['',\n",
       " '',\n",
       " 'Apartment•1 bedroom•109 m²',\n",
       " 'From 5 Oct 2022',\n",
       " 'Studio•20 m²•',\n",
       " 'From 30 Sep 2022',\n",
       " 'Studio•20 m²•',\n",
       " 'From 30 Sep 2022',\n",
       " 'Studio•20 m²•',\n",
       " 'From 30 Sep 2022',\n",
       " 'Studio•20 m²•',\n",
       " 'From 30 Sep 2022',\n",
       " 'Apartment•1 bedroom•35 m²',\n",
       " 'From 13 Oct 2022',\n",
       " 'Studio•20 m²•',\n",
       " 'From 30 Sep 2022',\n",
       " 'Studio•30 m²•',\n",
       " 'From 30 Sep 2022',\n",
       " 'Studio•20 m²•',\n",
       " 'From 30 Oct 2022',\n",
       " 'Apartment•2 Bedrooms •60 m²',\n",
       " 'From 1 Dec 2022',\n",
       " 'Apartment•1 bedroom•80 m²',\n",
       " 'From 28 Oct 2022',\n",
       " 'Apartment•1 bedroom•40 m²',\n",
       " 'From 30 Sep 2022',\n",
       " 'Apartment•1 bedroom•40 m²',\n",
       " 'From 30 Sep 2022',\n",
       " 'Apartment•1 bedroom•40 m²',\n",
       " 'From 5 Oct 2022',\n",
       " 'Apartment•1 bedroom•90 m²',\n",
       " 'From 10 Nov 2022',\n",
       " 'Apartment•2 Bedrooms •75 m²',\n",
       " 'From 3 Oct 2022',\n",
       " 'Apartment•1 bedroom•45 m²',\n",
       " 'From 13 Oct 2022',\n",
       " 'Apartment•1 bedroom•48 m²',\n",
       " 'From 13 Oct 2022',\n",
       " 'Apartment•1 bedroom•40 m²',\n",
       " 'From 4 Nov 2022',\n",
       " 'Apartment•1 bedroom•45 m²',\n",
       " 'From 4 Nov 2022',\n",
       " 'Apartment•2 Bedrooms •77 m²',\n",
       " 'From 30 Sep 2022',\n",
       " 'Apartment•2 Bedrooms •55 m²',\n",
       " 'From 30 Sep 2022',\n",
       " 'Apartment•2 Bedrooms •56 m²',\n",
       " 'From 30 Sep 2022',\n",
       " 'Apartment•2 Bedrooms •75 m²',\n",
       " 'From 21 Oct 2022']"
      ]
     },
     "execution_count": 4,
     "metadata": {},
     "output_type": "execute_result"
    }
   ],
   "source": [
    "property_sqm_available = bs.find_all(class_='MuiTypography-root makeStyles-caption-57 makeStyles-overflow-initial-40 makeStyles-color-default-43 MuiTypography-caption MuiTypography-displayBlock')\n",
    "property_sqm_available_lst = (sqm.get_text() for sqm in property_sqm_available)\n",
    "property_sqm_available_lst = [sqm.strip() for sqm in property_sqm_available_lst]\n",
    "property_sqm_available_lst = [sqm.replace('GBP\\xa00', '') for sqm in property_sqm_available_lst]\n",
    "property_sqm_available_lst = [sqm.replace('GBP\\xa08032+', '') for sqm in property_sqm_available_lst]\n",
    "property_sqm_available_lst = [sqm.replace('GBP\\xa07924+', '') for sqm in property_sqm_available_lst]\n",
    "property_sqm_available_lst = [sqm.replace('Space for 2 people', '') for sqm in property_sqm_available_lst]\n",
    "property_sqm_available_lst = [sqm.replace('Space for 3 people', '') for sqm in property_sqm_available_lst]\n",
    "property_sqm_available_lst"
   ]
  },
  {
   "cell_type": "code",
   "execution_count": 5,
   "metadata": {},
   "outputs": [
    {
     "data": {
      "text/plain": [
       "5"
      ]
     },
     "execution_count": 5,
     "metadata": {},
     "output_type": "execute_result"
    }
   ],
   "source": [
    "results = bs.find_all(class_='MuiTypography-root makeStyles-locationTitle-91 makeStyles-ellipsis-90 makeStyles-paragraph-56 makeStyles-overflow-initial-40 makeStyles-color-default-43 MuiTypography-body1 MuiTypography-displayBlock')\n",
    "results = (result.get_text() for result in results)\n",
    "results_lst = [result.strip() for result in results]\n",
    "results_lst = [result.split(' ')[0] for result in results_lst]\n",
    "result_text, = results_lst\n",
    "\n",
    "result_converted = int(result_text)\n",
    "page_site = result_converted / 24\n",
    "page_site = math.ceil(page_site)\n",
    "page_converted = int(page_site)\n",
    "page_converted"
   ]
  }
 ],
 "metadata": {
  "kernelspec": {
   "display_name": "Python 3.9.13 ('nf_sql')",
   "language": "python",
   "name": "python3"
  },
  "language_info": {
   "codemirror_mode": {
    "name": "ipython",
    "version": 3
   },
   "file_extension": ".py",
   "mimetype": "text/x-python",
   "name": "python",
   "nbconvert_exporter": "python",
   "pygments_lexer": "ipython3",
   "version": "3.9.13"
  },
  "orig_nbformat": 4,
  "vscode": {
   "interpreter": {
    "hash": "a81d278bed5b5b59425dcb5a82ce505657686243c184b4a6b67e69d01c4d432e"
   }
  }
 },
 "nbformat": 4,
 "nbformat_minor": 2
}
