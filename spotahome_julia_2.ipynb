{
 "cells": [
  {
   "cell_type": "code",
   "execution_count": 1,
   "metadata": {},
   "outputs": [],
   "source": [
    "import time\n",
    "import requests\n",
    "from bs4 import BeautifulSoup\n",
    "import re\n",
    "import pandas as pd\n",
    "import datetime as dt"
   ]
  },
  {
   "cell_type": "code",
   "execution_count": 2,
   "metadata": {},
   "outputs": [],
   "source": [
    "import json\n",
    "import numpy as np\n",
    "import psycopg2\n",
    "from zipfile import *\n",
    "from sql_functions import *"
   ]
  },
  {
   "cell_type": "code",
   "execution_count": 3,
   "metadata": {},
   "outputs": [],
   "source": [
    "# Creating an empty Dataframe for later use\n",
    "df1 = pd.DataFrame()\n",
    "df2 = pd.DataFrame()\n",
    "df3 = pd.DataFrame()\n",
    "df4 = pd.DataFrame()\n",
    "df5 = pd.DataFrame()"
   ]
  },
  {
   "cell_type": "code",
   "execution_count": 4,
   "metadata": {},
   "outputs": [],
   "source": [
    "# Creating a function to get all the description\n",
    "def get_description(lst_name):\n",
    "    # find all the descriptions and save them to a list\n",
    "    descriptions = bs.find_all(class_='homecard-content__title__HomecardContent___OmV4c homecard-content__title--rebranding-style__HomecardContent___OmV4c')\n",
    "    # iterate over the list appartement to get the text and strip the strings\n",
    "    for description in descriptions:\n",
    "        lst_name.append(\n",
    "            description.get_text()\\\n",
    "                .strip()\n",
    "        )\n",
    "    return lst_name"
   ]
  },
  {
   "cell_type": "code",
   "execution_count": 5,
   "metadata": {},
   "outputs": [],
   "source": [
    "# Creating a function to get all the prices\n",
    "def get_price(lst_name):\n",
    "    # find all the prices and save them to a list\n",
    "    prices = bs.find_all(class_='price__Price___OmV4c')\n",
    "    # iterate over the prices\n",
    "    for price in prices:\n",
    "        lst_name.append(\n",
    "            price.get_text()\\\n",
    "                .strip()\n",
    "        )\n",
    "    return lst_name"
   ]
  },
  {
   "cell_type": "code",
   "execution_count": 6,
   "metadata": {},
   "outputs": [],
   "source": [
    "# Creating a function to get all the housing types\n",
    "def get_housing(lst_name):\n",
    "    # find all the housing types and save them to a list\n",
    "    housings = bs.find_all(class_='homecard-content__type__HomecardContent___OmV4c homecard-content__type--rebranding-style__HomecardContent___OmV4c')\n",
    "    # iterate over the prices\n",
    "    for housing in housings:\n",
    "        lst_name.append(\n",
    "            housing.get_text()\\\n",
    "                .strip()\n",
    "        )\n",
    "    return lst_name"
   ]
  },
  {
   "cell_type": "code",
   "execution_count": 7,
   "metadata": {},
   "outputs": [],
   "source": [
    "# Creating a function to get all the available dates\n",
    "def get_available(lst_name):\n",
    "    # find all the avaiable dates and save them to a list\n",
    "    availables = bs.find_all(class_='homecard-content__available-from__HomecardContent___OmV4c homecard-content__available-from--rebranding-style__HomecardContent___OmV4c')\n",
    "    # iterate over the prices\n",
    "    for available in availables:\n",
    "        lst_name.append(\n",
    "            available.get_text()\\\n",
    "                .strip()\n",
    "        )\n",
    "    return lst_name"
   ]
  },
  {
   "cell_type": "code",
   "execution_count": 8,
   "metadata": {},
   "outputs": [],
   "source": [
    "# Creating a function to get all the available dates\n",
    "def get_prices_month(lst_name):\n",
    "    # find all the avaiable dates and save them to a list\n",
    "    prices_month = bs.find_all(class_='price-monthly__Price___OmV4c price-monthly--rebranding-style__Price___OmV4c')\n",
    "    # iterate over the prices\n",
    "    for price_month in prices_month:\n",
    "        lst_name.append(\n",
    "            price_month.get_text()\\\n",
    "                .strip()\n",
    "                .replace('/', '')\n",
    "        )\n",
    "    return lst_name"
   ]
  },
  {
   "cell_type": "code",
   "execution_count": 9,
   "metadata": {},
   "outputs": [],
   "source": [
    "# Creating a function to get all the available dates\n",
    "def get_result(lst_name):\n",
    "    # find all the avaiable dates and save them to a list\n",
    "    results = bs.find_all(class_='search-title__title')\n",
    "    # iterate over the prices\n",
    "    for result in results:\n",
    "        lst_name.append(\n",
    "            result.get_text()\\\n",
    "                .strip()\n",
    "        )\n",
    "    return lst_name\n"
   ]
  },
  {
   "cell_type": "markdown",
   "metadata": {},
   "source": [
    "## Studio"
   ]
  },
  {
   "cell_type": "code",
   "execution_count": 10,
   "metadata": {},
   "outputs": [],
   "source": [
    "# begin = 'https://www.spotahome.com/de/s/london--uk/for-rent:studios'\n",
    "# end = '?areaId[]=219&areaId[]=231&areaId[]=232&areaId[]=233&areaId[]=234&areaId[]=235&areaId[]=236&areaId[]=237&areaId[]=241'\n",
    "# link = begin + end\n",
    "\n",
    "# #'https://www.spotahome.com/de/s/london--uk/for-rent:studios?areaId[]=219&areaId[]=231&areaId[]=232&areaId[]=233&areaId[]=234&areaId[]=235&areaId[]=236&areaId[]=237&areaId[]=241'\n",
    "\n",
    "# # for loop to get the page numbers\n",
    "# for _ in range(15):\n",
    "#    print(_)\n",
    "#    # sleep timer to reduce the traffic for the server\n",
    "#    time.sleep(5)\n",
    "#    # create the lists for the functions\n",
    "#    housings_lst = []\n",
    "#    available_lst = []\n",
    "#    descriptions_lst = []\n",
    "#    prices_lst = []\n",
    "#    prices_month_lst =[]\n",
    "#    # first iteration is the main page\n",
    "#    if _ == 0:\n",
    "#        # get the content\n",
    "#        page = requests.get(link)\n",
    "#        html = page.content\n",
    "#        bs = BeautifulSoup(html, 'html.parser')\n",
    "#        # call the functions to get the information\n",
    "#        get_description(descriptions_lst)\n",
    "#        get_price(prices_lst)\n",
    "#        get_housing(housings_lst)\n",
    "#        get_available(available_lst)\n",
    "#        get_prices_month(prices_month_lst)\n",
    "#        # create a pandas dataframe for the names and prices\n",
    "#        spotahome_dict = {\n",
    "#            'housing_type': housings_lst,\n",
    "#            'available': available_lst,\n",
    "#            'description': descriptions_lst,\n",
    "#            'prices': prices_lst,\n",
    "#            'prices_per': prices_month_lst\n",
    "#        }\n",
    "#        df_studio = pd.DataFrame(data=spotahome_dict)\n",
    "#        # append the temporary dataframe to the dataframe we created earlier outside the for loop\n",
    "#        df1 = df1.append(df_studio)\n",
    "#    # else-statment for the next pages\n",
    "#    else:\n",
    "#        # get the content from the links we create with a f-string an the number we get from the for-loop\n",
    "#        page = requests.get(begin+f'/page:{_}'+end)\n",
    "#        html = page.content\n",
    "#        bs = BeautifulSoup(html, 'html.parser')\n",
    "#        # call the functions to get the information\n",
    "#        get_description(descriptions_lst)\n",
    "#        get_price(prices_lst)\n",
    "#        get_housing(housings_lst)\n",
    "#        get_available(available_lst)\n",
    "#        get_prices_month(prices_month_lst)\n",
    "#        # create a pandas dataframe for the names and prices\n",
    "#        spotahome_dict = {\n",
    "#            'housing_type': housings_lst,\n",
    "#            'available': available_lst,\n",
    "#            'description': descriptions_lst,\n",
    "#            'prices': prices_lst,\n",
    "#            'prices_per': prices_month_lst\n",
    "#        }\n",
    "#        df_studio = pd.DataFrame(data=spotahome_dict)\n",
    "#        # append the temporary dataframe to the dataframe we created earlier outside the for loop\n",
    "#        df1 = df1.append(df_studio)"
   ]
  },
  {
   "cell_type": "code",
   "execution_count": 11,
   "metadata": {},
   "outputs": [
    {
     "name": "stderr",
     "output_type": "stream",
     "text": [
      "/var/folders/qr/fv9yw31x49lgvhl5742z3ds80000gn/T/ipykernel_64719/3351639574.py:42: FutureWarning: The frame.append method is deprecated and will be removed from pandas in a future version. Use pandas.concat instead.\n",
      "  df1 = df1.append(df_studio)\n",
      "/var/folders/qr/fv9yw31x49lgvhl5742z3ds80000gn/T/ipykernel_64719/3351639574.py:42: FutureWarning: The frame.append method is deprecated and will be removed from pandas in a future version. Use pandas.concat instead.\n",
      "  df1 = df1.append(df_studio)\n",
      "/var/folders/qr/fv9yw31x49lgvhl5742z3ds80000gn/T/ipykernel_64719/3351639574.py:42: FutureWarning: The frame.append method is deprecated and will be removed from pandas in a future version. Use pandas.concat instead.\n",
      "  df1 = df1.append(df_studio)\n"
     ]
    }
   ],
   "source": [
    "begin = 'https://www.spotahome.com/de/s/london--uk/for-rent:studios'\n",
    "end = '?areaId[]=219&areaId[]=231&areaId[]=232&areaId[]=233&areaId[]=234&areaId[]=235&areaId[]=236&areaId[]=237&areaId[]=241'\n",
    "\n",
    "# for loop to get the page numbers\n",
    "for _ in range(1,6):\n",
    "\n",
    "    # sleep timer to reduce the traffic for the server\n",
    "    time.sleep(5)\n",
    "    \n",
    "    # create the lists for the functions\n",
    "    housings_lst = []\n",
    "    available_lst = []\n",
    "    descriptions_lst = []\n",
    "    prices_lst = []\n",
    "    prices_month_lst =[]\n",
    "    #results_lst = []\n",
    "    \n",
    "    # get the content\n",
    "    page = requests.get(begin+f'/page:{_}'+end)\n",
    "    html = page.content\n",
    "    bs = BeautifulSoup(html, 'html.parser')\n",
    "    \n",
    "    # call the functions to get the information\n",
    "    get_description(descriptions_lst)\n",
    "    get_price(prices_lst)\n",
    "    get_housing(housings_lst)\n",
    "    get_available(available_lst)\n",
    "    get_prices_month(prices_month_lst)\n",
    "    #get_result(results_lst)\n",
    "    \n",
    "    # create a pandas dataframe for the names and prices\n",
    "    spotahome_dict = {\n",
    "        'housing_type': housings_lst,\n",
    "        'available': available_lst,\n",
    "        'description': descriptions_lst,\n",
    "        'prices': prices_lst,\n",
    "        'prices_per': prices_month_lst\n",
    "        }\n",
    "    df_studio = pd.DataFrame(data=spotahome_dict)\n",
    "        \n",
    "    # append the temporary dataframe to the dataframe we created earlier outside the for loop\n",
    "    df1 = df1.append(df_studio)"
   ]
  },
  {
   "cell_type": "code",
   "execution_count": 12,
   "metadata": {},
   "outputs": [],
   "source": [
    "# schema = 'muc_analytics_22_1'\n",
    "# engine = get_engine()\n",
    "\n",
    "# table_name = 'spotahome'\n",
    "\n",
    "# if engine!=None:\n",
    "#     try:\n",
    "#         df1.to_sql(name=table_name,\n",
    "#                         con=engine,\n",
    "#                         if_exists='replace',\n",
    "#                         schema=schema, \n",
    "#                         index=False,\n",
    "#                         chunksize=5000, \n",
    "#                         method='multi')\n",
    "#         print(f\"The {table_name} table was imported successfully.\")\n",
    "    \n",
    "#     except (Exception, psycopg2.DatabaseError) as error:\n",
    "#         print(error)\n",
    "#         engine = None"
   ]
  },
  {
   "cell_type": "code",
   "execution_count": 13,
   "metadata": {},
   "outputs": [
    {
     "name": "stdout",
     "output_type": "stream",
     "text": [
      "<class 'pandas.core.frame.DataFrame'>\n",
      "Int64Index: 241 entries, 0 to 0\n",
      "Data columns (total 5 columns):\n",
      " #   Column        Non-Null Count  Dtype \n",
      "---  ------        --------------  ----- \n",
      " 0   housing_type  241 non-null    object\n",
      " 1   available     241 non-null    object\n",
      " 2   description   241 non-null    object\n",
      " 3   prices        241 non-null    object\n",
      " 4   prices_per    241 non-null    object\n",
      "dtypes: object(5)\n",
      "memory usage: 11.3+ KB\n"
     ]
    }
   ],
   "source": [
    "df1.info()"
   ]
  },
  {
   "cell_type": "code",
   "execution_count": 14,
   "metadata": {},
   "outputs": [
    {
     "data": {
      "text/html": [
       "<div>\n",
       "<style scoped>\n",
       "    .dataframe tbody tr th:only-of-type {\n",
       "        vertical-align: middle;\n",
       "    }\n",
       "\n",
       "    .dataframe tbody tr th {\n",
       "        vertical-align: top;\n",
       "    }\n",
       "\n",
       "    .dataframe thead th {\n",
       "        text-align: right;\n",
       "    }\n",
       "</style>\n",
       "<table border=\"1\" class=\"dataframe\">\n",
       "  <thead>\n",
       "    <tr style=\"text-align: right;\">\n",
       "      <th></th>\n",
       "      <th>housing_type</th>\n",
       "      <th>available</th>\n",
       "      <th>description</th>\n",
       "      <th>prices</th>\n",
       "      <th>prices_per</th>\n",
       "    </tr>\n",
       "  </thead>\n",
       "  <tbody>\n",
       "    <tr>\n",
       "      <th>0</th>\n",
       "      <td>Studio</td>\n",
       "      <td>Verfügbar ab 26 September</td>\n",
       "      <td>Studio zu vermieten in einem Wohngemeinschafts...</td>\n",
       "      <td>£2250</td>\n",
       "      <td>Monat</td>\n",
       "    </tr>\n",
       "    <tr>\n",
       "      <th>1</th>\n",
       "      <td>Studio</td>\n",
       "      <td>Verfügbar ab 26 September</td>\n",
       "      <td>Studio zu vermieten in einem Wohngemeinschafts...</td>\n",
       "      <td>£2300</td>\n",
       "      <td>Monat</td>\n",
       "    </tr>\n",
       "    <tr>\n",
       "      <th>2</th>\n",
       "      <td>Studio</td>\n",
       "      <td>Verfügbar ab 15 Oktober</td>\n",
       "      <td>Studio-Apartment zu vermieten in Kensal Green,...</td>\n",
       "      <td>£1452</td>\n",
       "      <td>Monat</td>\n",
       "    </tr>\n",
       "    <tr>\n",
       "      <th>3</th>\n",
       "      <td>Studio</td>\n",
       "      <td>Verfügbar ab 26 September</td>\n",
       "      <td>Studio zu vermieten in einem Wohngemeinschafts...</td>\n",
       "      <td>£2100</td>\n",
       "      <td>Monat</td>\n",
       "    </tr>\n",
       "    <tr>\n",
       "      <th>4</th>\n",
       "      <td>Studio</td>\n",
       "      <td>Verfügbar ab 28 September</td>\n",
       "      <td>Studio zu vermieten in Earls Court, London</td>\n",
       "      <td>£3033</td>\n",
       "      <td>Monat</td>\n",
       "    </tr>\n",
       "  </tbody>\n",
       "</table>\n",
       "</div>"
      ],
      "text/plain": [
       "  housing_type                  available  \\\n",
       "0       Studio  Verfügbar ab 26 September   \n",
       "1       Studio  Verfügbar ab 26 September   \n",
       "2       Studio    Verfügbar ab 15 Oktober   \n",
       "3       Studio  Verfügbar ab 26 September   \n",
       "4       Studio  Verfügbar ab 28 September   \n",
       "\n",
       "                                         description prices prices_per  \n",
       "0  Studio zu vermieten in einem Wohngemeinschafts...  £2250      Monat  \n",
       "1  Studio zu vermieten in einem Wohngemeinschafts...  £2300      Monat  \n",
       "2  Studio-Apartment zu vermieten in Kensal Green,...  £1452      Monat  \n",
       "3  Studio zu vermieten in einem Wohngemeinschafts...  £2100      Monat  \n",
       "4         Studio zu vermieten in Earls Court, London  £3033      Monat  "
      ]
     },
     "execution_count": 14,
     "metadata": {},
     "output_type": "execute_result"
    }
   ],
   "source": [
    "df1.head()"
   ]
  },
  {
   "cell_type": "markdown",
   "metadata": {},
   "source": [
    "## Appartement 1 Bedroom"
   ]
  },
  {
   "cell_type": "code",
   "execution_count": 15,
   "metadata": {},
   "outputs": [],
   "source": [
    "# begin = 'https://www.spotahome.com/de/s/london--uk/for-rent:apartments/bedrooms:1'\n",
    "# end = '?areaId[]=219&areaId[]=231&areaId[]=232&areaId[]=233&areaId[]=234&areaId[]=235&areaId[]=236&areaId[]=237&areaId[]=241'\n",
    "# link = begin + end\n",
    "\n",
    "# #link = 'https://www.spotahome.com/de/s/london--uk/for-rent:apartments/bedrooms:1?areaId[]=219&areaId[]=231&areaId[]=232&areaId[]=233&areaId[]=234&areaId[]=235&areaId[]=236&areaId[]=237&areaId[]=241'\n",
    "\n",
    "# # for loop to get the page numbers\n",
    "# for _ in range(22):\n",
    "#    # sleep timer to reduce the traffic for the server\n",
    "#    time.sleep(3)\n",
    "#    # create the lists for the functions\n",
    "#    housings_lst = []\n",
    "#    available_lst = []\n",
    "#    descriptions_lst = []\n",
    "#    prices_lst = []\n",
    "#    prices_month_lst =[]\n",
    "#    # first iteration is the main page\n",
    "#    if _ == 0:\n",
    "#        # get the content\n",
    "#        page = requests.get(link)\n",
    "#        html = page.content\n",
    "#        bs = BeautifulSoup(html, 'html.parser')\n",
    "#        # call the functions to get the information\n",
    "#        get_description(descriptions_lst)\n",
    "#        get_price(prices_lst)\n",
    "#        get_housing(housings_lst)\n",
    "#        get_available(available_lst)\n",
    "#        get_prices_month(prices_month_lst)\n",
    "#        # create a pandas dataframe for the names and prices\n",
    "#        spotahome_dict = {\n",
    "#            'housing_type': housings_lst,\n",
    "#            'available': available_lst,\n",
    "#            'description': descriptions_lst,\n",
    "#            'prices': prices_lst,\n",
    "#            'prices_per': prices_month_lst\n",
    "#        }\n",
    "#        df_app_1 = pd.DataFrame(data=spotahome_dict)\n",
    "#        # append the temporary dataframe to the dataframe we created earlier outside the for loop\n",
    "#        df2 = df2.append(df_app_1)\n",
    "#    # else-statment for the next pages\n",
    "#    else:\n",
    "#        # get the content from the links we create with a f-string an the number we get from the for-loop\n",
    "#        page = requests.get(begin+f'/page:{_}'+end)\n",
    "#        html = page.content\n",
    "#        bs = BeautifulSoup(html, 'html.parser')\n",
    "#        # call the functions to get the information\n",
    "#        get_description(descriptions_lst)\n",
    "#        get_price(prices_lst)\n",
    "#        get_housing(housings_lst)\n",
    "#        get_available(available_lst)\n",
    "#        get_prices_month(prices_month_lst)\n",
    "#        # create a pandas dataframe for the names and prices\n",
    "#        spotahome_dict = {\n",
    "#            'housing_type': housings_lst,\n",
    "#            'available': available_lst,\n",
    "#            'description': descriptions_lst,\n",
    "#            'prices': prices_lst,\n",
    "#            'prices_per': prices_month_lst\n",
    "#        }\n",
    "#        df_app_1 = pd.DataFrame(data=spotahome_dict)\n",
    "#        # append the temporary dataframe to the dataframe we created earlier outside the for loop\n",
    "#        df2 = df2.append(df_app_1)"
   ]
  },
  {
   "cell_type": "code",
   "execution_count": 16,
   "metadata": {},
   "outputs": [
    {
     "name": "stdout",
     "output_type": "stream",
     "text": [
      "<class 'pandas.core.frame.DataFrame'>\n",
      "Index: 0 entries\n",
      "Empty DataFrame"
     ]
    }
   ],
   "source": [
    "df2.info()"
   ]
  },
  {
   "cell_type": "code",
   "execution_count": 17,
   "metadata": {},
   "outputs": [
    {
     "data": {
      "text/html": [
       "<div>\n",
       "<style scoped>\n",
       "    .dataframe tbody tr th:only-of-type {\n",
       "        vertical-align: middle;\n",
       "    }\n",
       "\n",
       "    .dataframe tbody tr th {\n",
       "        vertical-align: top;\n",
       "    }\n",
       "\n",
       "    .dataframe thead th {\n",
       "        text-align: right;\n",
       "    }\n",
       "</style>\n",
       "<table border=\"1\" class=\"dataframe\">\n",
       "  <thead>\n",
       "    <tr style=\"text-align: right;\">\n",
       "      <th></th>\n",
       "    </tr>\n",
       "  </thead>\n",
       "  <tbody>\n",
       "  </tbody>\n",
       "</table>\n",
       "</div>"
      ],
      "text/plain": [
       "Empty DataFrame\n",
       "Columns: []\n",
       "Index: []"
      ]
     },
     "execution_count": 17,
     "metadata": {},
     "output_type": "execute_result"
    }
   ],
   "source": [
    "df2.head()"
   ]
  },
  {
   "cell_type": "markdown",
   "metadata": {},
   "source": [
    "## Appartement 2 bedrooms"
   ]
  },
  {
   "cell_type": "code",
   "execution_count": 18,
   "metadata": {},
   "outputs": [],
   "source": [
    "# begin = 'https://www.spotahome.com/de/s/london--uk/for-rent:apartments/bedrooms:2'\n",
    "# end = '?areaId[]=219&areaId[]=231&areaId[]=232&areaId[]=233&areaId[]=234&areaId[]=235&areaId[]=236&areaId[]=237&areaId[]=241'\n",
    "# link = begin + end\n",
    "\n",
    "# #link = 'https://www.spotahome.com/de/s/london--uk/for-rent:apartments/bedrooms:2?areaId[]=219&areaId[]=231&areaId[]=232&areaId[]=233&areaId[]=234&areaId[]=235&areaId[]=236&areaId[]=237&areaId[]=241'\n",
    "\n",
    "# # for loop to get the page numbers\n",
    "# for _ in range(22):\n",
    "#    # sleep timer to reduce the traffic for the server\n",
    "#    time.sleep(3)\n",
    "#    # create the lists for the functions\n",
    "#    housings_lst = []\n",
    "#    available_lst = []\n",
    "#    descriptions_lst = []\n",
    "#    prices_lst = []\n",
    "#    prices_month_lst =[]\n",
    "#    # first iteration is the main page\n",
    "#    if _ == 0:\n",
    "#        # get the content\n",
    "#        page = requests.get(link)\n",
    "#        html = page.content\n",
    "#        bs = BeautifulSoup(html, 'html.parser')\n",
    "#        # call the functions to get the information\n",
    "#        get_description(descriptions_lst)\n",
    "#        get_price(prices_lst)\n",
    "#        get_housing(housings_lst)\n",
    "#        get_available(available_lst)\n",
    "#        get_prices_month(prices_month_lst)\n",
    "#        # create a pandas dataframe for the names and prices\n",
    "#        spotahome_dict = {\n",
    "#            'housing_type': housings_lst,\n",
    "#            'available': available_lst,\n",
    "#            'description': descriptions_lst,\n",
    "#            'prices': prices_lst,\n",
    "#            'prices_per': prices_month_lst\n",
    "#        }\n",
    "#        df_app_2 = pd.DataFrame(data=spotahome_dict)\n",
    "#        # append the temporary dataframe to the dataframe we created earlier outside the for loop\n",
    "#        df3 = df3.append(df_app_2)\n",
    "#    # else-statment for the next pages\n",
    "#    else:\n",
    "#        # get the content from the links we create with a f-string an the number we get from the for-loop\n",
    "#        page = requests.get(begin+f'/page:{_}'+end)\n",
    "#        html = page.content\n",
    "#        bs = BeautifulSoup(html, 'html.parser')\n",
    "#        # call the functions to get the information\n",
    "#        get_description(descriptions_lst)\n",
    "#        get_price(prices_lst)\n",
    "#        get_housing(housings_lst)\n",
    "#        get_available(available_lst)\n",
    "#        get_prices_month(prices_month_lst)\n",
    "#        # create a pandas dataframe for the names and prices\n",
    "#        spotahome_dict = {\n",
    "#            'housing_type': housings_lst,\n",
    "#            'available': available_lst,\n",
    "#            'description': descriptions_lst,\n",
    "#            'prices': prices_lst,\n",
    "#            'prices_per': prices_month_lst\n",
    "#        }\n",
    "#        df_app_2 = pd.DataFrame(data=spotahome_dict)\n",
    "#        # append the temporary dataframe to the dataframe we created earlier outside the for loop\n",
    "#        df3 = df3.append(df_app_2)"
   ]
  },
  {
   "cell_type": "code",
   "execution_count": 19,
   "metadata": {},
   "outputs": [
    {
     "name": "stdout",
     "output_type": "stream",
     "text": [
      "<class 'pandas.core.frame.DataFrame'>\n",
      "Index: 0 entries\n",
      "Empty DataFrame"
     ]
    }
   ],
   "source": [
    "df3.info()"
   ]
  },
  {
   "cell_type": "code",
   "execution_count": 20,
   "metadata": {},
   "outputs": [
    {
     "data": {
      "text/html": [
       "<div>\n",
       "<style scoped>\n",
       "    .dataframe tbody tr th:only-of-type {\n",
       "        vertical-align: middle;\n",
       "    }\n",
       "\n",
       "    .dataframe tbody tr th {\n",
       "        vertical-align: top;\n",
       "    }\n",
       "\n",
       "    .dataframe thead th {\n",
       "        text-align: right;\n",
       "    }\n",
       "</style>\n",
       "<table border=\"1\" class=\"dataframe\">\n",
       "  <thead>\n",
       "    <tr style=\"text-align: right;\">\n",
       "      <th></th>\n",
       "    </tr>\n",
       "  </thead>\n",
       "  <tbody>\n",
       "  </tbody>\n",
       "</table>\n",
       "</div>"
      ],
      "text/plain": [
       "Empty DataFrame\n",
       "Columns: []\n",
       "Index: []"
      ]
     },
     "execution_count": 20,
     "metadata": {},
     "output_type": "execute_result"
    }
   ],
   "source": [
    "df3.head()"
   ]
  },
  {
   "cell_type": "markdown",
   "metadata": {},
   "source": [
    "## Appartement 3 bedrooms"
   ]
  },
  {
   "cell_type": "code",
   "execution_count": 21,
   "metadata": {},
   "outputs": [],
   "source": [
    "# begin = 'https://www.spotahome.com/de/s/london--uk/for-rent:apartments/bedrooms:3'\n",
    "# end = '?areaId[]=219&areaId[]=231&areaId[]=232&areaId[]=233&areaId[]=234&areaId[]=235&areaId[]=236&areaId[]=237&areaId[]=241'\n",
    "# link = begin + end\n",
    "\n",
    "# #link = 'https://www.spotahome.com/de/s/london--uk/for-rent:apartments/bedrooms:3?areaId[]=219&areaId[]=231&areaId[]=232&areaId[]=233&areaId[]=234&areaId[]=235&areaId[]=236&areaId[]=237&areaId[]=241'\n",
    "\n",
    "# # for loop to get the page numbers\n",
    "# for _ in range(22):\n",
    "#    # sleep timer to reduce the traffic for the server\n",
    "#    time.sleep(3)\n",
    "#    # create the lists for the functions\n",
    "#    housings_lst = []\n",
    "#    available_lst = []\n",
    "#    descriptions_lst = []\n",
    "#    prices_lst = []\n",
    "#    prices_month_lst =[]\n",
    "#    # first iteration is the main page\n",
    "#    if _ == 0:\n",
    "#        # get the content\n",
    "#        page = requests.get(link)\n",
    "#        html = page.content\n",
    "#        bs = BeautifulSoup(html, 'html.parser')\n",
    "#        # call the functions to get the information\n",
    "#        get_description(descriptions_lst)\n",
    "#        get_price(prices_lst)\n",
    "#        get_housing(housings_lst)\n",
    "#        get_available(available_lst)\n",
    "#        get_prices_month(prices_month_lst)\n",
    "#        # create a pandas dataframe for the names and prices\n",
    "#        spotahome_dict = {\n",
    "#            'housing_type': housings_lst,\n",
    "#            'available': available_lst,\n",
    "#            'description': descriptions_lst,\n",
    "#            'prices': prices_lst,\n",
    "#            'prices_per': prices_month_lst\n",
    "#        }\n",
    "#        df_app_3 = pd.DataFrame(data=spotahome_dict)\n",
    "#        # append the temporary dataframe to the dataframe we created earlier outside the for loop\n",
    "#        df4 = df4.append(df_app_3)\n",
    "#    # else-statment for the next pages\n",
    "#    else:\n",
    "#        # get the content from the links we create with a f-string an the number we get from the for-loop\n",
    "#        page = requests.get(begin+f'/page:{_}'+end)\n",
    "#        html = page.content\n",
    "#        bs = BeautifulSoup(html, 'html.parser')\n",
    "#        # call the functions to get the information\n",
    "#        get_description(descriptions_lst)\n",
    "#        get_price(prices_lst)\n",
    "#        get_housing(housings_lst)\n",
    "#        get_available(available_lst)\n",
    "#        get_prices_month(prices_month_lst)\n",
    "#        # create a pandas dataframe for the names and prices\n",
    "#        spotahome_dict = {\n",
    "#            'housing_type': housings_lst,\n",
    "#            'available': available_lst,\n",
    "#            'description': descriptions_lst,\n",
    "#            'prices': prices_lst,\n",
    "#            'prices_per': prices_month_lst\n",
    "#        }\n",
    "#        df_app_3 = pd.DataFrame(data=spotahome_dict)\n",
    "#        # append the temporary dataframe to the dataframe we created earlier outside the for loop\n",
    "#        df4 = df4.append(df_app_3)"
   ]
  },
  {
   "cell_type": "code",
   "execution_count": 22,
   "metadata": {},
   "outputs": [
    {
     "name": "stdout",
     "output_type": "stream",
     "text": [
      "<class 'pandas.core.frame.DataFrame'>\n",
      "Index: 0 entries\n",
      "Empty DataFrame"
     ]
    }
   ],
   "source": [
    "df4.info()"
   ]
  },
  {
   "cell_type": "code",
   "execution_count": 23,
   "metadata": {},
   "outputs": [
    {
     "data": {
      "text/html": [
       "<div>\n",
       "<style scoped>\n",
       "    .dataframe tbody tr th:only-of-type {\n",
       "        vertical-align: middle;\n",
       "    }\n",
       "\n",
       "    .dataframe tbody tr th {\n",
       "        vertical-align: top;\n",
       "    }\n",
       "\n",
       "    .dataframe thead th {\n",
       "        text-align: right;\n",
       "    }\n",
       "</style>\n",
       "<table border=\"1\" class=\"dataframe\">\n",
       "  <thead>\n",
       "    <tr style=\"text-align: right;\">\n",
       "      <th></th>\n",
       "    </tr>\n",
       "  </thead>\n",
       "  <tbody>\n",
       "  </tbody>\n",
       "</table>\n",
       "</div>"
      ],
      "text/plain": [
       "Empty DataFrame\n",
       "Columns: []\n",
       "Index: []"
      ]
     },
     "execution_count": 23,
     "metadata": {},
     "output_type": "execute_result"
    }
   ],
   "source": [
    "df4.head()"
   ]
  },
  {
   "cell_type": "markdown",
   "metadata": {},
   "source": [
    "## Appartement 3+ bedrooms"
   ]
  },
  {
   "cell_type": "code",
   "execution_count": 24,
   "metadata": {},
   "outputs": [],
   "source": [
    "# begin = 'https://www.spotahome.com/de/s/london--uk/for-rent:apartments/bedrooms:3more'\n",
    "# end = '?areaId[]=219&areaId[]=231&areaId[]=232&areaId[]=233&areaId[]=234&areaId[]=235&areaId[]=236&areaId[]=237&areaId[]=241'\n",
    "# link = begin + end\n",
    "\n",
    "# #link = 'https://www.spotahome.com/de/s/london--uk/for-rent:apartments/bedrooms:3more?areaId[]=219&areaId[]=231&areaId[]=232&areaId[]=233&areaId[]=234&areaId[]=235&areaId[]=236&areaId[]=237&areaId[]=241'\n",
    "\n",
    "# # for loop to get the page numbers\n",
    "# for _ in range(22):\n",
    "#    # sleep timer to reduce the traffic for the server\n",
    "#    time.sleep(3)\n",
    "#    # create the lists for the functions\n",
    "#    housings_lst = []\n",
    "#    available_lst = []\n",
    "#    descriptions_lst = []\n",
    "#    prices_lst = []\n",
    "#    prices_month_lst =[]\n",
    "#    # first iteration is the main page\n",
    "#    if _ == 0:\n",
    "#        # get the content\n",
    "#        page = requests.get(link)\n",
    "#        html = page.content\n",
    "#        bs = BeautifulSoup(html, 'html.parser')\n",
    "#        # call the functions to get the information\n",
    "#        get_description(descriptions_lst)\n",
    "#        get_price(prices_lst)\n",
    "#        get_housing(housings_lst)\n",
    "#        get_available(available_lst)\n",
    "#        get_prices_month(prices_month_lst)\n",
    "#        # create a pandas dataframe for the names and prices\n",
    "#        spotahome_dict = {\n",
    "#            'housing_type': housings_lst,\n",
    "#            'available': available_lst,\n",
    "#            'description': descriptions_lst,\n",
    "#            'prices': prices_lst,\n",
    "#            'prices_per': prices_month_lst\n",
    "#        }\n",
    "#        df_app_3_plus = pd.DataFrame(data=spotahome_dict)\n",
    "#        # append the temporary dataframe to the dataframe we created earlier outside the for loop\n",
    "#        df5 = df5.append(df_app_3_plus)\n",
    "#    # else-statment for the next pages\n",
    "#    else:\n",
    "#        # get the content from the links we create with a f-string an the number we get from the for-loop\n",
    "#        page = requests.get(begin+f'/page:{_}'+end)\n",
    "#        html = page.content\n",
    "#        bs = BeautifulSoup(html, 'html.parser')\n",
    "#        # call the functions to get the information\n",
    "#        get_description(descriptions_lst)\n",
    "#        get_price(prices_lst)\n",
    "#        get_housing(housings_lst)\n",
    "#        get_available(available_lst)\n",
    "#        get_prices_month(prices_month_lst)\n",
    "#        # create a pandas dataframe for the names and prices\n",
    "#        spotahome_dict = {\n",
    "#            'housing_type': housings_lst,\n",
    "#            'available': available_lst,\n",
    "#            'description': descriptions_lst,\n",
    "#            'prices': prices_lst,\n",
    "#            'prices_per': prices_month_lst\n",
    "#        }\n",
    "#        df_app_3_plus = pd.DataFrame(data=spotahome_dict)\n",
    "#        # append the temporary dataframe to the dataframe we created earlier outside the for loop\n",
    "#        df5 = df5.append(df_app_3_plus)"
   ]
  },
  {
   "cell_type": "code",
   "execution_count": 25,
   "metadata": {},
   "outputs": [
    {
     "name": "stdout",
     "output_type": "stream",
     "text": [
      "<class 'pandas.core.frame.DataFrame'>\n",
      "Index: 0 entries\n",
      "Empty DataFrame"
     ]
    }
   ],
   "source": [
    "df5.info()"
   ]
  },
  {
   "cell_type": "code",
   "execution_count": 26,
   "metadata": {},
   "outputs": [
    {
     "data": {
      "text/html": [
       "<div>\n",
       "<style scoped>\n",
       "    .dataframe tbody tr th:only-of-type {\n",
       "        vertical-align: middle;\n",
       "    }\n",
       "\n",
       "    .dataframe tbody tr th {\n",
       "        vertical-align: top;\n",
       "    }\n",
       "\n",
       "    .dataframe thead th {\n",
       "        text-align: right;\n",
       "    }\n",
       "</style>\n",
       "<table border=\"1\" class=\"dataframe\">\n",
       "  <thead>\n",
       "    <tr style=\"text-align: right;\">\n",
       "      <th></th>\n",
       "    </tr>\n",
       "  </thead>\n",
       "  <tbody>\n",
       "  </tbody>\n",
       "</table>\n",
       "</div>"
      ],
      "text/plain": [
       "Empty DataFrame\n",
       "Columns: []\n",
       "Index: []"
      ]
     },
     "execution_count": 26,
     "metadata": {},
     "output_type": "execute_result"
    }
   ],
   "source": [
    "df5.head()"
   ]
  },
  {
   "cell_type": "markdown",
   "metadata": {},
   "source": [
    "## Merge Dataframes"
   ]
  },
  {
   "cell_type": "code",
   "execution_count": 27,
   "metadata": {},
   "outputs": [],
   "source": [
    "#df = pd.merge(df1, df2, df3, df4, df5, how = 'left', on='price_per_')\n",
    "\n",
    "#df_merge1 = pd.merge(df1, df2, how = 'left', on='prices_per')\n",
    "\n",
    "df_combined = pd.concat([df1, df2, df3, df4, df5], axis=0, ignore_index=True)"
   ]
  },
  {
   "cell_type": "code",
   "execution_count": 28,
   "metadata": {},
   "outputs": [],
   "source": [
    "# schema = 'capstone-jmrs'\n",
    "# engine = get_engine()\n",
    "\n",
    "# table_name = 'spotahome'\n",
    "\n",
    "# if engine!=None:\n",
    "#     try:\n",
    "#         df.to_sql(name=table_name,\n",
    "#                         con=engine,\n",
    "#                         if_exists='replace',\n",
    "#                         schema=schema, \n",
    "#                         index=False,\n",
    "#                         chunksize=5000, \n",
    "#                         method='multi')\n",
    "#         print(f\"The {table_name} table was imported successfully.\")\n",
    "    \n",
    "#     except (Exception, psycopg2.DatabaseError) as error:\n",
    "#         print(error)\n",
    "#         engine = None"
   ]
  },
  {
   "cell_type": "code",
   "execution_count": 29,
   "metadata": {},
   "outputs": [],
   "source": [
    "# with open('Untitled-2.json') as fp:\n",
    "#     data = json.load(fp)\n",
    "#     print(data)"
   ]
  }
 ],
 "metadata": {
  "kernelspec": {
   "display_name": "Python 3.9.13 ('nf_sql')",
   "language": "python",
   "name": "python3"
  },
  "language_info": {
   "codemirror_mode": {
    "name": "ipython",
    "version": 3
   },
   "file_extension": ".py",
   "mimetype": "text/x-python",
   "name": "python",
   "nbconvert_exporter": "python",
   "pygments_lexer": "ipython3",
   "version": "3.9.13"
  },
  "orig_nbformat": 4,
  "vscode": {
   "interpreter": {
    "hash": "a81d278bed5b5b59425dcb5a82ce505657686243c184b4a6b67e69d01c4d432e"
   }
  }
 },
 "nbformat": 4,
 "nbformat_minor": 2
}
