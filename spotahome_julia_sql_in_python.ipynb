{
 "cells": [
  {
   "cell_type": "code",
   "execution_count": 1,
   "metadata": {},
   "outputs": [],
   "source": [
    "import requests                 # requests on websites\n",
    "from bs4 import BeautifulSoup   # html parsing\n",
    "import pandas as pd             # pandas for data frame\n",
    "import math                     # for math methods\n",
    "import time                     # for sleep timer\n",
    "import random\n",
    "from sql_functions import *     # functions from file for upload on schema\n",
    "import psycopg2                 # for upload on engine\n",
    "import datetime as dt           # for the csv file with the current date and time\n",
    "import re"
   ]
  },
  {
   "cell_type": "code",
   "execution_count": 2,
   "metadata": {},
   "outputs": [],
   "source": [
    "engine = get_engine()\n",
    "\n",
    "schema = 'capstone_jmrs'"
   ]
  },
  {
   "cell_type": "code",
   "execution_count": 3,
   "metadata": {},
   "outputs": [],
   "source": [
    "sql_text = f\"\"\"\n",
    "CREATE TABLE capstone_jmrs.spotahome_merged AS\n",
    "SELECT *\n",
    "FROM capstone_jmrs.spotahome_df_complete_available_from sdcaf\n",
    "LEFT JOIN capstone_jmrs.spotahome_df_details_complete sddc  \n",
    "\t   ON sdcaf.platform_id = sddc.id;\n",
    "\"\"\"\n",
    "result = engine.execute(sql_text)"
   ]
  },
  {
   "cell_type": "code",
   "execution_count": 4,
   "metadata": {},
   "outputs": [],
   "source": [
    "sql_text = f\"\"\"\n",
    "UPDATE capstone_jmrs.spotahome_merged\n",
    "\tSET available_from_2 = COALESCE(available_from_2, '2022');\n",
    "\"\"\"\n",
    "result = engine.execute(sql_text)"
   ]
  },
  {
   "cell_type": "code",
   "execution_count": 5,
   "metadata": {},
   "outputs": [],
   "source": [
    "sql_text = f\"\"\"\n",
    "ALTER TABLE capstone_jmrs.spotahome_merged\n",
    "\tADD available_from_total VARCHAR;\"\"\"\n",
    "result = engine.execute(sql_text)"
   ]
  },
  {
   "cell_type": "code",
   "execution_count": 6,
   "metadata": {},
   "outputs": [],
   "source": [
    "sql_text = f\"\"\"\n",
    "UPDATE capstone_jmrs.spotahome_merged \n",
    "\tSET available_from_total = available_from_0 || '-' || available_from_1 || '-' || available_from_2;\n",
    "\"\"\"\n",
    "result = engine.execute(sql_text)"
   ]
  },
  {
   "cell_type": "code",
   "execution_count": 7,
   "metadata": {},
   "outputs": [],
   "source": [
    "sql_text = f\"\"\"\n",
    "ALTER TABLE capstone_jmrs.spotahome_merged\n",
    "    ALTER COLUMN platform_id TYPE VARCHAR,\n",
    "    ALTER COLUMN platform TYPE VARCHAR,\n",
    "    ALTER COLUMN neighborhood TYPE VARCHAR,\n",
    "    ALTER COLUMN housing_type TYPE VARCHAR,\n",
    "    ALTER COLUMN property_type TYPE VARCHAR,\n",
    "    ALTER COLUMN title TYPE VARCHAR,\n",
    "    ALTER COLUMN furnished TYPE VARCHAR,\n",
    "    ALTER COLUMN let_type TYPE VARCHAR,\n",
    "    --available_today\n",
    "    ALTER COLUMN scraping_date TYPE DATE USING scraping_date::DATE,\n",
    "    ALTER COLUMN price_pcm_0 TYPE FLOAT USING price_pcm_0::FLOAT,\n",
    "    ALTER COLUMN price_pcm_1 TYPE FLOAT USING price_pcm_1::FLOAT,\n",
    "    ALTER COLUMN bathrooms TYPE FLOAT USING bathrooms::FLOAT,\n",
    "    ALTER COLUMN m2 TYPE FLOAT USING m2::FLOAT,\n",
    "    ALTER COLUMN bedrooms TYPE FLOAT USING bedrooms::FLOAT,\n",
    "    ALTER COLUMN available_from_total TYPE DATE USING available_from_total::DATE;\n",
    "\"\"\"\n",
    "result = engine.execute(sql_text)"
   ]
  },
  {
   "cell_type": "code",
   "execution_count": 8,
   "metadata": {},
   "outputs": [],
   "source": [
    "sql_text = f\"\"\"   \n",
    "ALTER TABLE capstone_jmrs.spotahome_merged\n",
    "  DROP COLUMN available_from,\n",
    "  DROP COLUMN available_from_0,\n",
    "  DROP COLUMN available_from_1,\n",
    "  DROP COLUMN available_from_2,\n",
    "  DROP COLUMN id;\n",
    "\"\"\"\n",
    "result = engine.execute(sql_text)"
   ]
  },
  {
   "cell_type": "code",
   "execution_count": 9,
   "metadata": {},
   "outputs": [],
   "source": [
    "sql_text = f\"\"\" \n",
    "UPDATE capstone_jmrs.spotahome_merged\n",
    "SET m2 = NULL\n",
    "WHERE m2 = '1'\n",
    "\tOR m2 = '3'\n",
    "\tOR m2 = '8'\n",
    "\tOR m2 = '1000';\n",
    "\"\"\"\n",
    "result = engine.execute(sql_text)"
   ]
  },
  {
   "cell_type": "code",
   "execution_count": 10,
   "metadata": {},
   "outputs": [],
   "source": [
    "sql_text = f\"\"\"\n",
    "ALTER TABLE capstone_jmrs.spotahome_merged\n",
    "\tRENAME COLUMN available_from_total TO available_from;\n",
    "\"\"\"\n",
    "result = engine.execute(sql_text)"
   ]
  },
  {
   "cell_type": "code",
   "execution_count": 11,
   "metadata": {},
   "outputs": [],
   "source": [
    "sql_text = f\"\"\"\n",
    "ALTER TABLE capstone_jmrs.spotahome_merged\n",
    "\tRENAME COLUMN furnished TO furniture;\n",
    "\"\"\"\n",
    "result = engine.execute(sql_text)"
   ]
  },
  {
   "cell_type": "code",
   "execution_count": 12,
   "metadata": {},
   "outputs": [],
   "source": [
    "sql_text = f\"\"\"\n",
    "ALTER TABLE capstone_jmrs.spotahome_merged\n",
    "\tRENAME COLUMN m2 TO size_sqm;\n",
    "\"\"\"\n",
    "result = engine.execute(sql_text)"
   ]
  },
  {
   "cell_type": "code",
   "execution_count": 13,
   "metadata": {},
   "outputs": [],
   "source": [
    "sql_text = f\"\"\"\n",
    "ALTER TABLE capstone_jmrs.spotahome_merged\n",
    "\tRENAME COLUMN neighborhood TO neighbourhood;\n",
    "\"\"\"\n",
    "result = engine.execute(sql_text)"
   ]
  },
  {
   "cell_type": "code",
   "execution_count": 14,
   "metadata": {},
   "outputs": [],
   "source": [
    "sql_text = f\"\"\"\n",
    "UPDATE capstone_jmrs.spotahome_merged\n",
    "SET bedrooms = COALESCE(bedrooms, '0')\n",
    "WHERE housing_type = 'studios';\n",
    "\"\"\"\n",
    "result = engine.execute(sql_text)"
   ]
  },
  {
   "cell_type": "code",
   "execution_count": 15,
   "metadata": {},
   "outputs": [],
   "source": [
    "sql_text = f\"\"\"\n",
    "UPDATE capstone_jmrs.spotahome_merged\n",
    "SET bedrooms = COALESCE(bedrooms, '1')\n",
    "WHERE housing_type = 'apartments/bedrooms:1';\n",
    "\"\"\"\n",
    "result = engine.execute(sql_text)"
   ]
  },
  {
   "cell_type": "code",
   "execution_count": 16,
   "metadata": {},
   "outputs": [],
   "source": [
    "sql_text = f\"\"\"\n",
    "UPDATE capstone_jmrs.spotahome_merged\n",
    "SET bedrooms = COALESCE(bedrooms, '2')\n",
    "WHERE housing_type = 'apartments/bedrooms:2';\n",
    "\"\"\"\n",
    "result = engine.execute(sql_text)"
   ]
  },
  {
   "cell_type": "code",
   "execution_count": 17,
   "metadata": {},
   "outputs": [],
   "source": [
    "sql_text = f\"\"\"\n",
    "UPDATE capstone_jmrs.spotahome_merged\n",
    "SET bedrooms = COALESCE(bedrooms, '3')\n",
    "WHERE housing_type = 'apartments/bedrooms:3';\n",
    "\"\"\"\n",
    "result = engine.execute(sql_text)"
   ]
  },
  {
   "cell_type": "code",
   "execution_count": 18,
   "metadata": {},
   "outputs": [],
   "source": [
    "sql_text = f\"\"\"\n",
    "UPDATE capstone_jmrs.spotahome_merged\n",
    "SET bedrooms = COALESCE(bedrooms, '4')\n",
    "WHERE housing_type = 'apartments/bedrooms:3more';\n",
    "\"\"\"\n",
    "result = engine.execute(sql_text)"
   ]
  },
  {
   "cell_type": "code",
   "execution_count": 19,
   "metadata": {},
   "outputs": [],
   "source": [
    "sql_text = f\"\"\"\n",
    "ALTER TABLE capstone_jmrs.spotahome_merged\n",
    "\tDROP COLUMN housing_type;\n",
    "\"\"\"\n",
    "result = engine.execute(sql_text)"
   ]
  },
  {
   "cell_type": "code",
   "execution_count": 20,
   "metadata": {},
   "outputs": [],
   "source": [
    "sql_text = f\"\"\"\n",
    " UPDATE capstone_jmrs.spotahome_merged\n",
    "\tSET available_today = CASE \n",
    "      \t\t\t\t\t\tWHEN available_from = CURRENT_DATE  THEN 'available'\n",
    "      \t\t\t\t\t\tELSE 'occupied'\n",
    "\t\t\t\t\t\t  END;\n",
    "\"\"\"\n",
    "result = engine.execute(sql_text)"
   ]
  }
 ],
 "metadata": {
  "kernelspec": {
   "display_name": "Python 3.9.13 ('nf_sql')",
   "language": "python",
   "name": "python3"
  },
  "language_info": {
   "codemirror_mode": {
    "name": "ipython",
    "version": 3
   },
   "file_extension": ".py",
   "mimetype": "text/x-python",
   "name": "python",
   "nbconvert_exporter": "python",
   "pygments_lexer": "ipython3",
   "version": "3.9.13"
  },
  "orig_nbformat": 4,
  "vscode": {
   "interpreter": {
    "hash": "a81d278bed5b5b59425dcb5a82ce505657686243c184b4a6b67e69d01c4d432e"
   }
  }
 },
 "nbformat": 4,
 "nbformat_minor": 2
}
