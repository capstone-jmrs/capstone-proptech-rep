{
 "cells": [
  {
   "cell_type": "markdown",
   "metadata": {},
   "source": [
    "## Import libraries"
   ]
  },
  {
   "cell_type": "code",
   "execution_count": 2,
   "metadata": {},
   "outputs": [],
   "source": [
    "import time\n",
    "import requests\n",
    "from bs4 import BeautifulSoup\n",
    "import pandas as pd\n",
    "import re\n",
    "import pandas as pd\n",
    "import datetime as dt\n",
    "import math "
   ]
  },
  {
   "cell_type": "code",
   "execution_count": 6,
   "metadata": {},
   "outputs": [],
   "source": [
    "# create global list of targeted neighbourhoods AND match with platform location IDs\n",
    "neighbourhoods = ['Hammersmith and Fulham', 'Kensington and Chelsea', 'Camden', 'City of Westminster', 'City of London', 'Hackney', 'Lambeth', 'Tower of Hamlets', 'Islington']\n",
    "rightmove_loc_id = ['5E61407', '5E61229', '5E93941', '5E61233', '5E61224', '5E93953', '5E93971', '5E61417', '5E93965']\n",
    "zip_iterator = zip(neighbourhoods, rightmove_loc_id)\n",
    "locations_dict = dict(zip_iterator)\n",
    "    # {'Hammersmith and Fulham': '5E61407',\n",
    "    # 'Kensington and Chelsea': '5E61229',\n",
    "    # 'Camden': '5E93941',\n",
    "    # 'City of Westminster': '5E61233',\n",
    "    # 'City of London': '5E61224',\n",
    "    # 'Hackney': '5E93953',\n",
    "    # 'Lambeth': '5E93971',\n",
    "    # 'Tower of Hamlets': '5E61417',\n",
    "    # 'Islington': '5E93965'}\n",
    "furnishTypes_lst = ['furnished', 'unfurnished', 'partFurnished' ]   # partFurnished gives back more than delta"
   ]
  },
  {
   "cell_type": "markdown",
   "metadata": {},
   "source": [
    "### page count function"
   ]
  },
  {
   "cell_type": "code",
   "execution_count": 91,
   "metadata": {},
   "outputs": [],
   "source": [
    "# returns list of page indices we can use for the url to check every single page of search results\n",
    "def page_count(bs):\n",
    "    result_count = int(bs.find(class_=\"searchHeader-resultCount\").get_text())\n",
    "    num_pages = math.ceil(result_count / 24) # don't know why, but have to use 24 instead of 25 (results per page)\n",
    "    page_indices = [x*24 for x in range(0, num_pages)]\n",
    "    return(page_indices)\n",
    "\n",
    "page_indices = page_count(bs)"
   ]
  },
  {
   "cell_type": "markdown",
   "metadata": {},
   "source": [
    "### ID-Function"
   ]
  },
  {
   "cell_type": "code",
   "execution_count": null,
   "metadata": {},
   "outputs": [],
   "source": [
    "# get internal IDs\n",
    "def get_ids_rm(bs):\n",
    "    ids = bs.find_all(class_ = 'l-searchResult is-list')\n",
    "    ids_lst = [id.get('id') for id in ids]\n",
    "    ids_lst = [(str(x)) for x in ids_lst]\n",
    "    return(ids_lst)\n",
    "\n",
    "get_ids_rm(bs)\n",
    "# ids_lst"
   ]
  },
  {
   "cell_type": "markdown",
   "metadata": {},
   "source": [
    "### Price functions\n"
   ]
  },
  {
   "cell_type": "code",
   "execution_count": 111,
   "metadata": {},
   "outputs": [],
   "source": [
    "# function for prices monthly and weekly(=sec_prices)\n",
    "\n",
    "def get_prices_rm(bs):\n",
    "    prices = bs.find_all(class_= \"propertyCard-priceValue\")\n",
    "    prices_lst = [price.get_text() for price in prices]\n",
    "    # format prices\n",
    "    prices_lst = [price.removesuffix(' pcm').replace('£', '').replace(',', '') for price in prices_lst]\n",
    "    #prices_lst = [float(price) for price in prices_lst]\n",
    "    return(prices_lst)  \n",
    "\n",
    "\n",
    "def get_sec_prices_rm(bs):\n",
    "    sec_prices = bs.find_all(class_= \"propertyCard-secondaryPriceValue\")\n",
    "    sec_prices_lst = [sec_price.get_text() for sec_price in sec_prices]\n",
    "    #format sec_prices\n",
    "    sec_prices_lst = [sec_price.removesuffix(' pw').replace('£', '').replace(',', '') for sec_price in sec_prices_lst]\n",
    "    #sec_prices_lst = [float(sec_price) for sec_price in sec_prices_lst]\n",
    "    return(sec_prices_lst)"
   ]
  },
  {
   "cell_type": "code",
   "execution_count": 184,
   "metadata": {},
   "outputs": [],
   "source": [
    "# # automated scraping of different neighbourhoods\n",
    "# url = f\"https://www.rightmove.co.uk/property-to-rent/find.html?locationIdentifier=REGION%{rightmove_loc_id[0]}&index={page_indices[0]}&propertyTypes=&includeLetAgreed=false&mustHave=&dontShow=houseShare%2Cretirement%2Cstudent&furnishTypes={furnishTypes_lst[0]}&keywords=\"\n",
    "# page = requests.get(url)\n",
    "# html = page.content\n"
   ]
  },
  {
   "cell_type": "code",
   "execution_count": 7,
   "metadata": {},
   "outputs": [],
   "source": [
    "# Static URL:\n",
    "# Neighbourhood 1 - Hammersmith and Fulham; furnished\n",
    "page = requests.get(\"https://www.rightmove.co.uk/property-to-rent/find.html?locationIdentifier=REGION%5E61407&propertyTypes=&includeLetAgreed=false&mustHave=&dontShow=houseShare%2Cretirement%2Cstudent&furnishTypes=furnished&keywords=\")\n",
    "html = page.content\n",
    "bs = BeautifulSoup(html, 'html.parser')\n"
   ]
  },
  {
   "cell_type": "code",
   "execution_count": 113,
   "metadata": {},
   "outputs": [],
   "source": [
    "df_search_rm = pd.DataFrame() "
   ]
  },
  {
   "cell_type": "code",
   "execution_count": 108,
   "metadata": {},
   "outputs": [],
   "source": [
    "page_indices = page_count(bs)"
   ]
  },
  {
   "cell_type": "code",
   "execution_count": 114,
   "metadata": {},
   "outputs": [
    {
     "ename": "ValueError",
     "evalue": "All arrays must be of the same length",
     "output_type": "error",
     "traceback": [
      "\u001b[0;31m---------------------------------------------------------------------------\u001b[0m",
      "\u001b[0;31mValueError\u001b[0m                                Traceback (most recent call last)",
      "\u001b[1;32m/Users/ruben/neuefische_rp/capstone-related/RP-ds-meetups/02_Web_Scraping_With_Beautiful_Soup/rightmove_ruben_1.ipynb Cell 14\u001b[0m in \u001b[0;36m<cell line: 1>\u001b[0;34m()\u001b[0m\n\u001b[1;32m      <a href='vscode-notebook-cell:/Users/ruben/neuefische_rp/capstone-related/RP-ds-meetups/02_Web_Scraping_With_Beautiful_Soup/rightmove_ruben_1.ipynb#X51sZmlsZQ%3D%3D?line=4'>5</a>\u001b[0m bs \u001b[39m=\u001b[39m BeautifulSoup(html, \u001b[39m'\u001b[39m\u001b[39mhtml.parser\u001b[39m\u001b[39m'\u001b[39m)\n\u001b[1;32m      <a href='vscode-notebook-cell:/Users/ruben/neuefische_rp/capstone-related/RP-ds-meetups/02_Web_Scraping_With_Beautiful_Soup/rightmove_ruben_1.ipynb#X51sZmlsZQ%3D%3D?line=6'>7</a>\u001b[0m rightmove_dict \u001b[39m=\u001b[39m {\n\u001b[1;32m      <a href='vscode-notebook-cell:/Users/ruben/neuefische_rp/capstone-related/RP-ds-meetups/02_Web_Scraping_With_Beautiful_Soup/rightmove_ruben_1.ipynb#X51sZmlsZQ%3D%3D?line=7'>8</a>\u001b[0m \u001b[39m'\u001b[39m\u001b[39mid\u001b[39m\u001b[39m'\u001b[39m: get_ids_rm(bs),\n\u001b[1;32m      <a href='vscode-notebook-cell:/Users/ruben/neuefische_rp/capstone-related/RP-ds-meetups/02_Web_Scraping_With_Beautiful_Soup/rightmove_ruben_1.ipynb#X51sZmlsZQ%3D%3D?line=8'>9</a>\u001b[0m \u001b[39m#'location': locations_dict[location],\u001b[39;00m\n\u001b[1;32m     <a href='vscode-notebook-cell:/Users/ruben/neuefische_rp/capstone-related/RP-ds-meetups/02_Web_Scraping_With_Beautiful_Soup/rightmove_ruben_1.ipynb#X51sZmlsZQ%3D%3D?line=9'>10</a>\u001b[0m \u001b[39m'\u001b[39m\u001b[39mprices_pcm\u001b[39m\u001b[39m'\u001b[39m: get_prices_rm(bs),\n\u001b[1;32m     <a href='vscode-notebook-cell:/Users/ruben/neuefische_rp/capstone-related/RP-ds-meetups/02_Web_Scraping_With_Beautiful_Soup/rightmove_ruben_1.ipynb#X51sZmlsZQ%3D%3D?line=10'>11</a>\u001b[0m \u001b[39m'\u001b[39m\u001b[39mprices_pw\u001b[39m\u001b[39m'\u001b[39m: get_sec_prices_rm(bs)\n\u001b[1;32m     <a href='vscode-notebook-cell:/Users/ruben/neuefische_rp/capstone-related/RP-ds-meetups/02_Web_Scraping_With_Beautiful_Soup/rightmove_ruben_1.ipynb#X51sZmlsZQ%3D%3D?line=11'>12</a>\u001b[0m }\n\u001b[0;32m---> <a href='vscode-notebook-cell:/Users/ruben/neuefische_rp/capstone-related/RP-ds-meetups/02_Web_Scraping_With_Beautiful_Soup/rightmove_ruben_1.ipynb#X51sZmlsZQ%3D%3D?line=13'>14</a>\u001b[0m df_page_rm \u001b[39m=\u001b[39m pd\u001b[39m.\u001b[39;49mDataFrame(data\u001b[39m=\u001b[39;49mrightmove_dict) \u001b[39m# dataframe with 24 rows of objects (=1 page of results)\u001b[39;00m\n\u001b[1;32m     <a href='vscode-notebook-cell:/Users/ruben/neuefische_rp/capstone-related/RP-ds-meetups/02_Web_Scraping_With_Beautiful_Soup/rightmove_ruben_1.ipynb#X51sZmlsZQ%3D%3D?line=14'>15</a>\u001b[0m df_page_rm[\u001b[39m'\u001b[39m\u001b[39mlocation\u001b[39m\u001b[39m'\u001b[39m] \u001b[39m=\u001b[39m \u001b[39mlist\u001b[39m(locations_dict\u001b[39m.\u001b[39mkeys())[\u001b[39m0\u001b[39m]\n\u001b[1;32m     <a href='vscode-notebook-cell:/Users/ruben/neuefische_rp/capstone-related/RP-ds-meetups/02_Web_Scraping_With_Beautiful_Soup/rightmove_ruben_1.ipynb#X51sZmlsZQ%3D%3D?line=15'>16</a>\u001b[0m df_page_rm[\u001b[39m'\u001b[39m\u001b[39mfurnish_type\u001b[39m\u001b[39m'\u001b[39m] \u001b[39m=\u001b[39m furnishTypes_lst[\u001b[39m0\u001b[39m]\n",
      "File \u001b[0;32m/opt/homebrew/Caskroom/miniconda/base/envs/nf_sql/lib/python3.9/site-packages/pandas/core/frame.py:636\u001b[0m, in \u001b[0;36mDataFrame.__init__\u001b[0;34m(self, data, index, columns, dtype, copy)\u001b[0m\n\u001b[1;32m    630\u001b[0m     mgr \u001b[39m=\u001b[39m \u001b[39mself\u001b[39m\u001b[39m.\u001b[39m_init_mgr(\n\u001b[1;32m    631\u001b[0m         data, axes\u001b[39m=\u001b[39m{\u001b[39m\"\u001b[39m\u001b[39mindex\u001b[39m\u001b[39m\"\u001b[39m: index, \u001b[39m\"\u001b[39m\u001b[39mcolumns\u001b[39m\u001b[39m\"\u001b[39m: columns}, dtype\u001b[39m=\u001b[39mdtype, copy\u001b[39m=\u001b[39mcopy\n\u001b[1;32m    632\u001b[0m     )\n\u001b[1;32m    634\u001b[0m \u001b[39melif\u001b[39;00m \u001b[39misinstance\u001b[39m(data, \u001b[39mdict\u001b[39m):\n\u001b[1;32m    635\u001b[0m     \u001b[39m# GH#38939 de facto copy defaults to False only in non-dict cases\u001b[39;00m\n\u001b[0;32m--> 636\u001b[0m     mgr \u001b[39m=\u001b[39m dict_to_mgr(data, index, columns, dtype\u001b[39m=\u001b[39;49mdtype, copy\u001b[39m=\u001b[39;49mcopy, typ\u001b[39m=\u001b[39;49mmanager)\n\u001b[1;32m    637\u001b[0m \u001b[39melif\u001b[39;00m \u001b[39misinstance\u001b[39m(data, ma\u001b[39m.\u001b[39mMaskedArray):\n\u001b[1;32m    638\u001b[0m     \u001b[39mimport\u001b[39;00m \u001b[39mnumpy\u001b[39;00m\u001b[39m.\u001b[39;00m\u001b[39mma\u001b[39;00m\u001b[39m.\u001b[39;00m\u001b[39mmrecords\u001b[39;00m \u001b[39mas\u001b[39;00m \u001b[39mmrecords\u001b[39;00m\n",
      "File \u001b[0;32m/opt/homebrew/Caskroom/miniconda/base/envs/nf_sql/lib/python3.9/site-packages/pandas/core/internals/construction.py:502\u001b[0m, in \u001b[0;36mdict_to_mgr\u001b[0;34m(data, index, columns, dtype, typ, copy)\u001b[0m\n\u001b[1;32m    494\u001b[0m     arrays \u001b[39m=\u001b[39m [\n\u001b[1;32m    495\u001b[0m         x\n\u001b[1;32m    496\u001b[0m         \u001b[39mif\u001b[39;00m \u001b[39mnot\u001b[39;00m \u001b[39mhasattr\u001b[39m(x, \u001b[39m\"\u001b[39m\u001b[39mdtype\u001b[39m\u001b[39m\"\u001b[39m) \u001b[39mor\u001b[39;00m \u001b[39mnot\u001b[39;00m \u001b[39misinstance\u001b[39m(x\u001b[39m.\u001b[39mdtype, ExtensionDtype)\n\u001b[1;32m    497\u001b[0m         \u001b[39melse\u001b[39;00m x\u001b[39m.\u001b[39mcopy()\n\u001b[1;32m    498\u001b[0m         \u001b[39mfor\u001b[39;00m x \u001b[39min\u001b[39;00m arrays\n\u001b[1;32m    499\u001b[0m     ]\n\u001b[1;32m    500\u001b[0m     \u001b[39m# TODO: can we get rid of the dt64tz special case above?\u001b[39;00m\n\u001b[0;32m--> 502\u001b[0m \u001b[39mreturn\u001b[39;00m arrays_to_mgr(arrays, columns, index, dtype\u001b[39m=\u001b[39;49mdtype, typ\u001b[39m=\u001b[39;49mtyp, consolidate\u001b[39m=\u001b[39;49mcopy)\n",
      "File \u001b[0;32m/opt/homebrew/Caskroom/miniconda/base/envs/nf_sql/lib/python3.9/site-packages/pandas/core/internals/construction.py:120\u001b[0m, in \u001b[0;36marrays_to_mgr\u001b[0;34m(arrays, columns, index, dtype, verify_integrity, typ, consolidate)\u001b[0m\n\u001b[1;32m    117\u001b[0m \u001b[39mif\u001b[39;00m verify_integrity:\n\u001b[1;32m    118\u001b[0m     \u001b[39m# figure out the index, if necessary\u001b[39;00m\n\u001b[1;32m    119\u001b[0m     \u001b[39mif\u001b[39;00m index \u001b[39mis\u001b[39;00m \u001b[39mNone\u001b[39;00m:\n\u001b[0;32m--> 120\u001b[0m         index \u001b[39m=\u001b[39m _extract_index(arrays)\n\u001b[1;32m    121\u001b[0m     \u001b[39melse\u001b[39;00m:\n\u001b[1;32m    122\u001b[0m         index \u001b[39m=\u001b[39m ensure_index(index)\n",
      "File \u001b[0;32m/opt/homebrew/Caskroom/miniconda/base/envs/nf_sql/lib/python3.9/site-packages/pandas/core/internals/construction.py:674\u001b[0m, in \u001b[0;36m_extract_index\u001b[0;34m(data)\u001b[0m\n\u001b[1;32m    672\u001b[0m lengths \u001b[39m=\u001b[39m \u001b[39mlist\u001b[39m(\u001b[39mset\u001b[39m(raw_lengths))\n\u001b[1;32m    673\u001b[0m \u001b[39mif\u001b[39;00m \u001b[39mlen\u001b[39m(lengths) \u001b[39m>\u001b[39m \u001b[39m1\u001b[39m:\n\u001b[0;32m--> 674\u001b[0m     \u001b[39mraise\u001b[39;00m \u001b[39mValueError\u001b[39;00m(\u001b[39m\"\u001b[39m\u001b[39mAll arrays must be of the same length\u001b[39m\u001b[39m\"\u001b[39m)\n\u001b[1;32m    676\u001b[0m \u001b[39mif\u001b[39;00m have_dicts:\n\u001b[1;32m    677\u001b[0m     \u001b[39mraise\u001b[39;00m \u001b[39mValueError\u001b[39;00m(\n\u001b[1;32m    678\u001b[0m         \u001b[39m\"\u001b[39m\u001b[39mMixing dicts with non-Series may lead to ambiguous ordering.\u001b[39m\u001b[39m\"\u001b[39m\n\u001b[1;32m    679\u001b[0m     )\n",
      "\u001b[0;31mValueError\u001b[0m: All arrays must be of the same length"
     ]
    }
   ],
   "source": [
    "for p in page_indices:\n",
    "    \n",
    "    page = requests.get(f\"https://www.rightmove.co.uk/property-to-rent/find.html?locationIdentifier=REGION%{rightmove_loc_id[0]}&index={p}&propertyTypes=&includeLetAgreed=false&mustHave=&dontShow=houseShare%2Cretirement%2Cstudent&furnishTypes={furnishTypes_lst[0]}&keywords=\")\n",
    "    html = page.content\n",
    "    bs = BeautifulSoup(html, 'html.parser')\n",
    "\n",
    "    rightmove_dict = {\n",
    "    'id': get_ids_rm(bs),\n",
    "    #'location': locations_dict[location],\n",
    "    'prices_pcm': get_prices_rm(bs),\n",
    "    'prices_pw': get_sec_prices_rm(bs)\n",
    "    }\n",
    "\n",
    "    df_page_rm = pd.DataFrame(data=rightmove_dict) # dataframe with 24 rows of objects (=1 page of results)\n",
    "    df_page_rm['location'] = list(locations_dict.keys())[0]\n",
    "    df_page_rm['furnish_type'] = furnishTypes_lst[0]\n",
    "\n",
    "    # append obove dataframe to main df\n",
    "    df_search_rm = pd.concat([df_search_rm, df_page_rm], axis=0, ignore_index=True)\n",
    "    # df_search_rm = df_search_rm.drop_duplicates()\n",
    "\n",
    "    # if dataframe needs to be deleted:\n",
    "    # df_search_rm = df_search_rm.iloc[0:0]"
   ]
  },
  {
   "cell_type": "code",
   "execution_count": 107,
   "metadata": {},
   "outputs": [
    {
     "name": "stdout",
     "output_type": "stream",
     "text": [
      "<class 'pandas.core.frame.DataFrame'>\n",
      "Int64Index: 25 entries, 0 to 24\n",
      "Data columns (total 5 columns):\n",
      " #   Column        Non-Null Count  Dtype  \n",
      "---  ------        --------------  -----  \n",
      " 0   id            25 non-null     object \n",
      " 1   prices_pcm    25 non-null     float64\n",
      " 2   prices_pw     25 non-null     float64\n",
      " 3   location      25 non-null     object \n",
      " 4   furnish_type  25 non-null     object \n",
      "dtypes: float64(2), object(3)\n",
      "memory usage: 1.2+ KB\n"
     ]
    }
   ],
   "source": [
    "df_search_rm = df_search_rm.drop_duplicates()\n",
    "df_search_rm.info()"
   ]
  },
  {
   "cell_type": "code",
   "execution_count": 82,
   "metadata": {},
   "outputs": [],
   "source": [
    "rightmove_dict = {\n",
    "    'id': get_ids_rm(bs),\n",
    "    #'location': locations_dict[location],\n",
    "    'prices_pcm': get_prices_rm(bs),\n",
    "    'prices_pw': get_sec_prices_rm(bs)\n",
    "}"
   ]
  },
  {
   "cell_type": "code",
   "execution_count": 88,
   "metadata": {},
   "outputs": [],
   "source": [
    "df_search_rm = pd.DataFrame()"
   ]
  },
  {
   "cell_type": "code",
   "execution_count": 86,
   "metadata": {},
   "outputs": [],
   "source": [
    "df_page_rm = pd.DataFrame(data=rightmove_dict) # dataframe with 24 rows of objects (=1 page of results)\n",
    "df_page_rm['location'] = list(locations_dict.keys())[0]\n",
    "df_page_rm['furnish_type'] = furnishTypes_lst[0]\n",
    "\n",
    "# append obove dataframe to main df\n",
    "df_search_rm = pd.concat([df_search_rm, df_page_rm], axis=0)\n",
    "# df_search_rm = df_search_rm.drop_duplicates()\n",
    "\n",
    "# if dataframe needs to be deleted:\n",
    "# df_search_rm = df_search_rm.iloc[0:0]"
   ]
  },
  {
   "cell_type": "code",
   "execution_count": 87,
   "metadata": {},
   "outputs": [
    {
     "data": {
      "text/html": [
       "<div>\n",
       "<style scoped>\n",
       "    .dataframe tbody tr th:only-of-type {\n",
       "        vertical-align: middle;\n",
       "    }\n",
       "\n",
       "    .dataframe tbody tr th {\n",
       "        vertical-align: top;\n",
       "    }\n",
       "\n",
       "    .dataframe thead th {\n",
       "        text-align: right;\n",
       "    }\n",
       "</style>\n",
       "<table border=\"1\" class=\"dataframe\">\n",
       "  <thead>\n",
       "    <tr style=\"text-align: right;\">\n",
       "      <th></th>\n",
       "      <th>id</th>\n",
       "      <th>prices_pcm</th>\n",
       "      <th>prices_pw</th>\n",
       "      <th>location</th>\n",
       "      <th>furnish_type</th>\n",
       "    </tr>\n",
       "  </thead>\n",
       "  <tbody>\n",
       "    <tr>\n",
       "      <th>0</th>\n",
       "      <td>property-127242950</td>\n",
       "      <td>2253.0</td>\n",
       "      <td>520.0</td>\n",
       "      <td>Hammersmith and Fulham</td>\n",
       "      <td>furnished</td>\n",
       "    </tr>\n",
       "    <tr>\n",
       "      <th>1</th>\n",
       "      <td>property-127317641</td>\n",
       "      <td>4117.0</td>\n",
       "      <td>950.0</td>\n",
       "      <td>Hammersmith and Fulham</td>\n",
       "      <td>furnished</td>\n",
       "    </tr>\n",
       "    <tr>\n",
       "      <th>2</th>\n",
       "      <td>property-127316813</td>\n",
       "      <td>3575.0</td>\n",
       "      <td>825.0</td>\n",
       "      <td>Hammersmith and Fulham</td>\n",
       "      <td>furnished</td>\n",
       "    </tr>\n",
       "    <tr>\n",
       "      <th>3</th>\n",
       "      <td>property-127310153</td>\n",
       "      <td>2817.0</td>\n",
       "      <td>650.0</td>\n",
       "      <td>Hammersmith and Fulham</td>\n",
       "      <td>furnished</td>\n",
       "    </tr>\n",
       "    <tr>\n",
       "      <th>4</th>\n",
       "      <td>property-127308089</td>\n",
       "      <td>1700.0</td>\n",
       "      <td>392.0</td>\n",
       "      <td>Hammersmith and Fulham</td>\n",
       "      <td>furnished</td>\n",
       "    </tr>\n",
       "    <tr>\n",
       "      <th>5</th>\n",
       "      <td>property-127307447</td>\n",
       "      <td>1400.0</td>\n",
       "      <td>323.0</td>\n",
       "      <td>Hammersmith and Fulham</td>\n",
       "      <td>furnished</td>\n",
       "    </tr>\n",
       "    <tr>\n",
       "      <th>6</th>\n",
       "      <td>property-127301687</td>\n",
       "      <td>2700.0</td>\n",
       "      <td>623.0</td>\n",
       "      <td>Hammersmith and Fulham</td>\n",
       "      <td>furnished</td>\n",
       "    </tr>\n",
       "    <tr>\n",
       "      <th>7</th>\n",
       "      <td>property-127300379</td>\n",
       "      <td>3800.0</td>\n",
       "      <td>877.0</td>\n",
       "      <td>Hammersmith and Fulham</td>\n",
       "      <td>furnished</td>\n",
       "    </tr>\n",
       "    <tr>\n",
       "      <th>8</th>\n",
       "      <td>property-127292888</td>\n",
       "      <td>2383.0</td>\n",
       "      <td>550.0</td>\n",
       "      <td>Hammersmith and Fulham</td>\n",
       "      <td>furnished</td>\n",
       "    </tr>\n",
       "    <tr>\n",
       "      <th>9</th>\n",
       "      <td>property-127292891</td>\n",
       "      <td>3748.0</td>\n",
       "      <td>865.0</td>\n",
       "      <td>Hammersmith and Fulham</td>\n",
       "      <td>furnished</td>\n",
       "    </tr>\n",
       "    <tr>\n",
       "      <th>10</th>\n",
       "      <td>property-127289969</td>\n",
       "      <td>2925.0</td>\n",
       "      <td>675.0</td>\n",
       "      <td>Hammersmith and Fulham</td>\n",
       "      <td>furnished</td>\n",
       "    </tr>\n",
       "    <tr>\n",
       "      <th>11</th>\n",
       "      <td>property-127168670</td>\n",
       "      <td>2384.0</td>\n",
       "      <td>550.0</td>\n",
       "      <td>Hammersmith and Fulham</td>\n",
       "      <td>furnished</td>\n",
       "    </tr>\n",
       "    <tr>\n",
       "      <th>12</th>\n",
       "      <td>property-127288355</td>\n",
       "      <td>1650.0</td>\n",
       "      <td>381.0</td>\n",
       "      <td>Hammersmith and Fulham</td>\n",
       "      <td>furnished</td>\n",
       "    </tr>\n",
       "    <tr>\n",
       "      <th>13</th>\n",
       "      <td>property-127288124</td>\n",
       "      <td>1600.0</td>\n",
       "      <td>369.0</td>\n",
       "      <td>Hammersmith and Fulham</td>\n",
       "      <td>furnished</td>\n",
       "    </tr>\n",
       "    <tr>\n",
       "      <th>14</th>\n",
       "      <td>property-127287614</td>\n",
       "      <td>10000.0</td>\n",
       "      <td>2308.0</td>\n",
       "      <td>Hammersmith and Fulham</td>\n",
       "      <td>furnished</td>\n",
       "    </tr>\n",
       "    <tr>\n",
       "      <th>15</th>\n",
       "      <td>property-127286252</td>\n",
       "      <td>4116.0</td>\n",
       "      <td>950.0</td>\n",
       "      <td>Hammersmith and Fulham</td>\n",
       "      <td>furnished</td>\n",
       "    </tr>\n",
       "    <tr>\n",
       "      <th>16</th>\n",
       "      <td>property-127286246</td>\n",
       "      <td>2816.0</td>\n",
       "      <td>650.0</td>\n",
       "      <td>Hammersmith and Fulham</td>\n",
       "      <td>furnished</td>\n",
       "    </tr>\n",
       "    <tr>\n",
       "      <th>17</th>\n",
       "      <td>property-127286225</td>\n",
       "      <td>3380.0</td>\n",
       "      <td>780.0</td>\n",
       "      <td>Hammersmith and Fulham</td>\n",
       "      <td>furnished</td>\n",
       "    </tr>\n",
       "    <tr>\n",
       "      <th>18</th>\n",
       "      <td>property-127286234</td>\n",
       "      <td>3380.0</td>\n",
       "      <td>780.0</td>\n",
       "      <td>Hammersmith and Fulham</td>\n",
       "      <td>furnished</td>\n",
       "    </tr>\n",
       "    <tr>\n",
       "      <th>19</th>\n",
       "      <td>property-127286165</td>\n",
       "      <td>3510.0</td>\n",
       "      <td>810.0</td>\n",
       "      <td>Hammersmith and Fulham</td>\n",
       "      <td>furnished</td>\n",
       "    </tr>\n",
       "    <tr>\n",
       "      <th>20</th>\n",
       "      <td>property-127286159</td>\n",
       "      <td>3510.0</td>\n",
       "      <td>810.0</td>\n",
       "      <td>Hammersmith and Fulham</td>\n",
       "      <td>furnished</td>\n",
       "    </tr>\n",
       "    <tr>\n",
       "      <th>21</th>\n",
       "      <td>property-127285214</td>\n",
       "      <td>2925.0</td>\n",
       "      <td>675.0</td>\n",
       "      <td>Hammersmith and Fulham</td>\n",
       "      <td>furnished</td>\n",
       "    </tr>\n",
       "    <tr>\n",
       "      <th>22</th>\n",
       "      <td>property-127283027</td>\n",
       "      <td>4225.0</td>\n",
       "      <td>975.0</td>\n",
       "      <td>Hammersmith and Fulham</td>\n",
       "      <td>furnished</td>\n",
       "    </tr>\n",
       "    <tr>\n",
       "      <th>23</th>\n",
       "      <td>property-127280951</td>\n",
       "      <td>2000.0</td>\n",
       "      <td>462.0</td>\n",
       "      <td>Hammersmith and Fulham</td>\n",
       "      <td>furnished</td>\n",
       "    </tr>\n",
       "    <tr>\n",
       "      <th>24</th>\n",
       "      <td>property-127279421</td>\n",
       "      <td>2750.0</td>\n",
       "      <td>635.0</td>\n",
       "      <td>Hammersmith and Fulham</td>\n",
       "      <td>furnished</td>\n",
       "    </tr>\n",
       "  </tbody>\n",
       "</table>\n",
       "</div>"
      ],
      "text/plain": [
       "                    id  prices_pcm  prices_pw                location  \\\n",
       "0   property-127242950      2253.0      520.0  Hammersmith and Fulham   \n",
       "1   property-127317641      4117.0      950.0  Hammersmith and Fulham   \n",
       "2   property-127316813      3575.0      825.0  Hammersmith and Fulham   \n",
       "3   property-127310153      2817.0      650.0  Hammersmith and Fulham   \n",
       "4   property-127308089      1700.0      392.0  Hammersmith and Fulham   \n",
       "5   property-127307447      1400.0      323.0  Hammersmith and Fulham   \n",
       "6   property-127301687      2700.0      623.0  Hammersmith and Fulham   \n",
       "7   property-127300379      3800.0      877.0  Hammersmith and Fulham   \n",
       "8   property-127292888      2383.0      550.0  Hammersmith and Fulham   \n",
       "9   property-127292891      3748.0      865.0  Hammersmith and Fulham   \n",
       "10  property-127289969      2925.0      675.0  Hammersmith and Fulham   \n",
       "11  property-127168670      2384.0      550.0  Hammersmith and Fulham   \n",
       "12  property-127288355      1650.0      381.0  Hammersmith and Fulham   \n",
       "13  property-127288124      1600.0      369.0  Hammersmith and Fulham   \n",
       "14  property-127287614     10000.0     2308.0  Hammersmith and Fulham   \n",
       "15  property-127286252      4116.0      950.0  Hammersmith and Fulham   \n",
       "16  property-127286246      2816.0      650.0  Hammersmith and Fulham   \n",
       "17  property-127286225      3380.0      780.0  Hammersmith and Fulham   \n",
       "18  property-127286234      3380.0      780.0  Hammersmith and Fulham   \n",
       "19  property-127286165      3510.0      810.0  Hammersmith and Fulham   \n",
       "20  property-127286159      3510.0      810.0  Hammersmith and Fulham   \n",
       "21  property-127285214      2925.0      675.0  Hammersmith and Fulham   \n",
       "22  property-127283027      4225.0      975.0  Hammersmith and Fulham   \n",
       "23  property-127280951      2000.0      462.0  Hammersmith and Fulham   \n",
       "24  property-127279421      2750.0      635.0  Hammersmith and Fulham   \n",
       "\n",
       "   furnish_type  \n",
       "0     furnished  \n",
       "1     furnished  \n",
       "2     furnished  \n",
       "3     furnished  \n",
       "4     furnished  \n",
       "5     furnished  \n",
       "6     furnished  \n",
       "7     furnished  \n",
       "8     furnished  \n",
       "9     furnished  \n",
       "10    furnished  \n",
       "11    furnished  \n",
       "12    furnished  \n",
       "13    furnished  \n",
       "14    furnished  \n",
       "15    furnished  \n",
       "16    furnished  \n",
       "17    furnished  \n",
       "18    furnished  \n",
       "19    furnished  \n",
       "20    furnished  \n",
       "21    furnished  \n",
       "22    furnished  \n",
       "23    furnished  \n",
       "24    furnished  "
      ]
     },
     "execution_count": 87,
     "metadata": {},
     "output_type": "execute_result"
    }
   ],
   "source": []
  },
  {
   "cell_type": "markdown",
   "metadata": {},
   "source": [
    "### append platform column"
   ]
  },
  {
   "cell_type": "code",
   "execution_count": null,
   "metadata": {},
   "outputs": [],
   "source": [
    "# append column with platform-name\n",
    "df['platform'] = 'rightmove'"
   ]
  },
  {
   "cell_type": "markdown",
   "metadata": {},
   "source": [
    " ## NOT WORKING"
   ]
  },
  {
   "cell_type": "code",
   "execution_count": 311,
   "metadata": {},
   "outputs": [
    {
     "data": {
      "text/plain": [
       "25"
      ]
     },
     "execution_count": 311,
     "metadata": {},
     "output_type": "execute_result"
    }
   ],
   "source": [
    "b    beds = bs.find_all(class_ = 'l-searchResult is-list')\n",
    "    beds_lst = [id.get('id') for id in ids]\n",
    "    # _lst = [(str(x)) for x in ids_lst]"
   ]
  },
  {
   "cell_type": "code",
   "execution_count": 364,
   "metadata": {},
   "outputs": [
    {
     "data": {
      "text/plain": [
       "[]"
      ]
     },
     "execution_count": 364,
     "metadata": {},
     "output_type": "execute_result"
    }
   ],
   "source": [
    "beds = bs.find_all(class_ = 'property-information')\n",
    "beds_lst = [x.get('aria-hidden') for x in beds]\n",
    "# _lst = [(str(x)) for x in ids_lst]\n",
    "beds_lst"
   ]
  },
  {
   "cell_type": "code",
   "execution_count": 19,
   "metadata": {},
   "outputs": [],
   "source": [
    "today = dt.datetime.today().strftime('%Y-%m-%d %H:%M') # to set the date in the csv filename\n",
    "df.to_csv('spotahome_{}.csv'.format(today), sep='\\t')"
   ]
  }
 ],
 "metadata": {
  "kernelspec": {
   "display_name": "Python 3.9.13 ('nf_sql')",
   "language": "python",
   "name": "python3"
  },
  "language_info": {
   "codemirror_mode": {
    "name": "ipython",
    "version": 3
   },
   "file_extension": ".py",
   "mimetype": "text/x-python",
   "name": "python",
   "nbconvert_exporter": "python",
   "pygments_lexer": "ipython3",
   "version": "3.9.13"
  },
  "orig_nbformat": 4,
  "vscode": {
   "interpreter": {
    "hash": "a81d278bed5b5b59425dcb5a82ce505657686243c184b4a6b67e69d01c4d432e"
   }
  }
 },
 "nbformat": 4,
 "nbformat_minor": 2
}
