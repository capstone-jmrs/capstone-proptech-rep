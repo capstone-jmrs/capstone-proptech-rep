{
 "cells": [
  {
   "cell_type": "markdown",
   "metadata": {},
   "source": [
    "## Import libraries"
   ]
  },
  {
   "cell_type": "code",
   "execution_count": 2,
   "metadata": {},
   "outputs": [],
   "source": [
    "import time\n",
    "import requests\n",
    "from bs4 import BeautifulSoup\n",
    "import pandas as pd\n",
    "import re\n",
    "import pandas as pd\n",
    "import datetime as dt\n",
    "import math "
   ]
  },
  {
   "cell_type": "code",
   "execution_count": 6,
   "metadata": {},
   "outputs": [],
   "source": [
    "# create global list of targeted neighbourhoods AND match with platform location IDs\n",
    "neighbourhoods = ['Hammersmith and Fulham', 'Kensington and Chelsea', 'Camden', 'City of Westminster', 'City of London', 'Hackney', 'Lambeth', 'Tower of Hamlets', 'Islington']\n",
    "rightmove_loc_id = ['5E61407', '5E61229', '5E93941', '5E61233', '5E61224', '5E93953', '5E93971', '5E61417', '5E93965']\n",
    "zip_iterator = zip(neighbourhoods, rightmove_loc_id)\n",
    "locations_dict = dict(zip_iterator)\n",
    "    # {'Hammersmith and Fulham': '5E61407',\n",
    "    # 'Kensington and Chelsea': '5E61229',\n",
    "    # 'Camden': '5E93941',\n",
    "    # 'City of Westminster': '5E61233',\n",
    "    # 'City of London': '5E61224',\n",
    "    # 'Hackney': '5E93953',\n",
    "    # 'Lambeth': '5E93971',\n",
    "    # 'Tower of Hamlets': '5E61417',\n",
    "    # 'Islington': '5E93965'}\n",
    "furnishTypes_lst = ['furnished', 'unfurnished', 'partFurnished' ]   # partFurnished gives back more than delta"
   ]
  },
  {
   "cell_type": "markdown",
   "metadata": {},
   "source": [
    "### page count function"
   ]
  },
  {
   "cell_type": "code",
   "execution_count": 153,
   "metadata": {},
   "outputs": [],
   "source": [
    "# returns list of page indices we can use for the url to check every single page of search results\n",
    "def page_count(bs):\n",
    "    result_count = int(bs.find(class_=\"searchHeader-resultCount\").get_text())\n",
    "    num_pages = math.ceil(result_count / 24) # don't know why, but have to use 24 instead of 25 (results per page)\n",
    "    page_indices = [x*24 for x in range(0, num_pages)]\n",
    "    return(page_indices)\n",
    "\n",
    "page_indices = page_count(bs)"
   ]
  },
  {
   "cell_type": "markdown",
   "metadata": {},
   "source": [
    "### ID-Function"
   ]
  },
  {
   "cell_type": "code",
   "execution_count": null,
   "metadata": {},
   "outputs": [],
   "source": [
    "# get internal IDs\n",
    "def get_ids_rm(bs):\n",
    "    ids = bs.find_all(class_ = 'l-searchResult is-list')\n",
    "    ids_lst = [id.get('id') for id in ids]\n",
    "    ids_lst = [(str(x)) for x in ids_lst]\n",
    "    return(ids_lst)\n",
    "\n",
    "get_ids_rm(bs)\n",
    "# ids_lst"
   ]
  },
  {
   "cell_type": "markdown",
   "metadata": {},
   "source": [
    "### Price functions\n"
   ]
  },
  {
   "cell_type": "code",
   "execution_count": 179,
   "metadata": {},
   "outputs": [],
   "source": [
    "# function for prices monthly and weekly(=sec_prices)\n",
    "\n",
    "def get_prices_rm(bs):\n",
    "    prices = bs.find_all(class_= \"propertyCard-priceValue\")\n",
    "    prices_lst = [price.get_text() for price in prices]\n",
    "    # format prices\n",
    "    prices_lst = [price.removesuffix(' pcm').replace('£', '').replace(',', '') for price in prices_lst]\n",
    "    #prices_lst = [float(price) for price in prices_lst]\n",
    "    prices_lst = list(filter(None, prices_lst))\n",
    "    return(prices_lst)  \n",
    "\n",
    "\n",
    "def get_sec_prices_rm(bs):\n",
    "    sec_prices = bs.find_all(class_= \"propertyCard-secondaryPriceValue\")\n",
    "    sec_prices_lst = [sec_price.get_text() for sec_price in sec_prices]\n",
    "    #format sec_prices\n",
    "    sec_prices_lst = [sec_price.removesuffix(' pw').replace('£', '').replace(',', '') for sec_price in sec_prices_lst]\n",
    "    #sec_prices_lst = [float(sec_price) for sec_price in sec_prices_lst]\n",
    "    sec_prices_lst = list(filter(None, sec_prices_lst))\n",
    "    return(sec_prices_lst)"
   ]
  },
  {
   "cell_type": "code",
   "execution_count": null,
   "metadata": {},
   "outputs": [],
   "source": [
    "list2 = [1, 6, [], 3, [], [], 9]\n",
    "\n",
    "res = list(filter(None, list2))\n",
    "print(res)"
   ]
  },
  {
   "cell_type": "code",
   "execution_count": 176,
   "metadata": {},
   "outputs": [
    {
     "data": {
      "text/plain": [
       "['3748', '3120', '2383']"
      ]
     },
     "execution_count": 176,
     "metadata": {},
     "output_type": "execute_result"
    }
   ],
   "source": [
    "get_prices_rm(bs)"
   ]
  },
  {
   "cell_type": "code",
   "execution_count": 184,
   "metadata": {},
   "outputs": [],
   "source": [
    "# # automated scraping of different neighbourhoods\n",
    "# url = f\"https://www.rightmove.co.uk/property-to-rent/find.html?locationIdentifier=REGION%{rightmove_loc_id[0]}&index={page_indices[0]}&propertyTypes=&includeLetAgreed=false&mustHave=&dontShow=houseShare%2Cretirement%2Cstudent&furnishTypes={furnishTypes_lst[0]}&keywords=\"\n",
    "# page = requests.get(url)\n",
    "# html = page.content\n"
   ]
  },
  {
   "cell_type": "code",
   "execution_count": null,
   "metadata": {},
   "outputs": [],
   "source": [
    "https://www.rightmove.co.uk/property-to-rent/find.html?locationIdentifier=REGION%5E61407&propertyTypes=&includeLetAgreed=false&mustHave=&dontShow=houseShare%2Cretirement%2Cstudent&furnishTypes=furnished&keywords="
   ]
  },
  {
   "cell_type": "code",
   "execution_count": 7,
   "metadata": {},
   "outputs": [],
   "source": [
    "b# Static URL:\n",
    "# Neighbourhood 1 - Hammersmith and Fulham; furnished\n",
    "page = requests.get(\"https://www.rightmove.co.uk/property-to-rent/find.html?locationIdentifier=REGION%5E61407&propertyTypes=&includeLetAgreed=false&mustHave=&dontShow=houseShare%2Cretirement%2Cstudent&furnishTypes=furnished&keywords=\")\n",
    "html = page.content\n",
    "bs = BeautifulSoup(html, 'html.parser')\n"
   ]
  },
  {
   "cell_type": "code",
   "execution_count": 172,
   "metadata": {},
   "outputs": [],
   "source": [
    "# Static URL:\n",
    "# Neighbourhood 1 - Hammersmith and Fulham; furnished\n",
    "page = requests.get(\"https://www.rightmove.co.uk/property-to-rent/find.html?locationIdentifier=REGION%5E61407&index=480&propertyTypes=&includeLetAgreed=false&mustHave=&dontShow=houseShare%2Cretirement%2Cstudent&furnishTypes=furnished&keywords=\")\n",
    "html = page.content\n",
    "bs = BeautifulSoup(html, 'html.parser')"
   ]
  },
  {
   "cell_type": "code",
   "execution_count": 185,
   "metadata": {},
   "outputs": [],
   "source": [
    "page_indices = page_count(bs)"
   ]
  },
  {
   "cell_type": "code",
   "execution_count": null,
   "metadata": {},
   "outputs": [],
   "source": [
    "page_indices"
   ]
  },
  {
   "cell_type": "code",
   "execution_count": 188,
   "metadata": {},
   "outputs": [],
   "source": [
    "df_search_rm = pd.DataFrame() "
   ]
  },
  {
   "cell_type": "code",
   "execution_count": 138,
   "metadata": {},
   "outputs": [],
   "source": [
    "x = '5E61407'\n"
   ]
  },
  {
   "cell_type": "code",
   "execution_count": 189,
   "metadata": {},
   "outputs": [],
   "source": [
    "for p in page_indices:\n",
    "    \n",
    "    page = requests.get(f\"https://www.rightmove.co.uk/property-to-rent/find.html?locationIdentifier=REGION%{x}&index={p}&propertyTypes=&includeLetAgreed=false&mustHave=&dontShow=houseShare%2Cretirement%2Cstudent&furnishTypes={furnishTypes_lst[0]}&keywords=\")\n",
    "    html = page.content\n",
    "    bs = BeautifulSoup(html, 'html.parser')\n",
    "\n",
    "    rightmove_dict = {\n",
    "    'id': get_ids_rm(bs),\n",
    "    #'location': locations_dict[location],\n",
    "    'prices_pcm': get_prices_rm(bs),\n",
    "    'prices_pw': get_sec_prices_rm(bs)\n",
    "    }\n",
    "\n",
    "    df_page_rm = pd.DataFrame(data=rightmove_dict) # dataframe with 24 rows of objects (=1 page of results)\n",
    "    df_page_rm['location'] = list(locations_dict.keys())[0]\n",
    "    df_page_rm['furnish_type'] = furnishTypes_lst[0]\n",
    "\n",
    "    # append obove dataframe to main df\n",
    "    df_search_rm = pd.concat([df_search_rm, df_page_rm], axis=0, ignore_index=True)\n",
    "    # df_search_rm = df_search_rm.drop_duplicates()\n",
    "\n",
    "    # if dataframe needs to be deleted:\n",
    "    # df_search_rm = df_search_rm.iloc[0:0]"
   ]
  },
  {
   "cell_type": "code",
   "execution_count": 191,
   "metadata": {},
   "outputs": [
    {
     "data": {
      "text/html": [
       "<div>\n",
       "<style scoped>\n",
       "    .dataframe tbody tr th:only-of-type {\n",
       "        vertical-align: middle;\n",
       "    }\n",
       "\n",
       "    .dataframe tbody tr th {\n",
       "        vertical-align: top;\n",
       "    }\n",
       "\n",
       "    .dataframe thead th {\n",
       "        text-align: right;\n",
       "    }\n",
       "</style>\n",
       "<table border=\"1\" class=\"dataframe\">\n",
       "  <thead>\n",
       "    <tr style=\"text-align: right;\">\n",
       "      <th></th>\n",
       "      <th>id</th>\n",
       "      <th>prices_pcm</th>\n",
       "      <th>prices_pw</th>\n",
       "      <th>location</th>\n",
       "      <th>furnish_type</th>\n",
       "    </tr>\n",
       "  </thead>\n",
       "  <tbody>\n",
       "    <tr>\n",
       "      <th>0</th>\n",
       "      <td>property-126878960</td>\n",
       "      <td>3467</td>\n",
       "      <td>800</td>\n",
       "      <td>Hammersmith and Fulham</td>\n",
       "      <td>furnished</td>\n",
       "    </tr>\n",
       "    <tr>\n",
       "      <th>1</th>\n",
       "      <td>property-127341623</td>\n",
       "      <td>4575</td>\n",
       "      <td>1056</td>\n",
       "      <td>Hammersmith and Fulham</td>\n",
       "      <td>furnished</td>\n",
       "    </tr>\n",
       "    <tr>\n",
       "      <th>2</th>\n",
       "      <td>property-127341047</td>\n",
       "      <td>6500</td>\n",
       "      <td>1500</td>\n",
       "      <td>Hammersmith and Fulham</td>\n",
       "      <td>furnished</td>\n",
       "    </tr>\n",
       "    <tr>\n",
       "      <th>3</th>\n",
       "      <td>property-127340480</td>\n",
       "      <td>4333</td>\n",
       "      <td>1000</td>\n",
       "      <td>Hammersmith and Fulham</td>\n",
       "      <td>furnished</td>\n",
       "    </tr>\n",
       "    <tr>\n",
       "      <th>4</th>\n",
       "      <td>property-84462349</td>\n",
       "      <td>1842</td>\n",
       "      <td>425</td>\n",
       "      <td>Hammersmith and Fulham</td>\n",
       "      <td>furnished</td>\n",
       "    </tr>\n",
       "    <tr>\n",
       "      <th>...</th>\n",
       "      <td>...</td>\n",
       "      <td>...</td>\n",
       "      <td>...</td>\n",
       "      <td>...</td>\n",
       "      <td>...</td>\n",
       "    </tr>\n",
       "    <tr>\n",
       "      <th>500</th>\n",
       "      <td>property-123293252</td>\n",
       "      <td>4875</td>\n",
       "      <td>1125</td>\n",
       "      <td>Hammersmith and Fulham</td>\n",
       "      <td>furnished</td>\n",
       "    </tr>\n",
       "    <tr>\n",
       "      <th>501</th>\n",
       "      <td>property-49234905</td>\n",
       "      <td>4182</td>\n",
       "      <td>965</td>\n",
       "      <td>Hammersmith and Fulham</td>\n",
       "      <td>furnished</td>\n",
       "    </tr>\n",
       "    <tr>\n",
       "      <th>502</th>\n",
       "      <td>property-49234758</td>\n",
       "      <td>3120</td>\n",
       "      <td>720</td>\n",
       "      <td>Hammersmith and Fulham</td>\n",
       "      <td>furnished</td>\n",
       "    </tr>\n",
       "    <tr>\n",
       "      <th>503</th>\n",
       "      <td>property-49234605</td>\n",
       "      <td>2383</td>\n",
       "      <td>550</td>\n",
       "      <td>Hammersmith and Fulham</td>\n",
       "      <td>furnished</td>\n",
       "    </tr>\n",
       "    <tr>\n",
       "      <th>504</th>\n",
       "      <td>property-126994979</td>\n",
       "      <td>3033</td>\n",
       "      <td>700</td>\n",
       "      <td>Hammersmith and Fulham</td>\n",
       "      <td>furnished</td>\n",
       "    </tr>\n",
       "  </tbody>\n",
       "</table>\n",
       "<p>505 rows × 5 columns</p>\n",
       "</div>"
      ],
      "text/plain": [
       "                     id prices_pcm prices_pw                location  \\\n",
       "0    property-126878960       3467       800  Hammersmith and Fulham   \n",
       "1    property-127341623       4575      1056  Hammersmith and Fulham   \n",
       "2    property-127341047       6500      1500  Hammersmith and Fulham   \n",
       "3    property-127340480       4333      1000  Hammersmith and Fulham   \n",
       "4     property-84462349       1842       425  Hammersmith and Fulham   \n",
       "..                  ...        ...       ...                     ...   \n",
       "500  property-123293252       4875      1125  Hammersmith and Fulham   \n",
       "501   property-49234905       4182       965  Hammersmith and Fulham   \n",
       "502   property-49234758       3120       720  Hammersmith and Fulham   \n",
       "503   property-49234605       2383       550  Hammersmith and Fulham   \n",
       "504  property-126994979       3033       700  Hammersmith and Fulham   \n",
       "\n",
       "    furnish_type  \n",
       "0      furnished  \n",
       "1      furnished  \n",
       "2      furnished  \n",
       "3      furnished  \n",
       "4      furnished  \n",
       "..           ...  \n",
       "500    furnished  \n",
       "501    furnished  \n",
       "502    furnished  \n",
       "503    furnished  \n",
       "504    furnished  \n",
       "\n",
       "[505 rows x 5 columns]"
      ]
     },
     "execution_count": 191,
     "metadata": {},
     "output_type": "execute_result"
    }
   ],
   "source": [
    "#df_search_rm = df_search_rm.drop_duplicates()\n",
    "df_search_rm"
   ]
  },
  {
   "cell_type": "code",
   "execution_count": 82,
   "metadata": {},
   "outputs": [],
   "source": [
    "rightmove_dict = {\n",
    "    'id': get_ids_rm(bs),\n",
    "    #'location': locations_dict[location],\n",
    "    'prices_pcm': get_prices_rm(bs),\n",
    "    'prices_pw': get_sec_prices_rm(bs)\n",
    "}"
   ]
  },
  {
   "cell_type": "code",
   "execution_count": 88,
   "metadata": {},
   "outputs": [],
   "source": [
    "df_search_rm = pd.DataFrame()"
   ]
  },
  {
   "cell_type": "code",
   "execution_count": 86,
   "metadata": {},
   "outputs": [],
   "source": [
    "df_page_rm = pd.DataFrame(data=rightmove_dict) # dataframe with 24 rows of objects (=1 page of results)\n",
    "df_page_rm['location'] = list(locations_dict.keys())[0]\n",
    "df_page_rm['furnish_type'] = furnishTypes_lst[0]\n",
    "\n",
    "# append obove dataframe to main df\n",
    "df_search_rm = pd.concat([df_search_rm, df_page_rm], axis=0)\n",
    "# df_search_rm = df_search_rm.drop_duplicates()\n",
    "\n",
    "# if dataframe needs to be deleted:\n",
    "# df_search_rm = df_search_rm.iloc[0:0]"
   ]
  },
  {
   "cell_type": "code",
   "execution_count": 126,
   "metadata": {},
   "outputs": [
    {
     "data": {
      "text/plain": [
       "476"
      ]
     },
     "execution_count": 126,
     "metadata": {},
     "output_type": "execute_result"
    }
   ],
   "source": [
    "df_search_rm['id'].nunique()"
   ]
  },
  {
   "cell_type": "code",
   "execution_count": 134,
   "metadata": {},
   "outputs": [
    {
     "data": {
      "text/html": [
       "<div>\n",
       "<style scoped>\n",
       "    .dataframe tbody tr th:only-of-type {\n",
       "        vertical-align: middle;\n",
       "    }\n",
       "\n",
       "    .dataframe tbody tr th {\n",
       "        vertical-align: top;\n",
       "    }\n",
       "\n",
       "    .dataframe thead th {\n",
       "        text-align: right;\n",
       "    }\n",
       "</style>\n",
       "<table border=\"1\" class=\"dataframe\">\n",
       "  <thead>\n",
       "    <tr style=\"text-align: right;\">\n",
       "      <th></th>\n",
       "    </tr>\n",
       "  </thead>\n",
       "  <tbody>\n",
       "  </tbody>\n",
       "</table>\n",
       "</div>"
      ],
      "text/plain": [
       "Empty DataFrame\n",
       "Columns: []\n",
       "Index: []"
      ]
     },
     "execution_count": 134,
     "metadata": {},
     "output_type": "execute_result"
    }
   ],
   "source": [
    "df_search_rm.head"
   ]
  },
  {
   "cell_type": "markdown",
   "metadata": {},
   "source": [
    "### append platform column"
   ]
  },
  {
   "cell_type": "code",
   "execution_count": null,
   "metadata": {},
   "outputs": [],
   "source": [
    "# append column with platform-name\n",
    "df['platform'] = 'rightmove'"
   ]
  },
  {
   "cell_type": "markdown",
   "metadata": {},
   "source": [
    " ## NOT WORKING"
   ]
  },
  {
   "cell_type": "code",
   "execution_count": 311,
   "metadata": {},
   "outputs": [
    {
     "data": {
      "text/plain": [
       "25"
      ]
     },
     "execution_count": 311,
     "metadata": {},
     "output_type": "execute_result"
    }
   ],
   "source": [
    "b    beds = bs.find_all(class_ = 'l-searchResult is-list')\n",
    "    beds_lst = [id.get('id') for id in ids]\n",
    "    # _lst = [(str(x)) for x in ids_lst]"
   ]
  },
  {
   "cell_type": "code",
   "execution_count": 364,
   "metadata": {},
   "outputs": [
    {
     "data": {
      "text/plain": [
       "[]"
      ]
     },
     "execution_count": 364,
     "metadata": {},
     "output_type": "execute_result"
    }
   ],
   "source": [
    "beds = bs.find_all(class_ = 'property-information')\n",
    "beds_lst = [x.get('aria-hidden') for x in beds]\n",
    "# _lst = [(str(x)) for x in ids_lst]\n",
    "beds_lst"
   ]
  },
  {
   "cell_type": "code",
   "execution_count": 19,
   "metadata": {},
   "outputs": [],
   "source": [
    "today = dt.datetime.today().strftime('%Y-%m-%d %H:%M') # to set the date in the csv filename\n",
    "df.to_csv('spotahome_{}.csv'.format(today), sep='\\t')"
   ]
  }
 ],
 "metadata": {
  "kernelspec": {
   "display_name": "Python 3.9.13 ('nf_sql')",
   "language": "python",
   "name": "python3"
  },
  "language_info": {
   "codemirror_mode": {
    "name": "ipython",
    "version": 3
   },
   "file_extension": ".py",
   "mimetype": "text/x-python",
   "name": "python",
   "nbconvert_exporter": "python",
   "pygments_lexer": "ipython3",
   "version": "3.9.13"
  },
  "orig_nbformat": 4,
  "vscode": {
   "interpreter": {
    "hash": "a81d278bed5b5b59425dcb5a82ce505657686243c184b4a6b67e69d01c4d432e"
   }
  }
 },
 "nbformat": 4,
 "nbformat_minor": 2
}
