{
 "cells": [
  {
   "cell_type": "code",
   "execution_count": 1,
   "metadata": {},
   "outputs": [],
   "source": [
    "import requests                 # requests on websites\n",
    "from bs4 import BeautifulSoup   # html parsing\n",
    "\n",
    "import pandas as pd             # pandas for data frame\n",
    "import numpy as np              # numpy for numerical operations\n",
    "\n",
    "import math                     # for math methods\n",
    "import time                     # for sleep timer\n",
    "import random                   # for random number generator\n",
    "\n",
    "import sql_functions as sf      # for sql functions\n",
    "from sql_functions import *     # functions from file for upload on schema\n",
    "\n",
    "import sqlalchemy               # for sql connection\n",
    "import psycopg2                 # for upload on engine\n",
    "\n",
    "import datetime as dt           # for the csv file with the current date and time\n",
    "from datetime import date       # for the csv file with the current date and time\n",
    "import re                       # for regular expressions\n",
    "\n",
    "import matplotlib as mpl        # for plotting\n",
    "import matplotlib.pyplot as plt # for plotting\n",
    "import seaborn as sns           # for plotting"
   ]
  },
  {
   "cell_type": "code",
   "execution_count": 2,
   "metadata": {},
   "outputs": [],
   "source": [
    "geodata = pd.read_csv(\"geodata.csv\", delimiter=',')"
   ]
  },
  {
   "cell_type": "code",
   "execution_count": 3,
   "metadata": {},
   "outputs": [
    {
     "data": {
      "text/html": [
       "<div>\n",
       "<style scoped>\n",
       "    .dataframe tbody tr th:only-of-type {\n",
       "        vertical-align: middle;\n",
       "    }\n",
       "\n",
       "    .dataframe tbody tr th {\n",
       "        vertical-align: top;\n",
       "    }\n",
       "\n",
       "    .dataframe thead th {\n",
       "        text-align: right;\n",
       "    }\n",
       "</style>\n",
       "<table border=\"1\" class=\"dataframe\">\n",
       "  <thead>\n",
       "    <tr style=\"text-align: right;\">\n",
       "      <th></th>\n",
       "      <th>neighbourhood</th>\n",
       "      <th>latitude</th>\n",
       "      <th>longitude</th>\n",
       "    </tr>\n",
       "  </thead>\n",
       "  <tbody>\n",
       "    <tr>\n",
       "      <th>0</th>\n",
       "      <td>Camden</td>\n",
       "      <td>51.539089</td>\n",
       "      <td>-0.144174</td>\n",
       "    </tr>\n",
       "    <tr>\n",
       "      <th>1</th>\n",
       "      <td>City of London</td>\n",
       "      <td>51.513337</td>\n",
       "      <td>-0.090440</td>\n",
       "    </tr>\n",
       "    <tr>\n",
       "      <th>2</th>\n",
       "      <td>City of Westminster</td>\n",
       "      <td>51.497994</td>\n",
       "      <td>-0.137879</td>\n",
       "    </tr>\n",
       "    <tr>\n",
       "      <th>3</th>\n",
       "      <td>Hackney</td>\n",
       "      <td>51.544121</td>\n",
       "      <td>-0.053816</td>\n",
       "    </tr>\n",
       "    <tr>\n",
       "      <th>4</th>\n",
       "      <td>Hammersmith and Fulham</td>\n",
       "      <td>51.483803</td>\n",
       "      <td>-0.209715</td>\n",
       "    </tr>\n",
       "    <tr>\n",
       "      <th>5</th>\n",
       "      <td>Islington</td>\n",
       "      <td>51.539153</td>\n",
       "      <td>-0.101154</td>\n",
       "    </tr>\n",
       "    <tr>\n",
       "      <th>6</th>\n",
       "      <td>Kensington and Chelsea</td>\n",
       "      <td>51.492280</td>\n",
       "      <td>-0.179455</td>\n",
       "    </tr>\n",
       "    <tr>\n",
       "      <th>7</th>\n",
       "      <td>Lambeth</td>\n",
       "      <td>51.494184</td>\n",
       "      <td>-0.118473</td>\n",
       "    </tr>\n",
       "    <tr>\n",
       "      <th>8</th>\n",
       "      <td>Tower Hamlets</td>\n",
       "      <td>51.505533</td>\n",
       "      <td>-0.019871</td>\n",
       "    </tr>\n",
       "  </tbody>\n",
       "</table>\n",
       "</div>"
      ],
      "text/plain": [
       "            neighbourhood   latitude  longitude\n",
       "0                  Camden  51.539089  -0.144174\n",
       "1          City of London  51.513337  -0.090440\n",
       "2     City of Westminster  51.497994  -0.137879\n",
       "3                 Hackney  51.544121  -0.053816\n",
       "4  Hammersmith and Fulham  51.483803  -0.209715\n",
       "5               Islington  51.539153  -0.101154\n",
       "6  Kensington and Chelsea  51.492280  -0.179455\n",
       "7                 Lambeth  51.494184  -0.118473\n",
       "8           Tower Hamlets  51.505533  -0.019871"
      ]
     },
     "execution_count": 3,
     "metadata": {},
     "output_type": "execute_result"
    }
   ],
   "source": [
    "geodata"
   ]
  },
  {
   "cell_type": "code",
   "execution_count": 4,
   "metadata": {},
   "outputs": [
    {
     "name": "stdout",
     "output_type": "stream",
     "text": [
      "<class 'pandas.core.frame.DataFrame'>\n",
      "RangeIndex: 9 entries, 0 to 8\n",
      "Data columns (total 3 columns):\n",
      " #   Column         Non-Null Count  Dtype  \n",
      "---  ------         --------------  -----  \n",
      " 0   neighbourhood  9 non-null      object \n",
      " 1   latitude       9 non-null      float64\n",
      " 2   longitude      9 non-null      float64\n",
      "dtypes: float64(2), object(1)\n",
      "memory usage: 344.0+ bytes\n"
     ]
    }
   ],
   "source": [
    "geodata.info()"
   ]
  },
  {
   "cell_type": "code",
   "execution_count": 5,
   "metadata": {},
   "outputs": [
    {
     "data": {
      "text/html": [
       "<div>\n",
       "<style scoped>\n",
       "    .dataframe tbody tr th:only-of-type {\n",
       "        vertical-align: middle;\n",
       "    }\n",
       "\n",
       "    .dataframe tbody tr th {\n",
       "        vertical-align: top;\n",
       "    }\n",
       "\n",
       "    .dataframe thead th {\n",
       "        text-align: right;\n",
       "    }\n",
       "</style>\n",
       "<table border=\"1\" class=\"dataframe\">\n",
       "  <thead>\n",
       "    <tr style=\"text-align: right;\">\n",
       "      <th></th>\n",
       "      <th>neighbourhood</th>\n",
       "      <th>latitude</th>\n",
       "      <th>longitude</th>\n",
       "    </tr>\n",
       "  </thead>\n",
       "  <tbody>\n",
       "    <tr>\n",
       "      <th>0</th>\n",
       "      <td>Camden</td>\n",
       "      <td>51.539089</td>\n",
       "      <td>-0.144174</td>\n",
       "    </tr>\n",
       "    <tr>\n",
       "      <th>1</th>\n",
       "      <td>City of London</td>\n",
       "      <td>51.513337</td>\n",
       "      <td>-0.090440</td>\n",
       "    </tr>\n",
       "    <tr>\n",
       "      <th>2</th>\n",
       "      <td>City of Westminster</td>\n",
       "      <td>51.497994</td>\n",
       "      <td>-0.137879</td>\n",
       "    </tr>\n",
       "    <tr>\n",
       "      <th>3</th>\n",
       "      <td>Hackney</td>\n",
       "      <td>51.544121</td>\n",
       "      <td>-0.053816</td>\n",
       "    </tr>\n",
       "    <tr>\n",
       "      <th>4</th>\n",
       "      <td>Hammersmith and Fulham</td>\n",
       "      <td>51.483803</td>\n",
       "      <td>-0.209715</td>\n",
       "    </tr>\n",
       "    <tr>\n",
       "      <th>5</th>\n",
       "      <td>Islington</td>\n",
       "      <td>51.539153</td>\n",
       "      <td>-0.101154</td>\n",
       "    </tr>\n",
       "    <tr>\n",
       "      <th>6</th>\n",
       "      <td>Kensington and Chelsea</td>\n",
       "      <td>51.492280</td>\n",
       "      <td>-0.179455</td>\n",
       "    </tr>\n",
       "    <tr>\n",
       "      <th>7</th>\n",
       "      <td>Lambeth</td>\n",
       "      <td>51.494184</td>\n",
       "      <td>-0.118473</td>\n",
       "    </tr>\n",
       "    <tr>\n",
       "      <th>8</th>\n",
       "      <td>Tower Hamlets</td>\n",
       "      <td>51.505533</td>\n",
       "      <td>-0.019871</td>\n",
       "    </tr>\n",
       "  </tbody>\n",
       "</table>\n",
       "</div>"
      ],
      "text/plain": [
       "            neighbourhood   latitude  longitude\n",
       "0                  Camden  51.539089  -0.144174\n",
       "1          City of London  51.513337  -0.090440\n",
       "2     City of Westminster  51.497994  -0.137879\n",
       "3                 Hackney  51.544121  -0.053816\n",
       "4  Hammersmith and Fulham  51.483803  -0.209715\n",
       "5               Islington  51.539153  -0.101154\n",
       "6  Kensington and Chelsea  51.492280  -0.179455\n",
       "7                 Lambeth  51.494184  -0.118473\n",
       "8           Tower Hamlets  51.505533  -0.019871"
      ]
     },
     "metadata": {},
     "output_type": "display_data"
    }
   ],
   "source": [
    "display(geodata)"
   ]
  },
  {
   "cell_type": "code",
   "execution_count": 6,
   "metadata": {},
   "outputs": [
    {
     "name": "stdout",
     "output_type": "stream",
     "text": [
      "The geodata table was imported successfully.\n"
     ]
    }
   ],
   "source": [
    "# call the schema created for this project\n",
    "schema = 'capstone_jmrs'\n",
    "# get the function to connect to the database\n",
    "engine = get_engine()\n",
    "\n",
    "# give the table a unique name\n",
    "table_name = \"geodata\"\n",
    "\n",
    "# import the table to sql\n",
    "if engine != None:\n",
    "    try:\n",
    "        geodata.to_sql(name=table_name,\n",
    "                                   con=engine,\n",
    "                                   if_exists='replace',\n",
    "                                   schema=schema,\n",
    "                                   index=False,\n",
    "                                   chunksize=5000,\n",
    "                                   method='multi')\n",
    "        print(f\"The {table_name} table was imported successfully.\")\n",
    "\n",
    "    except (Exception, psycopg2.DatabaseError) as error:\n",
    "        print(error)\n",
    "        engine = None\n"
   ]
  }
 ],
 "metadata": {
  "kernelspec": {
   "display_name": "Python 3.9.13 ('nf_sql')",
   "language": "python",
   "name": "python3"
  },
  "language_info": {
   "codemirror_mode": {
    "name": "ipython",
    "version": 3
   },
   "file_extension": ".py",
   "mimetype": "text/x-python",
   "name": "python",
   "nbconvert_exporter": "python",
   "pygments_lexer": "ipython3",
   "version": "3.9.13"
  },
  "orig_nbformat": 4,
  "vscode": {
   "interpreter": {
    "hash": "a81d278bed5b5b59425dcb5a82ce505657686243c184b4a6b67e69d01c4d432e"
   }
  }
 },
 "nbformat": 4,
 "nbformat_minor": 2
}
