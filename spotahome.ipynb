{
 "cells": [
  {
   "cell_type": "markdown",
   "metadata": {},
   "source": [
    "# [Spotahome.com](https://www.spotahome.com/s/london--uk/for-rent:apartments/for-rent:studios/bedrooms:1/bedrooms:2/bedrooms:3/bedrooms:3more?areaId[]=219&areaId[]=231&areaId[]=232&areaId[]=233&areaId[]=234&areaId[]=235&areaId[]=236&areaId[]=237&areaId[]=241)"
   ]
  },
  {
   "cell_type": "markdown",
   "metadata": {},
   "source": [
    "## Dataframe with information from search result page"
   ]
  },
  {
   "cell_type": "code",
   "execution_count": 1,
   "metadata": {},
   "outputs": [],
   "source": [
    "import requests                 # requests on websites\n",
    "from bs4 import BeautifulSoup   # html parsing\n",
    "\n",
    "import pandas as pd             # pandas for data frame\n",
    "import numpy as np              # numpy for numerical operations\n",
    "\n",
    "import math                     # for math methods\n",
    "import time                     # for sleep timer\n",
    "import random                   # for random number generator\n",
    "\n",
    "import sql_functions as sf      # for sql functions\n",
    "from sql_functions import *     # functions from file for upload on schema\n",
    "\n",
    "import sqlalchemy               # for sql connection\n",
    "import psycopg2                 # for upload on engine\n",
    "\n",
    "import datetime as dt           # for the csv file with the current date and time\n",
    "from datetime import date       # for the csv file with the current date and time\n",
    "import re                       # for regular expressions\n",
    "\n",
    "import matplotlib as mpl        # for plotting\n",
    "import matplotlib.pyplot as plt # for plotting\n",
    "import seaborn as sns           # for plotting"
   ]
  },
  {
   "cell_type": "markdown",
   "metadata": {},
   "source": [
    "-----"
   ]
  },
  {
   "cell_type": "code",
   "execution_count": 2,
   "metadata": {},
   "outputs": [],
   "source": [
    "# Creating a function to get all the descriptions\n",
    "def get_description(bs):\n",
    "    # find all the descriptions and save them to an empty list\n",
    "    lst_name = []\n",
    "    descriptions = bs.find_all(\n",
    "        class_='homecard-content__title__HomecardContent___OmV4c homecard-content__title--rebranding-style__HomecardContent___OmV4c')\n",
    "    # iterate over the descriptions to get the text and strip the strings and save them in a list\n",
    "    for description in descriptions:\n",
    "        lst_name.append(\n",
    "            description.get_text()\n",
    "                .strip()\n",
    "        )\n",
    "    return lst_name\n",
    "\n",
    "\n",
    "# Creating a function to get all the housing types\n",
    "def get_housing(bs):\n",
    "    # find all the housing types and save them to an empty list\n",
    "    lst_name = []\n",
    "    housings = bs.find_all(\n",
    "        class_='homecard-content__type__HomecardContent___OmV4c homecard-content__type--rebranding-style__HomecardContent___OmV4c')\n",
    "    # iterate over the housing types to get the text and strip the strings and save them in a list\n",
    "    for housing in housings:\n",
    "        lst_name.append(\n",
    "            housing.get_text()\n",
    "                .strip()\n",
    "        )\n",
    "    return lst_name\n",
    "\n",
    "\n",
    "# Creating a function to get all the available dates\n",
    "def get_available(bs):\n",
    "    # find all the available dates and save them to an empty list\n",
    "    lst_name = []\n",
    "    availables = bs.find_all(\n",
    "        class_='homecard-content__available-from__HomecardContent___OmV4c homecard-content__available-from--rebranding-style__HomecardContent___OmV4c')\n",
    "    # iterate over the available appartements to get the text and strip the string and save them in a list\n",
    "    for available in availables:\n",
    "        lst_name.append(\n",
    "            available.get_text()\n",
    "                .strip()\n",
    "                .replace('From ', '')\n",
    "        )\n",
    "    return lst_name\n",
    "\n",
    "\n",
    "# Creating a function to get all the prices\n",
    "def get_price(bs):\n",
    "    # find all the prices and save them to an empty list\n",
    "    lst_name = []\n",
    "    prices = bs.find_all(class_='price__Price___OmV4c')\n",
    "    # iterate over the prices to get the text and strip the strings and save them in a list\n",
    "    for price in prices:\n",
    "        lst_name.append(\n",
    "            price.get_text()\n",
    "                .strip()\n",
    "                .replace('£', '')\n",
    "\n",
    "        )\n",
    "    return lst_name\n",
    "\n",
    "\n",
    "# # Creating a function to get all the prices per period\n",
    "# def get_prices_period(bs):\n",
    "#     # find all the aprices per period and save them to an empty list\n",
    "#     lst_name = []\n",
    "#     prices_period = bs.find_all(\n",
    "#         class_='price-monthly__Price___OmV4c price-monthly--rebranding-style__Price___OmV4c')\n",
    "#     # iterate over the prices per period to get the text and strip the string and save them in a list\n",
    "#     for price_period in prices_period:\n",
    "#         lst_name.append(\n",
    "#             price_period.get_text()\n",
    "#                 .strip()\n",
    "#                 .replace('/', '')\n",
    "#         )\n",
    "#     return lst_name\n",
    "\n",
    "\n",
    "# Creating a function to get all the ID's\n",
    "def get_ids(bs):\n",
    "    # find all the prices and save them to an empty list\n",
    "    lst_name = []\n",
    "    ids = bs.find_all(class_='l-list__item')\n",
    "    # iterate over the prices to get the text and strip the strings and save them in a list\n",
    "    for id in ids:\n",
    "        lst_name.append(\n",
    "            id.get('data-homecard-scroll')\n",
    "                .strip()\n",
    "        )\n",
    "    return lst_name\n",
    "\n",
    "\n",
    "# Create dictionary in which every location ID gets assigned a location name\n",
    "location_dict = {219: 'Lambeth',\n",
    "                 231: 'Hammersmith and Fulham',\n",
    "                 232: 'Kensington and Chelsea',\n",
    "                 233: 'City of Westminster',\n",
    "                 234: 'Camden',\n",
    "                 235: 'Tower Hamlets',\n",
    "                 236: 'Islington',\n",
    "                 237: 'Hackney',\n",
    "                 241: 'City of London'\n",
    "                 }\n",
    "\n",
    "\n",
    "# Creating a function to get the search result from all pages\n",
    "# the website spotahome shows 60 search results per page. To iterate trough all the pages, we get the information how many search results are there, then divide it by 60 and round it up to get the number of pages.\n",
    "def page_results(property_type, location):\n",
    "    # get the url from the website with the property type and the location as a variable to iterate trough it\n",
    "    page = requests.get(\n",
    "        f'https://www.spotahome.com/s/london--uk/for-rent:{property_type}?areaId[]={location}')\n",
    "    html = page.content\n",
    "    bs = BeautifulSoup(html, 'html.parser')\n",
    "\n",
    "    # Extracting the total number of search results\n",
    "    results = bs.find_all('h1', {'class': 'search-title__title'})\n",
    "\n",
    "    # define the variable result_text in case the first search gives us no results\n",
    "    result_text = 0\n",
    "\n",
    "    # iterate over the results to get the text and strip the string\n",
    "    for result in results:\n",
    "        result_text = result.find(\"strong\").get_text().strip()\n",
    "\n",
    "    # convert the extracted string to an integer to perform mathematical operations\n",
    "    result_converted = int(result_text)\n",
    "\n",
    "    # divide the converted result by 60 since one pages shows 60 results and round it up to get the number of pages\n",
    "    page_site = result_converted / 60\n",
    "    page_site = math.ceil(page_site)\n",
    "\n",
    "    # convert the number of pages from a float to an integer to iterate trough the pages\n",
    "    page_converted = int(page_site)\n",
    "\n",
    "    # create an empty data frame to store the results from every loop cycle\n",
    "    df_search = pd.DataFrame()\n",
    "\n",
    "    # split the url to get access to the part where the page is definde\n",
    "    begin = f'https://www.spotahome.com/s/london--uk/for-rent:{property_type}'\n",
    "    end = f'?areaId[]={location}'\n",
    "\n",
    "    # range is including in the beginning and excluding in the end so we add plus 1 to iterate through all calculated pages\n",
    "    page_converted = page_converted + 1\n",
    "\n",
    "    # for loop to get the page numbers\n",
    "    for page_number in range(page_converted):\n",
    "        # sleep timer to reduce the traffic for the server\n",
    "        time.sleep(random.randint(2, 6)/10)\n",
    "\n",
    "        # get the url from the website with the property type, the location and the page number as a variable to iterate trough it\n",
    "        page = requests.get(begin+f'/page:{page_number}'+end)\n",
    "        html = page.content\n",
    "        bs = BeautifulSoup(html, 'html.parser')\n",
    "\n",
    "        # Create a dictionary to store the results from every loop cycle.\n",
    "        # The keys are the column names and the values are the functions we created before.\n",
    "        # The functions are called with the beautiful soup object as a parameter.\n",
    "        spotahome_dict = {\n",
    "            'platform_id': get_ids(bs),\n",
    "            'platform': 'Spotahome',\n",
    "            'neighbourhood': location_dict[location],\n",
    "            'furniture': 'furnished',\n",
    "            'property_type': property_type,\n",
    "            'housing_type': get_housing(bs),\n",
    "            'price': get_price(bs),\n",
    "            'available_from': get_available(bs),\n",
    "            'available_today': '',\n",
    "            'let_type': '',\n",
    "            'detailed_furniture': 'furnished',\n",
    "            'scraping_date': date.today(),\n",
    "            'title': get_description(bs)\n",
    "        }\n",
    "        # the ditionary is stored in a dataframe\n",
    "        df_page = pd.DataFrame(data=spotahome_dict)\n",
    "\n",
    "        # the temporary data frame gets appended to the data frame we created earlier outside the for loop\n",
    "        # for every iteration, the data frame page stores the results in the data frame search\n",
    "        df_search = pd.concat([df_search, df_page], axis=0, ignore_index=True)\n",
    "    # the data frame search gets returned to the for loop to access it outside the function\n",
    "    return (df_search)\n",
    "\n",
    "\n",
    "# creating a list with different property types given from the website\n",
    "property_types = ['studios', 'apartments/bedrooms:1',\n",
    "                  'apartments/bedrooms:2', 'apartments/bedrooms:3', 'apartments/bedrooms:3more']\n",
    "# creating a list with the different location IDs given from the website\n",
    "locations = [219, 231, 232, 233, 234, 235, 236, 237, 241]\n",
    "\n",
    "# creating an empty data frame\n",
    "df_complete = pd.DataFrame()\n",
    "# for loop to get the different property types\n",
    "for property_type in property_types:\n",
    "    # for loop to get the different locations\n",
    "    for location in locations:\n",
    "        # append the result from data frame search by calling the function page_results with the property type and the location as a parameter to data frame complete\n",
    "        df_complete = pd.concat([df_complete, page_results(\n",
    "            property_type, location)], axis=0, ignore_index=True)\n",
    "\n",
    "\n",
    "# split the columns 'price' and 'available_from' for further cleaning\n",
    "df_complete = df_complete.join(df_complete['price'].str.split(\n",
    "    '-', expand=True).add_prefix('price_'))\n",
    "df_complete = df_complete.join(df_complete['available_from'].str.split(\n",
    "    ' ', expand=True).add_prefix('available_from_'))\n"
   ]
  },
  {
   "cell_type": "code",
   "execution_count": 3,
   "metadata": {},
   "outputs": [
    {
     "data": {
      "text/html": [
       "<div>\n",
       "<style scoped>\n",
       "    .dataframe tbody tr th:only-of-type {\n",
       "        vertical-align: middle;\n",
       "    }\n",
       "\n",
       "    .dataframe tbody tr th {\n",
       "        vertical-align: top;\n",
       "    }\n",
       "\n",
       "    .dataframe thead th {\n",
       "        text-align: right;\n",
       "    }\n",
       "</style>\n",
       "<table border=\"1\" class=\"dataframe\">\n",
       "  <thead>\n",
       "    <tr style=\"text-align: right;\">\n",
       "      <th></th>\n",
       "      <th>platform_id</th>\n",
       "      <th>platform</th>\n",
       "      <th>neighbourhood</th>\n",
       "      <th>furniture</th>\n",
       "      <th>property_type</th>\n",
       "      <th>housing_type</th>\n",
       "      <th>price</th>\n",
       "      <th>available_from</th>\n",
       "      <th>available_today</th>\n",
       "      <th>let_type</th>\n",
       "      <th>detailed_furniture</th>\n",
       "      <th>scraping_date</th>\n",
       "      <th>title</th>\n",
       "      <th>price_0</th>\n",
       "      <th>price_1</th>\n",
       "      <th>available_from_0</th>\n",
       "      <th>available_from_1</th>\n",
       "      <th>available_from_2</th>\n",
       "    </tr>\n",
       "  </thead>\n",
       "  <tbody>\n",
       "    <tr>\n",
       "      <th>0</th>\n",
       "      <td>914940</td>\n",
       "      <td>Spotahome</td>\n",
       "      <td>Lambeth</td>\n",
       "      <td>furnished</td>\n",
       "      <td>studios</td>\n",
       "      <td>Studio</td>\n",
       "      <td>1500</td>\n",
       "      <td>21 October</td>\n",
       "      <td></td>\n",
       "      <td></td>\n",
       "      <td>furnished</td>\n",
       "      <td>2022-10-21</td>\n",
       "      <td>Studio for rent in Streatham , London</td>\n",
       "      <td>1500</td>\n",
       "      <td>None</td>\n",
       "      <td>21</td>\n",
       "      <td>October</td>\n",
       "      <td>None</td>\n",
       "    </tr>\n",
       "    <tr>\n",
       "      <th>1</th>\n",
       "      <td>913238</td>\n",
       "      <td>Spotahome</td>\n",
       "      <td>Lambeth</td>\n",
       "      <td>furnished</td>\n",
       "      <td>studios</td>\n",
       "      <td>Studio</td>\n",
       "      <td>1400</td>\n",
       "      <td>23 February 2023</td>\n",
       "      <td></td>\n",
       "      <td></td>\n",
       "      <td>furnished</td>\n",
       "      <td>2022-10-21</td>\n",
       "      <td>Studio for rent in Brixton, London</td>\n",
       "      <td>1400</td>\n",
       "      <td>None</td>\n",
       "      <td>23</td>\n",
       "      <td>February</td>\n",
       "      <td>2023</td>\n",
       "    </tr>\n",
       "    <tr>\n",
       "      <th>2</th>\n",
       "      <td>113567</td>\n",
       "      <td>Spotahome</td>\n",
       "      <td>Hammersmith and Fulham</td>\n",
       "      <td>furnished</td>\n",
       "      <td>studios</td>\n",
       "      <td>Studio</td>\n",
       "      <td>1400</td>\n",
       "      <td>18 June 2023</td>\n",
       "      <td></td>\n",
       "      <td></td>\n",
       "      <td>furnished</td>\n",
       "      <td>2022-10-21</td>\n",
       "      <td>Studio flat with double bed to rent in Kensing...</td>\n",
       "      <td>1400</td>\n",
       "      <td>None</td>\n",
       "      <td>18</td>\n",
       "      <td>June</td>\n",
       "      <td>2023</td>\n",
       "    </tr>\n",
       "    <tr>\n",
       "      <th>3</th>\n",
       "      <td>594926</td>\n",
       "      <td>Spotahome</td>\n",
       "      <td>Kensington and Chelsea</td>\n",
       "      <td>furnished</td>\n",
       "      <td>studios</td>\n",
       "      <td>Studio</td>\n",
       "      <td>1800</td>\n",
       "      <td>31 October</td>\n",
       "      <td></td>\n",
       "      <td></td>\n",
       "      <td>furnished</td>\n",
       "      <td>2022-10-21</td>\n",
       "      <td>Studio apartment for rent in Earl's Court, London</td>\n",
       "      <td>1800</td>\n",
       "      <td>None</td>\n",
       "      <td>31</td>\n",
       "      <td>October</td>\n",
       "      <td>None</td>\n",
       "    </tr>\n",
       "    <tr>\n",
       "      <th>4</th>\n",
       "      <td>759191</td>\n",
       "      <td>Spotahome</td>\n",
       "      <td>Kensington and Chelsea</td>\n",
       "      <td>furnished</td>\n",
       "      <td>studios</td>\n",
       "      <td>Studio</td>\n",
       "      <td>2300</td>\n",
       "      <td>26 October</td>\n",
       "      <td></td>\n",
       "      <td></td>\n",
       "      <td>furnished</td>\n",
       "      <td>2022-10-21</td>\n",
       "      <td>Studio for rent in a co-living building in Not...</td>\n",
       "      <td>2300</td>\n",
       "      <td>None</td>\n",
       "      <td>26</td>\n",
       "      <td>October</td>\n",
       "      <td>None</td>\n",
       "    </tr>\n",
       "    <tr>\n",
       "      <th>...</th>\n",
       "      <td>...</td>\n",
       "      <td>...</td>\n",
       "      <td>...</td>\n",
       "      <td>...</td>\n",
       "      <td>...</td>\n",
       "      <td>...</td>\n",
       "      <td>...</td>\n",
       "      <td>...</td>\n",
       "      <td>...</td>\n",
       "      <td>...</td>\n",
       "      <td>...</td>\n",
       "      <td>...</td>\n",
       "      <td>...</td>\n",
       "      <td>...</td>\n",
       "      <td>...</td>\n",
       "      <td>...</td>\n",
       "      <td>...</td>\n",
       "      <td>...</td>\n",
       "    </tr>\n",
       "    <tr>\n",
       "      <th>882</th>\n",
       "      <td>844665</td>\n",
       "      <td>Spotahome</td>\n",
       "      <td>Hackney</td>\n",
       "      <td>furnished</td>\n",
       "      <td>apartments/bedrooms:3more</td>\n",
       "      <td>Apartment</td>\n",
       "      <td>8250-10950</td>\n",
       "      <td>8 January 2023</td>\n",
       "      <td></td>\n",
       "      <td></td>\n",
       "      <td>furnished</td>\n",
       "      <td>2022-10-21</td>\n",
       "      <td>4-bedroom apartment for rent in London</td>\n",
       "      <td>8250</td>\n",
       "      <td>10950</td>\n",
       "      <td>8</td>\n",
       "      <td>January</td>\n",
       "      <td>2023</td>\n",
       "    </tr>\n",
       "    <tr>\n",
       "      <th>883</th>\n",
       "      <td>843245</td>\n",
       "      <td>Spotahome</td>\n",
       "      <td>Hackney</td>\n",
       "      <td>furnished</td>\n",
       "      <td>apartments/bedrooms:3more</td>\n",
       "      <td>Apartment</td>\n",
       "      <td>9000-11250</td>\n",
       "      <td>11 January 2023</td>\n",
       "      <td></td>\n",
       "      <td></td>\n",
       "      <td>furnished</td>\n",
       "      <td>2022-10-21</td>\n",
       "      <td>4-bedroom apartment for rent in London</td>\n",
       "      <td>9000</td>\n",
       "      <td>11250</td>\n",
       "      <td>11</td>\n",
       "      <td>January</td>\n",
       "      <td>2023</td>\n",
       "    </tr>\n",
       "    <tr>\n",
       "      <th>884</th>\n",
       "      <td>398966</td>\n",
       "      <td>Spotahome</td>\n",
       "      <td>Hackney</td>\n",
       "      <td>furnished</td>\n",
       "      <td>apartments/bedrooms:3more</td>\n",
       "      <td>Apartment</td>\n",
       "      <td>2100</td>\n",
       "      <td>6 January 2024</td>\n",
       "      <td></td>\n",
       "      <td></td>\n",
       "      <td>furnished</td>\n",
       "      <td>2022-10-21</td>\n",
       "      <td>4-bedroom apartment in Hackney</td>\n",
       "      <td>2100</td>\n",
       "      <td>None</td>\n",
       "      <td>6</td>\n",
       "      <td>January</td>\n",
       "      <td>2024</td>\n",
       "    </tr>\n",
       "    <tr>\n",
       "      <th>885</th>\n",
       "      <td>602243</td>\n",
       "      <td>Spotahome</td>\n",
       "      <td>Hackney</td>\n",
       "      <td>furnished</td>\n",
       "      <td>apartments/bedrooms:3more</td>\n",
       "      <td>Apartment</td>\n",
       "      <td>9000-11250</td>\n",
       "      <td>4 August 2023</td>\n",
       "      <td></td>\n",
       "      <td></td>\n",
       "      <td>furnished</td>\n",
       "      <td>2022-10-21</td>\n",
       "      <td>4 bedrooms warehouse conversion for rent in Ha...</td>\n",
       "      <td>9000</td>\n",
       "      <td>11250</td>\n",
       "      <td>4</td>\n",
       "      <td>August</td>\n",
       "      <td>2023</td>\n",
       "    </tr>\n",
       "    <tr>\n",
       "      <th>886</th>\n",
       "      <td>844639</td>\n",
       "      <td>Spotahome</td>\n",
       "      <td>Hackney</td>\n",
       "      <td>furnished</td>\n",
       "      <td>apartments/bedrooms:3more</td>\n",
       "      <td>Apartment</td>\n",
       "      <td>12000-18000</td>\n",
       "      <td>4 August 2023</td>\n",
       "      <td></td>\n",
       "      <td></td>\n",
       "      <td>furnished</td>\n",
       "      <td>2022-10-21</td>\n",
       "      <td>4-bedroom apartment for rent in London</td>\n",
       "      <td>12000</td>\n",
       "      <td>18000</td>\n",
       "      <td>4</td>\n",
       "      <td>August</td>\n",
       "      <td>2023</td>\n",
       "    </tr>\n",
       "  </tbody>\n",
       "</table>\n",
       "<p>887 rows × 18 columns</p>\n",
       "</div>"
      ],
      "text/plain": [
       "    platform_id   platform           neighbourhood  furniture  \\\n",
       "0        914940  Spotahome                 Lambeth  furnished   \n",
       "1        913238  Spotahome                 Lambeth  furnished   \n",
       "2        113567  Spotahome  Hammersmith and Fulham  furnished   \n",
       "3        594926  Spotahome  Kensington and Chelsea  furnished   \n",
       "4        759191  Spotahome  Kensington and Chelsea  furnished   \n",
       "..          ...        ...                     ...        ...   \n",
       "882      844665  Spotahome                 Hackney  furnished   \n",
       "883      843245  Spotahome                 Hackney  furnished   \n",
       "884      398966  Spotahome                 Hackney  furnished   \n",
       "885      602243  Spotahome                 Hackney  furnished   \n",
       "886      844639  Spotahome                 Hackney  furnished   \n",
       "\n",
       "                 property_type housing_type        price    available_from  \\\n",
       "0                      studios       Studio         1500        21 October   \n",
       "1                      studios       Studio         1400  23 February 2023   \n",
       "2                      studios       Studio         1400      18 June 2023   \n",
       "3                      studios       Studio         1800        31 October   \n",
       "4                      studios       Studio         2300        26 October   \n",
       "..                         ...          ...          ...               ...   \n",
       "882  apartments/bedrooms:3more    Apartment   8250-10950    8 January 2023   \n",
       "883  apartments/bedrooms:3more    Apartment   9000-11250   11 January 2023   \n",
       "884  apartments/bedrooms:3more    Apartment         2100    6 January 2024   \n",
       "885  apartments/bedrooms:3more    Apartment   9000-11250     4 August 2023   \n",
       "886  apartments/bedrooms:3more    Apartment  12000-18000     4 August 2023   \n",
       "\n",
       "    available_today let_type detailed_furniture scraping_date  \\\n",
       "0                                     furnished    2022-10-21   \n",
       "1                                     furnished    2022-10-21   \n",
       "2                                     furnished    2022-10-21   \n",
       "3                                     furnished    2022-10-21   \n",
       "4                                     furnished    2022-10-21   \n",
       "..              ...      ...                ...           ...   \n",
       "882                                   furnished    2022-10-21   \n",
       "883                                   furnished    2022-10-21   \n",
       "884                                   furnished    2022-10-21   \n",
       "885                                   furnished    2022-10-21   \n",
       "886                                   furnished    2022-10-21   \n",
       "\n",
       "                                                 title price_0 price_1  \\\n",
       "0                Studio for rent in Streatham , London    1500    None   \n",
       "1                   Studio for rent in Brixton, London    1400    None   \n",
       "2    Studio flat with double bed to rent in Kensing...    1400    None   \n",
       "3    Studio apartment for rent in Earl's Court, London    1800    None   \n",
       "4    Studio for rent in a co-living building in Not...    2300    None   \n",
       "..                                                 ...     ...     ...   \n",
       "882             4-bedroom apartment for rent in London    8250   10950   \n",
       "883             4-bedroom apartment for rent in London    9000   11250   \n",
       "884                     4-bedroom apartment in Hackney    2100    None   \n",
       "885  4 bedrooms warehouse conversion for rent in Ha...    9000   11250   \n",
       "886             4-bedroom apartment for rent in London   12000   18000   \n",
       "\n",
       "    available_from_0 available_from_1 available_from_2  \n",
       "0                 21          October             None  \n",
       "1                 23         February             2023  \n",
       "2                 18             June             2023  \n",
       "3                 31          October             None  \n",
       "4                 26          October             None  \n",
       "..               ...              ...              ...  \n",
       "882                8          January             2023  \n",
       "883               11          January             2023  \n",
       "884                6          January             2024  \n",
       "885                4           August             2023  \n",
       "886                4           August             2023  \n",
       "\n",
       "[887 rows x 18 columns]"
      ]
     },
     "execution_count": 3,
     "metadata": {},
     "output_type": "execute_result"
    }
   ],
   "source": [
    "df_complete\n"
   ]
  },
  {
   "cell_type": "code",
   "execution_count": 4,
   "metadata": {},
   "outputs": [
    {
     "name": "stdout",
     "output_type": "stream",
     "text": [
      "<class 'pandas.core.frame.DataFrame'>\n",
      "RangeIndex: 887 entries, 0 to 886\n",
      "Data columns (total 18 columns):\n",
      " #   Column              Non-Null Count  Dtype \n",
      "---  ------              --------------  ----- \n",
      " 0   platform_id         887 non-null    object\n",
      " 1   platform            887 non-null    object\n",
      " 2   neighbourhood       887 non-null    object\n",
      " 3   furniture           887 non-null    object\n",
      " 4   property_type       887 non-null    object\n",
      " 5   housing_type        887 non-null    object\n",
      " 6   price               887 non-null    object\n",
      " 7   available_from      887 non-null    object\n",
      " 8   available_today     887 non-null    object\n",
      " 9   let_type            887 non-null    object\n",
      " 10  detailed_furniture  887 non-null    object\n",
      " 11  scraping_date       887 non-null    object\n",
      " 12  title               887 non-null    object\n",
      " 13  price_0             887 non-null    object\n",
      " 14  price_1             253 non-null    object\n",
      " 15  available_from_0    887 non-null    object\n",
      " 16  available_from_1    887 non-null    object\n",
      " 17  available_from_2    464 non-null    object\n",
      "dtypes: object(18)\n",
      "memory usage: 124.9+ KB\n"
     ]
    }
   ],
   "source": [
    "df_complete.info()"
   ]
  },
  {
   "cell_type": "markdown",
   "metadata": {},
   "source": [
    "-----"
   ]
  },
  {
   "cell_type": "markdown",
   "metadata": {},
   "source": [
    "## Dataframe with information from every detail page for every apartment advert"
   ]
  },
  {
   "cell_type": "code",
   "execution_count": 15,
   "metadata": {},
   "outputs": [
    {
     "ename": "AttributeError",
     "evalue": "'NoneType' object has no attribute 'find_all'",
     "output_type": "error",
     "traceback": [
      "\u001b[0;31m---------------------------------------------------------------------------\u001b[0m",
      "\u001b[0;31mAttributeError\u001b[0m                            Traceback (most recent call last)",
      "\u001b[1;32m/Users/julia/neuefische/capstone-proptech-rep/spotahome.ipynb Cell 10\u001b[0m in \u001b[0;36m<cell line: 3>\u001b[0;34m()\u001b[0m\n\u001b[1;32m      <a href='vscode-notebook-cell:/Users/julia/neuefische/capstone-proptech-rep/spotahome.ipynb#X12sZmlsZQ%3D%3D?line=6'>7</a>\u001b[0m html \u001b[39m=\u001b[39m page\u001b[39m.\u001b[39mcontent\n\u001b[1;32m      <a href='vscode-notebook-cell:/Users/julia/neuefische/capstone-proptech-rep/spotahome.ipynb#X12sZmlsZQ%3D%3D?line=7'>8</a>\u001b[0m bs \u001b[39m=\u001b[39m BeautifulSoup(html, \u001b[39m'\u001b[39m\u001b[39mhtml.parser\u001b[39m\u001b[39m'\u001b[39m)\n\u001b[0;32m---> <a href='vscode-notebook-cell:/Users/julia/neuefische/capstone-proptech-rep/spotahome.ipynb#X12sZmlsZQ%3D%3D?line=9'>10</a>\u001b[0m details \u001b[39m=\u001b[39m bs\u001b[39m.\u001b[39;49mfind(\n\u001b[1;32m     <a href='vscode-notebook-cell:/Users/julia/neuefische/capstone-proptech-rep/spotahome.ipynb#X12sZmlsZQ%3D%3D?line=10'>11</a>\u001b[0m     \u001b[39m'\u001b[39;49m\u001b[39mdiv\u001b[39;49m\u001b[39m'\u001b[39;49m, class_\u001b[39m=\u001b[39;49m\u001b[39m'\u001b[39;49m\u001b[39mproperty-title__details\u001b[39;49m\u001b[39m'\u001b[39;49m)\u001b[39m.\u001b[39;49mfind_all(\u001b[39m'\u001b[39m\u001b[39mspan\u001b[39m\u001b[39m'\u001b[39m)\n\u001b[1;32m     <a href='vscode-notebook-cell:/Users/julia/neuefische/capstone-proptech-rep/spotahome.ipynb#X12sZmlsZQ%3D%3D?line=12'>13</a>\u001b[0m details_lst \u001b[39m=\u001b[39m (detail\u001b[39m.\u001b[39mget_text() \u001b[39mfor\u001b[39;00m detail \u001b[39min\u001b[39;00m details)\n\u001b[1;32m     <a href='vscode-notebook-cell:/Users/julia/neuefische/capstone-proptech-rep/spotahome.ipynb#X12sZmlsZQ%3D%3D?line=13'>14</a>\u001b[0m details_lst \u001b[39m=\u001b[39m [detail\u001b[39m.\u001b[39mstrip() \u001b[39mfor\u001b[39;00m detail \u001b[39min\u001b[39;00m details_lst]\n",
      "\u001b[0;31mAttributeError\u001b[0m: 'NoneType' object has no attribute 'find_all'"
     ]
    }
   ],
   "source": [
    "df_details_complete = pd.DataFrame()\n",
    "\n",
    "for idx, row in df_complete.iterrows():\n",
    "    time.sleep(random.randint(2, 6)/10)\n",
    "    page = requests.get(\n",
    "        f\"https://www.spotahome.com/london/for-rent:{row['housing_type'].lower() + 's'}/{row['platform_id']}\")\n",
    "    html = page.content\n",
    "    bs = BeautifulSoup(html, 'html.parser')\n",
    "\n",
    "    details = bs.find(\n",
    "        'div', class_='property-title__details').find_all('span')\n",
    "\n",
    "    details_lst = (detail.get_text() for detail in details)\n",
    "    details_lst = [detail.strip() for detail in details_lst]\n",
    "\n",
    "    details_lst.pop(0)\n",
    "\n",
    "    details_lst = [i.split(' ', 1) for i in details_lst]\n",
    "\n",
    "    row_dict = {}\n",
    "\n",
    "    for value_key_tuple in details_lst:\n",
    "        new_key_value = {'id': row['platform_id']}\n",
    "        row_dict.update(new_key_value)\n",
    "        key = value_key_tuple[1]\n",
    "        value = value_key_tuple[0]\n",
    "        row_dict[key] = value\n",
    "\n",
    "    df_details = pd.DataFrame(data=row_dict, index=[0])\n",
    "    df_details_complete = pd.concat([df_details_complete, df_details])\n"
   ]
  },
  {
   "cell_type": "code",
   "execution_count": null,
   "metadata": {},
   "outputs": [
    {
     "data": {
      "text/html": [
       "<div>\n",
       "<style scoped>\n",
       "    .dataframe tbody tr th:only-of-type {\n",
       "        vertical-align: middle;\n",
       "    }\n",
       "\n",
       "    .dataframe tbody tr th {\n",
       "        vertical-align: top;\n",
       "    }\n",
       "\n",
       "    .dataframe thead th {\n",
       "        text-align: right;\n",
       "    }\n",
       "</style>\n",
       "<table border=\"1\" class=\"dataframe\">\n",
       "  <thead>\n",
       "    <tr style=\"text-align: right;\">\n",
       "      <th></th>\n",
       "    </tr>\n",
       "  </thead>\n",
       "  <tbody>\n",
       "    <tr>\n",
       "      <th>0</th>\n",
       "    </tr>\n",
       "    <tr>\n",
       "      <th>0</th>\n",
       "    </tr>\n",
       "    <tr>\n",
       "      <th>0</th>\n",
       "    </tr>\n",
       "    <tr>\n",
       "      <th>0</th>\n",
       "    </tr>\n",
       "    <tr>\n",
       "      <th>0</th>\n",
       "    </tr>\n",
       "    <tr>\n",
       "      <th>...</th>\n",
       "    </tr>\n",
       "    <tr>\n",
       "      <th>0</th>\n",
       "    </tr>\n",
       "    <tr>\n",
       "      <th>0</th>\n",
       "    </tr>\n",
       "    <tr>\n",
       "      <th>0</th>\n",
       "    </tr>\n",
       "    <tr>\n",
       "      <th>0</th>\n",
       "    </tr>\n",
       "    <tr>\n",
       "      <th>0</th>\n",
       "    </tr>\n",
       "  </tbody>\n",
       "</table>\n",
       "<p>887 rows × 0 columns</p>\n",
       "</div>"
      ],
      "text/plain": [
       "Empty DataFrame\n",
       "Columns: []\n",
       "Index: [0, 0, 0, 0, 0, 0, 0, 0, 0, 0, 0, 0, 0, 0, 0, 0, 0, 0, 0, 0, 0, 0, 0, 0, 0, 0, 0, 0, 0, 0, 0, 0, 0, 0, 0, 0, 0, 0, 0, 0, 0, 0, 0, 0, 0, 0, 0, 0, 0, 0, 0, 0, 0, 0, 0, 0, 0, 0, 0, 0, 0, 0, 0, 0, 0, 0, 0, 0, 0, 0, 0, 0, 0, 0, 0, 0, 0, 0, 0, 0, 0, 0, 0, 0, 0, 0, 0, 0, 0, 0, 0, 0, 0, 0, 0, 0, 0, 0, 0, 0, ...]\n",
       "\n",
       "[887 rows x 0 columns]"
      ]
     },
     "execution_count": 8,
     "metadata": {},
     "output_type": "execute_result"
    }
   ],
   "source": [
    "df_details_complete"
   ]
  },
  {
   "cell_type": "code",
   "execution_count": null,
   "metadata": {},
   "outputs": [
    {
     "name": "stdout",
     "output_type": "stream",
     "text": [
      "<class 'pandas.core.frame.DataFrame'>\n",
      "Int64Index: 887 entries, 0 to 0\n",
      "Empty DataFrame"
     ]
    }
   ],
   "source": [
    "df_details_complete.info()"
   ]
  },
  {
   "cell_type": "markdown",
   "metadata": {},
   "source": [
    "-----"
   ]
  },
  {
   "cell_type": "markdown",
   "metadata": {},
   "source": [
    "## Import df_complete to DBeaver"
   ]
  },
  {
   "cell_type": "code",
   "execution_count": null,
   "metadata": {},
   "outputs": [
    {
     "name": "stdout",
     "output_type": "stream",
     "text": [
      "(psycopg2.OperationalError) could not translate host name \"host\" to address: nodename nor servname provided, or not known\n",
      "\n",
      "(Background on this error at: https://sqlalche.me/e/14/e3q8)\n"
     ]
    }
   ],
   "source": [
    "# call the schema created for this project\n",
    "schema = 'capstone_jmrs'\n",
    "# get the function to connect to the database\n",
    "engine = get_engine()\n",
    "\n",
    "# give the table a unique name\n",
    "table_name = \"spotahome_df_complete\"\n",
    "\n",
    "# import the table to sql\n",
    "if engine != None:\n",
    "    try:\n",
    "        df_complete.to_sql(name=table_name,\n",
    "                           con=engine,\n",
    "                           if_exists='replace',\n",
    "                           schema=schema,\n",
    "                           index=False,\n",
    "                           chunksize=5000,\n",
    "                           method='multi')\n",
    "        print(f\"The {table_name} table was imported successfully.\")\n",
    "\n",
    "    except (Exception, psycopg2.DatabaseError) as error:\n",
    "        print(error)\n",
    "        engine = None"
   ]
  },
  {
   "cell_type": "markdown",
   "metadata": {},
   "source": [
    "## Import df_details_complete to DBeaver"
   ]
  },
  {
   "cell_type": "code",
   "execution_count": null,
   "metadata": {},
   "outputs": [
    {
     "name": "stdout",
     "output_type": "stream",
     "text": [
      "(psycopg2.OperationalError) could not translate host name \"host\" to address: nodename nor servname provided, or not known\n",
      "\n",
      "(Background on this error at: https://sqlalche.me/e/14/e3q8)\n"
     ]
    }
   ],
   "source": [
    "# call the schema created for this project\n",
    "schema = 'capstone_jmrs'\n",
    "# get the function to connect to the database\n",
    "engine = get_engine()\n",
    "\n",
    "# give the table a unique name\n",
    "table_name = \"spotahome_df_details_complete\"\n",
    "\n",
    "# import the table to sql\n",
    "if engine != None:\n",
    "    try:\n",
    "        df_details_complete.to_sql(name=table_name,\n",
    "                                   con=engine,\n",
    "                                   if_exists='replace',\n",
    "                                   schema=schema,\n",
    "                                   index=False,\n",
    "                                   chunksize=5000,\n",
    "                                   method='multi')\n",
    "        print(f\"The {table_name} table was imported successfully.\")\n",
    "\n",
    "    except (Exception, psycopg2.DatabaseError) as error:\n",
    "        print(error)\n",
    "        engine = None\n"
   ]
  },
  {
   "cell_type": "markdown",
   "metadata": {},
   "source": [
    "## Create a .csv file for both data frames"
   ]
  },
  {
   "cell_type": "code",
   "execution_count": null,
   "metadata": {},
   "outputs": [
    {
     "name": "stdout",
     "output_type": "stream",
     "text": [
      "The csv-file was created successfully.\n",
      "The csv-file was created successfully.\n"
     ]
    }
   ],
   "source": [
    "# create a .csv file with the current date and time\n",
    "today = dt.datetime.today().strftime('%Y-%m-%d-%H-%M')\n",
    "\n",
    "df_complete.to_csv('data/spotahome_df_complete_{}.csv'.format(today), sep='\\t')\n",
    "print(\"The csv-file was created successfully.\")\n",
    "\n",
    "df_details_complete.to_csv('data/spotahome_df_details_complete{}.csv'.format(today), sep='\\t')\n",
    "print(\"The csv-file was created successfully.\")"
   ]
  },
  {
   "cell_type": "markdown",
   "metadata": {},
   "source": [
    "-----"
   ]
  },
  {
   "cell_type": "markdown",
   "metadata": {},
   "source": [
    "## Clean the data with SQL"
   ]
  },
  {
   "cell_type": "code",
   "execution_count": null,
   "metadata": {},
   "outputs": [],
   "source": [
    "engine = get_engine()"
   ]
  },
  {
   "cell_type": "markdown",
   "metadata": {},
   "source": [
    "### drop existing tables because they can't be overwritten"
   ]
  },
  {
   "cell_type": "code",
   "execution_count": null,
   "metadata": {},
   "outputs": [
    {
     "ename": "OperationalError",
     "evalue": "(psycopg2.OperationalError) could not translate host name \"host\" to address: nodename nor servname provided, or not known\n\n(Background on this error at: https://sqlalche.me/e/14/e3q8)",
     "output_type": "error",
     "traceback": [
      "\u001b[0;31m---------------------------------------------------------------------------\u001b[0m",
      "\u001b[0;31mOperationalError\u001b[0m                          Traceback (most recent call last)",
      "File \u001b[0;32m/opt/homebrew/Caskroom/miniconda/base/envs/nf_sql/lib/python3.9/site-packages/sqlalchemy/engine/base.py:3361\u001b[0m, in \u001b[0;36mEngine._wrap_pool_connect\u001b[0;34m(self, fn, connection)\u001b[0m\n\u001b[1;32m   3360\u001b[0m \u001b[39mtry\u001b[39;00m:\n\u001b[0;32m-> 3361\u001b[0m     \u001b[39mreturn\u001b[39;00m fn()\n\u001b[1;32m   3362\u001b[0m \u001b[39mexcept\u001b[39;00m dialect\u001b[39m.\u001b[39mdbapi\u001b[39m.\u001b[39mError \u001b[39mas\u001b[39;00m e:\n",
      "File \u001b[0;32m/opt/homebrew/Caskroom/miniconda/base/envs/nf_sql/lib/python3.9/site-packages/sqlalchemy/pool/base.py:310\u001b[0m, in \u001b[0;36mPool.connect\u001b[0;34m(self)\u001b[0m\n\u001b[1;32m    303\u001b[0m \u001b[39m\"\"\"Return a DBAPI connection from the pool.\u001b[39;00m\n\u001b[1;32m    304\u001b[0m \n\u001b[1;32m    305\u001b[0m \u001b[39mThe connection is instrumented such that when its\u001b[39;00m\n\u001b[0;32m   (...)\u001b[0m\n\u001b[1;32m    308\u001b[0m \n\u001b[1;32m    309\u001b[0m \u001b[39m\"\"\"\u001b[39;00m\n\u001b[0;32m--> 310\u001b[0m \u001b[39mreturn\u001b[39;00m _ConnectionFairy\u001b[39m.\u001b[39;49m_checkout(\u001b[39mself\u001b[39;49m)\n",
      "File \u001b[0;32m/opt/homebrew/Caskroom/miniconda/base/envs/nf_sql/lib/python3.9/site-packages/sqlalchemy/pool/base.py:868\u001b[0m, in \u001b[0;36m_ConnectionFairy._checkout\u001b[0;34m(cls, pool, threadconns, fairy)\u001b[0m\n\u001b[1;32m    867\u001b[0m \u001b[39mif\u001b[39;00m \u001b[39mnot\u001b[39;00m fairy:\n\u001b[0;32m--> 868\u001b[0m     fairy \u001b[39m=\u001b[39m _ConnectionRecord\u001b[39m.\u001b[39;49mcheckout(pool)\n\u001b[1;32m    870\u001b[0m     fairy\u001b[39m.\u001b[39m_pool \u001b[39m=\u001b[39m pool\n",
      "File \u001b[0;32m/opt/homebrew/Caskroom/miniconda/base/envs/nf_sql/lib/python3.9/site-packages/sqlalchemy/pool/base.py:476\u001b[0m, in \u001b[0;36m_ConnectionRecord.checkout\u001b[0;34m(cls, pool)\u001b[0m\n\u001b[1;32m    474\u001b[0m \u001b[39m@classmethod\u001b[39m\n\u001b[1;32m    475\u001b[0m \u001b[39mdef\u001b[39;00m \u001b[39mcheckout\u001b[39m(\u001b[39mcls\u001b[39m, pool):\n\u001b[0;32m--> 476\u001b[0m     rec \u001b[39m=\u001b[39m pool\u001b[39m.\u001b[39;49m_do_get()\n\u001b[1;32m    477\u001b[0m     \u001b[39mtry\u001b[39;00m:\n",
      "File \u001b[0;32m/opt/homebrew/Caskroom/miniconda/base/envs/nf_sql/lib/python3.9/site-packages/sqlalchemy/pool/impl.py:146\u001b[0m, in \u001b[0;36mQueuePool._do_get\u001b[0;34m(self)\u001b[0m\n\u001b[1;32m    145\u001b[0m         \u001b[39mwith\u001b[39;00m util\u001b[39m.\u001b[39msafe_reraise():\n\u001b[0;32m--> 146\u001b[0m             \u001b[39mself\u001b[39m\u001b[39m.\u001b[39m_dec_overflow()\n\u001b[1;32m    147\u001b[0m \u001b[39melse\u001b[39;00m:\n",
      "File \u001b[0;32m/opt/homebrew/Caskroom/miniconda/base/envs/nf_sql/lib/python3.9/site-packages/sqlalchemy/util/langhelpers.py:70\u001b[0m, in \u001b[0;36msafe_reraise.__exit__\u001b[0;34m(self, type_, value, traceback)\u001b[0m\n\u001b[1;32m     69\u001b[0m     \u001b[39mif\u001b[39;00m \u001b[39mnot\u001b[39;00m \u001b[39mself\u001b[39m\u001b[39m.\u001b[39mwarn_only:\n\u001b[0;32m---> 70\u001b[0m         compat\u001b[39m.\u001b[39;49mraise_(\n\u001b[1;32m     71\u001b[0m             exc_value,\n\u001b[1;32m     72\u001b[0m             with_traceback\u001b[39m=\u001b[39;49mexc_tb,\n\u001b[1;32m     73\u001b[0m         )\n\u001b[1;32m     74\u001b[0m \u001b[39melse\u001b[39;00m:\n",
      "File \u001b[0;32m/opt/homebrew/Caskroom/miniconda/base/envs/nf_sql/lib/python3.9/site-packages/sqlalchemy/util/compat.py:208\u001b[0m, in \u001b[0;36mraise_\u001b[0;34m(***failed resolving arguments***)\u001b[0m\n\u001b[1;32m    207\u001b[0m \u001b[39mtry\u001b[39;00m:\n\u001b[0;32m--> 208\u001b[0m     \u001b[39mraise\u001b[39;00m exception\n\u001b[1;32m    209\u001b[0m \u001b[39mfinally\u001b[39;00m:\n\u001b[1;32m    210\u001b[0m     \u001b[39m# credit to\u001b[39;00m\n\u001b[1;32m    211\u001b[0m     \u001b[39m# https://cosmicpercolator.com/2016/01/13/exception-leaks-in-python-2-and-3/\u001b[39;00m\n\u001b[1;32m    212\u001b[0m     \u001b[39m# as the __traceback__ object creates a cycle\u001b[39;00m\n",
      "File \u001b[0;32m/opt/homebrew/Caskroom/miniconda/base/envs/nf_sql/lib/python3.9/site-packages/sqlalchemy/pool/impl.py:143\u001b[0m, in \u001b[0;36mQueuePool._do_get\u001b[0;34m(self)\u001b[0m\n\u001b[1;32m    142\u001b[0m \u001b[39mtry\u001b[39;00m:\n\u001b[0;32m--> 143\u001b[0m     \u001b[39mreturn\u001b[39;00m \u001b[39mself\u001b[39;49m\u001b[39m.\u001b[39;49m_create_connection()\n\u001b[1;32m    144\u001b[0m \u001b[39mexcept\u001b[39;00m:\n",
      "File \u001b[0;32m/opt/homebrew/Caskroom/miniconda/base/envs/nf_sql/lib/python3.9/site-packages/sqlalchemy/pool/base.py:256\u001b[0m, in \u001b[0;36mPool._create_connection\u001b[0;34m(self)\u001b[0m\n\u001b[1;32m    254\u001b[0m \u001b[39m\"\"\"Called by subclasses to create a new ConnectionRecord.\"\"\"\u001b[39;00m\n\u001b[0;32m--> 256\u001b[0m \u001b[39mreturn\u001b[39;00m _ConnectionRecord(\u001b[39mself\u001b[39;49m)\n",
      "File \u001b[0;32m/opt/homebrew/Caskroom/miniconda/base/envs/nf_sql/lib/python3.9/site-packages/sqlalchemy/pool/base.py:371\u001b[0m, in \u001b[0;36m_ConnectionRecord.__init__\u001b[0;34m(self, pool, connect)\u001b[0m\n\u001b[1;32m    370\u001b[0m \u001b[39mif\u001b[39;00m connect:\n\u001b[0;32m--> 371\u001b[0m     \u001b[39mself\u001b[39;49m\u001b[39m.\u001b[39;49m__connect()\n\u001b[1;32m    372\u001b[0m \u001b[39mself\u001b[39m\u001b[39m.\u001b[39mfinalize_callback \u001b[39m=\u001b[39m deque()\n",
      "File \u001b[0;32m/opt/homebrew/Caskroom/miniconda/base/envs/nf_sql/lib/python3.9/site-packages/sqlalchemy/pool/base.py:666\u001b[0m, in \u001b[0;36m_ConnectionRecord.__connect\u001b[0;34m(self)\u001b[0m\n\u001b[1;32m    665\u001b[0m     \u001b[39mwith\u001b[39;00m util\u001b[39m.\u001b[39msafe_reraise():\n\u001b[0;32m--> 666\u001b[0m         pool\u001b[39m.\u001b[39mlogger\u001b[39m.\u001b[39mdebug(\u001b[39m\"\u001b[39m\u001b[39mError on connect(): \u001b[39m\u001b[39m%s\u001b[39;00m\u001b[39m\"\u001b[39m, e)\n\u001b[1;32m    667\u001b[0m \u001b[39melse\u001b[39;00m:\n\u001b[1;32m    668\u001b[0m     \u001b[39m# in SQLAlchemy 1.4 the first_connect event is not used by\u001b[39;00m\n\u001b[1;32m    669\u001b[0m     \u001b[39m# the engine, so this will usually not be set\u001b[39;00m\n",
      "File \u001b[0;32m/opt/homebrew/Caskroom/miniconda/base/envs/nf_sql/lib/python3.9/site-packages/sqlalchemy/util/langhelpers.py:70\u001b[0m, in \u001b[0;36msafe_reraise.__exit__\u001b[0;34m(self, type_, value, traceback)\u001b[0m\n\u001b[1;32m     69\u001b[0m     \u001b[39mif\u001b[39;00m \u001b[39mnot\u001b[39;00m \u001b[39mself\u001b[39m\u001b[39m.\u001b[39mwarn_only:\n\u001b[0;32m---> 70\u001b[0m         compat\u001b[39m.\u001b[39;49mraise_(\n\u001b[1;32m     71\u001b[0m             exc_value,\n\u001b[1;32m     72\u001b[0m             with_traceback\u001b[39m=\u001b[39;49mexc_tb,\n\u001b[1;32m     73\u001b[0m         )\n\u001b[1;32m     74\u001b[0m \u001b[39melse\u001b[39;00m:\n",
      "File \u001b[0;32m/opt/homebrew/Caskroom/miniconda/base/envs/nf_sql/lib/python3.9/site-packages/sqlalchemy/util/compat.py:208\u001b[0m, in \u001b[0;36mraise_\u001b[0;34m(***failed resolving arguments***)\u001b[0m\n\u001b[1;32m    207\u001b[0m \u001b[39mtry\u001b[39;00m:\n\u001b[0;32m--> 208\u001b[0m     \u001b[39mraise\u001b[39;00m exception\n\u001b[1;32m    209\u001b[0m \u001b[39mfinally\u001b[39;00m:\n\u001b[1;32m    210\u001b[0m     \u001b[39m# credit to\u001b[39;00m\n\u001b[1;32m    211\u001b[0m     \u001b[39m# https://cosmicpercolator.com/2016/01/13/exception-leaks-in-python-2-and-3/\u001b[39;00m\n\u001b[1;32m    212\u001b[0m     \u001b[39m# as the __traceback__ object creates a cycle\u001b[39;00m\n",
      "File \u001b[0;32m/opt/homebrew/Caskroom/miniconda/base/envs/nf_sql/lib/python3.9/site-packages/sqlalchemy/pool/base.py:661\u001b[0m, in \u001b[0;36m_ConnectionRecord.__connect\u001b[0;34m(self)\u001b[0m\n\u001b[1;32m    660\u001b[0m \u001b[39mself\u001b[39m\u001b[39m.\u001b[39mstarttime \u001b[39m=\u001b[39m time\u001b[39m.\u001b[39mtime()\n\u001b[0;32m--> 661\u001b[0m \u001b[39mself\u001b[39m\u001b[39m.\u001b[39mdbapi_connection \u001b[39m=\u001b[39m connection \u001b[39m=\u001b[39m pool\u001b[39m.\u001b[39;49m_invoke_creator(\u001b[39mself\u001b[39;49m)\n\u001b[1;32m    662\u001b[0m pool\u001b[39m.\u001b[39mlogger\u001b[39m.\u001b[39mdebug(\u001b[39m\"\u001b[39m\u001b[39mCreated new connection \u001b[39m\u001b[39m%r\u001b[39;00m\u001b[39m\"\u001b[39m, connection)\n",
      "File \u001b[0;32m/opt/homebrew/Caskroom/miniconda/base/envs/nf_sql/lib/python3.9/site-packages/sqlalchemy/engine/create.py:578\u001b[0m, in \u001b[0;36mcreate_engine.<locals>.connect\u001b[0;34m(connection_record)\u001b[0m\n\u001b[1;32m    577\u001b[0m             \u001b[39mreturn\u001b[39;00m connection\n\u001b[0;32m--> 578\u001b[0m \u001b[39mreturn\u001b[39;00m dialect\u001b[39m.\u001b[39;49mconnect(\u001b[39m*\u001b[39;49mcargs, \u001b[39m*\u001b[39;49m\u001b[39m*\u001b[39;49mcparams)\n",
      "File \u001b[0;32m/opt/homebrew/Caskroom/miniconda/base/envs/nf_sql/lib/python3.9/site-packages/sqlalchemy/engine/default.py:597\u001b[0m, in \u001b[0;36mDefaultDialect.connect\u001b[0;34m(self, *cargs, **cparams)\u001b[0m\n\u001b[1;32m    595\u001b[0m \u001b[39mdef\u001b[39;00m \u001b[39mconnect\u001b[39m(\u001b[39mself\u001b[39m, \u001b[39m*\u001b[39mcargs, \u001b[39m*\u001b[39m\u001b[39m*\u001b[39mcparams):\n\u001b[1;32m    596\u001b[0m     \u001b[39m# inherits the docstring from interfaces.Dialect.connect\u001b[39;00m\n\u001b[0;32m--> 597\u001b[0m     \u001b[39mreturn\u001b[39;00m \u001b[39mself\u001b[39;49m\u001b[39m.\u001b[39;49mdbapi\u001b[39m.\u001b[39;49mconnect(\u001b[39m*\u001b[39;49mcargs, \u001b[39m*\u001b[39;49m\u001b[39m*\u001b[39;49mcparams)\n",
      "File \u001b[0;32m/opt/homebrew/Caskroom/miniconda/base/envs/nf_sql/lib/python3.9/site-packages/psycopg2/__init__.py:122\u001b[0m, in \u001b[0;36mconnect\u001b[0;34m(dsn, connection_factory, cursor_factory, **kwargs)\u001b[0m\n\u001b[1;32m    121\u001b[0m dsn \u001b[39m=\u001b[39m _ext\u001b[39m.\u001b[39mmake_dsn(dsn, \u001b[39m*\u001b[39m\u001b[39m*\u001b[39mkwargs)\n\u001b[0;32m--> 122\u001b[0m conn \u001b[39m=\u001b[39m _connect(dsn, connection_factory\u001b[39m=\u001b[39;49mconnection_factory, \u001b[39m*\u001b[39;49m\u001b[39m*\u001b[39;49mkwasync)\n\u001b[1;32m    123\u001b[0m \u001b[39mif\u001b[39;00m cursor_factory \u001b[39mis\u001b[39;00m \u001b[39mnot\u001b[39;00m \u001b[39mNone\u001b[39;00m:\n",
      "\u001b[0;31mOperationalError\u001b[0m: could not translate host name \"host\" to address: nodename nor servname provided, or not known\n",
      "\nThe above exception was the direct cause of the following exception:\n",
      "\u001b[0;31mOperationalError\u001b[0m                          Traceback (most recent call last)",
      "\u001b[1;32m/Users/julia/neuefische/capstone-proptech-rep/spotahome.ipynb Cell 24\u001b[0m in \u001b[0;36m<cell line: 4>\u001b[0;34m()\u001b[0m\n\u001b[1;32m      <a href='vscode-notebook-cell:/Users/julia/neuefische/capstone-proptech-rep/spotahome.ipynb#X32sZmlsZQ%3D%3D?line=0'>1</a>\u001b[0m sql_text \u001b[39m=\u001b[39m \u001b[39mf\u001b[39m\u001b[39m\"\"\"\u001b[39m\n\u001b[1;32m      <a href='vscode-notebook-cell:/Users/julia/neuefische/capstone-proptech-rep/spotahome.ipynb#X32sZmlsZQ%3D%3D?line=1'>2</a>\u001b[0m \u001b[39mDROP TABLE IF EXISTS capstone_jmrs.spotahome_merged;\u001b[39m\n\u001b[1;32m      <a href='vscode-notebook-cell:/Users/julia/neuefische/capstone-proptech-rep/spotahome.ipynb#X32sZmlsZQ%3D%3D?line=2'>3</a>\u001b[0m \u001b[39m\"\"\"\u001b[39m\n\u001b[0;32m----> <a href='vscode-notebook-cell:/Users/julia/neuefische/capstone-proptech-rep/spotahome.ipynb#X32sZmlsZQ%3D%3D?line=3'>4</a>\u001b[0m result \u001b[39m=\u001b[39m engine\u001b[39m.\u001b[39;49mexecute(sql_text)\n",
      "File \u001b[0;32m<string>:2\u001b[0m, in \u001b[0;36mexecute\u001b[0;34m(self, statement, *multiparams, **params)\u001b[0m\n",
      "File \u001b[0;32m/opt/homebrew/Caskroom/miniconda/base/envs/nf_sql/lib/python3.9/site-packages/sqlalchemy/util/deprecations.py:402\u001b[0m, in \u001b[0;36m_decorate_with_warning.<locals>.warned\u001b[0;34m(fn, *args, **kwargs)\u001b[0m\n\u001b[1;32m    400\u001b[0m \u001b[39mif\u001b[39;00m \u001b[39mnot\u001b[39;00m skip_warning:\n\u001b[1;32m    401\u001b[0m     _warn_with_version(message, version, wtype, stacklevel\u001b[39m=\u001b[39m\u001b[39m3\u001b[39m)\n\u001b[0;32m--> 402\u001b[0m \u001b[39mreturn\u001b[39;00m fn(\u001b[39m*\u001b[39;49margs, \u001b[39m*\u001b[39;49m\u001b[39m*\u001b[39;49mkwargs)\n",
      "File \u001b[0;32m/opt/homebrew/Caskroom/miniconda/base/envs/nf_sql/lib/python3.9/site-packages/sqlalchemy/engine/base.py:3256\u001b[0m, in \u001b[0;36mEngine.execute\u001b[0;34m(self, statement, *multiparams, **params)\u001b[0m\n\u001b[1;32m   3230\u001b[0m \u001b[39m@util\u001b[39m\u001b[39m.\u001b[39mdeprecated_20(\n\u001b[1;32m   3231\u001b[0m     \u001b[39m\"\u001b[39m\u001b[39m:meth:`_engine.Engine.execute`\u001b[39m\u001b[39m\"\u001b[39m,\n\u001b[1;32m   3232\u001b[0m     alternative\u001b[39m=\u001b[39m\u001b[39m\"\u001b[39m\u001b[39mAll statement execution in SQLAlchemy 2.0 is performed \u001b[39m\u001b[39m\"\u001b[39m\n\u001b[0;32m   (...)\u001b[0m\n\u001b[1;32m   3237\u001b[0m )\n\u001b[1;32m   3238\u001b[0m \u001b[39mdef\u001b[39;00m \u001b[39mexecute\u001b[39m(\u001b[39mself\u001b[39m, statement, \u001b[39m*\u001b[39mmultiparams, \u001b[39m*\u001b[39m\u001b[39m*\u001b[39mparams):\n\u001b[1;32m   3239\u001b[0m     \u001b[39m\"\"\"Executes the given construct and returns a\u001b[39;00m\n\u001b[1;32m   3240\u001b[0m \u001b[39m    :class:`_engine.CursorResult`.\u001b[39;00m\n\u001b[1;32m   3241\u001b[0m \n\u001b[0;32m   (...)\u001b[0m\n\u001b[1;32m   3254\u001b[0m \n\u001b[1;32m   3255\u001b[0m \u001b[39m    \"\"\"\u001b[39;00m\n\u001b[0;32m-> 3256\u001b[0m     connection \u001b[39m=\u001b[39m \u001b[39mself\u001b[39;49m\u001b[39m.\u001b[39;49mconnect(close_with_result\u001b[39m=\u001b[39;49m\u001b[39mTrue\u001b[39;49;00m)\n\u001b[1;32m   3257\u001b[0m     \u001b[39mreturn\u001b[39;00m connection\u001b[39m.\u001b[39mexecute(statement, \u001b[39m*\u001b[39mmultiparams, \u001b[39m*\u001b[39m\u001b[39m*\u001b[39mparams)\n",
      "File \u001b[0;32m/opt/homebrew/Caskroom/miniconda/base/envs/nf_sql/lib/python3.9/site-packages/sqlalchemy/engine/base.py:3315\u001b[0m, in \u001b[0;36mEngine.connect\u001b[0;34m(self, close_with_result)\u001b[0m\n\u001b[1;32m   3300\u001b[0m \u001b[39mdef\u001b[39;00m \u001b[39mconnect\u001b[39m(\u001b[39mself\u001b[39m, close_with_result\u001b[39m=\u001b[39m\u001b[39mFalse\u001b[39;00m):\n\u001b[1;32m   3301\u001b[0m     \u001b[39m\"\"\"Return a new :class:`_engine.Connection` object.\u001b[39;00m\n\u001b[1;32m   3302\u001b[0m \n\u001b[1;32m   3303\u001b[0m \u001b[39m    The :class:`_engine.Connection` object is a facade that uses a DBAPI\u001b[39;00m\n\u001b[0;32m   (...)\u001b[0m\n\u001b[1;32m   3312\u001b[0m \n\u001b[1;32m   3313\u001b[0m \u001b[39m    \"\"\"\u001b[39;00m\n\u001b[0;32m-> 3315\u001b[0m     \u001b[39mreturn\u001b[39;00m \u001b[39mself\u001b[39;49m\u001b[39m.\u001b[39;49m_connection_cls(\u001b[39mself\u001b[39;49m, close_with_result\u001b[39m=\u001b[39;49mclose_with_result)\n",
      "File \u001b[0;32m/opt/homebrew/Caskroom/miniconda/base/envs/nf_sql/lib/python3.9/site-packages/sqlalchemy/engine/base.py:96\u001b[0m, in \u001b[0;36mConnection.__init__\u001b[0;34m(self, engine, connection, close_with_result, _branch_from, _execution_options, _dispatch, _has_events, _allow_revalidate)\u001b[0m\n\u001b[1;32m     91\u001b[0m     \u001b[39mself\u001b[39m\u001b[39m.\u001b[39m_has_events \u001b[39m=\u001b[39m _branch_from\u001b[39m.\u001b[39m_has_events\n\u001b[1;32m     92\u001b[0m \u001b[39melse\u001b[39;00m:\n\u001b[1;32m     93\u001b[0m     \u001b[39mself\u001b[39m\u001b[39m.\u001b[39m_dbapi_connection \u001b[39m=\u001b[39m (\n\u001b[1;32m     94\u001b[0m         connection\n\u001b[1;32m     95\u001b[0m         \u001b[39mif\u001b[39;00m connection \u001b[39mis\u001b[39;00m \u001b[39mnot\u001b[39;00m \u001b[39mNone\u001b[39;00m\n\u001b[0;32m---> 96\u001b[0m         \u001b[39melse\u001b[39;00m engine\u001b[39m.\u001b[39;49mraw_connection()\n\u001b[1;32m     97\u001b[0m     )\n\u001b[1;32m     99\u001b[0m     \u001b[39mself\u001b[39m\u001b[39m.\u001b[39m_transaction \u001b[39m=\u001b[39m \u001b[39mself\u001b[39m\u001b[39m.\u001b[39m_nested_transaction \u001b[39m=\u001b[39m \u001b[39mNone\u001b[39;00m\n\u001b[1;32m    100\u001b[0m     \u001b[39mself\u001b[39m\u001b[39m.\u001b[39m__savepoint_seq \u001b[39m=\u001b[39m \u001b[39m0\u001b[39m\n",
      "File \u001b[0;32m/opt/homebrew/Caskroom/miniconda/base/envs/nf_sql/lib/python3.9/site-packages/sqlalchemy/engine/base.py:3394\u001b[0m, in \u001b[0;36mEngine.raw_connection\u001b[0;34m(self, _connection)\u001b[0m\n\u001b[1;32m   3372\u001b[0m \u001b[39mdef\u001b[39;00m \u001b[39mraw_connection\u001b[39m(\u001b[39mself\u001b[39m, _connection\u001b[39m=\u001b[39m\u001b[39mNone\u001b[39;00m):\n\u001b[1;32m   3373\u001b[0m     \u001b[39m\"\"\"Return a \"raw\" DBAPI connection from the connection pool.\u001b[39;00m\n\u001b[1;32m   3374\u001b[0m \n\u001b[1;32m   3375\u001b[0m \u001b[39m    The returned object is a proxied version of the DBAPI\u001b[39;00m\n\u001b[0;32m   (...)\u001b[0m\n\u001b[1;32m   3392\u001b[0m \n\u001b[1;32m   3393\u001b[0m \u001b[39m    \"\"\"\u001b[39;00m\n\u001b[0;32m-> 3394\u001b[0m     \u001b[39mreturn\u001b[39;00m \u001b[39mself\u001b[39;49m\u001b[39m.\u001b[39;49m_wrap_pool_connect(\u001b[39mself\u001b[39;49m\u001b[39m.\u001b[39;49mpool\u001b[39m.\u001b[39;49mconnect, _connection)\n",
      "File \u001b[0;32m/opt/homebrew/Caskroom/miniconda/base/envs/nf_sql/lib/python3.9/site-packages/sqlalchemy/engine/base.py:3364\u001b[0m, in \u001b[0;36mEngine._wrap_pool_connect\u001b[0;34m(self, fn, connection)\u001b[0m\n\u001b[1;32m   3362\u001b[0m \u001b[39mexcept\u001b[39;00m dialect\u001b[39m.\u001b[39mdbapi\u001b[39m.\u001b[39mError \u001b[39mas\u001b[39;00m e:\n\u001b[1;32m   3363\u001b[0m     \u001b[39mif\u001b[39;00m connection \u001b[39mis\u001b[39;00m \u001b[39mNone\u001b[39;00m:\n\u001b[0;32m-> 3364\u001b[0m         Connection\u001b[39m.\u001b[39;49m_handle_dbapi_exception_noconnection(\n\u001b[1;32m   3365\u001b[0m             e, dialect, \u001b[39mself\u001b[39;49m\n\u001b[1;32m   3366\u001b[0m         )\n\u001b[1;32m   3367\u001b[0m     \u001b[39melse\u001b[39;00m:\n\u001b[1;32m   3368\u001b[0m         util\u001b[39m.\u001b[39mraise_(\n\u001b[1;32m   3369\u001b[0m             sys\u001b[39m.\u001b[39mexc_info()[\u001b[39m1\u001b[39m], with_traceback\u001b[39m=\u001b[39msys\u001b[39m.\u001b[39mexc_info()[\u001b[39m2\u001b[39m]\n\u001b[1;32m   3370\u001b[0m         )\n",
      "File \u001b[0;32m/opt/homebrew/Caskroom/miniconda/base/envs/nf_sql/lib/python3.9/site-packages/sqlalchemy/engine/base.py:2198\u001b[0m, in \u001b[0;36mConnection._handle_dbapi_exception_noconnection\u001b[0;34m(cls, e, dialect, engine)\u001b[0m\n\u001b[1;32m   2196\u001b[0m     util\u001b[39m.\u001b[39mraise_(newraise, with_traceback\u001b[39m=\u001b[39mexc_info[\u001b[39m2\u001b[39m], from_\u001b[39m=\u001b[39me)\n\u001b[1;32m   2197\u001b[0m \u001b[39melif\u001b[39;00m should_wrap:\n\u001b[0;32m-> 2198\u001b[0m     util\u001b[39m.\u001b[39;49mraise_(\n\u001b[1;32m   2199\u001b[0m         sqlalchemy_exception, with_traceback\u001b[39m=\u001b[39;49mexc_info[\u001b[39m2\u001b[39;49m], from_\u001b[39m=\u001b[39;49me\n\u001b[1;32m   2200\u001b[0m     )\n\u001b[1;32m   2201\u001b[0m \u001b[39melse\u001b[39;00m:\n\u001b[1;32m   2202\u001b[0m     util\u001b[39m.\u001b[39mraise_(exc_info[\u001b[39m1\u001b[39m], with_traceback\u001b[39m=\u001b[39mexc_info[\u001b[39m2\u001b[39m])\n",
      "File \u001b[0;32m/opt/homebrew/Caskroom/miniconda/base/envs/nf_sql/lib/python3.9/site-packages/sqlalchemy/util/compat.py:208\u001b[0m, in \u001b[0;36mraise_\u001b[0;34m(***failed resolving arguments***)\u001b[0m\n\u001b[1;32m    205\u001b[0m     exception\u001b[39m.\u001b[39m__cause__ \u001b[39m=\u001b[39m replace_context\n\u001b[1;32m    207\u001b[0m \u001b[39mtry\u001b[39;00m:\n\u001b[0;32m--> 208\u001b[0m     \u001b[39mraise\u001b[39;00m exception\n\u001b[1;32m    209\u001b[0m \u001b[39mfinally\u001b[39;00m:\n\u001b[1;32m    210\u001b[0m     \u001b[39m# credit to\u001b[39;00m\n\u001b[1;32m    211\u001b[0m     \u001b[39m# https://cosmicpercolator.com/2016/01/13/exception-leaks-in-python-2-and-3/\u001b[39;00m\n\u001b[1;32m    212\u001b[0m     \u001b[39m# as the __traceback__ object creates a cycle\u001b[39;00m\n\u001b[1;32m    213\u001b[0m     \u001b[39mdel\u001b[39;00m exception, replace_context, from_, with_traceback\n",
      "File \u001b[0;32m/opt/homebrew/Caskroom/miniconda/base/envs/nf_sql/lib/python3.9/site-packages/sqlalchemy/engine/base.py:3361\u001b[0m, in \u001b[0;36mEngine._wrap_pool_connect\u001b[0;34m(self, fn, connection)\u001b[0m\n\u001b[1;32m   3359\u001b[0m dialect \u001b[39m=\u001b[39m \u001b[39mself\u001b[39m\u001b[39m.\u001b[39mdialect\n\u001b[1;32m   3360\u001b[0m \u001b[39mtry\u001b[39;00m:\n\u001b[0;32m-> 3361\u001b[0m     \u001b[39mreturn\u001b[39;00m fn()\n\u001b[1;32m   3362\u001b[0m \u001b[39mexcept\u001b[39;00m dialect\u001b[39m.\u001b[39mdbapi\u001b[39m.\u001b[39mError \u001b[39mas\u001b[39;00m e:\n\u001b[1;32m   3363\u001b[0m     \u001b[39mif\u001b[39;00m connection \u001b[39mis\u001b[39;00m \u001b[39mNone\u001b[39;00m:\n",
      "File \u001b[0;32m/opt/homebrew/Caskroom/miniconda/base/envs/nf_sql/lib/python3.9/site-packages/sqlalchemy/pool/base.py:310\u001b[0m, in \u001b[0;36mPool.connect\u001b[0;34m(self)\u001b[0m\n\u001b[1;32m    302\u001b[0m \u001b[39mdef\u001b[39;00m \u001b[39mconnect\u001b[39m(\u001b[39mself\u001b[39m):\n\u001b[1;32m    303\u001b[0m     \u001b[39m\"\"\"Return a DBAPI connection from the pool.\u001b[39;00m\n\u001b[1;32m    304\u001b[0m \n\u001b[1;32m    305\u001b[0m \u001b[39m    The connection is instrumented such that when its\u001b[39;00m\n\u001b[0;32m   (...)\u001b[0m\n\u001b[1;32m    308\u001b[0m \n\u001b[1;32m    309\u001b[0m \u001b[39m    \"\"\"\u001b[39;00m\n\u001b[0;32m--> 310\u001b[0m     \u001b[39mreturn\u001b[39;00m _ConnectionFairy\u001b[39m.\u001b[39;49m_checkout(\u001b[39mself\u001b[39;49m)\n",
      "File \u001b[0;32m/opt/homebrew/Caskroom/miniconda/base/envs/nf_sql/lib/python3.9/site-packages/sqlalchemy/pool/base.py:868\u001b[0m, in \u001b[0;36m_ConnectionFairy._checkout\u001b[0;34m(cls, pool, threadconns, fairy)\u001b[0m\n\u001b[1;32m    865\u001b[0m \u001b[39m@classmethod\u001b[39m\n\u001b[1;32m    866\u001b[0m \u001b[39mdef\u001b[39;00m \u001b[39m_checkout\u001b[39m(\u001b[39mcls\u001b[39m, pool, threadconns\u001b[39m=\u001b[39m\u001b[39mNone\u001b[39;00m, fairy\u001b[39m=\u001b[39m\u001b[39mNone\u001b[39;00m):\n\u001b[1;32m    867\u001b[0m     \u001b[39mif\u001b[39;00m \u001b[39mnot\u001b[39;00m fairy:\n\u001b[0;32m--> 868\u001b[0m         fairy \u001b[39m=\u001b[39m _ConnectionRecord\u001b[39m.\u001b[39;49mcheckout(pool)\n\u001b[1;32m    870\u001b[0m         fairy\u001b[39m.\u001b[39m_pool \u001b[39m=\u001b[39m pool\n\u001b[1;32m    871\u001b[0m         fairy\u001b[39m.\u001b[39m_counter \u001b[39m=\u001b[39m \u001b[39m0\u001b[39m\n",
      "File \u001b[0;32m/opt/homebrew/Caskroom/miniconda/base/envs/nf_sql/lib/python3.9/site-packages/sqlalchemy/pool/base.py:476\u001b[0m, in \u001b[0;36m_ConnectionRecord.checkout\u001b[0;34m(cls, pool)\u001b[0m\n\u001b[1;32m    474\u001b[0m \u001b[39m@classmethod\u001b[39m\n\u001b[1;32m    475\u001b[0m \u001b[39mdef\u001b[39;00m \u001b[39mcheckout\u001b[39m(\u001b[39mcls\u001b[39m, pool):\n\u001b[0;32m--> 476\u001b[0m     rec \u001b[39m=\u001b[39m pool\u001b[39m.\u001b[39;49m_do_get()\n\u001b[1;32m    477\u001b[0m     \u001b[39mtry\u001b[39;00m:\n\u001b[1;32m    478\u001b[0m         dbapi_connection \u001b[39m=\u001b[39m rec\u001b[39m.\u001b[39mget_connection()\n",
      "File \u001b[0;32m/opt/homebrew/Caskroom/miniconda/base/envs/nf_sql/lib/python3.9/site-packages/sqlalchemy/pool/impl.py:146\u001b[0m, in \u001b[0;36mQueuePool._do_get\u001b[0;34m(self)\u001b[0m\n\u001b[1;32m    144\u001b[0m     \u001b[39mexcept\u001b[39;00m:\n\u001b[1;32m    145\u001b[0m         \u001b[39mwith\u001b[39;00m util\u001b[39m.\u001b[39msafe_reraise():\n\u001b[0;32m--> 146\u001b[0m             \u001b[39mself\u001b[39m\u001b[39m.\u001b[39m_dec_overflow()\n\u001b[1;32m    147\u001b[0m \u001b[39melse\u001b[39;00m:\n\u001b[1;32m    148\u001b[0m     \u001b[39mreturn\u001b[39;00m \u001b[39mself\u001b[39m\u001b[39m.\u001b[39m_do_get()\n",
      "File \u001b[0;32m/opt/homebrew/Caskroom/miniconda/base/envs/nf_sql/lib/python3.9/site-packages/sqlalchemy/util/langhelpers.py:70\u001b[0m, in \u001b[0;36msafe_reraise.__exit__\u001b[0;34m(self, type_, value, traceback)\u001b[0m\n\u001b[1;32m     68\u001b[0m     \u001b[39mself\u001b[39m\u001b[39m.\u001b[39m_exc_info \u001b[39m=\u001b[39m \u001b[39mNone\u001b[39;00m  \u001b[39m# remove potential circular references\u001b[39;00m\n\u001b[1;32m     69\u001b[0m     \u001b[39mif\u001b[39;00m \u001b[39mnot\u001b[39;00m \u001b[39mself\u001b[39m\u001b[39m.\u001b[39mwarn_only:\n\u001b[0;32m---> 70\u001b[0m         compat\u001b[39m.\u001b[39;49mraise_(\n\u001b[1;32m     71\u001b[0m             exc_value,\n\u001b[1;32m     72\u001b[0m             with_traceback\u001b[39m=\u001b[39;49mexc_tb,\n\u001b[1;32m     73\u001b[0m         )\n\u001b[1;32m     74\u001b[0m \u001b[39melse\u001b[39;00m:\n\u001b[1;32m     75\u001b[0m     \u001b[39mif\u001b[39;00m \u001b[39mnot\u001b[39;00m compat\u001b[39m.\u001b[39mpy3k \u001b[39mand\u001b[39;00m \u001b[39mself\u001b[39m\u001b[39m.\u001b[39m_exc_info \u001b[39mand\u001b[39;00m \u001b[39mself\u001b[39m\u001b[39m.\u001b[39m_exc_info[\u001b[39m1\u001b[39m]:\n\u001b[1;32m     76\u001b[0m         \u001b[39m# emulate Py3K's behavior of telling us when an exception\u001b[39;00m\n\u001b[1;32m     77\u001b[0m         \u001b[39m# occurs in an exception handler.\u001b[39;00m\n",
      "File \u001b[0;32m/opt/homebrew/Caskroom/miniconda/base/envs/nf_sql/lib/python3.9/site-packages/sqlalchemy/util/compat.py:208\u001b[0m, in \u001b[0;36mraise_\u001b[0;34m(***failed resolving arguments***)\u001b[0m\n\u001b[1;32m    205\u001b[0m     exception\u001b[39m.\u001b[39m__cause__ \u001b[39m=\u001b[39m replace_context\n\u001b[1;32m    207\u001b[0m \u001b[39mtry\u001b[39;00m:\n\u001b[0;32m--> 208\u001b[0m     \u001b[39mraise\u001b[39;00m exception\n\u001b[1;32m    209\u001b[0m \u001b[39mfinally\u001b[39;00m:\n\u001b[1;32m    210\u001b[0m     \u001b[39m# credit to\u001b[39;00m\n\u001b[1;32m    211\u001b[0m     \u001b[39m# https://cosmicpercolator.com/2016/01/13/exception-leaks-in-python-2-and-3/\u001b[39;00m\n\u001b[1;32m    212\u001b[0m     \u001b[39m# as the __traceback__ object creates a cycle\u001b[39;00m\n\u001b[1;32m    213\u001b[0m     \u001b[39mdel\u001b[39;00m exception, replace_context, from_, with_traceback\n",
      "File \u001b[0;32m/opt/homebrew/Caskroom/miniconda/base/envs/nf_sql/lib/python3.9/site-packages/sqlalchemy/pool/impl.py:143\u001b[0m, in \u001b[0;36mQueuePool._do_get\u001b[0;34m(self)\u001b[0m\n\u001b[1;32m    141\u001b[0m \u001b[39mif\u001b[39;00m \u001b[39mself\u001b[39m\u001b[39m.\u001b[39m_inc_overflow():\n\u001b[1;32m    142\u001b[0m     \u001b[39mtry\u001b[39;00m:\n\u001b[0;32m--> 143\u001b[0m         \u001b[39mreturn\u001b[39;00m \u001b[39mself\u001b[39;49m\u001b[39m.\u001b[39;49m_create_connection()\n\u001b[1;32m    144\u001b[0m     \u001b[39mexcept\u001b[39;00m:\n\u001b[1;32m    145\u001b[0m         \u001b[39mwith\u001b[39;00m util\u001b[39m.\u001b[39msafe_reraise():\n",
      "File \u001b[0;32m/opt/homebrew/Caskroom/miniconda/base/envs/nf_sql/lib/python3.9/site-packages/sqlalchemy/pool/base.py:256\u001b[0m, in \u001b[0;36mPool._create_connection\u001b[0;34m(self)\u001b[0m\n\u001b[1;32m    253\u001b[0m \u001b[39mdef\u001b[39;00m \u001b[39m_create_connection\u001b[39m(\u001b[39mself\u001b[39m):\n\u001b[1;32m    254\u001b[0m     \u001b[39m\"\"\"Called by subclasses to create a new ConnectionRecord.\"\"\"\u001b[39;00m\n\u001b[0;32m--> 256\u001b[0m     \u001b[39mreturn\u001b[39;00m _ConnectionRecord(\u001b[39mself\u001b[39;49m)\n",
      "File \u001b[0;32m/opt/homebrew/Caskroom/miniconda/base/envs/nf_sql/lib/python3.9/site-packages/sqlalchemy/pool/base.py:371\u001b[0m, in \u001b[0;36m_ConnectionRecord.__init__\u001b[0;34m(self, pool, connect)\u001b[0m\n\u001b[1;32m    369\u001b[0m \u001b[39mself\u001b[39m\u001b[39m.\u001b[39m__pool \u001b[39m=\u001b[39m pool\n\u001b[1;32m    370\u001b[0m \u001b[39mif\u001b[39;00m connect:\n\u001b[0;32m--> 371\u001b[0m     \u001b[39mself\u001b[39;49m\u001b[39m.\u001b[39;49m__connect()\n\u001b[1;32m    372\u001b[0m \u001b[39mself\u001b[39m\u001b[39m.\u001b[39mfinalize_callback \u001b[39m=\u001b[39m deque()\n",
      "File \u001b[0;32m/opt/homebrew/Caskroom/miniconda/base/envs/nf_sql/lib/python3.9/site-packages/sqlalchemy/pool/base.py:666\u001b[0m, in \u001b[0;36m_ConnectionRecord.__connect\u001b[0;34m(self)\u001b[0m\n\u001b[1;32m    664\u001b[0m \u001b[39mexcept\u001b[39;00m \u001b[39mException\u001b[39;00m \u001b[39mas\u001b[39;00m e:\n\u001b[1;32m    665\u001b[0m     \u001b[39mwith\u001b[39;00m util\u001b[39m.\u001b[39msafe_reraise():\n\u001b[0;32m--> 666\u001b[0m         pool\u001b[39m.\u001b[39mlogger\u001b[39m.\u001b[39mdebug(\u001b[39m\"\u001b[39m\u001b[39mError on connect(): \u001b[39m\u001b[39m%s\u001b[39;00m\u001b[39m\"\u001b[39m, e)\n\u001b[1;32m    667\u001b[0m \u001b[39melse\u001b[39;00m:\n\u001b[1;32m    668\u001b[0m     \u001b[39m# in SQLAlchemy 1.4 the first_connect event is not used by\u001b[39;00m\n\u001b[1;32m    669\u001b[0m     \u001b[39m# the engine, so this will usually not be set\u001b[39;00m\n\u001b[1;32m    670\u001b[0m     \u001b[39mif\u001b[39;00m pool\u001b[39m.\u001b[39mdispatch\u001b[39m.\u001b[39mfirst_connect:\n",
      "File \u001b[0;32m/opt/homebrew/Caskroom/miniconda/base/envs/nf_sql/lib/python3.9/site-packages/sqlalchemy/util/langhelpers.py:70\u001b[0m, in \u001b[0;36msafe_reraise.__exit__\u001b[0;34m(self, type_, value, traceback)\u001b[0m\n\u001b[1;32m     68\u001b[0m     \u001b[39mself\u001b[39m\u001b[39m.\u001b[39m_exc_info \u001b[39m=\u001b[39m \u001b[39mNone\u001b[39;00m  \u001b[39m# remove potential circular references\u001b[39;00m\n\u001b[1;32m     69\u001b[0m     \u001b[39mif\u001b[39;00m \u001b[39mnot\u001b[39;00m \u001b[39mself\u001b[39m\u001b[39m.\u001b[39mwarn_only:\n\u001b[0;32m---> 70\u001b[0m         compat\u001b[39m.\u001b[39;49mraise_(\n\u001b[1;32m     71\u001b[0m             exc_value,\n\u001b[1;32m     72\u001b[0m             with_traceback\u001b[39m=\u001b[39;49mexc_tb,\n\u001b[1;32m     73\u001b[0m         )\n\u001b[1;32m     74\u001b[0m \u001b[39melse\u001b[39;00m:\n\u001b[1;32m     75\u001b[0m     \u001b[39mif\u001b[39;00m \u001b[39mnot\u001b[39;00m compat\u001b[39m.\u001b[39mpy3k \u001b[39mand\u001b[39;00m \u001b[39mself\u001b[39m\u001b[39m.\u001b[39m_exc_info \u001b[39mand\u001b[39;00m \u001b[39mself\u001b[39m\u001b[39m.\u001b[39m_exc_info[\u001b[39m1\u001b[39m]:\n\u001b[1;32m     76\u001b[0m         \u001b[39m# emulate Py3K's behavior of telling us when an exception\u001b[39;00m\n\u001b[1;32m     77\u001b[0m         \u001b[39m# occurs in an exception handler.\u001b[39;00m\n",
      "File \u001b[0;32m/opt/homebrew/Caskroom/miniconda/base/envs/nf_sql/lib/python3.9/site-packages/sqlalchemy/util/compat.py:208\u001b[0m, in \u001b[0;36mraise_\u001b[0;34m(***failed resolving arguments***)\u001b[0m\n\u001b[1;32m    205\u001b[0m     exception\u001b[39m.\u001b[39m__cause__ \u001b[39m=\u001b[39m replace_context\n\u001b[1;32m    207\u001b[0m \u001b[39mtry\u001b[39;00m:\n\u001b[0;32m--> 208\u001b[0m     \u001b[39mraise\u001b[39;00m exception\n\u001b[1;32m    209\u001b[0m \u001b[39mfinally\u001b[39;00m:\n\u001b[1;32m    210\u001b[0m     \u001b[39m# credit to\u001b[39;00m\n\u001b[1;32m    211\u001b[0m     \u001b[39m# https://cosmicpercolator.com/2016/01/13/exception-leaks-in-python-2-and-3/\u001b[39;00m\n\u001b[1;32m    212\u001b[0m     \u001b[39m# as the __traceback__ object creates a cycle\u001b[39;00m\n\u001b[1;32m    213\u001b[0m     \u001b[39mdel\u001b[39;00m exception, replace_context, from_, with_traceback\n",
      "File \u001b[0;32m/opt/homebrew/Caskroom/miniconda/base/envs/nf_sql/lib/python3.9/site-packages/sqlalchemy/pool/base.py:661\u001b[0m, in \u001b[0;36m_ConnectionRecord.__connect\u001b[0;34m(self)\u001b[0m\n\u001b[1;32m    659\u001b[0m \u001b[39mtry\u001b[39;00m:\n\u001b[1;32m    660\u001b[0m     \u001b[39mself\u001b[39m\u001b[39m.\u001b[39mstarttime \u001b[39m=\u001b[39m time\u001b[39m.\u001b[39mtime()\n\u001b[0;32m--> 661\u001b[0m     \u001b[39mself\u001b[39m\u001b[39m.\u001b[39mdbapi_connection \u001b[39m=\u001b[39m connection \u001b[39m=\u001b[39m pool\u001b[39m.\u001b[39;49m_invoke_creator(\u001b[39mself\u001b[39;49m)\n\u001b[1;32m    662\u001b[0m     pool\u001b[39m.\u001b[39mlogger\u001b[39m.\u001b[39mdebug(\u001b[39m\"\u001b[39m\u001b[39mCreated new connection \u001b[39m\u001b[39m%r\u001b[39;00m\u001b[39m\"\u001b[39m, connection)\n\u001b[1;32m    663\u001b[0m     \u001b[39mself\u001b[39m\u001b[39m.\u001b[39mfresh \u001b[39m=\u001b[39m \u001b[39mTrue\u001b[39;00m\n",
      "File \u001b[0;32m/opt/homebrew/Caskroom/miniconda/base/envs/nf_sql/lib/python3.9/site-packages/sqlalchemy/engine/create.py:578\u001b[0m, in \u001b[0;36mcreate_engine.<locals>.connect\u001b[0;34m(connection_record)\u001b[0m\n\u001b[1;32m    576\u001b[0m         \u001b[39mif\u001b[39;00m connection \u001b[39mis\u001b[39;00m \u001b[39mnot\u001b[39;00m \u001b[39mNone\u001b[39;00m:\n\u001b[1;32m    577\u001b[0m             \u001b[39mreturn\u001b[39;00m connection\n\u001b[0;32m--> 578\u001b[0m \u001b[39mreturn\u001b[39;00m dialect\u001b[39m.\u001b[39;49mconnect(\u001b[39m*\u001b[39;49mcargs, \u001b[39m*\u001b[39;49m\u001b[39m*\u001b[39;49mcparams)\n",
      "File \u001b[0;32m/opt/homebrew/Caskroom/miniconda/base/envs/nf_sql/lib/python3.9/site-packages/sqlalchemy/engine/default.py:597\u001b[0m, in \u001b[0;36mDefaultDialect.connect\u001b[0;34m(self, *cargs, **cparams)\u001b[0m\n\u001b[1;32m    595\u001b[0m \u001b[39mdef\u001b[39;00m \u001b[39mconnect\u001b[39m(\u001b[39mself\u001b[39m, \u001b[39m*\u001b[39mcargs, \u001b[39m*\u001b[39m\u001b[39m*\u001b[39mcparams):\n\u001b[1;32m    596\u001b[0m     \u001b[39m# inherits the docstring from interfaces.Dialect.connect\u001b[39;00m\n\u001b[0;32m--> 597\u001b[0m     \u001b[39mreturn\u001b[39;00m \u001b[39mself\u001b[39;49m\u001b[39m.\u001b[39;49mdbapi\u001b[39m.\u001b[39;49mconnect(\u001b[39m*\u001b[39;49mcargs, \u001b[39m*\u001b[39;49m\u001b[39m*\u001b[39;49mcparams)\n",
      "File \u001b[0;32m/opt/homebrew/Caskroom/miniconda/base/envs/nf_sql/lib/python3.9/site-packages/psycopg2/__init__.py:122\u001b[0m, in \u001b[0;36mconnect\u001b[0;34m(dsn, connection_factory, cursor_factory, **kwargs)\u001b[0m\n\u001b[1;32m    119\u001b[0m     kwasync[\u001b[39m'\u001b[39m\u001b[39masync_\u001b[39m\u001b[39m'\u001b[39m] \u001b[39m=\u001b[39m kwargs\u001b[39m.\u001b[39mpop(\u001b[39m'\u001b[39m\u001b[39masync_\u001b[39m\u001b[39m'\u001b[39m)\n\u001b[1;32m    121\u001b[0m dsn \u001b[39m=\u001b[39m _ext\u001b[39m.\u001b[39mmake_dsn(dsn, \u001b[39m*\u001b[39m\u001b[39m*\u001b[39mkwargs)\n\u001b[0;32m--> 122\u001b[0m conn \u001b[39m=\u001b[39m _connect(dsn, connection_factory\u001b[39m=\u001b[39;49mconnection_factory, \u001b[39m*\u001b[39;49m\u001b[39m*\u001b[39;49mkwasync)\n\u001b[1;32m    123\u001b[0m \u001b[39mif\u001b[39;00m cursor_factory \u001b[39mis\u001b[39;00m \u001b[39mnot\u001b[39;00m \u001b[39mNone\u001b[39;00m:\n\u001b[1;32m    124\u001b[0m     conn\u001b[39m.\u001b[39mcursor_factory \u001b[39m=\u001b[39m cursor_factory\n",
      "\u001b[0;31mOperationalError\u001b[0m: (psycopg2.OperationalError) could not translate host name \"host\" to address: nodename nor servname provided, or not known\n\n(Background on this error at: https://sqlalche.me/e/14/e3q8)"
     ]
    }
   ],
   "source": [
    "sql_text = f\"\"\"\n",
    "DROP TABLE IF EXISTS capstone_jmrs.spotahome_merged;\n",
    "\"\"\"\n",
    "result = engine.execute(sql_text)"
   ]
  },
  {
   "cell_type": "code",
   "execution_count": null,
   "metadata": {},
   "outputs": [],
   "source": [
    "sql_text = f\"\"\"\n",
    "DROP TABLE IF EXISTS capstone_jmrs.spotahome_eda;\n",
    "\"\"\"\n",
    "result = engine.execute(sql_text)"
   ]
  },
  {
   "cell_type": "code",
   "execution_count": null,
   "metadata": {},
   "outputs": [],
   "source": [
    "sql_text = f\"\"\"\n",
    "DROP TABLE IF EXISTS capstone_jmrs.spotahome_clean;\n",
    "\"\"\"\n",
    "result = engine.execute(sql_text)"
   ]
  },
  {
   "cell_type": "markdown",
   "metadata": {},
   "source": [
    "### join the two tables with the raw data"
   ]
  },
  {
   "cell_type": "code",
   "execution_count": null,
   "metadata": {},
   "outputs": [],
   "source": [
    "sql_text = f\"\"\"\n",
    "CREATE TABLE capstone_jmrs.spotahome_merged AS\n",
    "SELECT *\n",
    "FROM capstone_jmrs.spotahome_df_complete sdcaf\n",
    "LEFT JOIN capstone_jmrs.spotahome_df_details_complete sddc  \n",
    "\t   ON sdcaf.platform_id = sddc.id;\n",
    "\"\"\"\n",
    "result = engine.execute(sql_text)"
   ]
  },
  {
   "cell_type": "markdown",
   "metadata": {},
   "source": [
    "### properties who are available this year (2022) don't have the year in it, so we fill it in"
   ]
  },
  {
   "cell_type": "code",
   "execution_count": null,
   "metadata": {},
   "outputs": [],
   "source": [
    "sql_text = f\"\"\"\n",
    "UPDATE capstone_jmrs.spotahome_merged\n",
    "\tSET available_from_2 = COALESCE(available_from_2, '2022');\n",
    "\"\"\"\n",
    "result = engine.execute(sql_text)"
   ]
  },
  {
   "cell_type": "markdown",
   "metadata": {},
   "source": [
    "### the date for availability, which was splitted, is merged back into one column"
   ]
  },
  {
   "cell_type": "code",
   "execution_count": null,
   "metadata": {},
   "outputs": [],
   "source": [
    "sql_text = f\"\"\"\n",
    "UPDATE capstone_jmrs.spotahome_merged \n",
    "\tSET available_from = available_from_0 || '-' || available_from_1 || '-' || available_from_2;\n",
    "\"\"\"\n",
    "result = engine.execute(sql_text)"
   ]
  },
  {
   "cell_type": "markdown",
   "metadata": {},
   "source": [
    "## Rename columns"
   ]
  },
  {
   "cell_type": "code",
   "execution_count": null,
   "metadata": {},
   "outputs": [],
   "source": [
    "sql_text = f\"\"\"\n",
    "ALTER TABLE capstone_jmrs.spotahome_merged\n",
    "\tRENAME COLUMN m2 TO size_sqm;\n",
    "\"\"\"\n",
    "result = engine.execute(sql_text)"
   ]
  },
  {
   "cell_type": "markdown",
   "metadata": {},
   "source": [
    "### change the column types - dates to DATE, numbers to INT or FLOAT and text to VARCHAR"
   ]
  },
  {
   "cell_type": "code",
   "execution_count": null,
   "metadata": {},
   "outputs": [],
   "source": [
    "sql_text = f\"\"\"\n",
    "ALTER TABLE capstone_jmrs.spotahome_merged\n",
    "    ALTER COLUMN platform_id TYPE VARCHAR,\n",
    "    ALTER COLUMN platform TYPE VARCHAR,\n",
    "    ALTER COLUMN neighbourhood TYPE VARCHAR,\n",
    "    ALTER COLUMN furniture TYPE VARCHAR,\n",
    "    ALTER COLUMN housing_type TYPE VARCHAR,\n",
    "    ALTER COLUMN property_type TYPE VARCHAR,\n",
    "    ALTER COLUMN size_sqm TYPE FLOAT USING size_sqm::FLOAT,\n",
    "    ALTER COLUMN bedrooms TYPE FLOAT USING bedrooms::FLOAT,\n",
    "    ALTER COLUMN bathrooms TYPE FLOAT USING bathrooms::FLOAT,\n",
    "    ALTER COLUMN price_0 TYPE FLOAT USING price_0::FLOAT,\n",
    "    ALTER COLUMN price_1 TYPE FLOAT USING price_1::FLOAT,    \n",
    "    ALTER COLUMN available_from TYPE DATE USING available_from::DATE,\n",
    "    ALTER COLUMN let_type TYPE VARCHAR,\n",
    "    ALTER COLUMN detailed_furniture TYPE VARCHAR,\n",
    "    ALTER COLUMN scraping_date TYPE DATE USING scraping_date::DATE,\n",
    "    ALTER COLUMN title TYPE VARCHAR;    \n",
    "\"\"\"\n",
    "result = engine.execute(sql_text)"
   ]
  },
  {
   "cell_type": "markdown",
   "metadata": {},
   "source": [
    "### drop columns that are no longer needed"
   ]
  },
  {
   "cell_type": "code",
   "execution_count": null,
   "metadata": {},
   "outputs": [],
   "source": [
    "sql_text = f\"\"\"   \n",
    "ALTER TABLE capstone_jmrs.spotahome_merged\n",
    "  DROP COLUMN available_from_0,\n",
    "  DROP COLUMN available_from_1,\n",
    "  DROP COLUMN available_from_2,\n",
    "  DROP COLUMN id;\n",
    "  \"\"\"\n",
    "result = engine.execute(sql_text)"
   ]
  },
  {
   "cell_type": "markdown",
   "metadata": {},
   "source": [
    "### square meters who are not logical are replaced with null values (properties with 1m<sup>2</sup> or 1000m<sup>2</sup> are not realistic)"
   ]
  },
  {
   "cell_type": "code",
   "execution_count": null,
   "metadata": {},
   "outputs": [],
   "source": [
    "sql_text = f\"\"\" \n",
    "UPDATE capstone_jmrs.spotahome_merged\n",
    "SET size_sqm = NULL\n",
    "WHERE size_sqm < '10'\n",
    "\tOR size_sqm > '999';\n",
    "\"\"\"\n",
    "result = engine.execute(sql_text)"
   ]
  },
  {
   "cell_type": "markdown",
   "metadata": {},
   "source": [
    "### fill missing number of bedrooms with information from property type"
   ]
  },
  {
   "cell_type": "code",
   "execution_count": null,
   "metadata": {},
   "outputs": [],
   "source": [
    "sql_text = f\"\"\"\n",
    "UPDATE capstone_jmrs.spotahome_merged\n",
    "SET bedrooms = COALESCE(bedrooms, '0')\n",
    "WHERE property_type = 'studios';\n",
    "\"\"\"\n",
    "result = engine.execute(sql_text)"
   ]
  },
  {
   "cell_type": "code",
   "execution_count": null,
   "metadata": {},
   "outputs": [],
   "source": [
    "sql_text = f\"\"\"\n",
    "UPDATE capstone_jmrs.spotahome_merged\n",
    "SET bedrooms = COALESCE(bedrooms, '1')\n",
    "WHERE property_type = 'apartments/bedrooms:1';\n",
    "\"\"\"\n",
    "result = engine.execute(sql_text)"
   ]
  },
  {
   "cell_type": "code",
   "execution_count": null,
   "metadata": {},
   "outputs": [],
   "source": [
    "sql_text = f\"\"\"\n",
    "UPDATE capstone_jmrs.spotahome_merged\n",
    "SET bedrooms = COALESCE(bedrooms, '2')\n",
    "WHERE property_type = 'apartments/bedrooms:2';\n",
    "\"\"\"\n",
    "result = engine.execute(sql_text)"
   ]
  },
  {
   "cell_type": "code",
   "execution_count": null,
   "metadata": {},
   "outputs": [],
   "source": [
    "sql_text = f\"\"\"\n",
    "UPDATE capstone_jmrs.spotahome_merged\n",
    "SET bedrooms = COALESCE(bedrooms, '3')\n",
    "WHERE property_type = 'apartments/bedrooms:3';\n",
    "\"\"\"\n",
    "result = engine.execute(sql_text)"
   ]
  },
  {
   "cell_type": "code",
   "execution_count": null,
   "metadata": {},
   "outputs": [],
   "source": [
    "# sql_text = f\"\"\"\n",
    "# UPDATE capstone_jmrs.spotahome_merged\n",
    "# SET bedrooms = COALESCE(bedrooms, '4')\n",
    "# WHERE property_type = 'apartments/bedrooms:3more';\n",
    "# \"\"\"\n",
    "# result = engine.execute(sql_text)"
   ]
  },
  {
   "cell_type": "markdown",
   "metadata": {},
   "source": [
    "### drop columns that are no longer needed"
   ]
  },
  {
   "cell_type": "code",
   "execution_count": null,
   "metadata": {},
   "outputs": [],
   "source": [
    "sql_text = f\"\"\"   \n",
    "ALTER TABLE capstone_jmrs.spotahome_merged\n",
    "  DROP COLUMN property_type,\n",
    "\tDROP COLUMN title;\n",
    "\"\"\"\n",
    "result = engine.execute(sql_text)"
   ]
  },
  {
   "cell_type": "markdown",
   "metadata": {},
   "source": [
    "### rename columns"
   ]
  },
  {
   "cell_type": "code",
   "execution_count": null,
   "metadata": {},
   "outputs": [],
   "source": [
    "sql_text = f\"\"\"\n",
    "ALTER TABLE capstone_jmrs.spotahome_merged\n",
    "\tRENAME COLUMN housing_type TO property_type;\n",
    "\"\"\"\n",
    "result = engine.execute(sql_text)"
   ]
  },
  {
   "cell_type": "markdown",
   "metadata": {},
   "source": [
    "### if a property is available 'today' (on the scraping date) set it as 'available', if not, set it as 'occupied'"
   ]
  },
  {
   "cell_type": "code",
   "execution_count": null,
   "metadata": {},
   "outputs": [],
   "source": [
    "today = dt.datetime.today()"
   ]
  },
  {
   "cell_type": "code",
   "execution_count": null,
   "metadata": {},
   "outputs": [],
   "source": [
    "sql_text = f\"\"\"\n",
    " UPDATE capstone_jmrs.spotahome_merged\n",
    "\tSET available_today = CASE \n",
    "      \t\t\t\t\t\tWHEN available_from = '{today}' THEN 'available'\n",
    "      \t\t\t\t\t\tELSE 'occupied'\n",
    "\t\t\t\t\t\t  END;\n",
    "\"\"\"\n",
    "result = engine.execute(sql_text)"
   ]
  },
  {
   "cell_type": "markdown",
   "metadata": {},
   "source": [
    "### fill the empty columns with null values"
   ]
  },
  {
   "cell_type": "code",
   "execution_count": null,
   "metadata": {},
   "outputs": [],
   "source": [
    "sql_text = f\"\"\"\n",
    "UPDATE capstone_jmrs.spotahome_merged\n",
    "SET let_type = NULL \n",
    "WHERE let_type = '';\n",
    "\"\"\"\n",
    "result = engine.execute(sql_text)"
   ]
  },
  {
   "cell_type": "markdown",
   "metadata": {},
   "source": [
    "## Get the table back to python for the EDA"
   ]
  },
  {
   "cell_type": "code",
   "execution_count": null,
   "metadata": {},
   "outputs": [],
   "source": [
    "spotahome_eda = sf.get_dataframe(f'SELECT * FROM capstone_jmrs.spotahome_merged')\n",
    "spotahome_eda"
   ]
  },
  {
   "cell_type": "markdown",
   "metadata": {},
   "source": [
    "-----"
   ]
  },
  {
   "cell_type": "markdown",
   "metadata": {},
   "source": [
    "## Calculate new columns"
   ]
  },
  {
   "cell_type": "markdown",
   "metadata": {},
   "source": [
    "### Average price in case there is a price range"
   ]
  },
  {
   "cell_type": "code",
   "execution_count": null,
   "metadata": {},
   "outputs": [],
   "source": [
    "spotahome_eda['price'] = spotahome_eda[['price_0', 'price_1']].mean(axis=1, skipna=True)\n",
    "spotahome_eda"
   ]
  },
  {
   "cell_type": "markdown",
   "metadata": {},
   "source": [
    "### Price per square meter"
   ]
  },
  {
   "cell_type": "code",
   "execution_count": null,
   "metadata": {},
   "outputs": [],
   "source": [
    "def my_func(x):\n",
    "    try:\n",
    "        return int(x['price']) / int(x['size_sqm'])\n",
    "    except (ZeroDivisionError, ValueError):\n",
    "        return np.nan\n",
    "\n",
    "spotahome_eda[\"price_sqm\"] = spotahome_eda.apply(my_func, axis=1)\n",
    "spotahome_eda"
   ]
  },
  {
   "cell_type": "code",
   "execution_count": null,
   "metadata": {},
   "outputs": [],
   "source": [
    "spotahome_eda['price_sqm'] = spotahome_eda['price_sqm'].round(decimals = 2)\n",
    "spotahome_eda"
   ]
  },
  {
   "cell_type": "markdown",
   "metadata": {},
   "source": [
    "### Price per bedroom"
   ]
  },
  {
   "cell_type": "code",
   "execution_count": null,
   "metadata": {},
   "outputs": [],
   "source": [
    "def my_func(x):\n",
    "    try:\n",
    "        return int(x['price']) / int(x['bedrooms'])\n",
    "    except (ZeroDivisionError, ValueError):\n",
    "        return int(x['price'])\n",
    "\n",
    "spotahome_eda[\"price_bedroom\"] = spotahome_eda.apply(my_func, axis=1)\n",
    "spotahome_eda"
   ]
  },
  {
   "cell_type": "code",
   "execution_count": null,
   "metadata": {},
   "outputs": [],
   "source": [
    "spotahome_eda['price_bedroom'] = spotahome_eda['price_bedroom'].round(decimals = 2)"
   ]
  },
  {
   "cell_type": "markdown",
   "metadata": {},
   "source": [
    "### Drop column that is no longer needed"
   ]
  },
  {
   "cell_type": "code",
   "execution_count": null,
   "metadata": {},
   "outputs": [],
   "source": [
    "spotahome_eda.drop(columns=['price_0', 'price_1'], inplace=True)"
   ]
  },
  {
   "cell_type": "markdown",
   "metadata": {},
   "source": [
    "### Some EDA"
   ]
  },
  {
   "cell_type": "code",
   "execution_count": null,
   "metadata": {},
   "outputs": [],
   "source": [
    "spotahome_eda.info()"
   ]
  },
  {
   "cell_type": "code",
   "execution_count": null,
   "metadata": {},
   "outputs": [],
   "source": [
    "spotahome_eda.describe()"
   ]
  },
  {
   "cell_type": "code",
   "execution_count": null,
   "metadata": {},
   "outputs": [],
   "source": [
    "spotahome_eda.corr()"
   ]
  },
  {
   "cell_type": "code",
   "execution_count": null,
   "metadata": {},
   "outputs": [],
   "source": [
    "spotahome_eda.duplicated().sum()"
   ]
  },
  {
   "cell_type": "code",
   "execution_count": null,
   "metadata": {},
   "outputs": [],
   "source": [
    "spotahome_eda.isnull().sum()"
   ]
  },
  {
   "cell_type": "code",
   "execution_count": null,
   "metadata": {},
   "outputs": [],
   "source": [
    "spotahome_eda.dtypes"
   ]
  },
  {
   "cell_type": "markdown",
   "metadata": {},
   "source": [
    "## Import the table back to DBeaver"
   ]
  },
  {
   "cell_type": "code",
   "execution_count": null,
   "metadata": {},
   "outputs": [],
   "source": [
    "# call the schema created for this project\n",
    "schema = 'capstone_jmrs'\n",
    "# get the function to connect to the database\n",
    "engine = get_engine()\n",
    "\n",
    "# give the table a unique name\n",
    "table_name = 'spotahome_eda'\n",
    "\n",
    "# import the table to sql\n",
    "if engine != None:\n",
    "    try:\n",
    "        spotahome_eda.to_sql(name=table_name,\n",
    "                                   con=engine,\n",
    "                                   if_exists='replace',\n",
    "                                   schema=schema,\n",
    "                                   index=False,\n",
    "                                   chunksize=5000,\n",
    "                                   method='multi')\n",
    "        print(f\"The {table_name} table was imported successfully.\")\n",
    "\n",
    "    except (Exception, psycopg2.DatabaseError) as error:\n",
    "        print(error)\n",
    "        engine = None\n"
   ]
  },
  {
   "cell_type": "markdown",
   "metadata": {},
   "source": [
    "-----"
   ]
  },
  {
   "cell_type": "markdown",
   "metadata": {},
   "source": [
    "### create the final table with the same order of columns as the table for the other scraped channels"
   ]
  },
  {
   "cell_type": "code",
   "execution_count": null,
   "metadata": {},
   "outputs": [],
   "source": [
    "sql_text = f\"\"\"\n",
    "CREATE TABLE IF NOT EXISTS capstone_jmrs.spotahome_clean AS\n",
    "SELECT \n",
    "\tplatform_id, \n",
    "\tplatform,\n",
    "\tneighbourhood,\n",
    "\tfurniture,\n",
    "\tproperty_type,\n",
    "\tsize_sqm,\n",
    "\tbedrooms,\n",
    "\tbathrooms,\n",
    "\tprice,\n",
    "\tprice_sqm,\n",
    "\tprice_bedroom,\n",
    "\tavailable_from,\n",
    "\tavailable_today,\n",
    "\tlet_type,\n",
    "\tdetailed_furniture,\n",
    "\tscraping_date\n",
    "FROM capstone_jmrs.spotahome_eda;\n",
    "\"\"\"\n",
    "result = engine.execute(sql_text)"
   ]
  },
  {
   "cell_type": "markdown",
   "metadata": {},
   "source": [
    "-----"
   ]
  },
  {
   "cell_type": "markdown",
   "metadata": {},
   "source": [
    "## Plots"
   ]
  },
  {
   "cell_type": "code",
   "execution_count": null,
   "metadata": {},
   "outputs": [],
   "source": [
    "spotahome_eda['neighbourhood'].value_counts()"
   ]
  },
  {
   "cell_type": "code",
   "execution_count": null,
   "metadata": {},
   "outputs": [],
   "source": [
    "spotahome_eda.plot(figsize=(12,6));"
   ]
  },
  {
   "cell_type": "code",
   "execution_count": null,
   "metadata": {},
   "outputs": [],
   "source": [
    "sns.set(rc = {'figure.figsize':(15,8)})\n",
    "sns.lineplot(data=spotahome_eda,  palette='Set2', linewidth=2.5, legend='auto');"
   ]
  },
  {
   "cell_type": "code",
   "execution_count": null,
   "metadata": {},
   "outputs": [],
   "source": [
    "sns.set(rc = {'figure.figsize':(15,8)})\n",
    "sns.lineplot(data=spotahome_eda.price,  palette='Set2', linewidth=2.5, legend='auto', color='red', label='price');"
   ]
  },
  {
   "cell_type": "code",
   "execution_count": null,
   "metadata": {},
   "outputs": [],
   "source": [
    "sns.set(rc = {'figure.figsize':(15,8)})\n",
    "sns.lineplot(data=spotahome_eda.price_sqm,  palette='Set2', linewidth=2.5, legend='auto', color='red', label='price_sqm');"
   ]
  },
  {
   "cell_type": "code",
   "execution_count": null,
   "metadata": {},
   "outputs": [],
   "source": [
    "sns.set(rc = {'figure.figsize':(15,8)})\n",
    "sns.lineplot(data=spotahome_eda.price_bedroom,  palette='Set2', linewidth=2.5, legend='auto', color='red', label='price_bedroom');"
   ]
  },
  {
   "cell_type": "code",
   "execution_count": null,
   "metadata": {},
   "outputs": [],
   "source": [
    "sns.pairplot(spotahome_eda);"
   ]
  },
  {
   "cell_type": "code",
   "execution_count": null,
   "metadata": {},
   "outputs": [],
   "source": [
    "spotahome_eda.plot(kind='hist', bins=50, figsize=(12,6), alpha=0.5, density=True, subplots=True, layout=(3,3), sharex=False, sharey=False, legend=True, title='Histograms',  fontsize=10, rot=0);\n"
   ]
  },
  {
   "cell_type": "code",
   "execution_count": null,
   "metadata": {},
   "outputs": [],
   "source": [
    "spotahome_eda.plot(figsize=(12,6), subplots=True, layout=(3,3), sharex=False, sharey=False, legend=True, fontsize=8, title=' Properties in London', linestyle='solid', linewidth=1, grid=True);\n"
   ]
  },
  {
   "cell_type": "code",
   "execution_count": null,
   "metadata": {},
   "outputs": [],
   "source": [
    "spotahome_eda.plot(kind='box', figsize=(10, 5), rot=45, fontsize=10, grid=True, title='Boxplot with outliners', color='red', vert=False, patch_artist=True, showfliers=True);\n"
   ]
  },
  {
   "cell_type": "code",
   "execution_count": null,
   "metadata": {},
   "outputs": [],
   "source": [
    "spotahome_eda.plot(kind='box', figsize=(10, 5), rot=45, fontsize=10, grid=True, title='Boxplot without outliners', color='red', vert=False, patch_artist=True, showfliers=False);\n"
   ]
  },
  {
   "cell_type": "code",
   "execution_count": null,
   "metadata": {},
   "outputs": [],
   "source": [
    "spotahome_eda.plot(kind='box', figsize=(10, 5), rot=45, fontsize=10, grid=True, title='Boxplot with outliers', color='red', vert=True, patch_artist=True, showfliers=True, subplots=False, sharex=False, sharey=False);\n"
   ]
  },
  {
   "cell_type": "code",
   "execution_count": null,
   "metadata": {},
   "outputs": [],
   "source": [
    "spotahome_eda.plot(kind='box', figsize=(10, 5), rot=45, fontsize=10, grid=True, title='Boxplot without outliers', color='red', vert=True, patch_artist=True, showfliers=False, subplots=False, sharex=False, sharey=False);\n"
   ]
  },
  {
   "cell_type": "code",
   "execution_count": null,
   "metadata": {},
   "outputs": [],
   "source": [
    "spotahome_eda.plot(kind='box', figsize=(18, 9), rot=0, fontsize=8, grid=True, title='Boxplot with outliers', color='red', vert=True, patch_artist=True, showfliers=True, subplots=True, layout=(3, 3), legend=True);"
   ]
  },
  {
   "cell_type": "code",
   "execution_count": null,
   "metadata": {},
   "outputs": [],
   "source": [
    "spotahome_eda.plot(kind='box', figsize=(18, 9), rot=0, fontsize=8, grid=True, title='Boxplot without outliers', color='red', vert=True, patch_artist=True, showfliers=False, subplots=True, layout=(3, 3), legend=True);\n"
   ]
  },
  {
   "cell_type": "code",
   "execution_count": null,
   "metadata": {},
   "outputs": [],
   "source": [
    "spotahome_eda.price.plot(kind='box', figsize=(10, 5), rot=45, fontsize=10, grid=True, title='Price with Fliers', color='red', vert=True, patch_artist=True, showfliers=True, subplots=False, sharex=False, sharey=False);"
   ]
  },
  {
   "cell_type": "code",
   "execution_count": null,
   "metadata": {},
   "outputs": [],
   "source": [
    "spotahome_eda.price.plot(kind='box', figsize=(10, 5), rot=45, fontsize=10, grid=True, title='Price without Fliers', color='red', vert=True, patch_artist=True, showfliers=False, subplots=False, sharex=False, sharey=False);\n"
   ]
  },
  {
   "cell_type": "code",
   "execution_count": null,
   "metadata": {},
   "outputs": [],
   "source": [
    "spotahome_eda.plot(kind='kde', figsize=(12, 6), fontsize=10, grid=True, title='KDE', color='red', subplots=True, layout=(3, 3), legend=True);\n"
   ]
  },
  {
   "cell_type": "code",
   "execution_count": null,
   "metadata": {},
   "outputs": [],
   "source": [
    "sns.set(rc = {'figure.figsize':(15,8)})\n",
    "sns.catplot( kind=\"box\", data=spotahome_eda, height=5, aspect=2, orient='h', palette='Set2');"
   ]
  },
  {
   "cell_type": "code",
   "execution_count": null,
   "metadata": {},
   "outputs": [],
   "source": [
    "sns.heatmap(spotahome_eda.corr(), annot=True, cmap='coolwarm', linewidths=1, linecolor='black');\n"
   ]
  },
  {
   "cell_type": "code",
   "execution_count": null,
   "metadata": {},
   "outputs": [],
   "source": [
    "spotahome_eda['neighbourhood'].value_counts().plot(kind='bar');"
   ]
  },
  {
   "cell_type": "code",
   "execution_count": null,
   "metadata": {},
   "outputs": [],
   "source": [
    "spotahome_eda.groupby('neighbourhood')['price_sqm'].mean().sort_values().plot(kind='bar');"
   ]
  }
 ],
 "metadata": {
  "kernelspec": {
   "display_name": "Python 3.9.13 ('nf_sql')",
   "language": "python",
   "name": "python3"
  },
  "language_info": {
   "codemirror_mode": {
    "name": "ipython",
    "version": 3
   },
   "file_extension": ".py",
   "mimetype": "text/x-python",
   "name": "python",
   "nbconvert_exporter": "python",
   "pygments_lexer": "ipython3",
   "version": "3.9.13"
  },
  "orig_nbformat": 4,
  "vscode": {
   "interpreter": {
    "hash": "a81d278bed5b5b59425dcb5a82ce505657686243c184b4a6b67e69d01c4d432e"
   }
  }
 },
 "nbformat": 4,
 "nbformat_minor": 2
}
