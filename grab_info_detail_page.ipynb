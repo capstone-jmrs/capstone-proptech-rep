{
 "cells": [
  {
   "cell_type": "code",
   "execution_count": 13,
   "metadata": {},
   "outputs": [],
   "source": [
    "import requests\n",
    "from bs4 import BeautifulSoup\n",
    "import re\n",
    "import pandas as pd\n",
    "\n",
    "page = 'https://www.spotahome.com/london/for-rent:apartments/398966'\n",
    "#page = 'https://www.spotahome.com/london/for-rent:studios/607194'\n",
    "#page = 'https://www.spotahome.com/london/for-rent:apartments/608874'\n",
    "website = requests.get(page)\n",
    "results = BeautifulSoup(website.content, 'html.parser')\n",
    "\n",
    "details = results.find(\n",
    "    'div', class_='property-title__details').find_all('span')\n",
    "\n",
    "details_lst = (detail.get_text() for detail in details)\n",
    "details_lst = [detail.strip() for detail in details_lst]"
   ]
  },
  {
   "cell_type": "code",
   "execution_count": 14,
   "metadata": {},
   "outputs": [
    {
     "data": {
      "text/plain": [
       "['Apartment', '5 bedrooms', '2 bathrooms', '85 m2']"
      ]
     },
     "execution_count": 14,
     "metadata": {},
     "output_type": "execute_result"
    }
   ],
   "source": [
    "details_lst"
   ]
  },
  {
   "cell_type": "code",
   "execution_count": 15,
   "metadata": {},
   "outputs": [
    {
     "data": {
      "text/plain": [
       "'Apartment'"
      ]
     },
     "execution_count": 15,
     "metadata": {},
     "output_type": "execute_result"
    }
   ],
   "source": [
    "details_lst.pop(0)"
   ]
  },
  {
   "cell_type": "code",
   "execution_count": 16,
   "metadata": {},
   "outputs": [
    {
     "data": {
      "text/plain": [
       "['5 bedrooms', '2 bathrooms', '85 m2']"
      ]
     },
     "execution_count": 16,
     "metadata": {},
     "output_type": "execute_result"
    }
   ],
   "source": [
    "details_lst"
   ]
  },
  {
   "cell_type": "code",
   "execution_count": 17,
   "metadata": {},
   "outputs": [],
   "source": [
    "details_lst = [i.split(' ', 1) for i in details_lst]"
   ]
  },
  {
   "cell_type": "code",
   "execution_count": 18,
   "metadata": {},
   "outputs": [
    {
     "data": {
      "text/plain": [
       "[['5', 'bedrooms'], ['2', 'bathrooms'], ['85', 'm2']]"
      ]
     },
     "execution_count": 18,
     "metadata": {},
     "output_type": "execute_result"
    }
   ],
   "source": [
    "details_lst"
   ]
  },
  {
   "cell_type": "code",
   "execution_count": 19,
   "metadata": {},
   "outputs": [],
   "source": [
    "row_dict = {}\n",
    "\n",
    "for value_key_tuple in details_lst:\n",
    "    new_key_value= {'id': '12345'}\n",
    "    row_dict.update(new_key_value)\n",
    "    key = value_key_tuple[1]\n",
    "    value = value_key_tuple[0]\n",
    "    row_dict[key] = value\n",
    "    "
   ]
  },
  {
   "cell_type": "code",
   "execution_count": 20,
   "metadata": {},
   "outputs": [
    {
     "data": {
      "text/plain": [
       "{'id': '12345', 'bedrooms': '5', 'bathrooms': '2', 'm2': '85'}"
      ]
     },
     "execution_count": 20,
     "metadata": {},
     "output_type": "execute_result"
    }
   ],
   "source": [
    "row_dict"
   ]
  },
  {
   "cell_type": "code",
   "execution_count": 21,
   "metadata": {},
   "outputs": [
    {
     "data": {
      "text/html": [
       "<div>\n",
       "<style scoped>\n",
       "    .dataframe tbody tr th:only-of-type {\n",
       "        vertical-align: middle;\n",
       "    }\n",
       "\n",
       "    .dataframe tbody tr th {\n",
       "        vertical-align: top;\n",
       "    }\n",
       "\n",
       "    .dataframe thead th {\n",
       "        text-align: right;\n",
       "    }\n",
       "</style>\n",
       "<table border=\"1\" class=\"dataframe\">\n",
       "  <thead>\n",
       "    <tr style=\"text-align: right;\">\n",
       "      <th></th>\n",
       "      <th>id</th>\n",
       "      <th>bedrooms</th>\n",
       "      <th>bathrooms</th>\n",
       "      <th>m2</th>\n",
       "    </tr>\n",
       "  </thead>\n",
       "  <tbody>\n",
       "    <tr>\n",
       "      <th>0</th>\n",
       "      <td>12345</td>\n",
       "      <td>5</td>\n",
       "      <td>2</td>\n",
       "      <td>85</td>\n",
       "    </tr>\n",
       "  </tbody>\n",
       "</table>\n",
       "</div>"
      ],
      "text/plain": [
       "      id bedrooms bathrooms  m2\n",
       "0  12345        5         2  85"
      ]
     },
     "execution_count": 21,
     "metadata": {},
     "output_type": "execute_result"
    }
   ],
   "source": [
    "df_details=pd.DataFrame(data=row_dict,index=[0])\n",
    "df_details"
   ]
  },
  {
   "cell_type": "markdown",
   "metadata": {},
   "source": [
    "# mit mehreren ID's"
   ]
  },
  {
   "cell_type": "code",
   "execution_count": 10,
   "metadata": {},
   "outputs": [
    {
     "ename": "AttributeError",
     "evalue": "'NoneType' object has no attribute 'find_all'",
     "output_type": "error",
     "traceback": [
      "\u001b[0;31m---------------------------------------------------------------------------\u001b[0m",
      "\u001b[0;31mAttributeError\u001b[0m                            Traceback (most recent call last)",
      "\u001b[1;32m/Users/julia/neuefische/capstone-ukio-rep/grab_info_detail_page.ipynb Cell 11\u001b[0m in \u001b[0;36m<cell line: 38>\u001b[0;34m()\u001b[0m\n\u001b[1;32m     <a href='vscode-notebook-cell:/Users/julia/neuefische/capstone-ukio-rep/grab_info_detail_page.ipynb#X13sZmlsZQ%3D%3D?line=40'>41</a>\u001b[0m website \u001b[39m=\u001b[39m requests\u001b[39m.\u001b[39mget(page)\n\u001b[1;32m     <a href='vscode-notebook-cell:/Users/julia/neuefische/capstone-ukio-rep/grab_info_detail_page.ipynb#X13sZmlsZQ%3D%3D?line=41'>42</a>\u001b[0m results \u001b[39m=\u001b[39m BeautifulSoup(website\u001b[39m.\u001b[39mcontent, \u001b[39m'\u001b[39m\u001b[39mhtml.parser\u001b[39m\u001b[39m'\u001b[39m)\n\u001b[0;32m---> <a href='vscode-notebook-cell:/Users/julia/neuefische/capstone-ukio-rep/grab_info_detail_page.ipynb#X13sZmlsZQ%3D%3D?line=43'>44</a>\u001b[0m df_details \u001b[39m=\u001b[39m pd\u001b[39m.\u001b[39mDataFrame(get_details(page), index\u001b[39m=\u001b[39m[\u001b[39m0\u001b[39m])\n\u001b[1;32m     <a href='vscode-notebook-cell:/Users/julia/neuefische/capstone-ukio-rep/grab_info_detail_page.ipynb#X13sZmlsZQ%3D%3D?line=44'>45</a>\u001b[0m df_details_complete \u001b[39m=\u001b[39m pd\u001b[39m.\u001b[39mconcat([df_details_complete, df_details])\n",
      "\u001b[1;32m/Users/julia/neuefische/capstone-ukio-rep/grab_info_detail_page.ipynb Cell 11\u001b[0m in \u001b[0;36mget_details\u001b[0;34m(page)\u001b[0m\n\u001b[1;32m      <a href='vscode-notebook-cell:/Users/julia/neuefische/capstone-ukio-rep/grab_info_detail_page.ipynb#X13sZmlsZQ%3D%3D?line=7'>8</a>\u001b[0m website \u001b[39m=\u001b[39m requests\u001b[39m.\u001b[39mget(page)\n\u001b[1;32m      <a href='vscode-notebook-cell:/Users/julia/neuefische/capstone-ukio-rep/grab_info_detail_page.ipynb#X13sZmlsZQ%3D%3D?line=8'>9</a>\u001b[0m results \u001b[39m=\u001b[39m BeautifulSoup(website\u001b[39m.\u001b[39mcontent, \u001b[39m'\u001b[39m\u001b[39mhtml.parser\u001b[39m\u001b[39m'\u001b[39m)\n\u001b[0;32m---> <a href='vscode-notebook-cell:/Users/julia/neuefische/capstone-ukio-rep/grab_info_detail_page.ipynb#X13sZmlsZQ%3D%3D?line=10'>11</a>\u001b[0m details \u001b[39m=\u001b[39m results\u001b[39m.\u001b[39;49mfind(\n\u001b[1;32m     <a href='vscode-notebook-cell:/Users/julia/neuefische/capstone-ukio-rep/grab_info_detail_page.ipynb#X13sZmlsZQ%3D%3D?line=11'>12</a>\u001b[0m     \u001b[39m'\u001b[39;49m\u001b[39mdiv\u001b[39;49m\u001b[39m'\u001b[39;49m, class_\u001b[39m=\u001b[39;49m\u001b[39m'\u001b[39;49m\u001b[39mproperty-title__details\u001b[39;49m\u001b[39m'\u001b[39;49m)\u001b[39m.\u001b[39;49mfind_all(\u001b[39m'\u001b[39m\u001b[39mspan\u001b[39m\u001b[39m'\u001b[39m)\n\u001b[1;32m     <a href='vscode-notebook-cell:/Users/julia/neuefische/capstone-ukio-rep/grab_info_detail_page.ipynb#X13sZmlsZQ%3D%3D?line=13'>14</a>\u001b[0m details_lst \u001b[39m=\u001b[39m (detail\u001b[39m.\u001b[39mget_text() \u001b[39mfor\u001b[39;00m detail \u001b[39min\u001b[39;00m details)\n\u001b[1;32m     <a href='vscode-notebook-cell:/Users/julia/neuefische/capstone-ukio-rep/grab_info_detail_page.ipynb#X13sZmlsZQ%3D%3D?line=14'>15</a>\u001b[0m details_lst \u001b[39m=\u001b[39m [detail\u001b[39m.\u001b[39mstrip() \u001b[39mfor\u001b[39;00m detail \u001b[39min\u001b[39;00m details_lst]\n",
      "\u001b[0;31mAttributeError\u001b[0m: 'NoneType' object has no attribute 'find_all'"
     ]
    }
   ],
   "source": [
    "import requests\n",
    "from bs4 import BeautifulSoup\n",
    "import re\n",
    "import pandas as pd\n",
    "\n",
    "\n",
    "def get_details(page):\n",
    "    website = requests.get(page)\n",
    "    results = BeautifulSoup(website.content, 'html.parser')\n",
    "\n",
    "    details = results.find(\n",
    "        'div', class_='property-title__details').find_all('span')\n",
    "\n",
    "    details_lst = (detail.get_text() for detail in details)\n",
    "    details_lst = [detail.strip() for detail in details_lst]\n",
    "\n",
    "    details_lst.pop(0)\n",
    "\n",
    "    details_lst = [i.split(' ', 1) for i in details_lst]\n",
    "\n",
    "    row_dict = {}\n",
    "\n",
    "    for value_key_tuple in details_lst:\n",
    "        new_key_value= {'id': '12345'}\n",
    "        row_dict.update(new_key_value)\n",
    "        key = value_key_tuple[1]\n",
    "        value = value_key_tuple[0]\n",
    "        row_dict[key] = value\n",
    "\n",
    "    return row_dict\n",
    "\n",
    "\n",
    "df_details_complete = pd.DataFrame()\n",
    "\n",
    "property_types = ['studios', 'apartments']\n",
    "ids = [607194, 608874, 398966]\n",
    "\n",
    "for property_type in property_types:\n",
    "    for id in ids:\n",
    "        page = f\"https://www.spotahome.com/london/for-rent:{property_type}/{id}\"\n",
    "        website = requests.get(page)\n",
    "        results = BeautifulSoup(website.content, 'html.parser')\n",
    "        \n",
    "        df_details = pd.DataFrame(get_details(page), index=[0])\n",
    "        df_details_complete = pd.concat([df_details_complete, df_details])"
   ]
  },
  {
   "cell_type": "code",
   "execution_count": null,
   "metadata": {},
   "outputs": [
    {
     "data": {
      "text/html": [
       "<div>\n",
       "<style scoped>\n",
       "    .dataframe tbody tr th:only-of-type {\n",
       "        vertical-align: middle;\n",
       "    }\n",
       "\n",
       "    .dataframe tbody tr th {\n",
       "        vertical-align: top;\n",
       "    }\n",
       "\n",
       "    .dataframe thead th {\n",
       "        text-align: right;\n",
       "    }\n",
       "</style>\n",
       "<table border=\"1\" class=\"dataframe\">\n",
       "  <thead>\n",
       "    <tr style=\"text-align: right;\">\n",
       "      <th></th>\n",
       "      <th>id</th>\n",
       "      <th>bedrooms</th>\n",
       "      <th>bathrooms</th>\n",
       "      <th>m2</th>\n",
       "    </tr>\n",
       "  </thead>\n",
       "  <tbody>\n",
       "    <tr>\n",
       "      <th>0</th>\n",
       "      <td>NaN</td>\n",
       "      <td>NaN</td>\n",
       "      <td>NaN</td>\n",
       "      <td>NaN</td>\n",
       "    </tr>\n",
       "    <tr>\n",
       "      <th>0</th>\n",
       "      <td>12345</td>\n",
       "      <td>4</td>\n",
       "      <td>NaN</td>\n",
       "      <td>NaN</td>\n",
       "    </tr>\n",
       "    <tr>\n",
       "      <th>0</th>\n",
       "      <td>12345</td>\n",
       "      <td>5</td>\n",
       "      <td>2</td>\n",
       "      <td>85</td>\n",
       "    </tr>\n",
       "    <tr>\n",
       "      <th>0</th>\n",
       "      <td>NaN</td>\n",
       "      <td>NaN</td>\n",
       "      <td>NaN</td>\n",
       "      <td>NaN</td>\n",
       "    </tr>\n",
       "    <tr>\n",
       "      <th>0</th>\n",
       "      <td>12345</td>\n",
       "      <td>4</td>\n",
       "      <td>NaN</td>\n",
       "      <td>NaN</td>\n",
       "    </tr>\n",
       "    <tr>\n",
       "      <th>0</th>\n",
       "      <td>12345</td>\n",
       "      <td>5</td>\n",
       "      <td>2</td>\n",
       "      <td>85</td>\n",
       "    </tr>\n",
       "  </tbody>\n",
       "</table>\n",
       "</div>"
      ],
      "text/plain": [
       "      id bedrooms bathrooms   m2\n",
       "0    NaN      NaN       NaN  NaN\n",
       "0  12345        4       NaN  NaN\n",
       "0  12345        5         2   85\n",
       "0    NaN      NaN       NaN  NaN\n",
       "0  12345        4       NaN  NaN\n",
       "0  12345        5         2   85"
      ]
     },
     "execution_count": 13,
     "metadata": {},
     "output_type": "execute_result"
    }
   ],
   "source": [
    "df_details_complete"
   ]
  }
 ],
 "metadata": {
  "kernelspec": {
   "display_name": "Python 3.9.13 ('nf_sql')",
   "language": "python",
   "name": "python3"
  },
  "language_info": {
   "codemirror_mode": {
    "name": "ipython",
    "version": 3
   },
   "file_extension": ".py",
   "mimetype": "text/x-python",
   "name": "python",
   "nbconvert_exporter": "python",
   "pygments_lexer": "ipython3",
   "version": "3.9.13"
  },
  "orig_nbformat": 4,
  "vscode": {
   "interpreter": {
    "hash": "a81d278bed5b5b59425dcb5a82ce505657686243c184b4a6b67e69d01c4d432e"
   }
  }
 },
 "nbformat": 4,
 "nbformat_minor": 2
}
