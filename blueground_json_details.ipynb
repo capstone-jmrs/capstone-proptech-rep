{
 "cells": [
  {
   "cell_type": "markdown",
   "metadata": {},
   "source": [
    "# Its a JSON File"
   ]
  },
  {
   "cell_type": "code",
   "execution_count": 14,
   "metadata": {},
   "outputs": [],
   "source": [
    "import requests\n",
    "from bs4 import BeautifulSoup\n",
    "import re\n",
    "import pandas as pd\n",
    "\n",
    "#page = 'https://www.theblueground.com/furnished-apartments-london-uk/london-hammersmith-205' \n",
    "# page = 'https://www.theblueground.com/furnished-apartments-london-uk/london-whitechapel-brick-lane-079'\n",
    "\n",
    "# studio:\n",
    "page = 'https://www.theblueground.com/furnished-apartments-london-uk/london-clerkenwell-115'\n",
    "\n",
    "website = requests.get(page)\n",
    "results = BeautifulSoup(website.content, 'html.parser')\n",
    "\n",
    "blogbeitraege = results.findAll('div', class_='property__amenities-list-item')\n",
    "blogbeitraege = results.findAll()\n",
    "\n",
    "blogbeitraege_lst = (blogbeitrag.get_text() for blogbeitrag in blogbeitraege)\n",
    "blogbeitraege_lst = [blogbeitrag.strip() for blogbeitrag in blogbeitraege_lst]\n",
    "\n",
    "df = pd.DataFrame(blogbeitraege_lst, columns=['details'])"
   ]
  },
  {
   "cell_type": "code",
   "execution_count": 15,
   "metadata": {},
   "outputs": [],
   "source": [
    "df2 = df['details'].str.split('property:', expand=True).tail(1)\n",
    "df_to_string = str(df2[1].values[0])"
   ]
  },
  {
   "cell_type": "code",
   "execution_count": 16,
   "metadata": {},
   "outputs": [],
   "source": [
    "df_to_string = df_to_string.strip()\n",
    "df_to_string = df_to_string.rstrip(';')\n",
    "df_to_string = df_to_string.strip()\n",
    "df_to_string = df_to_string.rstrip('}')\n",
    "df_to_string = df_to_string.strip()"
   ]
  },
  {
   "cell_type": "code",
   "execution_count": 17,
   "metadata": {},
   "outputs": [],
   "source": [
    "# https://jsonformatter.org/json-viewer\n",
    "import json"
   ]
  },
  {
   "cell_type": "code",
   "execution_count": 18,
   "metadata": {},
   "outputs": [],
   "source": [
    "detail_dict = json.loads(df_to_string)"
   ]
  },
  {
   "cell_type": "code",
   "execution_count": 19,
   "metadata": {},
   "outputs": [],
   "source": [
    "detail_dict_normalized = pd.json_normalize(detail_dict, sep='_')"
   ]
  },
  {
   "cell_type": "code",
   "execution_count": 20,
   "metadata": {},
   "outputs": [
    {
     "name": "stdout",
     "output_type": "stream",
     "text": [
      "lotSizeSF\n",
      "577\n",
      "sq. ft.\n"
     ]
    }
   ],
   "source": [
    "x = detail_dict_normalized['amenities_main'].values[0]\n",
    "print(x[2]['key'])\n",
    "print(x[2]['value'])\n",
    "print(x[2]['caption'])"
   ]
  },
  {
   "cell_type": "code",
   "execution_count": 22,
   "metadata": {},
   "outputs": [
    {
     "data": {
      "text/plain": [
       "'115'"
      ]
     },
     "execution_count": 22,
     "metadata": {},
     "output_type": "execute_result"
    }
   ],
   "source": [
    "blueground_id = page.rsplit('-', 1)[-1]\n",
    "blueground_id"
   ]
  },
  {
   "cell_type": "code",
   "execution_count": 23,
   "metadata": {},
   "outputs": [
    {
     "data": {
      "text/html": [
       "<div>\n",
       "<style scoped>\n",
       "    .dataframe tbody tr th:only-of-type {\n",
       "        vertical-align: middle;\n",
       "    }\n",
       "\n",
       "    .dataframe tbody tr th {\n",
       "        vertical-align: top;\n",
       "    }\n",
       "\n",
       "    .dataframe thead th {\n",
       "        text-align: right;\n",
       "    }\n",
       "</style>\n",
       "<table border=\"1\" class=\"dataframe\">\n",
       "  <thead>\n",
       "    <tr style=\"text-align: right;\">\n",
       "      <th></th>\n",
       "      <th>blueground_id</th>\n",
       "      <th>lotsize</th>\n",
       "      <th>value</th>\n",
       "      <th>caption</th>\n",
       "    </tr>\n",
       "  </thead>\n",
       "  <tbody>\n",
       "    <tr>\n",
       "      <th>0</th>\n",
       "      <td>115</td>\n",
       "      <td>lotSizeSF</td>\n",
       "      <td>577</td>\n",
       "      <td>sq. ft.</td>\n",
       "    </tr>\n",
       "  </tbody>\n",
       "</table>\n",
       "</div>"
      ],
      "text/plain": [
       "  blueground_id    lotsize value  caption\n",
       "0           115  lotSizeSF   577  sq. ft."
      ]
     },
     "execution_count": 23,
     "metadata": {},
     "output_type": "execute_result"
    }
   ],
   "source": [
    "df_detail = pd.DataFrame(\n",
    "                        {\n",
    "                            'blueground_id': blueground_id,\n",
    "                        \"lotsize\":[x[2]['key']],\n",
    "                         \"value\":x[2]['value'],\n",
    "                         'caption':x[2]['caption']}\n",
    "                         )\n",
    "df_detail"
   ]
  },
  {
   "cell_type": "code",
   "execution_count": 28,
   "metadata": {},
   "outputs": [
    {
     "data": {
      "text/html": [
       "<div>\n",
       "<style scoped>\n",
       "    .dataframe tbody tr th:only-of-type {\n",
       "        vertical-align: middle;\n",
       "    }\n",
       "\n",
       "    .dataframe tbody tr th {\n",
       "        vertical-align: top;\n",
       "    }\n",
       "\n",
       "    .dataframe thead th {\n",
       "        text-align: right;\n",
       "    }\n",
       "</style>\n",
       "<table border=\"1\" class=\"dataframe\">\n",
       "  <thead>\n",
       "    <tr style=\"text-align: right;\">\n",
       "      <th></th>\n",
       "      <th>blueground_id</th>\n",
       "      <th>lotsize</th>\n",
       "      <th>value</th>\n",
       "      <th>caption</th>\n",
       "    </tr>\n",
       "  </thead>\n",
       "  <tbody>\n",
       "    <tr>\n",
       "      <th>0</th>\n",
       "      <td>115</td>\n",
       "      <td>lotSizeSF</td>\n",
       "      <td>577</td>\n",
       "      <td>sq. ft.</td>\n",
       "    </tr>\n",
       "  </tbody>\n",
       "</table>\n",
       "</div>"
      ],
      "text/plain": [
       "  blueground_id    lotsize value  caption\n",
       "0           115  lotSizeSF   577  sq. ft."
      ]
     },
     "metadata": {},
     "output_type": "display_data"
    }
   ],
   "source": [
    "\n",
    "\n",
    "page = 'https://www.theblueground.com/furnished-apartments-london-uk/london-clerkenwell-115'\n",
    "#page_start = 'https://www.theblueground.com'\n",
    "#page_end = df_search['get_url_to_detail_page']\n",
    "#pp = page_start + page_end\n",
    "#print(pp)\n",
    "\n",
    "#website = requests.get(page_start + page_end)\n",
    "website = requests.get(page)\n",
    "results = BeautifulSoup(website.content, 'html.parser')\n",
    "\n",
    "blogbeitraege = results.findAll('div', class_='property__amenities-list-item')\n",
    "blogbeitraege = results.findAll()\n",
    "\n",
    "blogbeitraege_lst = (blogbeitrag.get_text() for blogbeitrag in blogbeitraege)\n",
    "blogbeitraege_lst = [blogbeitrag.strip() for blogbeitrag in blogbeitraege_lst]\n",
    "\n",
    "df = pd.DataFrame(blogbeitraege_lst, columns=['details'])\n",
    "#display(df)\n",
    "\n",
    "df2 = df['details'].str.split('property:', expand=True).tail(1)\n",
    "df_to_string = str(df2[1].values[0])\n",
    "\n",
    "df_to_string = df_to_string.strip()\n",
    "df_to_string = df_to_string.rstrip(';')\n",
    "df_to_string = df_to_string.strip()\n",
    "df_to_string = df_to_string.rstrip('}')\n",
    "df_to_string = df_to_string.strip()\n",
    "\n",
    "detail_dict = json.loads(df_to_string)\n",
    "detail_dict_normalized = pd.json_normalize(detail_dict, sep='_')\n",
    "x = detail_dict_normalized['amenities_main'].values[0]\n",
    "\n",
    "df_detail = pd.DataFrame({\n",
    "                    'blueground_id': page.rsplit('-', 1)[-1],\n",
    "                    \"lotsize\":[x[2]['key']],\n",
    "                        \"value\":x[2]['value'],\n",
    "                        'caption':x[2]['caption']}\n",
    "                        )\n",
    "display(df_detail)"
   ]
  },
  {
   "cell_type": "code",
   "execution_count": null,
   "metadata": {},
   "outputs": [],
   "source": [
    "for idx in df_search:\n",
    "    tim\n",
    "    print(idx)\n",
    "\n",
    "    #page = 'https://www.theblueground.com/furnished-apartments-london-uk/london-clerkenwell-115'\n",
    "    page_start = 'https://www.theblueground.com'\n",
    "    page_end = df_search['get_url_to_detail_page']\n",
    "    pp = page_start + page_end\n",
    "    print(pp)\n",
    "\n",
    "    website = requests.get(page_start + page_end)\n",
    "    #website = requests.get(page)\n",
    "    results = BeautifulSoup(website.content, 'html.parser')\n",
    "\n",
    "    blogbeitraege = results.findAll('div', class_='property__amenities-list-item')\n",
    "    blogbeitraege = results.findAll()\n",
    "\n",
    "    blogbeitraege_lst = (blogbeitrag.get_text() for blogbeitrag in blogbeitraege)\n",
    "    blogbeitraege_lst = [blogbeitrag.strip() for blogbeitrag in blogbeitraege_lst]\n",
    "\n",
    "    df = pd.DataFrame(blogbeitraege_lst, columns=['details'])\n",
    "    #display(df)\n",
    "\n",
    "    df2 = df['details'].str.split('property:', expand=True).tail(1)\n",
    "    df_to_string = str(df2[1].values[0])\n",
    "\n",
    "    df_to_string = df_to_string.strip()\n",
    "    df_to_string = df_to_string.rstrip(';')\n",
    "    df_to_string = df_to_string.strip()\n",
    "    df_to_string = df_to_string.rstrip('}')\n",
    "    df_to_string = df_to_string.strip()\n",
    "\n",
    "    detail_dict = json.loads(df_to_string)\n",
    "    detail_dict_normalized = pd.json_normalize(detail_dict, sep='_')\n",
    "    x = detail_dict_normalized['amenities_main'].values[0]\n",
    "\n",
    "    df_detail = pd.DataFrame({\n",
    "                        'blueground_id': page.rsplit('-', 1)[-1],\n",
    "                        \"lotsize\":[x[2]['key']],\n",
    "                            \"value\":x[2]['value'],\n",
    "                            'caption':x[2]['caption']}\n",
    "                            )\n",
    "    display(df_detail)"
   ]
  }
 ],
 "metadata": {
  "kernelspec": {
   "display_name": "Python 3.9.13 ('nf_bs4')",
   "language": "python",
   "name": "python3"
  },
  "language_info": {
   "codemirror_mode": {
    "name": "ipython",
    "version": 3
   },
   "file_extension": ".py",
   "mimetype": "text/x-python",
   "name": "python",
   "nbconvert_exporter": "python",
   "pygments_lexer": "ipython3",
   "version": "3.9.13"
  },
  "orig_nbformat": 4,
  "vscode": {
   "interpreter": {
    "hash": "9af5746f41ef31dea01f09ffb6ba9bd116b901566dc69a02f72533c94f316243"
   }
  }
 },
 "nbformat": 4,
 "nbformat_minor": 2
}
