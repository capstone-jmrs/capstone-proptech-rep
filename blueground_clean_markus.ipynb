{
 "cells": [
  {
   "cell_type": "markdown",
   "metadata": {},
   "source": [
    "# Clean Notebook for Webscraping of Blueground\n",
    "\n",
    "Clean means: You can start from top an run to bottom without an error"
   ]
  },
  {
   "cell_type": "markdown",
   "metadata": {},
   "source": [
    "# We load the libraries"
   ]
  },
  {
   "cell_type": "code",
   "execution_count": 18,
   "metadata": {},
   "outputs": [],
   "source": [
    "# import all libraries that are needed\n",
    "\n",
    "import requests                 # requests on websites\n",
    "from bs4 import BeautifulSoup   # html parsing\n",
    "\n",
    "import pandas as pd             # pandas for data frame\n",
    "import numpy as np              # numpy for array\n",
    "\n",
    "import math                     # for math methods\n",
    "import time                     # for sleep timer\n",
    "\n",
    "from sql_functions import *     # functions from file for upload on schema\n",
    "import psycopg2                 # for upload on engine\n",
    "\n",
    "import datetime as dt           # for the csv file with the current date and time\n",
    "\n",
    "# libraries that are not needed right now\n",
    "import re"
   ]
  },
  {
   "cell_type": "markdown",
   "metadata": {},
   "source": [
    "# we create empty dataframes"
   ]
  },
  {
   "cell_type": "code",
   "execution_count": 19,
   "metadata": {},
   "outputs": [],
   "source": [
    "# create an empty dataframe\n",
    "df_full = pd.DataFrame()\n",
    "df_object = pd.DataFrame()\n",
    "df_search = pd.DataFrame()"
   ]
  },
  {
   "cell_type": "markdown",
   "metadata": {},
   "source": [
    "# we set up the link and stuff for the loop"
   ]
  },
  {
   "cell_type": "markdown",
   "metadata": {},
   "source": [
    "Test: Links: \n",
    "\n",
    "https://www.theblueground.com/furnished-apartments-london-uk?currency=GBP&language=en&offset=10&items=18"
   ]
  },
  {
   "cell_type": "markdown",
   "metadata": {},
   "source": [
    "https://www.theblueground.com/furnished-apartments-london-uk?subArea=bayswater,bermondsey,bromley-by-bow,camden-town,canary-wharf,charing-cross,chelsea,city-of-london,clerkenwell,covent-garden,croydon,earls-court,farringdon,fitzrovia,fulham,hackney,hammersmith,highgate,holborn,islington,kensington,kentish-town,kings-cross,knightsbridge,ladbroke-grove,limehouse,maida-vale,marylebone,mayfair,notting-hill,old-street,paddington,piccadilly,pimlico,queens-park,shoreditch,soho,south-bank,south-kensington,southwark,stockwell,vauxhall,walthamstow,wandsworth,wapping,waterloo,westminster,whitechapel-brick-lane&currency=GBP&language=en&\n",
    "\n",
    "offset=\n",
    "2\n",
    "\n",
    "&items=18\""
   ]
  },
  {
   "cell_type": "code",
   "execution_count": 20,
   "metadata": {},
   "outputs": [],
   "source": [
    "weblink = 'https://www.theblueground.com/furnished-apartments-london-uk?subArea=camden-town,city-of-london,westminster,hackney,hammersmith,fulham,islington,kensington,chelsea,stockwell,vauxhall,waterloo,wapping,whitechapel-brick-lane,limehouse,bromley-by-bow&currency=GBP&language=en&'"
   ]
  },
  {
   "cell_type": "code",
   "execution_count": 21,
   "metadata": {},
   "outputs": [
    {
     "name": "stdout",
     "output_type": "stream",
     "text": [
      "https://www.theblueground.com/furnished-apartments-london-uk?subArea=camden-town,city-of-london,westminster,hackney,hammersmith,fulham,islington,kensington,chelsea,stockwell,vauxhall,waterloo,wapping,whitechapel-brick-lane,limehouse,bromley-by-bow&currency=GBP&language=en&offset=0&items=18\n"
     ]
    }
   ],
   "source": [
    "# set up the link to the website\n",
    "\n",
    "#weblink = 'https://www.theblueground.com/furnished-apartments-london-uk?currency=GBP&language=en&'\n",
    "\n",
    "# set up the first page to scrape\n",
    "pagesite = 0 # the website will start with 0 / # we set it to 10 to test the code\n",
    "\n",
    "# create an empty list to store the blank slates\n",
    "blank_slates_lst = [] \n",
    "\n",
    "# set the stop condition\n",
    "stop_loop = \"We’re sorry! We can’t seem to find any apartments that match your search.\" \n",
    "\n",
    "# check the link\n",
    "print((weblink +  f'offset={ pagesite }&items=18'))\n"
   ]
  },
  {
   "cell_type": "markdown",
   "metadata": {},
   "source": [
    "## we need the following structure for the dataframe:\n",
    "+ platform_id\t\n",
    "+ platform\t\n",
    "+ neighbourhood\t\n",
    "+ property_type\t\n",
    "+ bedrooms\t\n",
    "+ bathroom\t\n",
    "+ price_pcm\t\n",
    "+ title\t\n",
    "+ furnished\t\n",
    "+ available_from\t\n",
    "+ size"
   ]
  },
  {
   "cell_type": "markdown",
   "metadata": {},
   "source": [
    "# Neighbourhoods Ukio wants from us\n",
    "\n",
    "+ Camden\n",
    "+ City of London\n",
    "+ City of Westminster\n",
    "+ Hackney\n",
    "+ Hammersmith and Fulham\n",
    "+ Islington\n",
    "+ Kensington and Chelsea\n",
    "+ Lambeth --> Vauxhall\n",
    "+ Tower Hamlets"
   ]
  },
  {
   "cell_type": "markdown",
   "metadata": {},
   "source": [
    "### List of Neighbourhoods from Blueground we have to use\n",
    "\n",
    "\n",
    "+ camden-town\n",
    "+ city-of-london\n",
    "+ westminster\n",
    "+ hackney\n",
    "+ hammersmith\n",
    "+ fulham\n",
    "+ islington\n",
    "+ kensington\n",
    "+ chelsea\n",
    "+ stockwell\n",
    "+ vauxhall\n",
    "+ waterloo\n",
    "+ bromley-by-bow\n",
    "+ limehouse\n",
    "+ wapping\n",
    "+ whitechapel-brick-lane"
   ]
  },
  {
   "cell_type": "markdown",
   "metadata": {},
   "source": [
    "This gives us this a selection of 83 flats (27.09.2022)"
   ]
  },
  {
   "cell_type": "markdown",
   "metadata": {},
   "source": [
    "https://www.theblueground.com/api/furnished-apartments-london-uk?subArea=camden-town,city-of-london,westminster,hackney,hammersmith,fulham,islington,kensington,chelsea,stockwell,vauxhall,waterloo,wapping,whitechapel-brick-lane,limehouse,bromley-by-bow&currency=GBP&language=en&\n",
    "offset= 1 &items=18"
   ]
  },
  {
   "cell_type": "markdown",
   "metadata": {},
   "source": [
    "-----"
   ]
  },
  {
   "cell_type": "markdown",
   "metadata": {},
   "source": [
    "# we load all the functions"
   ]
  },
  {
   "cell_type": "markdown",
   "metadata": {},
   "source": [
    "platform_id --> from Detail-Page --> currently not working\n",
    "we get the ID from the last part of the URL"
   ]
  },
  {
   "cell_type": "code",
   "execution_count": 22,
   "metadata": {},
   "outputs": [],
   "source": [
    "# https://pandas.pydata.org/docs/reference/api/pandas.DataFrame.loc.html\n",
    "\n",
    "def get_blueground_id(df_search):\n",
    "    # create an empty list to store the blueground_id\n",
    "    blueground_id_lst = []\n",
    "    # get the blueground_id from the dataframe and the column get_url_to_detail_page\n",
    "    for blueground_id in df_search.get_url_to_detail_page: # we get the url from the dataframe\n",
    "        blueground_id_lst.append(blueground_id.rsplit('-', 1)[-1]) # we get the last part of the url\n",
    "    return blueground_id_lst"
   ]
  },
  {
   "cell_type": "markdown",
   "metadata": {},
   "source": [
    "platform --> we can add the Origin-Platform during the Loop, in this Notebook we have only \"blueground\""
   ]
  },
  {
   "cell_type": "markdown",
   "metadata": {},
   "source": [
    "neighbourhood"
   ]
  },
  {
   "cell_type": "code",
   "execution_count": 23,
   "metadata": {},
   "outputs": [],
   "source": [
    "def get_neighborhoods(bs):\n",
    "    neighborhood_names = bs.find_all(\"div\", {\"class\":\"name-place\"})\n",
    "    neighborhood_names_lst = (neighborhood_name.get_text() for neighborhood_name in neighborhood_names)\n",
    "    neighborhood_names_lst = [neighborhood_name.strip() for neighborhood_name in neighborhood_names_lst]\n",
    "    neighborhood_names_lst = [i.rsplit(',', 1)[-1] for i in neighborhood_names_lst]\n",
    "    return neighborhood_names_lst"
   ]
  },
  {
   "cell_type": "markdown",
   "metadata": {},
   "source": [
    "property_type \n",
    "on Blueground their is only \"Studio\" or \"Apartment\"\n",
    "\n",
    "> later we have to change the Type  \"Jr. Bedroom\" to \"Studio\""
   ]
  },
  {
   "cell_type": "code",
   "execution_count": 24,
   "metadata": {},
   "outputs": [],
   "source": [
    "def get_property_type(bs):\n",
    "    # get the property_type out of the apartment amenities\n",
    "    lst_name = []\n",
    "    property_typs = bs.find_all(class_=\"main-amenities\")\n",
    "    property_typs_lst = [property_type.get_text() for property_type in property_typs]\n",
    "    property_typs_lst = [property_type.strip() for property_type in property_typs_lst]\n",
    "    property_typs_lst = [i.split('o', 1)[0] for i in property_typs_lst]\n",
    "    property_typs_lst = [i.replace('Bedr', 'Bedroom') for i in property_typs_lst]\n",
    "    property_typs_lst = [i.replace('Studi', 'Studio') for i in property_typs_lst]\n",
    "    property_typs_lst = [i.rsplit(' ', 1)[-1] for i in property_typs_lst]\n",
    "    #property_typs_lst = [i.replace('Bedroom', 'Apartment') for i in property_typs_lst]\n",
    "    return property_typs_lst"
   ]
  },
  {
   "cell_type": "markdown",
   "metadata": {},
   "source": [
    "bedrooms"
   ]
  },
  {
   "cell_type": "code",
   "execution_count": 25,
   "metadata": {},
   "outputs": [],
   "source": [
    "def get_bedrooms(bs):\n",
    "    # get the main-amenities of the apartments\n",
    "    lst_name = []\n",
    "    bedrooms = bs.find_all(class_=\"main-amenities\")\n",
    "    bedrooms_lst = [bedroom.get_text() for bedroom in bedrooms]\n",
    "    bedrooms_lst = [bedroom.strip() for bedroom in bedrooms_lst]\n",
    "    bedrooms_lst = [i.split('o', 1)[0] for i in bedrooms_lst]\n",
    "    bedrooms_lst = [i.replace('Bedr', 'Bedroom') for i in bedrooms_lst]\n",
    "    bedrooms_lst = [i.replace('Studi', 'Studio') for i in bedrooms_lst]\n",
    "    return bedrooms_lst"
   ]
  },
  {
   "cell_type": "markdown",
   "metadata": {},
   "source": [
    "bathroom"
   ]
  },
  {
   "cell_type": "code",
   "execution_count": 26,
   "metadata": {},
   "outputs": [],
   "source": [
    "def get_bathroom(bs):\n",
    "    # get the main-amenities of the apartments\n",
    "    lst_name = []\n",
    "    bathrooms= bs.find_all(class_=\"main-amenities\")\n",
    "    bathrooms_lst = [bathroom.get_text() for bathroom in bathrooms]\n",
    "    bathrooms_lst = [bathroom.strip() for bathroom in bathrooms_lst]\n",
    "    bathrooms_lst = [i.rsplit('o', 1)[-1] for i in bathrooms_lst]\n",
    "    bathrooms_lst = [i.replace('m', '') for i in bathrooms_lst]\n",
    "\n",
    "    return bathrooms_lst"
   ]
  },
  {
   "cell_type": "markdown",
   "metadata": {},
   "source": [
    "price_pcm (price per month)"
   ]
  },
  {
   "cell_type": "code",
   "execution_count": 27,
   "metadata": {},
   "outputs": [],
   "source": [
    "def get_price_pcm(bs):\n",
    "    # get the price per month\n",
    "    lst_name = []\n",
    "    prices = bs.find_all(class_= \"price__amount\")\n",
    "    for price in prices:\n",
    "        lst_name.append(\n",
    "            price.get_text()\n",
    "                .strip()\n",
    "                .replace(',', '')\n",
    "        )\n",
    "    return lst_name"
   ]
  },
  {
   "cell_type": "markdown",
   "metadata": {},
   "source": [
    " title"
   ]
  },
  {
   "cell_type": "code",
   "execution_count": 28,
   "metadata": {},
   "outputs": [],
   "source": [
    "def get_object_title(bs):\n",
    "    # get the names of all the apartments\n",
    "    lst_name = []\n",
    "    object_titles = bs.find_all(class_=\"listing-name\")\n",
    "    for object_title in object_titles:\n",
    "        lst_name.append(\n",
    "            object_title.get_text()\n",
    "                .strip()\n",
    "        )\n",
    "    return lst_name\n"
   ]
  },
  {
   "cell_type": "markdown",
   "metadata": {},
   "source": [
    "furnished --> on Blueground we have only furnished Studios/Apartments"
   ]
  },
  {
   "cell_type": "markdown",
   "metadata": {},
   "source": [
    "available_from"
   ]
  },
  {
   "cell_type": "code",
   "execution_count": 29,
   "metadata": {},
   "outputs": [],
   "source": [
    "def get_availability(bs):\n",
    "    # get the availability of the apartments\n",
    "    lst_availability = []\n",
    "    availability = bs.find_all(class_=\"availability__date\")\n",
    "    for avail in availability:\n",
    "        lst_availability.append(\n",
    "            avail.get_text()\n",
    "                .strip()\n",
    "        )\n",
    "    return lst_availability\n"
   ]
  },
  {
   "cell_type": "markdown",
   "metadata": {},
   "source": [
    "size"
   ]
  },
  {
   "cell_type": "markdown",
   "metadata": {},
   "source": [
    "-----"
   ]
  },
  {
   "cell_type": "markdown",
   "metadata": {},
   "source": [
    "# We need this for extra work"
   ]
  },
  {
   "cell_type": "markdown",
   "metadata": {},
   "source": [
    "url"
   ]
  },
  {
   "cell_type": "code",
   "execution_count": 30,
   "metadata": {},
   "outputs": [],
   "source": [
    "def get_url_to_detail_page(bs, maximus):\n",
    "    url_lst = []\n",
    "    count = 0\n",
    "    while count <= int(maximus):\n",
    "        \n",
    "        # this will get us the link to the detail page\n",
    "        class_with_link = bs.find_all(class_=\"ui-image-carousel\")\n",
    "        # with the [] we can select the elment we want to get\n",
    "        for a in class_with_link[count].find_all('a', href=True):\n",
    "            url_lst.append(a['href'])\n",
    "        count += 1\n",
    "    #print(url_lst)\n",
    "    return url_lst"
   ]
  },
  {
   "cell_type": "markdown",
   "metadata": {},
   "source": [
    "----"
   ]
  },
  {
   "cell_type": "markdown",
   "metadata": {},
   "source": [
    "# the Loop to grab everything"
   ]
  },
  {
   "cell_type": "code",
   "execution_count": 31,
   "metadata": {},
   "outputs": [
    {
     "name": "stderr",
     "output_type": "stream",
     "text": [
      "/var/folders/yg/z64xf8615mxbsw25_zldzjnm0000gn/T/ipykernel_16407/2627209534.py:46: FutureWarning: The frame.append method is deprecated and will be removed from pandas in a future version. Use pandas.concat instead.\n",
      "  df_search = df_search.append(df_page, ignore_index=True)\n",
      "/var/folders/yg/z64xf8615mxbsw25_zldzjnm0000gn/T/ipykernel_16407/2627209534.py:46: FutureWarning: The frame.append method is deprecated and will be removed from pandas in a future version. Use pandas.concat instead.\n",
      "  df_search = df_search.append(df_page, ignore_index=True)\n",
      "/var/folders/yg/z64xf8615mxbsw25_zldzjnm0000gn/T/ipykernel_16407/2627209534.py:46: FutureWarning: The frame.append method is deprecated and will be removed from pandas in a future version. Use pandas.concat instead.\n",
      "  df_search = df_search.append(df_page, ignore_index=True)\n",
      "/var/folders/yg/z64xf8615mxbsw25_zldzjnm0000gn/T/ipykernel_16407/2627209534.py:46: FutureWarning: The frame.append method is deprecated and will be removed from pandas in a future version. Use pandas.concat instead.\n",
      "  df_search = df_search.append(df_page, ignore_index=True)\n",
      "/var/folders/yg/z64xf8615mxbsw25_zldzjnm0000gn/T/ipykernel_16407/2627209534.py:46: FutureWarning: The frame.append method is deprecated and will be removed from pandas in a future version. Use pandas.concat instead.\n",
      "  df_search = df_search.append(df_page, ignore_index=True)\n"
     ]
    },
    {
     "data": {
      "text/html": [
       "<div>\n",
       "<style scoped>\n",
       "    .dataframe tbody tr th:only-of-type {\n",
       "        vertical-align: middle;\n",
       "    }\n",
       "\n",
       "    .dataframe tbody tr th {\n",
       "        vertical-align: top;\n",
       "    }\n",
       "\n",
       "    .dataframe thead th {\n",
       "        text-align: right;\n",
       "    }\n",
       "</style>\n",
       "<table border=\"1\" class=\"dataframe\">\n",
       "  <thead>\n",
       "    <tr style=\"text-align: right;\">\n",
       "      <th></th>\n",
       "      <th>platform</th>\n",
       "      <th>neighbourhood</th>\n",
       "      <th>property_type</th>\n",
       "      <th>bedrooms</th>\n",
       "      <th>bathroom</th>\n",
       "      <th>price_pcm</th>\n",
       "      <th>title</th>\n",
       "      <th>furnished</th>\n",
       "      <th>available_from</th>\n",
       "      <th>get_url_to_detail_page</th>\n",
       "      <th>blueground_id</th>\n",
       "    </tr>\n",
       "  </thead>\n",
       "  <tbody>\n",
       "    <tr>\n",
       "      <th>0</th>\n",
       "      <td>blueground</td>\n",
       "      <td>Vauxhall</td>\n",
       "      <td>Bedroom</td>\n",
       "      <td>1 Bedroom</td>\n",
       "      <td>1 Bath</td>\n",
       "      <td>4350</td>\n",
       "      <td>Legacy Building, Viaduct Gdns,</td>\n",
       "      <td>furnished</td>\n",
       "      <td>28 Sep 2022</td>\n",
       "      <td>/furnished-apartments-london-uk/london-vauxhall-191</td>\n",
       "      <td>191</td>\n",
       "    </tr>\n",
       "    <tr>\n",
       "      <th>1</th>\n",
       "      <td>blueground</td>\n",
       "      <td>Vauxhall</td>\n",
       "      <td>Bedroom</td>\n",
       "      <td>2 Bedroom</td>\n",
       "      <td>2 Bath</td>\n",
       "      <td>5520</td>\n",
       "      <td>Embassy Gardens, Viaduct Gdns,</td>\n",
       "      <td>furnished</td>\n",
       "      <td>28 Sep 2022</td>\n",
       "      <td>/furnished-apartments-london-uk/london-vauxhall-174</td>\n",
       "      <td>174</td>\n",
       "    </tr>\n",
       "    <tr>\n",
       "      <th>2</th>\n",
       "      <td>blueground</td>\n",
       "      <td>Vauxhall</td>\n",
       "      <td>Bedroom</td>\n",
       "      <td>2 Bedroom</td>\n",
       "      <td>2 Bath</td>\n",
       "      <td>4480</td>\n",
       "      <td>Sky Gardens,  Wandsworth Rd,</td>\n",
       "      <td>furnished</td>\n",
       "      <td>30 Sep 2022</td>\n",
       "      <td>/furnished-apartments-london-uk/london-vauxhall-257</td>\n",
       "      <td>257</td>\n",
       "    </tr>\n",
       "    <tr>\n",
       "      <th>3</th>\n",
       "      <td>blueground</td>\n",
       "      <td>Vauxhall</td>\n",
       "      <td>Bedroom</td>\n",
       "      <td>1 Bedroom</td>\n",
       "      <td>1 Bath</td>\n",
       "      <td>4060</td>\n",
       "      <td>Wandsworth Rd,</td>\n",
       "      <td>furnished</td>\n",
       "      <td>02 Oct 2022</td>\n",
       "      <td>/furnished-apartments-london-uk/london-vauxhall-159</td>\n",
       "      <td>159</td>\n",
       "    </tr>\n",
       "    <tr>\n",
       "      <th>4</th>\n",
       "      <td>blueground</td>\n",
       "      <td>Whitechapel/Brick Lane</td>\n",
       "      <td>Bedroom</td>\n",
       "      <td>1 Bedroom</td>\n",
       "      <td>1 Bath</td>\n",
       "      <td>3120</td>\n",
       "      <td>Gunthorpe St,</td>\n",
       "      <td>furnished</td>\n",
       "      <td>05 Oct 2022</td>\n",
       "      <td>/furnished-apartments-london-uk/london-whitechapel-brick-lane-079</td>\n",
       "      <td>079</td>\n",
       "    </tr>\n",
       "  </tbody>\n",
       "</table>\n",
       "</div>"
      ],
      "text/plain": [
       "     platform            neighbourhood property_type   bedrooms bathroom  \\\n",
       "0  blueground                 Vauxhall       Bedroom  1 Bedroom   1 Bath   \n",
       "1  blueground                 Vauxhall       Bedroom  2 Bedroom   2 Bath   \n",
       "2  blueground                 Vauxhall       Bedroom  2 Bedroom   2 Bath   \n",
       "3  blueground                 Vauxhall       Bedroom  1 Bedroom   1 Bath   \n",
       "4  blueground   Whitechapel/Brick Lane       Bedroom  1 Bedroom   1 Bath   \n",
       "\n",
       "  price_pcm                           title  furnished available_from  \\\n",
       "0      4350  Legacy Building, Viaduct Gdns,  furnished    28 Sep 2022   \n",
       "1      5520  Embassy Gardens, Viaduct Gdns,  furnished    28 Sep 2022   \n",
       "2      4480    Sky Gardens,  Wandsworth Rd,  furnished    30 Sep 2022   \n",
       "3      4060                  Wandsworth Rd,  furnished    02 Oct 2022   \n",
       "4      3120                   Gunthorpe St,  furnished    05 Oct 2022   \n",
       "\n",
       "                                              get_url_to_detail_page  \\\n",
       "0                /furnished-apartments-london-uk/london-vauxhall-191   \n",
       "1                /furnished-apartments-london-uk/london-vauxhall-174   \n",
       "2                /furnished-apartments-london-uk/london-vauxhall-257   \n",
       "3                /furnished-apartments-london-uk/london-vauxhall-159   \n",
       "4  /furnished-apartments-london-uk/london-whitechapel-brick-lane-079   \n",
       "\n",
       "  blueground_id  \n",
       "0           191  \n",
       "1           174  \n",
       "2           257  \n",
       "3           159  \n",
       "4           079  "
      ]
     },
     "metadata": {},
     "output_type": "display_data"
    },
    {
     "data": {
      "text/html": [
       "<div>\n",
       "<style scoped>\n",
       "    .dataframe tbody tr th:only-of-type {\n",
       "        vertical-align: middle;\n",
       "    }\n",
       "\n",
       "    .dataframe tbody tr th {\n",
       "        vertical-align: top;\n",
       "    }\n",
       "\n",
       "    .dataframe thead th {\n",
       "        text-align: right;\n",
       "    }\n",
       "</style>\n",
       "<table border=\"1\" class=\"dataframe\">\n",
       "  <thead>\n",
       "    <tr style=\"text-align: right;\">\n",
       "      <th></th>\n",
       "      <th>platform</th>\n",
       "      <th>neighbourhood</th>\n",
       "      <th>property_type</th>\n",
       "      <th>bedrooms</th>\n",
       "      <th>bathroom</th>\n",
       "      <th>price_pcm</th>\n",
       "      <th>title</th>\n",
       "      <th>furnished</th>\n",
       "      <th>available_from</th>\n",
       "      <th>get_url_to_detail_page</th>\n",
       "      <th>blueground_id</th>\n",
       "    </tr>\n",
       "  </thead>\n",
       "  <tbody>\n",
       "    <tr>\n",
       "      <th>69</th>\n",
       "      <td>blueground</td>\n",
       "      <td>Kensington</td>\n",
       "      <td>Bedroom</td>\n",
       "      <td>1 Bedroom</td>\n",
       "      <td>1 Bath</td>\n",
       "      <td>3770</td>\n",
       "      <td>Old Brompton Rd,</td>\n",
       "      <td>furnished</td>\n",
       "      <td>02 Sep 2023</td>\n",
       "      <td>/furnished-apartments-london-uk/london-kensington-073</td>\n",
       "      <td>073</td>\n",
       "    </tr>\n",
       "    <tr>\n",
       "      <th>70</th>\n",
       "      <td>blueground</td>\n",
       "      <td>Waterloo</td>\n",
       "      <td>Studio</td>\n",
       "      <td>Studio</td>\n",
       "      <td>1 Bath</td>\n",
       "      <td>3210</td>\n",
       "      <td>Walpole House,  Westminster Bridge Rd,</td>\n",
       "      <td>furnished</td>\n",
       "      <td>17 Sep 2023</td>\n",
       "      <td>/furnished-apartments-london-uk/london-waterloo-262</td>\n",
       "      <td>262</td>\n",
       "    </tr>\n",
       "    <tr>\n",
       "      <th>71</th>\n",
       "      <td>blueground</td>\n",
       "      <td>Waterloo</td>\n",
       "      <td>Bedroom</td>\n",
       "      <td>2 Bedroom</td>\n",
       "      <td>2 Bath</td>\n",
       "      <td>5560</td>\n",
       "      <td>West Block, Forum Magnum Square,</td>\n",
       "      <td>furnished</td>\n",
       "      <td>19 Sep 2023</td>\n",
       "      <td>/furnished-apartments-london-uk/london-waterloo-196</td>\n",
       "      <td>196</td>\n",
       "    </tr>\n",
       "    <tr>\n",
       "      <th>72</th>\n",
       "      <td>blueground</td>\n",
       "      <td>Whitechapel/Brick Lane</td>\n",
       "      <td>Bedroom</td>\n",
       "      <td>1 Bedroom</td>\n",
       "      <td>1 Bath</td>\n",
       "      <td>3550</td>\n",
       "      <td>Cavell St,</td>\n",
       "      <td>furnished</td>\n",
       "      <td>27 Sep 2023</td>\n",
       "      <td>/furnished-apartments-london-uk/london-whitechapel-brick-lane-145</td>\n",
       "      <td>145</td>\n",
       "    </tr>\n",
       "    <tr>\n",
       "      <th>73</th>\n",
       "      <td>blueground</td>\n",
       "      <td>Hammersmith</td>\n",
       "      <td>Bedroom</td>\n",
       "      <td>1 Bedroom</td>\n",
       "      <td>1 Bath</td>\n",
       "      <td>4130</td>\n",
       "      <td>Matcham House, Glenthorne Rd,</td>\n",
       "      <td>furnished</td>\n",
       "      <td>29 Nov 2023</td>\n",
       "      <td>/furnished-apartments-london-uk/london-hammersmith-205</td>\n",
       "      <td>205</td>\n",
       "    </tr>\n",
       "  </tbody>\n",
       "</table>\n",
       "</div>"
      ],
      "text/plain": [
       "      platform            neighbourhood property_type   bedrooms bathroom  \\\n",
       "69  blueground               Kensington       Bedroom  1 Bedroom   1 Bath   \n",
       "70  blueground                 Waterloo        Studio     Studio   1 Bath   \n",
       "71  blueground                 Waterloo       Bedroom  2 Bedroom   2 Bath   \n",
       "72  blueground   Whitechapel/Brick Lane       Bedroom  1 Bedroom   1 Bath   \n",
       "73  blueground              Hammersmith       Bedroom  1 Bedroom   1 Bath   \n",
       "\n",
       "   price_pcm                                   title  furnished  \\\n",
       "69      3770                        Old Brompton Rd,  furnished   \n",
       "70      3210  Walpole House,  Westminster Bridge Rd,  furnished   \n",
       "71      5560        West Block, Forum Magnum Square,  furnished   \n",
       "72      3550                              Cavell St,  furnished   \n",
       "73      4130           Matcham House, Glenthorne Rd,  furnished   \n",
       "\n",
       "   available_from  \\\n",
       "69    02 Sep 2023   \n",
       "70    17 Sep 2023   \n",
       "71    19 Sep 2023   \n",
       "72    27 Sep 2023   \n",
       "73    29 Nov 2023   \n",
       "\n",
       "                                               get_url_to_detail_page  \\\n",
       "69              /furnished-apartments-london-uk/london-kensington-073   \n",
       "70                /furnished-apartments-london-uk/london-waterloo-262   \n",
       "71                /furnished-apartments-london-uk/london-waterloo-196   \n",
       "72  /furnished-apartments-london-uk/london-whitechapel-brick-lane-145   \n",
       "73             /furnished-apartments-london-uk/london-hammersmith-205   \n",
       "\n",
       "   blueground_id  \n",
       "69           073  \n",
       "70           262  \n",
       "71           196  \n",
       "72           145  \n",
       "73           205  "
      ]
     },
     "metadata": {},
     "output_type": "display_data"
    }
   ],
   "source": [
    "# https://flexiple.com/python/check-if-list-is-empty-python/\n",
    "# Solution 3: Using len() function\n",
    "# The len() function returns the number of items in a list. If the list is empty, it returns 0.\n",
    "while len(blank_slates_lst) == 0: # start and endpoint of the for-loop\n",
    "    # pause the loop for 3 seconds to reduce the load on the server\n",
    "    time.sleep(3)\n",
    "\n",
    "    # ----------------- get the data from the website -----------------\n",
    "    # get the content of the website\n",
    "    page = requests.get(weblink +  f'offset={ pagesite }&items=18')\n",
    "    # parse the html and save it into a BeautifulSoup instance\n",
    "    html = page.content\n",
    "    bs = BeautifulSoup(html, 'html.parser')\n",
    "\n",
    "    # ----------------- insert the data into the dataframe -----------------\n",
    "    # create a pandas dataframe for the names and prices\n",
    "    blueground_dict = {\n",
    "        #'platform_id', --> we get this from the detail page\n",
    "        'platform': 'blueground',\n",
    "        'neighbourhood': get_neighborhoods(bs),\n",
    "        'property_type': get_property_type(bs),\n",
    "        'bedrooms': get_bedrooms(bs),\n",
    "        'bathroom': get_bathroom(bs),\n",
    "        'price_pcm': get_price_pcm(bs),\n",
    "        'title': get_object_title(bs),\n",
    "        'furnished': 'furnished',\t\n",
    "        'available_from': get_availability(bs),\n",
    "        #'size': , --> we get this from the detail page\n",
    "        'title': get_object_title(bs)\n",
    "        }\n",
    "    \n",
    "    # ----------------- work with the datafram to get the URL and the ID -----------------\n",
    "    # we now have a dataframe, we can use this to get a counter for the URL\n",
    "    df_page = pd.DataFrame(blueground_dict)\n",
    "\n",
    "    # we create a variable to store the number of rows in the dataframe\n",
    "    maximus = df_page.index.max() # we give it the max value of the index\n",
    "\n",
    "    # we create a list to store the urls\n",
    "    # we check if we reached the end of the existing df, to stop and not get an error\n",
    "    if np.isnan(maximus):\n",
    "        break\n",
    "    else:\n",
    "        df_page['get_url_to_detail_page'] = pd.Series(get_url_to_detail_page(bs, maximus))\n",
    "    # we can now add the dataframe to the full dataframe\n",
    "    df_search = df_search.append(df_page, ignore_index=True)\n",
    "\n",
    "\n",
    "    # ----------------- check if we reached the end of the pages -----------------\n",
    "    blank_slates = bs.find_all(class_=\"blank-slate__criteria\")\n",
    "    blank_slates_lst = (blank_slate.get_text() for blank_slate in blank_slates)\n",
    "    blank_slates_lst = [blank_slate.strip() for blank_slate in blank_slates_lst]\n",
    "\n",
    "    # increase the pagesite by 1\n",
    "    pagesite += 1\n",
    "\n",
    "\n",
    "# ----------------- get the ID from URL -----------------\n",
    "\n",
    "df_search['blueground_id'] = get_blueground_id(df_search)\n",
    "\n",
    "\n",
    "\n",
    "\n",
    "#------- set the number of rows and column_width  to maximum ------- \n",
    "pd.set_option('display.max_rows', None) \n",
    "pd.set_option('display.max_colwidth', None)\n",
    "\n",
    "# ----------------- display the first 5 rows -----------------\n",
    "display(df_search.head(5))\n",
    "display(df_search.tail(5))"
   ]
  },
  {
   "cell_type": "markdown",
   "metadata": {},
   "source": [
    "--------"
   ]
  },
  {
   "cell_type": "markdown",
   "metadata": {},
   "source": [
    "# Save the Data"
   ]
  },
  {
   "cell_type": "code",
   "execution_count": 32,
   "metadata": {},
   "outputs": [
    {
     "name": "stdout",
     "output_type": "stream",
     "text": [
      "we have saved the new dataframe in a .csv file\n"
     ]
    }
   ],
   "source": [
    "# # create a .csv file with the current date and time\n",
    "today = dt.datetime.today().strftime('%Y-%m-%d-%H-%M')\n",
    "df_search.to_csv('data/bluebround_{}.csv'.format(today), sep='\\t')\n",
    "print(\"we have saved the new dataframe in a .csv file\")"
   ]
  },
  {
   "cell_type": "markdown",
   "metadata": {},
   "source": [
    "----"
   ]
  },
  {
   "cell_type": "markdown",
   "metadata": {},
   "source": [
    "# 1. Basic information about data - EDA\n",
    "\n",
    "https://www.digitalocean.com/community/tutorials/exploratory-data-analysis-python"
   ]
  },
  {
   "cell_type": "code",
   "execution_count": 33,
   "metadata": {},
   "outputs": [],
   "source": [
    "#Load the required libraries\n",
    "import pandas as pd\n",
    "import numpy as np\n",
    "import seaborn as sns"
   ]
  },
  {
   "cell_type": "code",
   "execution_count": 34,
   "metadata": {},
   "outputs": [
    {
     "name": "stdout",
     "output_type": "stream",
     "text": [
      "<class 'pandas.core.frame.DataFrame'>\n",
      "RangeIndex: 74 entries, 0 to 73\n",
      "Data columns (total 11 columns):\n",
      " #   Column                  Non-Null Count  Dtype \n",
      "---  ------                  --------------  ----- \n",
      " 0   platform                74 non-null     object\n",
      " 1   neighbourhood           74 non-null     object\n",
      " 2   property_type           74 non-null     object\n",
      " 3   bedrooms                74 non-null     object\n",
      " 4   bathroom                74 non-null     object\n",
      " 5   price_pcm               74 non-null     object\n",
      " 6   title                   74 non-null     object\n",
      " 7   furnished               74 non-null     object\n",
      " 8   available_from          74 non-null     object\n",
      " 9   get_url_to_detail_page  74 non-null     object\n",
      " 10  blueground_id           74 non-null     object\n",
      "dtypes: object(11)\n",
      "memory usage: 6.5+ KB\n"
     ]
    },
    {
     "data": {
      "text/html": [
       "<div>\n",
       "<style scoped>\n",
       "    .dataframe tbody tr th:only-of-type {\n",
       "        vertical-align: middle;\n",
       "    }\n",
       "\n",
       "    .dataframe tbody tr th {\n",
       "        vertical-align: top;\n",
       "    }\n",
       "\n",
       "    .dataframe thead th {\n",
       "        text-align: right;\n",
       "    }\n",
       "</style>\n",
       "<table border=\"1\" class=\"dataframe\">\n",
       "  <thead>\n",
       "    <tr style=\"text-align: right;\">\n",
       "      <th></th>\n",
       "      <th>platform</th>\n",
       "      <th>neighbourhood</th>\n",
       "      <th>property_type</th>\n",
       "      <th>bedrooms</th>\n",
       "      <th>bathroom</th>\n",
       "      <th>price_pcm</th>\n",
       "      <th>title</th>\n",
       "      <th>furnished</th>\n",
       "      <th>available_from</th>\n",
       "      <th>get_url_to_detail_page</th>\n",
       "      <th>blueground_id</th>\n",
       "    </tr>\n",
       "  </thead>\n",
       "  <tbody>\n",
       "    <tr>\n",
       "      <th>count</th>\n",
       "      <td>74</td>\n",
       "      <td>74</td>\n",
       "      <td>74</td>\n",
       "      <td>74</td>\n",
       "      <td>74</td>\n",
       "      <td>74</td>\n",
       "      <td>74</td>\n",
       "      <td>74</td>\n",
       "      <td>74</td>\n",
       "      <td>74</td>\n",
       "      <td>74</td>\n",
       "    </tr>\n",
       "    <tr>\n",
       "      <th>unique</th>\n",
       "      <td>1</td>\n",
       "      <td>16</td>\n",
       "      <td>2</td>\n",
       "      <td>5</td>\n",
       "      <td>4</td>\n",
       "      <td>58</td>\n",
       "      <td>51</td>\n",
       "      <td>1</td>\n",
       "      <td>58</td>\n",
       "      <td>74</td>\n",
       "      <td>74</td>\n",
       "    </tr>\n",
       "    <tr>\n",
       "      <th>top</th>\n",
       "      <td>blueground</td>\n",
       "      <td>Vauxhall</td>\n",
       "      <td>Bedroom</td>\n",
       "      <td>1 Bedroom</td>\n",
       "      <td>1 Bath</td>\n",
       "      <td>4060</td>\n",
       "      <td>Lower Marsh,</td>\n",
       "      <td>furnished</td>\n",
       "      <td>15 Oct 2022</td>\n",
       "      <td>/furnished-apartments-london-uk/london-vauxhall-191</td>\n",
       "      <td>191</td>\n",
       "    </tr>\n",
       "    <tr>\n",
       "      <th>freq</th>\n",
       "      <td>74</td>\n",
       "      <td>16</td>\n",
       "      <td>71</td>\n",
       "      <td>38</td>\n",
       "      <td>47</td>\n",
       "      <td>4</td>\n",
       "      <td>8</td>\n",
       "      <td>74</td>\n",
       "      <td>5</td>\n",
       "      <td>1</td>\n",
       "      <td>1</td>\n",
       "    </tr>\n",
       "  </tbody>\n",
       "</table>\n",
       "</div>"
      ],
      "text/plain": [
       "          platform neighbourhood property_type   bedrooms bathroom price_pcm  \\\n",
       "count           74            74            74         74       74        74   \n",
       "unique           1            16             2          5        4        58   \n",
       "top     blueground      Vauxhall       Bedroom  1 Bedroom   1 Bath      4060   \n",
       "freq            74            16            71         38       47         4   \n",
       "\n",
       "               title  furnished available_from  \\\n",
       "count             74         74             74   \n",
       "unique            51          1             58   \n",
       "top     Lower Marsh,  furnished    15 Oct 2022   \n",
       "freq               8         74              5   \n",
       "\n",
       "                                     get_url_to_detail_page blueground_id  \n",
       "count                                                    74            74  \n",
       "unique                                                   74            74  \n",
       "top     /furnished-apartments-london-uk/london-vauxhall-191           191  \n",
       "freq                                                      1             1  "
      ]
     },
     "execution_count": 34,
     "metadata": {},
     "output_type": "execute_result"
    }
   ],
   "source": [
    "#Basic information\n",
    "\n",
    "df_search.info()\n",
    "\n",
    "#Describe the data\n",
    "\n",
    "df_search.describe()"
   ]
  },
  {
   "cell_type": "markdown",
   "metadata": {},
   "source": [
    "# 2. Duplicate values"
   ]
  },
  {
   "cell_type": "code",
   "execution_count": 35,
   "metadata": {},
   "outputs": [
    {
     "data": {
      "text/plain": [
       "0"
      ]
     },
     "execution_count": 35,
     "metadata": {},
     "output_type": "execute_result"
    }
   ],
   "source": [
    "#Find the duplicates\n",
    "\n",
    "df_search.duplicated().sum()"
   ]
  },
  {
   "cell_type": "markdown",
   "metadata": {},
   "source": [
    "# 5. Find the Null values"
   ]
  },
  {
   "cell_type": "code",
   "execution_count": 36,
   "metadata": {},
   "outputs": [
    {
     "data": {
      "text/plain": [
       "platform                  0\n",
       "neighbourhood             0\n",
       "property_type             0\n",
       "bedrooms                  0\n",
       "bathroom                  0\n",
       "price_pcm                 0\n",
       "title                     0\n",
       "furnished                 0\n",
       "available_from            0\n",
       "get_url_to_detail_page    0\n",
       "blueground_id             0\n",
       "dtype: int64"
      ]
     },
     "execution_count": 36,
     "metadata": {},
     "output_type": "execute_result"
    }
   ],
   "source": [
    "#Find null values\n",
    "\n",
    "df_search.isnull().sum()"
   ]
  },
  {
   "cell_type": "markdown",
   "metadata": {},
   "source": [
    "# 7. Know the datatypes"
   ]
  },
  {
   "cell_type": "code",
   "execution_count": 37,
   "metadata": {},
   "outputs": [
    {
     "data": {
      "text/plain": [
       "platform                  object\n",
       "neighbourhood             object\n",
       "property_type             object\n",
       "bedrooms                  object\n",
       "bathroom                  object\n",
       "price_pcm                 object\n",
       "title                     object\n",
       "furnished                 object\n",
       "available_from            object\n",
       "get_url_to_detail_page    object\n",
       "blueground_id             object\n",
       "dtype: object"
      ]
     },
     "execution_count": 37,
     "metadata": {},
     "output_type": "execute_result"
    }
   ],
   "source": [
    "#Datatypes\n",
    "\n",
    "df_search.dtypes"
   ]
  },
  {
   "cell_type": "markdown",
   "metadata": {},
   "source": [
    "------"
   ]
  },
  {
   "cell_type": "markdown",
   "metadata": {},
   "source": [
    "# Import the data frame to DBeaver"
   ]
  },
  {
   "cell_type": "code",
   "execution_count": 38,
   "metadata": {},
   "outputs": [
    {
     "name": "stdout",
     "output_type": "stream",
     "text": [
      "The blueground_df_complete table was imported successfully.\n"
     ]
    }
   ],
   "source": [
    "# import the data frame to DBeaver\n",
    "\n",
    "# call the schema created for this project\n",
    "schema = 'capstone_jmrs'\n",
    "# get the function to connect to the database\n",
    "engine = get_engine()\n",
    "\n",
    "# give the table a unique name\n",
    "table_name = 'blueground_df_complete'\n",
    "\n",
    "# import the table to sql\n",
    "if engine!=None:\n",
    "    try:\n",
    "        df_search.to_sql(name=table_name,\n",
    "                        con=engine,\n",
    "                        if_exists='replace',\n",
    "                        schema=schema, \n",
    "                        index=False,\n",
    "                        chunksize=5000, \n",
    "                        method='multi')\n",
    "        print(f\"The {table_name} table was imported successfully.\")\n",
    "    \n",
    "    except (Exception, psycopg2.DatabaseError) as error:\n",
    "        print(error)\n",
    "        engine = None"
   ]
  }
 ],
 "metadata": {
  "kernelspec": {
   "display_name": "Python 3.9.13 ('nf_bs4')",
   "language": "python",
   "name": "python3"
  },
  "language_info": {
   "codemirror_mode": {
    "name": "ipython",
    "version": 3
   },
   "file_extension": ".py",
   "mimetype": "text/x-python",
   "name": "python",
   "nbconvert_exporter": "python",
   "pygments_lexer": "ipython3",
   "version": "3.9.13"
  },
  "orig_nbformat": 4,
  "vscode": {
   "interpreter": {
    "hash": "9af5746f41ef31dea01f09ffb6ba9bd116b901566dc69a02f72533c94f316243"
   }
  }
 },
 "nbformat": 4,
 "nbformat_minor": 2
}
